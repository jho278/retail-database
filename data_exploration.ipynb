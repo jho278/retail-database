{
 "cells": [
  {
   "cell_type": "code",
   "execution_count": 2,
   "metadata": {},
   "outputs": [],
   "source": [
    "from data_extraction import DataExtractor\n",
    "from data_cleaning import DataCleaning\n",
    "from database_utils import DatabaseConnector\n",
    "import pandas as pd\n",
    "import numpy as np\n",
    "\n",
    "db = DatabaseConnector()\n",
    "table = DataExtractor()\n"
   ]
  },
  {
   "cell_type": "code",
   "execution_count": 3,
   "metadata": {},
   "outputs": [],
   "source": [
    "df = table.read_rds_table(db, 'legacy_users')\n",
    "df = df.drop('index',axis=1)"
   ]
  },
  {
   "cell_type": "code",
   "execution_count": 4,
   "metadata": {},
   "outputs": [
    {
     "name": "stdout",
     "output_type": "stream",
     "text": [
      "<class 'pandas.core.frame.DataFrame'>\n",
      "RangeIndex: 15320 entries, 0 to 15319\n",
      "Data columns (total 11 columns):\n",
      " #   Column         Non-Null Count  Dtype \n",
      "---  ------         --------------  ----- \n",
      " 0   first_name     15320 non-null  object\n",
      " 1   last_name      15320 non-null  object\n",
      " 2   date_of_birth  15320 non-null  object\n",
      " 3   company        15320 non-null  object\n",
      " 4   email_address  15320 non-null  object\n",
      " 5   address        15320 non-null  object\n",
      " 6   country        15320 non-null  object\n",
      " 7   country_code   15320 non-null  object\n",
      " 8   phone_number   15320 non-null  object\n",
      " 9   join_date      15320 non-null  object\n",
      " 10  user_uuid      15320 non-null  object\n",
      "dtypes: object(11)\n",
      "memory usage: 1.3+ MB\n"
     ]
    }
   ],
   "source": [
    "df.info()"
   ]
  },
  {
   "cell_type": "code",
   "execution_count": 5,
   "metadata": {},
   "outputs": [
    {
     "data": {
      "text/html": [
       "<div>\n",
       "<style scoped>\n",
       "    .dataframe tbody tr th:only-of-type {\n",
       "        vertical-align: middle;\n",
       "    }\n",
       "\n",
       "    .dataframe tbody tr th {\n",
       "        vertical-align: top;\n",
       "    }\n",
       "\n",
       "    .dataframe thead th {\n",
       "        text-align: right;\n",
       "    }\n",
       "</style>\n",
       "<table border=\"1\" class=\"dataframe\">\n",
       "  <thead>\n",
       "    <tr style=\"text-align: right;\">\n",
       "      <th></th>\n",
       "      <th>first_name</th>\n",
       "      <th>last_name</th>\n",
       "      <th>date_of_birth</th>\n",
       "      <th>company</th>\n",
       "      <th>email_address</th>\n",
       "      <th>address</th>\n",
       "      <th>country</th>\n",
       "      <th>country_code</th>\n",
       "      <th>phone_number</th>\n",
       "      <th>join_date</th>\n",
       "      <th>user_uuid</th>\n",
       "    </tr>\n",
       "  </thead>\n",
       "  <tbody>\n",
       "    <tr>\n",
       "      <th>0</th>\n",
       "      <td>Sigfried</td>\n",
       "      <td>Noack</td>\n",
       "      <td>1990-09-30</td>\n",
       "      <td>Heydrich Junitz KG</td>\n",
       "      <td>rudi79@winkler.de</td>\n",
       "      <td>Zimmerstr. 1/0\\n59015 Gießen</td>\n",
       "      <td>Germany</td>\n",
       "      <td>DE</td>\n",
       "      <td>+49(0) 047905356</td>\n",
       "      <td>2018-10-10</td>\n",
       "      <td>93caf182-e4e9-4c6e-bebb-60a1a9dcf9b8</td>\n",
       "    </tr>\n",
       "    <tr>\n",
       "      <th>1</th>\n",
       "      <td>Guy</td>\n",
       "      <td>Allen</td>\n",
       "      <td>1940-12-01</td>\n",
       "      <td>Fox Ltd</td>\n",
       "      <td>rhodesclifford@henderson.com</td>\n",
       "      <td>Studio 22a\\nLynne terrace\\nMcCarthymouth\\nTF0 9GH</td>\n",
       "      <td>United Kingdom</td>\n",
       "      <td>GB</td>\n",
       "      <td>(0161) 496 0674</td>\n",
       "      <td>2001-12-20</td>\n",
       "      <td>8fe96c3a-d62d-4eb5-b313-cf12d9126a49</td>\n",
       "    </tr>\n",
       "    <tr>\n",
       "      <th>2</th>\n",
       "      <td>Harry</td>\n",
       "      <td>Lawrence</td>\n",
       "      <td>1995-08-02</td>\n",
       "      <td>Johnson, Jones and Harris</td>\n",
       "      <td>glen98@bryant-marshall.co.uk</td>\n",
       "      <td>92 Ann drive\\nJoanborough\\nSK0 6LR</td>\n",
       "      <td>United Kingdom</td>\n",
       "      <td>GB</td>\n",
       "      <td>+44(0)121 4960340</td>\n",
       "      <td>2016-12-16</td>\n",
       "      <td>fc461df4-b919-48b2-909e-55c95a03fe6b</td>\n",
       "    </tr>\n",
       "    <tr>\n",
       "      <th>3</th>\n",
       "      <td>Darren</td>\n",
       "      <td>Hussain</td>\n",
       "      <td>1972-09-23</td>\n",
       "      <td>Wheeler LLC</td>\n",
       "      <td>daniellebryan@thompson.org</td>\n",
       "      <td>19 Robinson meadow\\nNew Tracy\\nW22 2QG</td>\n",
       "      <td>United Kingdom</td>\n",
       "      <td>GB</td>\n",
       "      <td>(0306) 999 0871</td>\n",
       "      <td>2004-02-23</td>\n",
       "      <td>6104719f-ef14-4b09-bf04-fb0c4620acb0</td>\n",
       "    </tr>\n",
       "    <tr>\n",
       "      <th>4</th>\n",
       "      <td>Garry</td>\n",
       "      <td>Stone</td>\n",
       "      <td>1952-12-20</td>\n",
       "      <td>Warner Inc</td>\n",
       "      <td>billy14@long-warren.com</td>\n",
       "      <td>3 White pass\\nHunterborough\\nNN96 4UE</td>\n",
       "      <td>United Kingdom</td>\n",
       "      <td>GB</td>\n",
       "      <td>0121 496 0225</td>\n",
       "      <td>2006-09-01</td>\n",
       "      <td>9523a6d3-b2dd-4670-a51a-36aebc89f579</td>\n",
       "    </tr>\n",
       "  </tbody>\n",
       "</table>\n",
       "</div>"
      ],
      "text/plain": [
       "  first_name last_name date_of_birth                    company  \\\n",
       "0   Sigfried     Noack    1990-09-30         Heydrich Junitz KG   \n",
       "1        Guy     Allen    1940-12-01                    Fox Ltd   \n",
       "2      Harry  Lawrence    1995-08-02  Johnson, Jones and Harris   \n",
       "3     Darren   Hussain    1972-09-23                Wheeler LLC   \n",
       "4      Garry     Stone    1952-12-20                 Warner Inc   \n",
       "\n",
       "                  email_address  \\\n",
       "0             rudi79@winkler.de   \n",
       "1  rhodesclifford@henderson.com   \n",
       "2  glen98@bryant-marshall.co.uk   \n",
       "3    daniellebryan@thompson.org   \n",
       "4       billy14@long-warren.com   \n",
       "\n",
       "                                             address         country  \\\n",
       "0                       Zimmerstr. 1/0\\n59015 Gießen         Germany   \n",
       "1  Studio 22a\\nLynne terrace\\nMcCarthymouth\\nTF0 9GH  United Kingdom   \n",
       "2                 92 Ann drive\\nJoanborough\\nSK0 6LR  United Kingdom   \n",
       "3             19 Robinson meadow\\nNew Tracy\\nW22 2QG  United Kingdom   \n",
       "4              3 White pass\\nHunterborough\\nNN96 4UE  United Kingdom   \n",
       "\n",
       "  country_code       phone_number   join_date  \\\n",
       "0           DE   +49(0) 047905356  2018-10-10   \n",
       "1           GB    (0161) 496 0674  2001-12-20   \n",
       "2           GB  +44(0)121 4960340  2016-12-16   \n",
       "3           GB    (0306) 999 0871  2004-02-23   \n",
       "4           GB      0121 496 0225  2006-09-01   \n",
       "\n",
       "                              user_uuid  \n",
       "0  93caf182-e4e9-4c6e-bebb-60a1a9dcf9b8  \n",
       "1  8fe96c3a-d62d-4eb5-b313-cf12d9126a49  \n",
       "2  fc461df4-b919-48b2-909e-55c95a03fe6b  \n",
       "3  6104719f-ef14-4b09-bf04-fb0c4620acb0  \n",
       "4  9523a6d3-b2dd-4670-a51a-36aebc89f579  "
      ]
     },
     "execution_count": 5,
     "metadata": {},
     "output_type": "execute_result"
    }
   ],
   "source": [
    "df.head()"
   ]
  },
  {
   "cell_type": "code",
   "execution_count": 6,
   "metadata": {},
   "outputs": [
    {
     "name": "stdout",
     "output_type": "stream",
     "text": [
      "<class 'pandas.core.frame.DataFrame'>\n",
      "RangeIndex: 15320 entries, 0 to 15319\n",
      "Data columns (total 11 columns):\n",
      " #   Column         Non-Null Count  Dtype \n",
      "---  ------         --------------  ----- \n",
      " 0   first_name     15320 non-null  object\n",
      " 1   last_name      15320 non-null  object\n",
      " 2   date_of_birth  15320 non-null  object\n",
      " 3   company        15320 non-null  object\n",
      " 4   email_address  15320 non-null  object\n",
      " 5   address        15320 non-null  object\n",
      " 6   country        15320 non-null  object\n",
      " 7   country_code   15320 non-null  object\n",
      " 8   phone_number   15320 non-null  object\n",
      " 9   join_date      15320 non-null  object\n",
      " 10  user_uuid      15320 non-null  object\n",
      "dtypes: object(11)\n",
      "memory usage: 1.3+ MB\n",
      "None\n"
     ]
    }
   ],
   "source": [
    "print(df.info())"
   ]
  },
  {
   "cell_type": "code",
   "execution_count": 7,
   "metadata": {},
   "outputs": [],
   "source": [
    "# First process the the date columns \n",
    "# Converting any date columns into the date format\n",
    "import pandas as pd\n",
    "from dateutil.parser import parse\n",
    "for col in df.columns:  \n",
    "    if 'date' in col:\n",
    "        def try_parsing_date(text):\n",
    "            try:\n",
    "                return parse(text)\n",
    "            except Exception:\n",
    "                return pd.NaT\n",
    "        \n",
    "        df[col] = df[col].apply(try_parsing_date)\n",
    "        df[col] = pd.to_datetime(df[col], errors='coerce')\n",
    "\n"
   ]
  },
  {
   "cell_type": "code",
   "execution_count": 8,
   "metadata": {},
   "outputs": [
    {
     "name": "stdout",
     "output_type": "stream",
     "text": [
      "      first_name last_name date_of_birth                      company  \\\n",
      "1            Guy     Allen    1940-12-01                      Fox Ltd   \n",
      "21          Jörg  Hoffmann    1940-11-04                        Höfig   \n",
      "66        Olivia  Williams    1940-10-23  Sanderson, Singh and Wilson   \n",
      "77      Klaus-D.      Gute    1942-06-21        Conradi GmbH & Co. KG   \n",
      "84       Dominic    Potter    1940-01-19                 Powell-Carey   \n",
      "...          ...       ...           ...                          ...   \n",
      "15274       Joan      Reed    1942-10-24                    Frost PLC   \n",
      "15289    Stephen     Davis    1940-08-30    Graham, Fisher and Gibson   \n",
      "15292    Stephen      Ward    1940-07-22                  Smith-Brown   \n",
      "15308    Stephen    Hudson    1940-09-13                   Harris PLC   \n",
      "15317    Stephen  Losekann    1940-10-09                      Rosenow   \n",
      "\n",
      "                        email_address  \\\n",
      "1        rhodesclifford@henderson.com   \n",
      "21             zgehringer@beckmann.de   \n",
      "66         wilkinsjoseph@thomas.co.uk   \n",
      "77                  lutzsalz@mude.org   \n",
      "84     conor11@donnelly-middleton.biz   \n",
      "...                               ...   \n",
      "15274         katiesharpe@briggs.info   \n",
      "15289               s.davis@smith.com   \n",
      "15292                s.ward@smith.com   \n",
      "15308              s.hudson@smith.com   \n",
      "15317            s.losekann@smith.com   \n",
      "\n",
      "                                                 address         country  \\\n",
      "1      Studio 22a\\nLynne terrace\\nMcCarthymouth\\nTF0 9GH  United Kingdom   \n",
      "21        Marliese-Holzapfel-Gasse 767\\n09198 Gardelegen         Germany   \n",
      "66     Studio 76E\\nWilliams mountains\\nEast Lyndaton\\...  United Kingdom   \n",
      "77                              Wiekstr. 5\\n29933 Apolda         Germany   \n",
      "84           719 Geoffrey gateway\\nWest Hollie\\nBN6V 5FF  United Kingdom   \n",
      "...                                                  ...             ...   \n",
      "15274    Studio 7\\nHollie walks\\nSouth Ryanberg\\nM0C 6BG  United Kingdom   \n",
      "15289             758 Ellis Creek\\nPort George, MP 93335   United States   \n",
      "15292             63 Jeffrey ridge\\nCarolefort\\nBL19 0JA  United Kingdom   \n",
      "15308      Studio 5\\nDodd turnpike\\nRobertston\\nHS26 3ZG  United Kingdom   \n",
      "15317  Viviane-Fritsch-Straße 3/5\\n15064 Bad Liebenwerda         Germany   \n",
      "\n",
      "      country_code         phone_number  join_date  \\\n",
      "1               GB      (0161) 496 0674 2001-12-20   \n",
      "21              DE  +49 (0) 9914 457670 2006-02-04   \n",
      "66              GB        +441134960697 1997-06-13   \n",
      "77              DE    +49(0)0131 112091 2019-10-30   \n",
      "84              GB         +44292018370 2003-07-09   \n",
      "...            ...                  ...        ...   \n",
      "15274           GB     +44(0)1144960941 2011-01-25   \n",
      "15289           US  +1-946-020-6951x300 2021-10-27   \n",
      "15292           GB    +44(0)808 1570093 2016-05-16   \n",
      "15308           GB        0121 496 0182 1999-11-15   \n",
      "15317           DE          02984 08192 2021-03-07   \n",
      "\n",
      "                                  user_uuid  \n",
      "1      8fe96c3a-d62d-4eb5-b313-cf12d9126a49  \n",
      "21     fbf6ce18-7838-40fc-9cf9-5c90e26b5b65  \n",
      "66     97d45030-5c09-4a38-afee-46825e865943  \n",
      "77     89ddaf29-629f-411f-a480-d70eab281efc  \n",
      "84     6fca961b-aae0-4d95-9eb9-c31494b05f2e  \n",
      "...                                     ...  \n",
      "15274  1c59bf6a-c725-4fc7-bd59-18f71ec7dcab  \n",
      "15289  5f213aff-cd45-498c-ae2b-5a3cb940c05b  \n",
      "15292  d7e8a2d7-5e66-4b22-a3ef-8a69fb5d036b  \n",
      "15308  d759d181-9b82-4062-88f1-6018a08afd11  \n",
      "15317  1a0a8b7b-7c17-42d8-a946-8a85d5495651  \n",
      "\n",
      "[1005 rows x 11 columns]\n"
     ]
    }
   ],
   "source": [
    "from datetime import datetime\n",
    "# Calculate the current date\n",
    "current_date = datetime.now()\n",
    "# Subset the data to show individuals older than 70 years\n",
    "subset_older_than_70 = df[current_date.year - df['date_of_birth'].dt.year > 80]\n",
    "print(subset_older_than_70)"
   ]
  },
  {
   "cell_type": "code",
   "execution_count": 9,
   "metadata": {},
   "outputs": [
    {
     "name": "stdout",
     "output_type": "stream",
     "text": [
      "[752, 866, 1022, 1046, 1805, 2103, 2437, 2739, 2764, 2995, 3536, 4984, 5306, 5307, 6420, 6920, 7737, 8386, 9013, 10013, 10211, 10224, 10360, 10988, 11366, 11443, 11598, 11761, 11864, 12092, 12177, 12584, 13111, 13855, 14101, 14499]\n",
      "       first_name   last_name date_of_birth     company email_address  \\\n",
      "752    PYCLKLLC7I  W350SCUD6R           NaT  R7IZUNSQX0    3Q791B3VIY   \n",
      "866          NULL        NULL           NaT        NULL          NULL   \n",
      "1022         NULL        NULL           NaT        NULL          NULL   \n",
      "1046   GI4C78KWH0  UTB5PPYFG8           NaT  CA1XGS8GZW    7HSZB429UK   \n",
      "1805         NULL        NULL           NaT        NULL          NULL   \n",
      "2103         NULL        NULL           NaT        NULL          NULL   \n",
      "2437         NULL        NULL           NaT        NULL          NULL   \n",
      "2739         NULL        NULL           NaT        NULL          NULL   \n",
      "2764         NULL        NULL           NaT        NULL          NULL   \n",
      "2995   DPAJNJL6PR  B8ZGN8ZJ84           NaT  0YJ2FRMDB4    O5Q6D7FDAF   \n",
      "3536   E5139W1FJ3  X88YLZX0JX           NaT  648S19YUFF    BYU3R2LQF8   \n",
      "4984         NULL        NULL           NaT        NULL          NULL   \n",
      "5306   XKDVQD7BH2  4YSEX8AY1Z           NaT  GKJZ58DTHT    789HWCYC7M   \n",
      "5307         NULL        NULL           NaT        NULL          NULL   \n",
      "6420   EI10BU4INS  SH6Y92V6IK           NaT  LNFBRXXUT4    TFEA83AAHP   \n",
      "6920         NULL        NULL           NaT        NULL          NULL   \n",
      "7737         NULL        NULL           NaT        NULL          NULL   \n",
      "8386   I7IJDAPMIM  LUNRZWUKRB           NaT  JXKOHA5B8F    JK2J6N4DLG   \n",
      "9013   TG6PAO2RAB  PIG6VAZUPM           NaT  ROL0IMK6UH    EIV7XWUJ8I   \n",
      "10013        NULL        NULL           NaT        NULL          NULL   \n",
      "10211  VCQL3ML6ZT  HULT86HONJ           NaT  QSS0MWBGFZ    1WNILGM5MK   \n",
      "10224        NULL        NULL           NaT        NULL          NULL   \n",
      "10360  G1SI2RM0KA  67VJEE6DS2           NaT  M4Z6M30SJ3    U1AZKY6URZ   \n",
      "10988        NULL        NULL           NaT        NULL          NULL   \n",
      "11366  31XQ1Z35J9  8LR57D7RZ0           NaT  66V9WU2HU1    XASHXWHN80   \n",
      "11443        NULL        NULL           NaT        NULL          NULL   \n",
      "11598        NULL        NULL           NaT        NULL          NULL   \n",
      "11761        NULL        NULL           NaT        NULL          NULL   \n",
      "11864        NULL        NULL           NaT        NULL          NULL   \n",
      "12092        NULL        NULL           NaT        NULL          NULL   \n",
      "12177  2GU3G97VI1  91RL47Q2WC           NaT  D4KULDKYME    YM2YGPR8W1   \n",
      "12584        NULL        NULL           NaT        NULL          NULL   \n",
      "13111  F3LGJ1NZ0I  IXWSZZ2VPN           NaT  9WSM9X17XK    M5ZDMLPP45   \n",
      "13855        NULL        NULL           NaT        NULL          NULL   \n",
      "14101  DD0K0FUDRY  Q9U9JNG44F           NaT  DJXWS4B52O    X29OBIYMTI   \n",
      "14499  YWM71XYN17  PYC56FDP4V           NaT  WGP4NBYFT6    6VIJ9KJU8P   \n",
      "\n",
      "          address     country country_code phone_number join_date   user_uuid  \n",
      "752    YW2YXLOQ5J  I7G4DMDZOZ   VSM4IZ4EL3   A4Q4HQBI3I       NaT  W43MSCMQ88  \n",
      "866          NULL        NULL         NULL         NULL       NaT        NULL  \n",
      "1022         NULL        NULL         NULL         NULL       NaT        NULL  \n",
      "1046   63GXGYR3XL  AJ1ENKS3QL   QVUW9JSKY3   64ZO0ONUQO       NaT  BUE34OU973  \n",
      "1805         NULL        NULL         NULL         NULL       NaT        NULL  \n",
      "2103         NULL        NULL         NULL         NULL       NaT        NULL  \n",
      "2437         NULL        NULL         NULL         NULL       NaT        NULL  \n",
      "2739         NULL        NULL         NULL         NULL       NaT        NULL  \n",
      "2764         NULL        NULL         NULL         NULL       NaT        NULL  \n",
      "2995   Y1GY1G3EM5  XGI7FM0VBJ   0CU6LW3NKB   DU9UJ42F3E       NaT  56URKLG01W  \n",
      "3536   GOWRW4JCE7  S0E37H52ON   PG8MOC0UZI   LJ6H5XBD2A       NaT  A1W2TVMK1S  \n",
      "4984         NULL        NULL         NULL         NULL       NaT        NULL  \n",
      "5306   KJW5WR7W16  XN9NGL5C0B   NTCGYW8LVC   MUXPJD0BZY       NaT  LNRNI6X6VL  \n",
      "5307         NULL        NULL         NULL         NULL       NaT        NULL  \n",
      "6420   XGYW43ZF8B  50KUU3PQUF   FB13AKRI21   GA2YQ189FL       NaT  23WTQ63AET  \n",
      "6920         NULL        NULL         NULL         NULL       NaT        NULL  \n",
      "7737         NULL        NULL         NULL         NULL       NaT        NULL  \n",
      "8386   FW3EMRJ25W  EWE3U0DZIV   OS2P9CMHR6   G2D0EI6DT3       NaT  8FB8XB78NQ  \n",
      "9013   KHJLOAKCW2  GMRBOMI0O1   5D74J6FPFJ   65I9CX7VF2       NaT  HEGG0N3ICG  \n",
      "10013        NULL        NULL         NULL         NULL       NaT        NULL  \n",
      "10211  R4HMRLEIXV  YOTSVPRBQ7   LZGTB0T5Z7   6VGTZ6ANEA       NaT  AKXDQ62K1V  \n",
      "10224        NULL        NULL         NULL         NULL       NaT        NULL  \n",
      "10360  N9D1AYQOJ0  5EFAFD0JLI   IM8MN1L9MJ   Y0AKRC4TUP       NaT  7JTCX4UVLK  \n",
      "10988        NULL        NULL         NULL         NULL       NaT        NULL  \n",
      "11366  NZDOEJPB2M  PNRMPSYR1J   RVRFD92E48   CLGG66L3JK       NaT  C7N3K5VF9U  \n",
      "11443        NULL        NULL         NULL         NULL       NaT        NULL  \n",
      "11598        NULL        NULL         NULL         NULL       NaT        NULL  \n",
      "11761        NULL        NULL         NULL         NULL       NaT        NULL  \n",
      "11864        NULL        NULL         NULL         NULL       NaT        NULL  \n",
      "12092        NULL        NULL         NULL         NULL       NaT        NULL  \n",
      "12177  4M2VPXJHBE  RQRB7RMTAD   XKI9UXSCZ1   35OGAP18JU       NaT  YIBFXQLD4A  \n",
      "12584        NULL        NULL         NULL         NULL       NaT        NULL  \n",
      "13111  W5VT0DOEKO  3518UD5CE8   QREF9WLI2A   EIP7YUL5CE       NaT  55II6WK8D2  \n",
      "13855        NULL        NULL         NULL         NULL       NaT        NULL  \n",
      "14101  8EK3ZFIGXL  7ZNO5EBALT   XPVCZE2L8B   XBL6JO9DU6       NaT  1YOGCW4V46  \n",
      "14499  NI3KEEZPTY  T4WBZSW0XI   44YAIDY048   QVAV1H2QVH       NaT  7PYPXC0PPN  \n"
     ]
    }
   ],
   "source": [
    "#Removing NA rows of data\n",
    "#Further inspection show all NA rows in date_of_birth include non-null rows but are randomised.\n",
    "nat_indexes = df.index[df['date_of_birth'].isna()].tolist()\n",
    "print(nat_indexes)\n",
    "na_list = df.iloc[nat_indexes]\n",
    "print(na_list)"
   ]
  },
  {
   "cell_type": "code",
   "execution_count": 10,
   "metadata": {},
   "outputs": [
    {
     "name": "stdout",
     "output_type": "stream",
     "text": [
      "       first_name   last_name date_of_birth     company email_address  \\\n",
      "752    PYCLKLLC7I  W350SCUD6R           NaT  R7IZUNSQX0    3Q791B3VIY   \n",
      "866          NULL        NULL           NaT        NULL          NULL   \n",
      "1022         NULL        NULL           NaT        NULL          NULL   \n",
      "1046   GI4C78KWH0  UTB5PPYFG8           NaT  CA1XGS8GZW    7HSZB429UK   \n",
      "1805         NULL        NULL           NaT        NULL          NULL   \n",
      "2103         NULL        NULL           NaT        NULL          NULL   \n",
      "2437         NULL        NULL           NaT        NULL          NULL   \n",
      "2739         NULL        NULL           NaT        NULL          NULL   \n",
      "2764         NULL        NULL           NaT        NULL          NULL   \n",
      "2995   DPAJNJL6PR  B8ZGN8ZJ84           NaT  0YJ2FRMDB4    O5Q6D7FDAF   \n",
      "3536   E5139W1FJ3  X88YLZX0JX           NaT  648S19YUFF    BYU3R2LQF8   \n",
      "4984         NULL        NULL           NaT        NULL          NULL   \n",
      "5306   XKDVQD7BH2  4YSEX8AY1Z           NaT  GKJZ58DTHT    789HWCYC7M   \n",
      "5307         NULL        NULL           NaT        NULL          NULL   \n",
      "6420   EI10BU4INS  SH6Y92V6IK           NaT  LNFBRXXUT4    TFEA83AAHP   \n",
      "6920         NULL        NULL           NaT        NULL          NULL   \n",
      "7737         NULL        NULL           NaT        NULL          NULL   \n",
      "8386   I7IJDAPMIM  LUNRZWUKRB           NaT  JXKOHA5B8F    JK2J6N4DLG   \n",
      "9013   TG6PAO2RAB  PIG6VAZUPM           NaT  ROL0IMK6UH    EIV7XWUJ8I   \n",
      "10013        NULL        NULL           NaT        NULL          NULL   \n",
      "10211  VCQL3ML6ZT  HULT86HONJ           NaT  QSS0MWBGFZ    1WNILGM5MK   \n",
      "10224        NULL        NULL           NaT        NULL          NULL   \n",
      "10360  G1SI2RM0KA  67VJEE6DS2           NaT  M4Z6M30SJ3    U1AZKY6URZ   \n",
      "10988        NULL        NULL           NaT        NULL          NULL   \n",
      "11366  31XQ1Z35J9  8LR57D7RZ0           NaT  66V9WU2HU1    XASHXWHN80   \n",
      "11443        NULL        NULL           NaT        NULL          NULL   \n",
      "11598        NULL        NULL           NaT        NULL          NULL   \n",
      "11761        NULL        NULL           NaT        NULL          NULL   \n",
      "11864        NULL        NULL           NaT        NULL          NULL   \n",
      "12092        NULL        NULL           NaT        NULL          NULL   \n",
      "12177  2GU3G97VI1  91RL47Q2WC           NaT  D4KULDKYME    YM2YGPR8W1   \n",
      "12584        NULL        NULL           NaT        NULL          NULL   \n",
      "13111  F3LGJ1NZ0I  IXWSZZ2VPN           NaT  9WSM9X17XK    M5ZDMLPP45   \n",
      "13855        NULL        NULL           NaT        NULL          NULL   \n",
      "14101  DD0K0FUDRY  Q9U9JNG44F           NaT  DJXWS4B52O    X29OBIYMTI   \n",
      "14499  YWM71XYN17  PYC56FDP4V           NaT  WGP4NBYFT6    6VIJ9KJU8P   \n",
      "\n",
      "          address     country country_code phone_number join_date   user_uuid  \n",
      "752    YW2YXLOQ5J  I7G4DMDZOZ   VSM4IZ4EL3   A4Q4HQBI3I       NaT  W43MSCMQ88  \n",
      "866          NULL        NULL         NULL         NULL       NaT        NULL  \n",
      "1022         NULL        NULL         NULL         NULL       NaT        NULL  \n",
      "1046   63GXGYR3XL  AJ1ENKS3QL   QVUW9JSKY3   64ZO0ONUQO       NaT  BUE34OU973  \n",
      "1805         NULL        NULL         NULL         NULL       NaT        NULL  \n",
      "2103         NULL        NULL         NULL         NULL       NaT        NULL  \n",
      "2437         NULL        NULL         NULL         NULL       NaT        NULL  \n",
      "2739         NULL        NULL         NULL         NULL       NaT        NULL  \n",
      "2764         NULL        NULL         NULL         NULL       NaT        NULL  \n",
      "2995   Y1GY1G3EM5  XGI7FM0VBJ   0CU6LW3NKB   DU9UJ42F3E       NaT  56URKLG01W  \n",
      "3536   GOWRW4JCE7  S0E37H52ON   PG8MOC0UZI   LJ6H5XBD2A       NaT  A1W2TVMK1S  \n",
      "4984         NULL        NULL         NULL         NULL       NaT        NULL  \n",
      "5306   KJW5WR7W16  XN9NGL5C0B   NTCGYW8LVC   MUXPJD0BZY       NaT  LNRNI6X6VL  \n",
      "5307         NULL        NULL         NULL         NULL       NaT        NULL  \n",
      "6420   XGYW43ZF8B  50KUU3PQUF   FB13AKRI21   GA2YQ189FL       NaT  23WTQ63AET  \n",
      "6920         NULL        NULL         NULL         NULL       NaT        NULL  \n",
      "7737         NULL        NULL         NULL         NULL       NaT        NULL  \n",
      "8386   FW3EMRJ25W  EWE3U0DZIV   OS2P9CMHR6   G2D0EI6DT3       NaT  8FB8XB78NQ  \n",
      "9013   KHJLOAKCW2  GMRBOMI0O1   5D74J6FPFJ   65I9CX7VF2       NaT  HEGG0N3ICG  \n",
      "10013        NULL        NULL         NULL         NULL       NaT        NULL  \n",
      "10211  R4HMRLEIXV  YOTSVPRBQ7   LZGTB0T5Z7   6VGTZ6ANEA       NaT  AKXDQ62K1V  \n",
      "10224        NULL        NULL         NULL         NULL       NaT        NULL  \n",
      "10360  N9D1AYQOJ0  5EFAFD0JLI   IM8MN1L9MJ   Y0AKRC4TUP       NaT  7JTCX4UVLK  \n",
      "10988        NULL        NULL         NULL         NULL       NaT        NULL  \n",
      "11366  NZDOEJPB2M  PNRMPSYR1J   RVRFD92E48   CLGG66L3JK       NaT  C7N3K5VF9U  \n",
      "11443        NULL        NULL         NULL         NULL       NaT        NULL  \n",
      "11598        NULL        NULL         NULL         NULL       NaT        NULL  \n",
      "11761        NULL        NULL         NULL         NULL       NaT        NULL  \n",
      "11864        NULL        NULL         NULL         NULL       NaT        NULL  \n",
      "12092        NULL        NULL         NULL         NULL       NaT        NULL  \n",
      "12177  4M2VPXJHBE  RQRB7RMTAD   XKI9UXSCZ1   35OGAP18JU       NaT  YIBFXQLD4A  \n",
      "12584        NULL        NULL         NULL         NULL       NaT        NULL  \n",
      "13111  W5VT0DOEKO  3518UD5CE8   QREF9WLI2A   EIP7YUL5CE       NaT  55II6WK8D2  \n",
      "13855        NULL        NULL         NULL         NULL       NaT        NULL  \n",
      "14101  8EK3ZFIGXL  7ZNO5EBALT   XPVCZE2L8B   XBL6JO9DU6       NaT  1YOGCW4V46  \n",
      "14499  NI3KEEZPTY  T4WBZSW0XI   44YAIDY048   QVAV1H2QVH       NaT  7PYPXC0PPN  \n",
      "Empty DataFrame\n",
      "Columns: [first_name_x, last_name_x, date_of_birth_x, company_x, email_address_x, address_x, country_x, country_code_x, phone_number_x, join_date_x, user_uuid_x, first_name_y, last_name_y, date_of_birth_y, company_y, email_address_y, address_y, country_y, country_code_y, phone_number_y, join_date_y, user_uuid_y, _merge]\n",
      "Index: []\n",
      "\n",
      "[0 rows x 23 columns]\n"
     ]
    }
   ],
   "source": [
    "# Double checking if the parse and to_datetime function worked on dates that had string e.g. October \n",
    "# Anti join show na_list removes the randomised and unparsable dates and leaves the good ones in\n",
    "result = df[df['date_of_birth'].astype(str).str.contains('[A-Za-z]', regex=True, na=False)]\n",
    "anti_join_df = result.merge(na_list, left_index=True, right_index=True, how='left', indicator=True)\n",
    "anti_join_result = anti_join_df[anti_join_df['_merge'] == 'left_only']\n",
    "print(result)\n",
    "print(anti_join_result)"
   ]
  },
  {
   "cell_type": "code",
   "execution_count": 11,
   "metadata": {},
   "outputs": [],
   "source": [
    "# So to conclude, all nulls in date of birth removed, this also removes randomised records of data\n",
    "df = df.drop(nat_indexes)"
   ]
  },
  {
   "cell_type": "code",
   "execution_count": 12,
   "metadata": {},
   "outputs": [
    {
     "name": "stdout",
     "output_type": "stream",
     "text": [
      "<class 'pandas.core.frame.DataFrame'>\n",
      "Index: 15284 entries, 0 to 15319\n",
      "Data columns (total 11 columns):\n",
      " #   Column         Non-Null Count  Dtype         \n",
      "---  ------         --------------  -----         \n",
      " 0   first_name     15284 non-null  object        \n",
      " 1   last_name      15284 non-null  object        \n",
      " 2   date_of_birth  15284 non-null  datetime64[ns]\n",
      " 3   company        15284 non-null  object        \n",
      " 4   email_address  15284 non-null  object        \n",
      " 5   address        15284 non-null  object        \n",
      " 6   country        15284 non-null  object        \n",
      " 7   country_code   15284 non-null  object        \n",
      " 8   phone_number   15284 non-null  object        \n",
      " 9   join_date      15284 non-null  datetime64[ns]\n",
      " 10  user_uuid      15284 non-null  object        \n",
      "dtypes: datetime64[ns](2), object(9)\n",
      "memory usage: 1.4+ MB\n"
     ]
    }
   ],
   "source": [
    "df.info()"
   ]
  },
  {
   "cell_type": "code",
   "execution_count": 13,
   "metadata": {},
   "outputs": [
    {
     "name": "stdout",
     "output_type": "stream",
     "text": [
      "first_name       0\n",
      "last_name        0\n",
      "date_of_birth    0\n",
      "company          0\n",
      "email_address    0\n",
      "address          0\n",
      "country          0\n",
      "country_code     0\n",
      "phone_number     0\n",
      "join_date        0\n",
      "user_uuid        0\n",
      "dtype: int64\n"
     ]
    }
   ],
   "source": [
    "# This shows no NA values are left. Following scripts would be to look for and handle incorrect data\n",
    "na_counts = df.isna().sum()\n",
    "print(na_counts)"
   ]
  },
  {
   "cell_type": "code",
   "execution_count": 14,
   "metadata": {},
   "outputs": [],
   "source": [
    "# Next fix the phone numbers\n",
    "# The below processing of US, UK and Germany has been combined into this single cell\n",
    "us_indexes = df[df['country'] == \"United States\"].index\n",
    "other_indexes = df[df['country'] != \"United States\"].index\n",
    "\n",
    "df.loc[us_indexes, 'phone_number'] = df.loc[us_indexes, 'phone_number'].str.replace(r'(\\+\\d{1}|x\\d+|001-|[\\.\\-\\(\\)])', '', regex=True)\n",
    "df.loc[us_indexes, 'phone_number'] = df.loc[us_indexes, 'phone_number'].apply(lambda x: np.nan if len(str(x)) != 11 else x)\n",
    "\n",
    "df.loc[other_indexes, 'phone_number'] = df.loc[other_indexes, 'phone_number'].str.replace(r'(\\+\\d{2})|\\s+|[(|)]', '', regex=True)\n",
    "df.loc[other_indexes, 'phone_number'] = df.loc[other_indexes, 'phone_number'].apply(lambda x: np.nan if len(str(x)) != 11 else x)"
   ]
  },
  {
   "cell_type": "code",
   "execution_count": 15,
   "metadata": {},
   "outputs": [
    {
     "name": "stdout",
     "output_type": "stream",
     "text": [
      "<class 'pandas.core.frame.DataFrame'>\n",
      "Index: 15284 entries, 0 to 15319\n",
      "Data columns (total 11 columns):\n",
      " #   Column         Non-Null Count  Dtype         \n",
      "---  ------         --------------  -----         \n",
      " 0   first_name     15284 non-null  object        \n",
      " 1   last_name      15284 non-null  object        \n",
      " 2   date_of_birth  15284 non-null  datetime64[ns]\n",
      " 3   company        15284 non-null  object        \n",
      " 4   email_address  15284 non-null  object        \n",
      " 5   address        15284 non-null  object        \n",
      " 6   country        15284 non-null  object        \n",
      " 7   country_code   15284 non-null  object        \n",
      " 8   phone_number   9089 non-null   object        \n",
      " 9   join_date      15284 non-null  datetime64[ns]\n",
      " 10  user_uuid      15284 non-null  object        \n",
      "dtypes: datetime64[ns](2), object(9)\n",
      "memory usage: 1.9+ MB\n"
     ]
    }
   ],
   "source": [
    "df.info()"
   ]
  },
  {
   "cell_type": "code",
   "execution_count": 16,
   "metadata": {},
   "outputs": [
    {
     "data": {
      "text/plain": [
       "country_code\n",
       "GB     9365\n",
       "DE     4708\n",
       "US     1205\n",
       "GGB       6\n",
       "Name: count, dtype: int64"
      ]
     },
     "execution_count": 16,
     "metadata": {},
     "output_type": "execute_result"
    }
   ],
   "source": [
    "#Review country_code\n",
    "df['country_code'].value_counts()"
   ]
  },
  {
   "cell_type": "code",
   "execution_count": 17,
   "metadata": {},
   "outputs": [],
   "source": [
    "df.loc[df['country_code'] == \"GGB\", 'country_code'] = \"GB\""
   ]
  },
  {
   "cell_type": "code",
   "execution_count": 18,
   "metadata": {},
   "outputs": [
    {
     "data": {
      "text/plain": [
       "country\n",
       "United Kingdom    9371\n",
       "Germany           4708\n",
       "United States     1205\n",
       "Name: count, dtype: int64"
      ]
     },
     "execution_count": 18,
     "metadata": {},
     "output_type": "execute_result"
    }
   ],
   "source": [
    "# Next country - all good\n",
    "df['country'].value_counts()"
   ]
  },
  {
   "cell_type": "code",
   "execution_count": 19,
   "metadata": {},
   "outputs": [
    {
     "name": "stdout",
     "output_type": "stream",
     "text": [
      "Zimmerstr. 1/0\n",
      "59015 Gießen\n"
     ]
    }
   ],
   "source": [
    "# assumption that the address column is correct, could separate postcode and cross-reference on google maps\n",
    "print(df['address'][0])"
   ]
  },
  {
   "cell_type": "code",
   "execution_count": 20,
   "metadata": {},
   "outputs": [
    {
     "name": "stdout",
     "output_type": "stream",
     "text": [
      "0                             Zimmerstr. 1/0,59015 Gießen\n",
      "1          Studio 22a,Lynne terrace,McCarthymouth,TF0 9GH\n",
      "2                        92 Ann drive,Joanborough,SK0 6LR\n",
      "3                    19 Robinson meadow,New Tracy,W22 2QG\n",
      "4                     3 White pass,Hunterborough,NN96 4UE\n",
      "                               ...                       \n",
      "15315         Studio 41I,Jones lodge,Oliviaborough,E8 3DU\n",
      "15316                 530 Young parkway,Millsfurt,L4G 7NX\n",
      "15317    Viviane-Fritsch-Straße 3/5,15064 Bad Liebenwerda\n",
      "15318     660 Ross Falls Suite 357,Anthonymouth, MA 09610\n",
      "15319         Studio 4,Hancock road,Phillipsview,ST1X 3XB\n",
      "Name: address, Length: 15284, dtype: object\n"
     ]
    }
   ],
   "source": [
    "# Remove the new line and replace with comma\n",
    "df['address'] = df['address'].str.replace('\\n', ',')\n",
    "print(df['address'])"
   ]
  },
  {
   "cell_type": "code",
   "execution_count": 21,
   "metadata": {},
   "outputs": [
    {
     "data": {
      "text/plain": [
       "email_address\n",
       "True    15284\n",
       "Name: count, dtype: int64"
      ]
     },
     "execution_count": 21,
     "metadata": {},
     "output_type": "execute_result"
    }
   ],
   "source": [
    "#All email addresses follow a consistent pattern\n",
    "df['email_address'].str.contains('@.*\\.', regex=True).value_counts()"
   ]
  },
  {
   "cell_type": "code",
   "execution_count": 22,
   "metadata": {},
   "outputs": [
    {
     "name": "stdout",
     "output_type": "stream",
     "text": [
      "<class 'pandas.core.frame.DataFrame'>\n",
      "Index: 15284 entries, 0 to 15319\n",
      "Data columns (total 11 columns):\n",
      " #   Column         Non-Null Count  Dtype         \n",
      "---  ------         --------------  -----         \n",
      " 0   first_name     15284 non-null  object        \n",
      " 1   last_name      15284 non-null  object        \n",
      " 2   date_of_birth  15284 non-null  datetime64[ns]\n",
      " 3   company        15284 non-null  object        \n",
      " 4   email_address  15284 non-null  object        \n",
      " 5   address        15284 non-null  object        \n",
      " 6   country        15284 non-null  object        \n",
      " 7   country_code   15284 non-null  object        \n",
      " 8   phone_number   9089 non-null   object        \n",
      " 9   join_date      15284 non-null  datetime64[ns]\n",
      " 10  user_uuid      15284 non-null  object        \n",
      "dtypes: datetime64[ns](2), object(9)\n",
      "memory usage: 1.9+ MB\n"
     ]
    }
   ],
   "source": [
    "df.info()"
   ]
  },
  {
   "cell_type": "code",
   "execution_count": 23,
   "metadata": {},
   "outputs": [
    {
     "name": "stdout",
     "output_type": "stream",
     "text": [
      "first_name\n",
      "False    15284\n",
      "Name: count, dtype: int64\n",
      "last_name\n",
      "False    15284\n",
      "Name: count, dtype: int64\n",
      "company\n",
      "False    15284\n",
      "Name: count, dtype: int64\n"
     ]
    }
   ],
   "source": [
    "\n",
    "print(df['first_name'].str.contains(r'\\d', regex=True).value_counts())\n",
    "print(df['last_name'].str.contains(r'\\d', regex=True).value_counts())\n",
    "print(df['company'].str.contains(r'\\d', regex=True).value_counts())"
   ]
  },
  {
   "cell_type": "code",
   "execution_count": 24,
   "metadata": {},
   "outputs": [
    {
     "data": {
      "text/plain": [
       "first_name\n",
       "Michael       57\n",
       "Amanda        52\n",
       "Peter         51\n",
       "Jennifer      50\n",
       "Andrew        50\n",
       "              ..\n",
       "Kristopher     1\n",
       "Guido          1\n",
       "Darlene        1\n",
       "Adem           1\n",
       "Athanasios     1\n",
       "Name: count, Length: 2162, dtype: int64"
      ]
     },
     "execution_count": 24,
     "metadata": {},
     "output_type": "execute_result"
    }
   ],
   "source": [
    "df['first_name'].value_counts()"
   ]
  },
  {
   "cell_type": "code",
   "execution_count": 25,
   "metadata": {},
   "outputs": [],
   "source": [
    "#Below was the analysis of numbers from different countries"
   ]
  },
  {
   "cell_type": "code",
   "execution_count": 26,
   "metadata": {},
   "outputs": [
    {
     "data": {
      "text/plain": [
       "country\n",
       "United Kingdom    9371\n",
       "Germany           4708\n",
       "United States     1205\n",
       "Name: count, dtype: int64"
      ]
     },
     "execution_count": 26,
     "metadata": {},
     "output_type": "execute_result"
    }
   ],
   "source": [
    "# Next fix the phone numbers\n",
    "df['country'].value_counts()"
   ]
  },
  {
   "cell_type": "code",
   "execution_count": 27,
   "metadata": {},
   "outputs": [],
   "source": [
    "#"
   ]
  },
  {
   "cell_type": "code",
   "execution_count": 28,
   "metadata": {},
   "outputs": [
    {
     "name": "stdout",
     "output_type": "stream",
     "text": [
      "      first_name last_name date_of_birth                        company  \\\n",
      "5          David    Torres    1949-08-12                   Yang-Stewart   \n",
      "9          Emily     Jones    1992-10-09                Serrano-Leblanc   \n",
      "16        Sierra   Spencer    1988-11-02       Watson, Davis and Cooper   \n",
      "27         Bryan   Nielsen    1979-07-29                    Drake-Clark   \n",
      "35       Melissa    Garcia    1946-06-30  Nelson, Williams and Martinez   \n",
      "...          ...       ...           ...                            ...   \n",
      "15275     George      Cook    1974-01-10                     Miller LLC   \n",
      "15289    Stephen     Davis    1940-08-30      Graham, Fisher and Gibson   \n",
      "15301    Stephen  Gonzales    2006-04-17                    Marquez Ltd   \n",
      "15311    Stephen  Alvarado    2006-07-27                  Wallace-Smith   \n",
      "15318    Stephen    Rivera    1952-06-04          Taylor, Fry and Jones   \n",
      "\n",
      "                       email_address  \\\n",
      "5              mwilliams@nichols.org   \n",
      "9                 toni24@carlson.com   \n",
      "16              justin43@arnold.info   \n",
      "27              julie41@jennings.com   \n",
      "35     alvarezstacy@green-stokes.com   \n",
      "...                              ...   \n",
      "15275          paulhall@johnston.biz   \n",
      "15289              s.davis@smith.com   \n",
      "15301           s.gonzales@smith.com   \n",
      "15311           s.alvarado@smith.com   \n",
      "15318             s.rivera@smith.com   \n",
      "\n",
      "                                                 address        country  \\\n",
      "5          49226 Edwards Mountains,North Sarah, DE 69608  United States   \n",
      "9      012 Andrea Circle Suite 129,Josephmouth, AS 22237  United States   \n",
      "16             05559 Vincent Parkway,Sarahstad, ND 91029  United States   \n",
      "27        0146 Mathis Extension,West Marymouth, WY 18605  United States   \n",
      "35                9288 Patrick Inlet,Jamesfort, CO 48309  United States   \n",
      "...                                                  ...            ...   \n",
      "15275    30109 Shawn Club Suite 503,West Emily, IL 35382  United States   \n",
      "15289              758 Ellis Creek,Port George, MP 93335  United States   \n",
      "15301  530 Mary Hills Suite 652,East Lauriemouth, MT ...  United States   \n",
      "15311          9197 Smith Island,Port Benjamin, ND 32656  United States   \n",
      "15318    660 Ross Falls Suite 357,Anthonymouth, MA 09610  United States   \n",
      "\n",
      "      country_code phone_number  join_date  \\\n",
      "5               US          NaN 2002-01-21   \n",
      "9               US          NaN 1998-05-15   \n",
      "16              US          NaN 2007-03-20   \n",
      "27              US          NaN 2001-09-23   \n",
      "35              US          NaN 2007-01-05   \n",
      "...            ...          ...        ...   \n",
      "15275           US          NaN 2022-02-21   \n",
      "15289           US          NaN 2021-10-27   \n",
      "15301           US          NaN 2011-08-13   \n",
      "15311           US          NaN 2000-07-01   \n",
      "15318           US          NaN 2011-01-03   \n",
      "\n",
      "                                  user_uuid  \n",
      "5      53d21f46-1fa4-452f-a023-26aee2aae4d6  \n",
      "9      caffe463-4918-4f45-a37d-856dc0f15884  \n",
      "16     7c8dc654-3994-40b1-a4a2-e55dc7081fe0  \n",
      "27     e4aae45c-d605-4457-860d-8a460a0a1d69  \n",
      "35     ee0c5f80-2a18-42df-ad88-e898de71dd50  \n",
      "...                                     ...  \n",
      "15275  e397eb0c-7007-4193-be95-76e55743bf89  \n",
      "15289  5f213aff-cd45-498c-ae2b-5a3cb940c05b  \n",
      "15301  68d5933d-8815-48f6-8bd1-7820ed73391a  \n",
      "15311  cbfb7add-74d6-455f-926d-2fe6cc0d10c2  \n",
      "15318  187fe06e-bd5f-4381-af2f-d7ac37ca7572  \n",
      "\n",
      "[1205 rows x 11 columns]\n",
      "<class 'pandas.core.frame.DataFrame'>\n",
      "Index: 1205 entries, 5 to 15318\n",
      "Data columns (total 11 columns):\n",
      " #   Column         Non-Null Count  Dtype         \n",
      "---  ------         --------------  -----         \n",
      " 0   first_name     1205 non-null   object        \n",
      " 1   last_name      1205 non-null   object        \n",
      " 2   date_of_birth  1205 non-null   datetime64[ns]\n",
      " 3   company        1205 non-null   object        \n",
      " 4   email_address  1205 non-null   object        \n",
      " 5   address        1205 non-null   object        \n",
      " 6   country        1205 non-null   object        \n",
      " 7   country_code   1205 non-null   object        \n",
      " 8   phone_number   0 non-null      object        \n",
      " 9   join_date      1205 non-null   datetime64[ns]\n",
      " 10  user_uuid      1205 non-null   object        \n",
      "dtypes: datetime64[ns](2), object(9)\n",
      "memory usage: 113.0+ KB\n",
      "None\n"
     ]
    }
   ],
   "source": [
    "#10 digits\n",
    "us = df[df['country'] == 'United States']\n",
    "print(us)\n",
    "print(us.info())"
   ]
  },
  {
   "cell_type": "code",
   "execution_count": 29,
   "metadata": {},
   "outputs": [
    {
     "name": "stdout",
     "output_type": "stream",
     "text": [
      "valid_phone\n",
      "False    1205\n",
      "Name: count, dtype: int64\n",
      "      first_name last_name date_of_birth                        company  \\\n",
      "5          David    Torres    1949-08-12                   Yang-Stewart   \n",
      "9          Emily     Jones    1992-10-09                Serrano-Leblanc   \n",
      "16        Sierra   Spencer    1988-11-02       Watson, Davis and Cooper   \n",
      "27         Bryan   Nielsen    1979-07-29                    Drake-Clark   \n",
      "35       Melissa    Garcia    1946-06-30  Nelson, Williams and Martinez   \n",
      "...          ...       ...           ...                            ...   \n",
      "15275     George      Cook    1974-01-10                     Miller LLC   \n",
      "15289    Stephen     Davis    1940-08-30      Graham, Fisher and Gibson   \n",
      "15301    Stephen  Gonzales    2006-04-17                    Marquez Ltd   \n",
      "15311    Stephen  Alvarado    2006-07-27                  Wallace-Smith   \n",
      "15318    Stephen    Rivera    1952-06-04          Taylor, Fry and Jones   \n",
      "\n",
      "                       email_address  \\\n",
      "5              mwilliams@nichols.org   \n",
      "9                 toni24@carlson.com   \n",
      "16              justin43@arnold.info   \n",
      "27              julie41@jennings.com   \n",
      "35     alvarezstacy@green-stokes.com   \n",
      "...                              ...   \n",
      "15275          paulhall@johnston.biz   \n",
      "15289              s.davis@smith.com   \n",
      "15301           s.gonzales@smith.com   \n",
      "15311           s.alvarado@smith.com   \n",
      "15318             s.rivera@smith.com   \n",
      "\n",
      "                                                 address        country  \\\n",
      "5          49226 Edwards Mountains,North Sarah, DE 69608  United States   \n",
      "9      012 Andrea Circle Suite 129,Josephmouth, AS 22237  United States   \n",
      "16             05559 Vincent Parkway,Sarahstad, ND 91029  United States   \n",
      "27        0146 Mathis Extension,West Marymouth, WY 18605  United States   \n",
      "35                9288 Patrick Inlet,Jamesfort, CO 48309  United States   \n",
      "...                                                  ...            ...   \n",
      "15275    30109 Shawn Club Suite 503,West Emily, IL 35382  United States   \n",
      "15289              758 Ellis Creek,Port George, MP 93335  United States   \n",
      "15301  530 Mary Hills Suite 652,East Lauriemouth, MT ...  United States   \n",
      "15311          9197 Smith Island,Port Benjamin, ND 32656  United States   \n",
      "15318    660 Ross Falls Suite 357,Anthonymouth, MA 09610  United States   \n",
      "\n",
      "      country_code phone_number  join_date  \\\n",
      "5               US          NaN 2002-01-21   \n",
      "9               US          NaN 1998-05-15   \n",
      "16              US          NaN 2007-03-20   \n",
      "27              US          NaN 2001-09-23   \n",
      "35              US          NaN 2007-01-05   \n",
      "...            ...          ...        ...   \n",
      "15275           US          NaN 2022-02-21   \n",
      "15289           US          NaN 2021-10-27   \n",
      "15301           US          NaN 2011-08-13   \n",
      "15311           US          NaN 2000-07-01   \n",
      "15318           US          NaN 2011-01-03   \n",
      "\n",
      "                                  user_uuid  valid_phone  \n",
      "5      53d21f46-1fa4-452f-a023-26aee2aae4d6        False  \n",
      "9      caffe463-4918-4f45-a37d-856dc0f15884        False  \n",
      "16     7c8dc654-3994-40b1-a4a2-e55dc7081fe0        False  \n",
      "27     e4aae45c-d605-4457-860d-8a460a0a1d69        False  \n",
      "35     ee0c5f80-2a18-42df-ad88-e898de71dd50        False  \n",
      "...                                     ...          ...  \n",
      "15275  e397eb0c-7007-4193-be95-76e55743bf89        False  \n",
      "15289  5f213aff-cd45-498c-ae2b-5a3cb940c05b        False  \n",
      "15301  68d5933d-8815-48f6-8bd1-7820ed73391a        False  \n",
      "15311  cbfb7add-74d6-455f-926d-2fe6cc0d10c2        False  \n",
      "15318  187fe06e-bd5f-4381-af2f-d7ac37ca7572        False  \n",
      "\n",
      "[1205 rows x 12 columns]\n"
     ]
    },
    {
     "name": "stderr",
     "output_type": "stream",
     "text": [
      "C:\\Users\\Janoh\\AppData\\Local\\Temp\\ipykernel_3656\\3246566554.py:3: SettingWithCopyWarning: \n",
      "A value is trying to be set on a copy of a slice from a DataFrame.\n",
      "Try using .loc[row_indexer,col_indexer] = value instead\n",
      "\n",
      "See the caveats in the documentation: https://pandas.pydata.org/pandas-docs/stable/user_guide/indexing.html#returning-a-view-versus-a-copy\n",
      "  us.loc[:,'valid_phone'] = us['phone_number'].str.len() == 10\n"
     ]
    }
   ],
   "source": [
    "# For the USA, typically follow XXX-XXX-XXXX pattern\n",
    "us.loc[:,'phone_number'] = us['phone_number'].str.replace(r'(\\+\\d{1}|x\\d+|001-|[\\.\\-\\(\\)])','',regex=True)\n",
    "us.loc[:,'valid_phone'] = us['phone_number'].str.len() == 10\n",
    "print(us['valid_phone'].value_counts())\n",
    "print(us)\n"
   ]
  },
  {
   "cell_type": "code",
   "execution_count": 30,
   "metadata": {},
   "outputs": [
    {
     "name": "stdout",
     "output_type": "stream",
     "text": [
      "valid_phone\n",
      "False    1205\n",
      "Name: count, dtype: int64\n"
     ]
    }
   ],
   "source": [
    "#Error check - ensure all numbers have exactly 10 digits\n",
    "us.loc[:,'valid_phone'] = us['phone_number'].str.len() == 10\n",
    "print(us['valid_phone'].value_counts())"
   ]
  },
  {
   "cell_type": "code",
   "execution_count": 31,
   "metadata": {},
   "outputs": [
    {
     "name": "stdout",
     "output_type": "stream",
     "text": [
      "<class 'pandas.core.frame.DataFrame'>\n",
      "Index: 4708 entries, 0 to 15317\n",
      "Data columns (total 11 columns):\n",
      " #   Column         Non-Null Count  Dtype         \n",
      "---  ------         --------------  -----         \n",
      " 0   first_name     4708 non-null   object        \n",
      " 1   last_name      4708 non-null   object        \n",
      " 2   date_of_birth  4708 non-null   datetime64[ns]\n",
      " 3   company        4708 non-null   object        \n",
      " 4   email_address  4708 non-null   object        \n",
      " 5   address        4708 non-null   object        \n",
      " 6   country        4708 non-null   object        \n",
      " 7   country_code   4708 non-null   object        \n",
      " 8   phone_number   2615 non-null   object        \n",
      " 9   join_date      4708 non-null   datetime64[ns]\n",
      " 10  user_uuid      4708 non-null   object        \n",
      "dtypes: datetime64[ns](2), object(9)\n",
      "memory usage: 441.4+ KB\n",
      "None\n"
     ]
    }
   ],
   "source": [
    "#Germany have 11 digits\n",
    "germany = df[df['country'] == \"Germany\"]\n",
    "print(germany.info())"
   ]
  },
  {
   "cell_type": "code",
   "execution_count": 32,
   "metadata": {},
   "outputs": [],
   "source": [
    "# Some german numbers are 10 digits. Replace with NaN\n",
    "germany.loc[:,'phone_number'] = germany['phone_number'].str.replace(r'(\\+\\d{2})|\\s+|[(|)]','', regex= True)"
   ]
  },
  {
   "cell_type": "code",
   "execution_count": 33,
   "metadata": {},
   "outputs": [
    {
     "name": "stdout",
     "output_type": "stream",
     "text": [
      "valid_phone\n",
      "True     2615\n",
      "False    2093\n",
      "Name: count, dtype: int64\n"
     ]
    },
    {
     "name": "stderr",
     "output_type": "stream",
     "text": [
      "C:\\Users\\Janoh\\AppData\\Local\\Temp\\ipykernel_3656\\787672041.py:2: SettingWithCopyWarning: \n",
      "A value is trying to be set on a copy of a slice from a DataFrame.\n",
      "Try using .loc[row_indexer,col_indexer] = value instead\n",
      "\n",
      "See the caveats in the documentation: https://pandas.pydata.org/pandas-docs/stable/user_guide/indexing.html#returning-a-view-versus-a-copy\n",
      "  germany.loc[:,'valid_phone'] = germany['phone_number'].str.len() == 11\n"
     ]
    }
   ],
   "source": [
    "#Error check - ensure all numbers have exactly 10 digits\n",
    "germany.loc[:,'valid_phone'] = germany['phone_number'].str.len() == 11\n",
    "germany.loc[~germany['phone_number'].apply(lambda x: len(str(x)) == 11), 'phone_number'] = np.nan\n",
    "print(germany['valid_phone'].value_counts())\n"
   ]
  },
  {
   "cell_type": "code",
   "execution_count": 34,
   "metadata": {},
   "outputs": [
    {
     "name": "stdout",
     "output_type": "stream",
     "text": [
      "      first_name last_name date_of_birth                       company  \\\n",
      "1            Guy     Allen    1940-12-01                       Fox Ltd   \n",
      "2          Harry  Lawrence    1995-08-02     Johnson, Jones and Harris   \n",
      "3         Darren   Hussain    1972-09-23                   Wheeler LLC   \n",
      "4          Garry     Stone    1952-12-20                    Warner Inc   \n",
      "6           Anne    Morris    1952-11-10                Hutchinson Inc   \n",
      "...          ...       ...           ...                           ...   \n",
      "15313    Stephen    Barker    1981-05-01             Marshall-Campbell   \n",
      "15314    Stephen       Fox    1961-04-24             Williams-Phillips   \n",
      "15315    Stephen   Jenkins    1943-08-09  Thornton, Carroll and Newman   \n",
      "15316    Stephen     Smith    1948-08-20               Robinson-Harris   \n",
      "15319    Stephen    Duncan    1994-03-27    Phillips, Brown and Powell   \n",
      "\n",
      "                      email_address  \\\n",
      "1      rhodesclifford@henderson.com   \n",
      "2      glen98@bryant-marshall.co.uk   \n",
      "3        daniellebryan@thompson.org   \n",
      "4           billy14@long-warren.com   \n",
      "6         nhudson@taylor-horton.com   \n",
      "...                             ...   \n",
      "15313            s.barker@smith.com   \n",
      "15314               s.fox@smith.com   \n",
      "15315           s.jenkins@smith.com   \n",
      "15316             s.smith@smith.com   \n",
      "15319            s.duncan@smith.com   \n",
      "\n",
      "                                              address         country  \\\n",
      "1      Studio 22a,Lynne terrace,McCarthymouth,TF0 9GH  United Kingdom   \n",
      "2                    92 Ann drive,Joanborough,SK0 6LR  United Kingdom   \n",
      "3                19 Robinson meadow,New Tracy,W22 2QG  United Kingdom   \n",
      "4                 3 White pass,Hunterborough,NN96 4UE  United Kingdom   \n",
      "6                    33 Shaun locks,Morganland,G8 9YP  United Kingdom   \n",
      "...                                               ...             ...   \n",
      "15313         857 Ross parkways,Mitchellville,CR3 0QQ  United Kingdom   \n",
      "15314     Flat 89,Hutchinson pines,Clarkeview,M7U 1DY  United Kingdom   \n",
      "15315     Studio 41I,Jones lodge,Oliviaborough,E8 3DU  United Kingdom   \n",
      "15316             530 Young parkway,Millsfurt,L4G 7NX  United Kingdom   \n",
      "15319     Studio 4,Hancock road,Phillipsview,ST1X 3XB  United Kingdom   \n",
      "\n",
      "      country_code phone_number  join_date  \\\n",
      "1               GB  01614960674 2001-12-20   \n",
      "2               GB  01214960340 2016-12-16   \n",
      "3               GB  03069990871 2004-02-23   \n",
      "4               GB  01214960225 2006-09-01   \n",
      "6               GB          NaN 2004-06-23   \n",
      "...            ...          ...        ...   \n",
      "15313           GB  01414960548 2014-10-09   \n",
      "15314           GB  01174960015 2007-10-25   \n",
      "15315           GB          NaN 2016-04-15   \n",
      "15316           GB  01144960977 2020-07-20   \n",
      "15319           GB  01314960870 2015-08-28   \n",
      "\n",
      "                                  user_uuid  \n",
      "1      8fe96c3a-d62d-4eb5-b313-cf12d9126a49  \n",
      "2      fc461df4-b919-48b2-909e-55c95a03fe6b  \n",
      "3      6104719f-ef14-4b09-bf04-fb0c4620acb0  \n",
      "4      9523a6d3-b2dd-4670-a51a-36aebc89f579  \n",
      "6      e2066a2c-8cd3-46ad-b2ea-e2445d5d9335  \n",
      "...                                     ...  \n",
      "15313  b8540c97-2c5d-4b79-b955-c0fd998819e7  \n",
      "15314  0ad69cd5-ebda-4d22-b6d8-963424261ddf  \n",
      "15315  2bd3a12f-a92d-4cdd-b99c-fc70572db302  \n",
      "15316  d234c04b-c07c-46a5-a902-526f91478ecc  \n",
      "15319  0589bbca-1d58-4b1f-9d0a-04ed4c57aaa1  \n",
      "\n",
      "[9371 rows x 11 columns]\n"
     ]
    }
   ],
   "source": [
    "#Lastly the UK\n",
    "uk = df[df['country'] == \"United Kingdom\"]\n",
    "print(uk)"
   ]
  },
  {
   "cell_type": "code",
   "execution_count": 35,
   "metadata": {},
   "outputs": [
    {
     "name": "stdout",
     "output_type": "stream",
     "text": [
      "valid_phone\n",
      "True     6474\n",
      "False    2897\n",
      "Name: count, dtype: int64\n"
     ]
    },
    {
     "name": "stderr",
     "output_type": "stream",
     "text": [
      "C:\\Users\\Janoh\\AppData\\Local\\Temp\\ipykernel_3656\\1538497412.py:2: SettingWithCopyWarning: \n",
      "A value is trying to be set on a copy of a slice from a DataFrame.\n",
      "Try using .loc[row_indexer,col_indexer] = value instead\n",
      "\n",
      "See the caveats in the documentation: https://pandas.pydata.org/pandas-docs/stable/user_guide/indexing.html#returning-a-view-versus-a-copy\n",
      "  uk.loc[:,'valid_phone'] = uk['phone_number'].str.len() == 11\n"
     ]
    }
   ],
   "source": [
    "uk.loc[:,'phone_number'] = uk['phone_number'].str.replace(r'(\\+\\d{2})|\\s+|[(|)]','', regex= True)\n",
    "uk.loc[:,'valid_phone'] = uk['phone_number'].str.len() == 11\n",
    "print(uk['valid_phone'].value_counts())"
   ]
  },
  {
   "cell_type": "code",
   "execution_count": 36,
   "metadata": {},
   "outputs": [
    {
     "name": "stdout",
     "output_type": "stream",
     "text": [
      "      first_name last_name date_of_birth                       company  \\\n",
      "1            Guy     Allen    1940-12-01                       Fox Ltd   \n",
      "2          Harry  Lawrence    1995-08-02     Johnson, Jones and Harris   \n",
      "3         Darren   Hussain    1972-09-23                   Wheeler LLC   \n",
      "4          Garry     Stone    1952-12-20                    Warner Inc   \n",
      "6           Anne    Morris    1952-11-10                Hutchinson Inc   \n",
      "...          ...       ...           ...                           ...   \n",
      "15313    Stephen    Barker    1981-05-01             Marshall-Campbell   \n",
      "15314    Stephen       Fox    1961-04-24             Williams-Phillips   \n",
      "15315    Stephen   Jenkins    1943-08-09  Thornton, Carroll and Newman   \n",
      "15316    Stephen     Smith    1948-08-20               Robinson-Harris   \n",
      "15319    Stephen    Duncan    1994-03-27    Phillips, Brown and Powell   \n",
      "\n",
      "                      email_address  \\\n",
      "1      rhodesclifford@henderson.com   \n",
      "2      glen98@bryant-marshall.co.uk   \n",
      "3        daniellebryan@thompson.org   \n",
      "4           billy14@long-warren.com   \n",
      "6         nhudson@taylor-horton.com   \n",
      "...                             ...   \n",
      "15313            s.barker@smith.com   \n",
      "15314               s.fox@smith.com   \n",
      "15315           s.jenkins@smith.com   \n",
      "15316             s.smith@smith.com   \n",
      "15319            s.duncan@smith.com   \n",
      "\n",
      "                                              address         country  \\\n",
      "1      Studio 22a,Lynne terrace,McCarthymouth,TF0 9GH  United Kingdom   \n",
      "2                    92 Ann drive,Joanborough,SK0 6LR  United Kingdom   \n",
      "3                19 Robinson meadow,New Tracy,W22 2QG  United Kingdom   \n",
      "4                 3 White pass,Hunterborough,NN96 4UE  United Kingdom   \n",
      "6                    33 Shaun locks,Morganland,G8 9YP  United Kingdom   \n",
      "...                                               ...             ...   \n",
      "15313         857 Ross parkways,Mitchellville,CR3 0QQ  United Kingdom   \n",
      "15314     Flat 89,Hutchinson pines,Clarkeview,M7U 1DY  United Kingdom   \n",
      "15315     Studio 41I,Jones lodge,Oliviaborough,E8 3DU  United Kingdom   \n",
      "15316             530 Young parkway,Millsfurt,L4G 7NX  United Kingdom   \n",
      "15319     Studio 4,Hancock road,Phillipsview,ST1X 3XB  United Kingdom   \n",
      "\n",
      "      country_code phone_number  join_date  \\\n",
      "1               GB  01614960674 2001-12-20   \n",
      "2               GB  01214960340 2016-12-16   \n",
      "3               GB  03069990871 2004-02-23   \n",
      "4               GB  01214960225 2006-09-01   \n",
      "6               GB          NaN 2004-06-23   \n",
      "...            ...          ...        ...   \n",
      "15313           GB  01414960548 2014-10-09   \n",
      "15314           GB  01174960015 2007-10-25   \n",
      "15315           GB          NaN 2016-04-15   \n",
      "15316           GB  01144960977 2020-07-20   \n",
      "15319           GB  01314960870 2015-08-28   \n",
      "\n",
      "                                  user_uuid  valid_phone  \n",
      "1      8fe96c3a-d62d-4eb5-b313-cf12d9126a49         True  \n",
      "2      fc461df4-b919-48b2-909e-55c95a03fe6b         True  \n",
      "3      6104719f-ef14-4b09-bf04-fb0c4620acb0         True  \n",
      "4      9523a6d3-b2dd-4670-a51a-36aebc89f579         True  \n",
      "6      e2066a2c-8cd3-46ad-b2ea-e2445d5d9335        False  \n",
      "...                                     ...          ...  \n",
      "15313  b8540c97-2c5d-4b79-b955-c0fd998819e7         True  \n",
      "15314  0ad69cd5-ebda-4d22-b6d8-963424261ddf         True  \n",
      "15315  2bd3a12f-a92d-4cdd-b99c-fc70572db302        False  \n",
      "15316  d234c04b-c07c-46a5-a902-526f91478ecc         True  \n",
      "15319  0589bbca-1d58-4b1f-9d0a-04ed4c57aaa1         True  \n",
      "\n",
      "[9371 rows x 12 columns]\n"
     ]
    }
   ],
   "source": [
    "uk.loc[~uk['phone_number'].apply(lambda x: len(str(x)) == 11), 'phone_number'] = np.nan\n",
    "print(uk)"
   ]
  },
  {
   "cell_type": "code",
   "execution_count": 37,
   "metadata": {},
   "outputs": [],
   "source": [
    "#Data cleaning of card details"
   ]
  },
  {
   "cell_type": "code",
   "execution_count": 38,
   "metadata": {},
   "outputs": [],
   "source": [
    "import tabula"
   ]
  },
  {
   "cell_type": "code",
   "execution_count": 39,
   "metadata": {},
   "outputs": [],
   "source": [
    "pdf = tabula.read_pdf('https://data-handling-public.s3.eu-west-1.amazonaws.com/card_details.pdf', pages = 'all')"
   ]
  },
  {
   "cell_type": "code",
   "execution_count": 40,
   "metadata": {},
   "outputs": [
    {
     "data": {
      "text/plain": [
       "279"
      ]
     },
     "execution_count": 40,
     "metadata": {},
     "output_type": "execute_result"
    }
   ],
   "source": [
    "len(pdf)"
   ]
  },
  {
   "cell_type": "code",
   "execution_count": 41,
   "metadata": {},
   "outputs": [
    {
     "name": "stdout",
     "output_type": "stream",
     "text": [
      "        card_number expiry_date                card_provider  \\\n",
      "0    30060773296197       09/26  Diners Club / Carte Blanche   \n",
      "1   349624180933183       10/23             American Express   \n",
      "2  3529023891650490       06/23                 JCB 16 digit   \n",
      "3   213142929492281       09/27                 JCB 15 digit   \n",
      "4      502067329974       10/25                      Maestro   \n",
      "\n",
      "  date_payment_confirmed  \n",
      "0             2015-11-25  \n",
      "1             2001-06-18  \n",
      "2             2000-12-26  \n",
      "3             2011-02-12  \n",
      "4             1997-03-13  \n",
      "<class 'pandas.core.frame.DataFrame'>\n"
     ]
    }
   ],
   "source": [
    "import pandas as pd\n",
    "pdf2 = pd.concat(pdf, ignore_index = True)\n",
    "print(pdf2.head(5))\n",
    "print(type(pdf2))"
   ]
  },
  {
   "cell_type": "code",
   "execution_count": 42,
   "metadata": {},
   "outputs": [
    {
     "name": "stdout",
     "output_type": "stream",
     "text": [
      "<class 'pandas.core.frame.DataFrame'>\n",
      "RangeIndex: 15309 entries, 0 to 15308\n",
      "Data columns (total 4 columns):\n",
      " #   Column                  Non-Null Count  Dtype \n",
      "---  ------                  --------------  ----- \n",
      " 0   card_number             15309 non-null  object\n",
      " 1   expiry_date             15309 non-null  object\n",
      " 2   card_provider           15309 non-null  object\n",
      " 3   date_payment_confirmed  15309 non-null  object\n",
      "dtypes: object(4)\n",
      "memory usage: 478.5+ KB\n",
      "None\n"
     ]
    }
   ],
   "source": [
    "# Now in dataframe format\n",
    "print(pdf2.info())"
   ]
  },
  {
   "cell_type": "code",
   "execution_count": 43,
   "metadata": {},
   "outputs": [
    {
     "name": "stdout",
     "output_type": "stream",
     "text": [
      "['VISA 16 digit', 'JCB 16 digit', 'VISA 13 digit', 'JCB 15 digit', 'VISA 19 digit', 'Diners Club / Carte Blanche', 'American Express', 'Maestro', 'Discover', 'Mastercard']\n"
     ]
    }
   ],
   "source": [
    "card_names = pdf2['card_provider'].value_counts()\n",
    "get_card_names = card_names[card_names > 1000].index.tolist()\n",
    "print(get_card_names)"
   ]
  },
  {
   "cell_type": "code",
   "execution_count": 44,
   "metadata": {},
   "outputs": [
    {
     "name": "stdout",
     "output_type": "stream",
     "text": [
      "      card_number expiry_date card_provider date_payment_confirmed\n",
      "377          NULL        NULL          NULL                   NULL\n",
      "827    VAB9DSB8ZM  NWS3P2W38H    NB71VBAHJE             GTC9KBWJO9\n",
      "847          NULL        NULL          NULL                   NULL\n",
      "884          NULL        NULL          NULL                   NULL\n",
      "1443   MOZOT5Q95V  8YJ3TYH6Z5    WJVMUO4QX6             DJIXF1AFAZ\n",
      "2418         NULL        NULL          NULL                   NULL\n",
      "2489         NULL        NULL          NULL                   NULL\n",
      "2830         NULL        NULL          NULL                   NULL\n",
      "3694   K0084A9R99  ACT9K6ECRJ    JRPRLPIBZ2             H2PCQP4W50\n",
      "4196         NULL        NULL          NULL                   NULL\n",
      "4208   Y8ITI33X30  WDWMN9TU45    TS8A81WFXV             XTD27ANR5Q\n",
      "4916   RNSCD8OCIM  VNLNMWPJII    JCQMU8FN85             7VGB4DA1WI\n",
      "5686         NULL        NULL          NULL                   NULL\n",
      "6024         NULL        NULL          NULL                   NULL\n",
      "6653   MIK9G2EMM0  4FI5GTUVYG    5CJH7ABGDR             RLQYRRYHPU\n",
      "7332   I4PWLWSIRJ  RF1ACW165R    DE488ORDXY             T008RE1ZR6\n",
      "7493   OMZSBN2XG3  6JJKS7R0WA    OGJTXI6X1H             7FL8EU9GBF\n",
      "7818   NB8JJ05D7R  XRPE6C4GS9    1M38DYQTZV             GD9PHJXQR4\n",
      "10457  G0EF4TS8C8  5VN8HOLMVE    DLWF2HANZF             WCK463ZO1Z\n",
      "11345  Z8855EXTJX  Q7VGWP7LH9    XGZBYBYGUW             OE3KONN2V6\n",
      "11465  JQTLQAAQTD  ZBGGFGY4H0    UA07L7EILH             T995FX2C7W\n",
      "11499  T23BTBBJDD  UMR9FIE22M    BU9U947ZGV             EVVMMB3QYV\n",
      "12876        NULL        NULL          NULL                   NULL\n",
      "13708        NULL        NULL          NULL                   NULL\n",
      "14884  LSWT9DT4G4  2ANT8LW3I5    5MFWFBZRM9             UZGSD0AEBT\n",
      "<class 'pandas.core.frame.DataFrame'>\n",
      "Index: 25 entries, 377 to 14884\n",
      "Data columns (total 4 columns):\n",
      " #   Column                  Non-Null Count  Dtype \n",
      "---  ------                  --------------  ----- \n",
      " 0   card_number             25 non-null     object\n",
      " 1   expiry_date             25 non-null     object\n",
      " 2   card_provider           25 non-null     object\n",
      " 3   date_payment_confirmed  25 non-null     object\n",
      "dtypes: object(4)\n",
      "memory usage: 1000.0+ bytes\n",
      "None\n"
     ]
    }
   ],
   "source": [
    "#All the dodgy cards have dodgy data, so remove\n",
    "checking_dodgy_cards = pdf2[~pdf2['card_provider'].isin(get_card_names)]\n",
    "print(checking_dodgy_cards)\n",
    "print(checking_dodgy_cards.info())"
   ]
  },
  {
   "cell_type": "code",
   "execution_count": 45,
   "metadata": {},
   "outputs": [
    {
     "name": "stdout",
     "output_type": "stream",
     "text": [
      "card_provider\n",
      "VISA 16 digit                  2426\n",
      "JCB 16 digit                   2403\n",
      "VISA 13 digit                  1382\n",
      "JCB 15 digit                   1363\n",
      "VISA 19 digit                  1349\n",
      "Diners Club / Carte Blanche    1312\n",
      "American Express               1297\n",
      "Maestro                        1281\n",
      "Discover                       1260\n",
      "Mastercard                     1211\n",
      "Name: count, dtype: int64\n"
     ]
    }
   ],
   "source": [
    "# pdf3 symbolises the removal of nulls and dodgy data\n",
    "pdf3 = pdf2[pdf2['card_provider'].isin(get_card_names)]\n",
    "print(pdf3['card_provider'].value_counts())"
   ]
  },
  {
   "cell_type": "code",
   "execution_count": 46,
   "metadata": {},
   "outputs": [
    {
     "name": "stdout",
     "output_type": "stream",
     "text": [
      "0        09/26\n",
      "1        10/23\n",
      "2        06/23\n",
      "3        09/27\n",
      "4        10/25\n",
      "         ...  \n",
      "15304    12/28\n",
      "15305    11/24\n",
      "15306    04/24\n",
      "15307    06/27\n",
      "15308    02/30\n",
      "Name: expiry_date, Length: 15284, dtype: object\n"
     ]
    }
   ],
   "source": [
    "print(pdf3['expiry_date'])"
   ]
  },
  {
   "cell_type": "code",
   "execution_count": 47,
   "metadata": {},
   "outputs": [
    {
     "data": {
      "text/plain": [
       "0     09/26\n",
       "1     10/23\n",
       "2     06/23\n",
       "3     09/27\n",
       "4     10/25\n",
       "5     11/23\n",
       "6     07/27\n",
       "7     02/29\n",
       "8     02/24\n",
       "9     07/23\n",
       "10    10/28\n",
       "11    11/27\n",
       "12    11/31\n",
       "13    10/29\n",
       "14    01/29\n",
       "15    01/26\n",
       "16    02/32\n",
       "17    10/26\n",
       "18    08/28\n",
       "19    09/32\n",
       "Name: expiry_date, dtype: object"
      ]
     },
     "execution_count": 47,
     "metadata": {},
     "output_type": "execute_result"
    }
   ],
   "source": [
    "#pdf3['expiry_date'] = pdf3['expiry_date'].apply(parse)\n",
    "#pdf3['expiry_date'] = pd.to_datetime(pdf3['expiry_date'], errors='coerce', format = '%m/%Y')\n",
    "#na_index = pdf3.index[pdf3['date_of_birth'].isna()].tolist() \n",
    "pdf3['expiry_date'].head(20)"
   ]
  },
  {
   "cell_type": "code",
   "execution_count": 48,
   "metadata": {},
   "outputs": [],
   "source": [
    "def custom_parse(date_string):\n",
    "    month,year = date_string.split('/')\n",
    "    return parse('01'+'/'+ date_string, ignoretz = True)"
   ]
  },
  {
   "cell_type": "code",
   "execution_count": 49,
   "metadata": {},
   "outputs": [
    {
     "data": {
      "text/plain": [
       "'10/23'"
      ]
     },
     "execution_count": 49,
     "metadata": {},
     "output_type": "execute_result"
    }
   ],
   "source": [
    "pdf3['expiry_date'][1]"
   ]
  },
  {
   "cell_type": "code",
   "execution_count": 50,
   "metadata": {},
   "outputs": [],
   "source": [
    "pdf3.loc[:,'expiry_date'] = pdf3['expiry_date'].apply(custom_parse)\n",
    "pdf3.loc[:,'expiry_date'] = pd.to_datetime(pdf3['expiry_date'])"
   ]
  },
  {
   "cell_type": "code",
   "execution_count": 51,
   "metadata": {},
   "outputs": [
    {
     "name": "stdout",
     "output_type": "stream",
     "text": [
      "0     2026-01-09 00:00:00\n",
      "1     2023-01-10 00:00:00\n",
      "2     2023-01-06 00:00:00\n",
      "3     2027-01-09 00:00:00\n",
      "4     2025-01-10 00:00:00\n",
      "5     2023-01-11 00:00:00\n",
      "6     2027-01-07 00:00:00\n",
      "7     2029-01-02 00:00:00\n",
      "8     2024-01-02 00:00:00\n",
      "9     2023-01-07 00:00:00\n",
      "10    2028-01-10 00:00:00\n",
      "11    2027-01-11 00:00:00\n",
      "12    2031-01-11 00:00:00\n",
      "13    2029-01-10 00:00:00\n",
      "14    2029-01-01 00:00:00\n",
      "15    2026-01-01 00:00:00\n",
      "16    2032-01-02 00:00:00\n",
      "17    2026-01-10 00:00:00\n",
      "18    2028-01-08 00:00:00\n",
      "19    2032-01-09 00:00:00\n",
      "Name: expiry_date, dtype: object\n",
      "0\n"
     ]
    }
   ],
   "source": [
    "print(pdf3['expiry_date'].head(20))\n",
    "print(pdf3['expiry_date'].isnull().sum())\n"
   ]
  },
  {
   "cell_type": "code",
   "execution_count": 52,
   "metadata": {},
   "outputs": [
    {
     "name": "stdout",
     "output_type": "stream",
     "text": [
      "Empty DataFrame\n",
      "Columns: [card_number, expiry_date, card_provider, date_payment_confirmed]\n",
      "Index: []\n"
     ]
    }
   ],
   "source": [
    "#No expiry dates our of the ordinary\n",
    "expired = pdf3[pdf3['expiry_date'] > pd.to_datetime('2050-01-01')]\n",
    "print(expired)"
   ]
  },
  {
   "cell_type": "code",
   "execution_count": 53,
   "metadata": {},
   "outputs": [
    {
     "name": "stdout",
     "output_type": "stream",
     "text": [
      "<class 'pandas.core.frame.DataFrame'>\n",
      "Index: 15284 entries, 0 to 15308\n",
      "Data columns (total 4 columns):\n",
      " #   Column                  Non-Null Count  Dtype \n",
      "---  ------                  --------------  ----- \n",
      " 0   card_number             15284 non-null  object\n",
      " 1   expiry_date             15284 non-null  object\n",
      " 2   card_provider           15284 non-null  object\n",
      " 3   date_payment_confirmed  15284 non-null  object\n",
      "dtypes: object(4)\n",
      "memory usage: 1.1+ MB\n"
     ]
    }
   ],
   "source": [
    "pdf3.info()"
   ]
  },
  {
   "cell_type": "code",
   "execution_count": 54,
   "metadata": {},
   "outputs": [
    {
     "data": {
      "text/html": [
       "<div>\n",
       "<style scoped>\n",
       "    .dataframe tbody tr th:only-of-type {\n",
       "        vertical-align: middle;\n",
       "    }\n",
       "\n",
       "    .dataframe tbody tr th {\n",
       "        vertical-align: top;\n",
       "    }\n",
       "\n",
       "    .dataframe thead th {\n",
       "        text-align: right;\n",
       "    }\n",
       "</style>\n",
       "<table border=\"1\" class=\"dataframe\">\n",
       "  <thead>\n",
       "    <tr style=\"text-align: right;\">\n",
       "      <th></th>\n",
       "      <th>card_number</th>\n",
       "      <th>expiry_date</th>\n",
       "      <th>card_provider</th>\n",
       "      <th>date_payment_confirmed</th>\n",
       "    </tr>\n",
       "  </thead>\n",
       "  <tbody>\n",
       "  </tbody>\n",
       "</table>\n",
       "</div>"
      ],
      "text/plain": [
       "Empty DataFrame\n",
       "Columns: [card_number, expiry_date, card_provider, date_payment_confirmed]\n",
       "Index: []"
      ]
     },
     "execution_count": 54,
     "metadata": {},
     "output_type": "execute_result"
    }
   ],
   "source": [
    "# date of payment looks good too\n",
    "pdf3['date_payment_confirmed'].head(5)\n",
    "pdf3.loc[:,'date_payment_confirmed'] = pdf3['date_payment_confirmed'].apply(parse)\n",
    "pdf3['date_payment_confirmed'].isnull().sum()\n",
    "pdf3[pdf3['date_payment_confirmed'] > pd.to_datetime(\"2022-12-01\")]"
   ]
  },
  {
   "cell_type": "code",
   "execution_count": 55,
   "metadata": {},
   "outputs": [
    {
     "name": "stdout",
     "output_type": "stream",
     "text": [
      "<class 'int'>\n"
     ]
    }
   ],
   "source": [
    "# Card number\n",
    "pdf3['card_number'].head(20)\n",
    "print(type(pdf3['card_number'][1]))"
   ]
  },
  {
   "cell_type": "code",
   "execution_count": 56,
   "metadata": {},
   "outputs": [],
   "source": [
    "def check_alpha(string):\n",
    "    return str(string).isalpha()"
   ]
  },
  {
   "cell_type": "code",
   "execution_count": 57,
   "metadata": {},
   "outputs": [
    {
     "data": {
      "text/plain": [
       "card_number\n",
       "False    15284\n",
       "Name: count, dtype: int64"
      ]
     },
     "execution_count": 57,
     "metadata": {},
     "output_type": "execute_result"
    }
   ],
   "source": [
    "#This didnt pick up some card numbers had '?' \n",
    "pdf3['card_number'].apply(check_alpha).value_counts()"
   ]
  },
  {
   "cell_type": "code",
   "execution_count": 58,
   "metadata": {},
   "outputs": [
    {
     "name": "stdout",
     "output_type": "stream",
     "text": [
      "card_provider\n",
      "VISA 16 digit                  2426\n",
      "JCB 16 digit                   2403\n",
      "VISA 13 digit                  1382\n",
      "JCB 15 digit                   1363\n",
      "VISA 19 digit                  1349\n",
      "Diners Club / Carte Blanche    1312\n",
      "American Express               1297\n",
      "Maestro                        1281\n",
      "Discover                       1260\n",
      "Mastercard                     1211\n",
      "Name: count, dtype: int64\n"
     ]
    }
   ],
   "source": [
    "pdf3.loc[:,'card_number'] = str(pdf3['card_number'])\n",
    "print(pdf3['card_provider'].value_counts())\n",
    "# diners club = 14\n",
    "# AMEX = 15\n",
    "# Maestro = 12 to 19. 50, 56-69, 67\n",
    "# Discover = 16\n",
    "# Mastercard = 16"
   ]
  },
  {
   "cell_type": "code",
   "execution_count": 59,
   "metadata": {},
   "outputs": [],
   "source": [
    "def get_length(column):\n",
    "    if 'Diners' in column:\n",
    "        return 14\n",
    "    elif 'American Express' in column:\n",
    "        return 15\n",
    "    elif 'Discover' in column:\n",
    "        return 16\n",
    "    elif 'Mastercard' in column:\n",
    "        return 16\n",
    "    elif 'JCB' in column or 'VISA' in column:\n",
    "        return int(''.join(filter(str.isdigit, column)))\n",
    "    elif 'Maestro' in column:\n",
    "        return list(range(12,20))\n",
    "    elif 'Diners Club / Carte Blanche' in column:\n",
    "        return 14\n",
    "    else:\n",
    "        return None"
   ]
  },
  {
   "cell_type": "code",
   "execution_count": 63,
   "metadata": {},
   "outputs": [
    {
     "name": "stderr",
     "output_type": "stream",
     "text": [
      "C:\\Users\\Janoh\\AppData\\Local\\Temp\\ipykernel_3656\\3089059518.py:1: SettingWithCopyWarning: \n",
      "A value is trying to be set on a copy of a slice from a DataFrame.\n",
      "Try using .loc[row_indexer,col_indexer] = value instead\n",
      "\n",
      "See the caveats in the documentation: https://pandas.pydata.org/pandas-docs/stable/user_guide/indexing.html#returning-a-view-versus-a-copy\n",
      "  pdf3.loc[:,'expected_num_dig'] = pdf3['card_provider'].apply(get_length)\n"
     ]
    }
   ],
   "source": [
    "pdf3.loc[:,'expected_num_dig'] = pdf3['card_provider'].apply(get_length)"
   ]
  },
  {
   "cell_type": "code",
   "execution_count": 61,
   "metadata": {},
   "outputs": [],
   "source": [
    "#Run this code if you encounter any errors \n",
    "pdf3 = pdf2[pdf2['card_provider'].isin(get_card_names)]"
   ]
  },
  {
   "cell_type": "code",
   "execution_count": 64,
   "metadata": {},
   "outputs": [
    {
     "data": {
      "text/html": [
       "<div>\n",
       "<style scoped>\n",
       "    .dataframe tbody tr th:only-of-type {\n",
       "        vertical-align: middle;\n",
       "    }\n",
       "\n",
       "    .dataframe tbody tr th {\n",
       "        vertical-align: top;\n",
       "    }\n",
       "\n",
       "    .dataframe thead th {\n",
       "        text-align: right;\n",
       "    }\n",
       "</style>\n",
       "<table border=\"1\" class=\"dataframe\">\n",
       "  <thead>\n",
       "    <tr style=\"text-align: right;\">\n",
       "      <th></th>\n",
       "      <th>card_number</th>\n",
       "      <th>card_provider</th>\n",
       "      <th>expected_num_dig</th>\n",
       "    </tr>\n",
       "  </thead>\n",
       "  <tbody>\n",
       "    <tr>\n",
       "      <th>0</th>\n",
       "      <td>30060773296197</td>\n",
       "      <td>Diners Club / Carte Blanche</td>\n",
       "      <td>14</td>\n",
       "    </tr>\n",
       "    <tr>\n",
       "      <th>1</th>\n",
       "      <td>349624180933183</td>\n",
       "      <td>American Express</td>\n",
       "      <td>15</td>\n",
       "    </tr>\n",
       "    <tr>\n",
       "      <th>2</th>\n",
       "      <td>3529023891650490</td>\n",
       "      <td>JCB 16 digit</td>\n",
       "      <td>16</td>\n",
       "    </tr>\n",
       "    <tr>\n",
       "      <th>3</th>\n",
       "      <td>213142929492281</td>\n",
       "      <td>JCB 15 digit</td>\n",
       "      <td>15</td>\n",
       "    </tr>\n",
       "    <tr>\n",
       "      <th>4</th>\n",
       "      <td>502067329974</td>\n",
       "      <td>Maestro</td>\n",
       "      <td>[12, 13, 14, 15, 16, 17, 18, 19]</td>\n",
       "    </tr>\n",
       "    <tr>\n",
       "      <th>...</th>\n",
       "      <td>...</td>\n",
       "      <td>...</td>\n",
       "      <td>...</td>\n",
       "    </tr>\n",
       "    <tr>\n",
       "      <th>15304</th>\n",
       "      <td>180036921556789</td>\n",
       "      <td>JCB 15 digit</td>\n",
       "      <td>15</td>\n",
       "    </tr>\n",
       "    <tr>\n",
       "      <th>15305</th>\n",
       "      <td>180018030448512</td>\n",
       "      <td>JCB 15 digit</td>\n",
       "      <td>15</td>\n",
       "    </tr>\n",
       "    <tr>\n",
       "      <th>15306</th>\n",
       "      <td>3569953313547220</td>\n",
       "      <td>JCB 16 digit</td>\n",
       "      <td>16</td>\n",
       "    </tr>\n",
       "    <tr>\n",
       "      <th>15307</th>\n",
       "      <td>4444521712606810</td>\n",
       "      <td>VISA 16 digit</td>\n",
       "      <td>16</td>\n",
       "    </tr>\n",
       "    <tr>\n",
       "      <th>15308</th>\n",
       "      <td>372031786522735</td>\n",
       "      <td>American Express</td>\n",
       "      <td>15</td>\n",
       "    </tr>\n",
       "  </tbody>\n",
       "</table>\n",
       "<p>15284 rows × 3 columns</p>\n",
       "</div>"
      ],
      "text/plain": [
       "            card_number                card_provider  \\\n",
       "0        30060773296197  Diners Club / Carte Blanche   \n",
       "1       349624180933183             American Express   \n",
       "2      3529023891650490                 JCB 16 digit   \n",
       "3       213142929492281                 JCB 15 digit   \n",
       "4          502067329974                      Maestro   \n",
       "...                 ...                          ...   \n",
       "15304   180036921556789                 JCB 15 digit   \n",
       "15305   180018030448512                 JCB 15 digit   \n",
       "15306  3569953313547220                 JCB 16 digit   \n",
       "15307  4444521712606810                VISA 16 digit   \n",
       "15308   372031786522735             American Express   \n",
       "\n",
       "                       expected_num_dig  \n",
       "0                                    14  \n",
       "1                                    15  \n",
       "2                                    16  \n",
       "3                                    15  \n",
       "4      [12, 13, 14, 15, 16, 17, 18, 19]  \n",
       "...                                 ...  \n",
       "15304                                15  \n",
       "15305                                15  \n",
       "15306                                16  \n",
       "15307                                16  \n",
       "15308                                15  \n",
       "\n",
       "[15284 rows x 3 columns]"
      ]
     },
     "execution_count": 64,
     "metadata": {},
     "output_type": "execute_result"
    }
   ],
   "source": [
    "pdf3[['card_number','card_provider','expected_num_dig']]"
   ]
  },
  {
   "cell_type": "code",
   "execution_count": 65,
   "metadata": {},
   "outputs": [
    {
     "name": "stderr",
     "output_type": "stream",
     "text": [
      "C:\\Users\\Janoh\\AppData\\Local\\Temp\\ipykernel_3656\\284436329.py:1: SettingWithCopyWarning: \n",
      "A value is trying to be set on a copy of a slice from a DataFrame.\n",
      "Try using .loc[row_indexer,col_indexer] = value instead\n",
      "\n",
      "See the caveats in the documentation: https://pandas.pydata.org/pandas-docs/stable/user_guide/indexing.html#returning-a-view-versus-a-copy\n",
      "  pdf3.loc[:,'comparison'] = pdf3.apply(lambda row: len(str(row['card_number'])) == row['expected_num_dig'] if isinstance(row['expected_num_dig'], int) else len(str(row['card_number'])) in row['expected_num_dig'], axis=1)\n"
     ]
    }
   ],
   "source": [
    "pdf3.loc[:,'comparison'] = pdf3.apply(lambda row: len(str(row['card_number'])) == row['expected_num_dig'] if isinstance(row['expected_num_dig'], int) else len(str(row['card_number'])) in row['expected_num_dig'], axis=1)"
   ]
  },
  {
   "cell_type": "code",
   "execution_count": 66,
   "metadata": {},
   "outputs": [
    {
     "data": {
      "text/plain": [
       "comparison\n",
       "True     15159\n",
       "False      125\n",
       "Name: count, dtype: int64"
      ]
     },
     "execution_count": 66,
     "metadata": {},
     "output_type": "execute_result"
    }
   ],
   "source": [
    "pdf3['comparison'].value_counts()"
   ]
  },
  {
   "cell_type": "code",
   "execution_count": null,
   "metadata": {},
   "outputs": [],
   "source": [
    "import pandas as pd\n",
    "review = pdf3[pdf3['comparison'] == False].head(100)\n",
    "review.to_csv('review.csv')"
   ]
  },
  {
   "cell_type": "code",
   "execution_count": null,
   "metadata": {},
   "outputs": [
    {
     "name": "stdout",
     "output_type": "stream",
     "text": [
      "        card_number expiry_date card_provider date_payment_confirmed  \\\n",
      "4      502067329974       10/25       Maestro             1997-03-13   \n",
      "9      502049986008       07/23       Maestro             2011-04-30   \n",
      "35      60485138139       08/27       Maestro             2022-11-18   \n",
      "42      60457486839       07/27       Maestro             2006-12-31   \n",
      "49     676119752563       02/25       Maestro             1995-07-22   \n",
      "...             ...         ...           ...                    ...   \n",
      "15240  639064083889       04/32       Maestro             2013-10-03   \n",
      "15285  675968836147       10/24       Maestro             2009-02-26   \n",
      "15289  502072745834       11/26       Maestro             2003-08-25   \n",
      "15290  676167152013       11/28       Maestro             2015-05-22   \n",
      "15291  675910915411       05/28       Maestro             2002-08-29   \n",
      "\n",
      "                       expected_num_dig  comparison  \n",
      "4      [12, 13, 14, 15, 16, 17, 18, 19]        True  \n",
      "9      [12, 13, 14, 15, 16, 17, 18, 19]        True  \n",
      "35     [12, 13, 14, 15, 16, 17, 18, 19]       False  \n",
      "42     [12, 13, 14, 15, 16, 17, 18, 19]       False  \n",
      "49     [12, 13, 14, 15, 16, 17, 18, 19]        True  \n",
      "...                                 ...         ...  \n",
      "15240  [12, 13, 14, 15, 16, 17, 18, 19]        True  \n",
      "15285  [12, 13, 14, 15, 16, 17, 18, 19]        True  \n",
      "15289  [12, 13, 14, 15, 16, 17, 18, 19]        True  \n",
      "15290  [12, 13, 14, 15, 16, 17, 18, 19]        True  \n",
      "15291  [12, 13, 14, 15, 16, 17, 18, 19]        True  \n",
      "\n",
      "[1281 rows x 6 columns]\n"
     ]
    }
   ],
   "source": [
    "review = pdf3[pdf3['card_provider'] == 'Maestro']\n",
    "print(review)"
   ]
  },
  {
   "cell_type": "code",
   "execution_count": 67,
   "metadata": {},
   "outputs": [
    {
     "name": "stderr",
     "output_type": "stream",
     "text": [
      "C:\\Users\\Janoh\\AppData\\Local\\Temp\\ipykernel_3656\\3786287763.py:1: SettingWithCopyWarning: \n",
      "A value is trying to be set on a copy of a slice from a DataFrame.\n",
      "Try using .loc[row_indexer,col_indexer] = value instead\n",
      "\n",
      "See the caveats in the documentation: https://pandas.pydata.org/pandas-docs/stable/user_guide/indexing.html#returning-a-view-versus-a-copy\n",
      "  pdf3['card_number'] = pdf3['card_number'].astype(str)\n"
     ]
    }
   ],
   "source": [
    "pdf3['card_number'] = pdf3['card_number'].astype(str)"
   ]
  },
  {
   "cell_type": "code",
   "execution_count": 68,
   "metadata": {},
   "outputs": [
    {
     "data": {
      "text/html": [
       "<div>\n",
       "<style scoped>\n",
       "    .dataframe tbody tr th:only-of-type {\n",
       "        vertical-align: middle;\n",
       "    }\n",
       "\n",
       "    .dataframe tbody tr th {\n",
       "        vertical-align: top;\n",
       "    }\n",
       "\n",
       "    .dataframe thead th {\n",
       "        text-align: right;\n",
       "    }\n",
       "</style>\n",
       "<table border=\"1\" class=\"dataframe\">\n",
       "  <thead>\n",
       "    <tr style=\"text-align: right;\">\n",
       "      <th></th>\n",
       "      <th>card_number</th>\n",
       "      <th>expiry_date</th>\n",
       "      <th>card_provider</th>\n",
       "      <th>date_payment_confirmed</th>\n",
       "      <th>expected_num_dig</th>\n",
       "      <th>comparison</th>\n",
       "    </tr>\n",
       "  </thead>\n",
       "  <tbody>\n",
       "    <tr>\n",
       "      <th>149</th>\n",
       "      <td>?4971858637664481</td>\n",
       "      <td>04/24</td>\n",
       "      <td>VISA 16 digit</td>\n",
       "      <td>2016-11-17</td>\n",
       "      <td>16</td>\n",
       "      <td>False</td>\n",
       "    </tr>\n",
       "    <tr>\n",
       "      <th>157</th>\n",
       "      <td>???3554954842403828</td>\n",
       "      <td>06/29</td>\n",
       "      <td>JCB 16 digit</td>\n",
       "      <td>1998-01-04</td>\n",
       "      <td>16</td>\n",
       "      <td>False</td>\n",
       "    </tr>\n",
       "    <tr>\n",
       "      <th>1777</th>\n",
       "      <td>??4654492346226715</td>\n",
       "      <td>03/23</td>\n",
       "      <td>VISA 16 digit</td>\n",
       "      <td>1996-08-09</td>\n",
       "      <td>16</td>\n",
       "      <td>False</td>\n",
       "    </tr>\n",
       "    <tr>\n",
       "      <th>3143</th>\n",
       "      <td>?3544855866042397</td>\n",
       "      <td>10/28</td>\n",
       "      <td>JCB 16 digit</td>\n",
       "      <td>2020-08-25</td>\n",
       "      <td>16</td>\n",
       "      <td>False</td>\n",
       "    </tr>\n",
       "    <tr>\n",
       "      <th>4299</th>\n",
       "      <td>??2720312980409662</td>\n",
       "      <td>11/28</td>\n",
       "      <td>Mastercard</td>\n",
       "      <td>1998-04-16</td>\n",
       "      <td>16</td>\n",
       "      <td>False</td>\n",
       "    </tr>\n",
       "    <tr>\n",
       "      <th>5289</th>\n",
       "      <td>??4982246481860</td>\n",
       "      <td>01/29</td>\n",
       "      <td>VISA 13 digit</td>\n",
       "      <td>2019-11-30</td>\n",
       "      <td>13</td>\n",
       "      <td>False</td>\n",
       "    </tr>\n",
       "    <tr>\n",
       "      <th>5518</th>\n",
       "      <td>?213174667750869</td>\n",
       "      <td>09/26</td>\n",
       "      <td>JCB 15 digit</td>\n",
       "      <td>2000-07-08</td>\n",
       "      <td>15</td>\n",
       "      <td>False</td>\n",
       "    </tr>\n",
       "    <tr>\n",
       "      <th>5843</th>\n",
       "      <td>????3505784569448924</td>\n",
       "      <td>02/28</td>\n",
       "      <td>JCB 16 digit</td>\n",
       "      <td>2012-10-12</td>\n",
       "      <td>16</td>\n",
       "      <td>False</td>\n",
       "    </tr>\n",
       "    <tr>\n",
       "      <th>6126</th>\n",
       "      <td>????3556268655280464</td>\n",
       "      <td>11/29</td>\n",
       "      <td>JCB 16 digit</td>\n",
       "      <td>1997-01-03</td>\n",
       "      <td>16</td>\n",
       "      <td>False</td>\n",
       "    </tr>\n",
       "    <tr>\n",
       "      <th>6382</th>\n",
       "      <td>???2604762576985106</td>\n",
       "      <td>10/29</td>\n",
       "      <td>Mastercard</td>\n",
       "      <td>2015-11-03</td>\n",
       "      <td>16</td>\n",
       "      <td>False</td>\n",
       "    </tr>\n",
       "    <tr>\n",
       "      <th>6712</th>\n",
       "      <td>???5451311230288361</td>\n",
       "      <td>06/24</td>\n",
       "      <td>Mastercard</td>\n",
       "      <td>2005-02-09</td>\n",
       "      <td>16</td>\n",
       "      <td>False</td>\n",
       "    </tr>\n",
       "    <tr>\n",
       "      <th>7880</th>\n",
       "      <td>???4252720361802860591</td>\n",
       "      <td>05/27</td>\n",
       "      <td>VISA 19 digit</td>\n",
       "      <td>2014-01-19</td>\n",
       "      <td>19</td>\n",
       "      <td>False</td>\n",
       "    </tr>\n",
       "    <tr>\n",
       "      <th>7913</th>\n",
       "      <td>?4217347542710</td>\n",
       "      <td>06/25</td>\n",
       "      <td>VISA 13 digit</td>\n",
       "      <td>2016-08-27</td>\n",
       "      <td>13</td>\n",
       "      <td>False</td>\n",
       "    </tr>\n",
       "    <tr>\n",
       "      <th>8167</th>\n",
       "      <td>?584541931351</td>\n",
       "      <td>09/31</td>\n",
       "      <td>Maestro</td>\n",
       "      <td>2014-02-22</td>\n",
       "      <td>[12, 13, 14, 15, 16, 17, 18, 19]</td>\n",
       "      <td>True</td>\n",
       "    </tr>\n",
       "    <tr>\n",
       "      <th>8268</th>\n",
       "      <td>???4672685148732305</td>\n",
       "      <td>04/24</td>\n",
       "      <td>VISA 16 digit</td>\n",
       "      <td>2014-07-18</td>\n",
       "      <td>16</td>\n",
       "      <td>False</td>\n",
       "    </tr>\n",
       "    <tr>\n",
       "      <th>8480</th>\n",
       "      <td>??3535182016456604</td>\n",
       "      <td>04/26</td>\n",
       "      <td>JCB 16 digit</td>\n",
       "      <td>2005-02-25</td>\n",
       "      <td>16</td>\n",
       "      <td>False</td>\n",
       "    </tr>\n",
       "    <tr>\n",
       "      <th>8487</th>\n",
       "      <td>?4222069242355461965</td>\n",
       "      <td>12/23</td>\n",
       "      <td>VISA 19 digit</td>\n",
       "      <td>1999-01-25</td>\n",
       "      <td>19</td>\n",
       "      <td>False</td>\n",
       "    </tr>\n",
       "    <tr>\n",
       "      <th>10106</th>\n",
       "      <td>????3512756643215215</td>\n",
       "      <td>09/30</td>\n",
       "      <td>JCB 16 digit</td>\n",
       "      <td>2008-07-26</td>\n",
       "      <td>16</td>\n",
       "      <td>False</td>\n",
       "    </tr>\n",
       "    <tr>\n",
       "      <th>11111</th>\n",
       "      <td>?2314734659486501</td>\n",
       "      <td>06/25</td>\n",
       "      <td>Mastercard</td>\n",
       "      <td>2003-08-05</td>\n",
       "      <td>16</td>\n",
       "      <td>False</td>\n",
       "    </tr>\n",
       "    <tr>\n",
       "      <th>11190</th>\n",
       "      <td>????341935091733787</td>\n",
       "      <td>01/23</td>\n",
       "      <td>American Express</td>\n",
       "      <td>2001-01-28</td>\n",
       "      <td>15</td>\n",
       "      <td>False</td>\n",
       "    </tr>\n",
       "    <tr>\n",
       "      <th>11402</th>\n",
       "      <td>????3543745641013832</td>\n",
       "      <td>01/24</td>\n",
       "      <td>JCB 16 digit</td>\n",
       "      <td>2004-06-21</td>\n",
       "      <td>16</td>\n",
       "      <td>False</td>\n",
       "    </tr>\n",
       "    <tr>\n",
       "      <th>11688</th>\n",
       "      <td>??575421945446</td>\n",
       "      <td>08/31</td>\n",
       "      <td>Maestro</td>\n",
       "      <td>1998-12-20</td>\n",
       "      <td>[12, 13, 14, 15, 16, 17, 18, 19]</td>\n",
       "      <td>True</td>\n",
       "    </tr>\n",
       "    <tr>\n",
       "      <th>11937</th>\n",
       "      <td>??630466795154</td>\n",
       "      <td>12/27</td>\n",
       "      <td>Maestro</td>\n",
       "      <td>2013-07-17</td>\n",
       "      <td>[12, 13, 14, 15, 16, 17, 18, 19]</td>\n",
       "      <td>True</td>\n",
       "    </tr>\n",
       "    <tr>\n",
       "      <th>12830</th>\n",
       "      <td>????38922600092697</td>\n",
       "      <td>03/27</td>\n",
       "      <td>Diners Club / Carte Blanche</td>\n",
       "      <td>1996-07-02</td>\n",
       "      <td>14</td>\n",
       "      <td>False</td>\n",
       "    </tr>\n",
       "    <tr>\n",
       "      <th>14039</th>\n",
       "      <td>????344132437598598</td>\n",
       "      <td>01/24</td>\n",
       "      <td>American Express</td>\n",
       "      <td>1996-07-16</td>\n",
       "      <td>15</td>\n",
       "      <td>False</td>\n",
       "    </tr>\n",
       "    <tr>\n",
       "      <th>14346</th>\n",
       "      <td>???4814644393449676</td>\n",
       "      <td>08/28</td>\n",
       "      <td>VISA 16 digit</td>\n",
       "      <td>1996-08-02</td>\n",
       "      <td>16</td>\n",
       "      <td>False</td>\n",
       "    </tr>\n",
       "  </tbody>\n",
       "</table>\n",
       "</div>"
      ],
      "text/plain": [
       "                  card_number expiry_date                card_provider  \\\n",
       "149         ?4971858637664481       04/24                VISA 16 digit   \n",
       "157       ???3554954842403828       06/29                 JCB 16 digit   \n",
       "1777       ??4654492346226715       03/23                VISA 16 digit   \n",
       "3143        ?3544855866042397       10/28                 JCB 16 digit   \n",
       "4299       ??2720312980409662       11/28                   Mastercard   \n",
       "5289          ??4982246481860       01/29                VISA 13 digit   \n",
       "5518         ?213174667750869       09/26                 JCB 15 digit   \n",
       "5843     ????3505784569448924       02/28                 JCB 16 digit   \n",
       "6126     ????3556268655280464       11/29                 JCB 16 digit   \n",
       "6382      ???2604762576985106       10/29                   Mastercard   \n",
       "6712      ???5451311230288361       06/24                   Mastercard   \n",
       "7880   ???4252720361802860591       05/27                VISA 19 digit   \n",
       "7913           ?4217347542710       06/25                VISA 13 digit   \n",
       "8167            ?584541931351       09/31                      Maestro   \n",
       "8268      ???4672685148732305       04/24                VISA 16 digit   \n",
       "8480       ??3535182016456604       04/26                 JCB 16 digit   \n",
       "8487     ?4222069242355461965       12/23                VISA 19 digit   \n",
       "10106    ????3512756643215215       09/30                 JCB 16 digit   \n",
       "11111       ?2314734659486501       06/25                   Mastercard   \n",
       "11190     ????341935091733787       01/23             American Express   \n",
       "11402    ????3543745641013832       01/24                 JCB 16 digit   \n",
       "11688          ??575421945446       08/31                      Maestro   \n",
       "11937          ??630466795154       12/27                      Maestro   \n",
       "12830      ????38922600092697       03/27  Diners Club / Carte Blanche   \n",
       "14039     ????344132437598598       01/24             American Express   \n",
       "14346     ???4814644393449676       08/28                VISA 16 digit   \n",
       "\n",
       "      date_payment_confirmed                  expected_num_dig  comparison  \n",
       "149               2016-11-17                                16       False  \n",
       "157               1998-01-04                                16       False  \n",
       "1777              1996-08-09                                16       False  \n",
       "3143              2020-08-25                                16       False  \n",
       "4299              1998-04-16                                16       False  \n",
       "5289              2019-11-30                                13       False  \n",
       "5518              2000-07-08                                15       False  \n",
       "5843              2012-10-12                                16       False  \n",
       "6126              1997-01-03                                16       False  \n",
       "6382              2015-11-03                                16       False  \n",
       "6712              2005-02-09                                16       False  \n",
       "7880              2014-01-19                                19       False  \n",
       "7913              2016-08-27                                13       False  \n",
       "8167              2014-02-22  [12, 13, 14, 15, 16, 17, 18, 19]        True  \n",
       "8268              2014-07-18                                16       False  \n",
       "8480              2005-02-25                                16       False  \n",
       "8487              1999-01-25                                19       False  \n",
       "10106             2008-07-26                                16       False  \n",
       "11111             2003-08-05                                16       False  \n",
       "11190             2001-01-28                                15       False  \n",
       "11402             2004-06-21                                16       False  \n",
       "11688             1998-12-20  [12, 13, 14, 15, 16, 17, 18, 19]        True  \n",
       "11937             2013-07-17  [12, 13, 14, 15, 16, 17, 18, 19]        True  \n",
       "12830             1996-07-02                                14       False  \n",
       "14039             1996-07-16                                15       False  \n",
       "14346             1996-08-02                                16       False  "
      ]
     },
     "execution_count": 68,
     "metadata": {},
     "output_type": "execute_result"
    }
   ],
   "source": [
    "pdf3[pdf3['card_number'].str.contains(r'\\D')]\n"
   ]
  },
  {
   "cell_type": "code",
   "execution_count": null,
   "metadata": {},
   "outputs": [],
   "source": [
    "pdf3.loc[pdf3['card_number'].str.contains(r'\\D'), 'card_number'] = None"
   ]
  },
  {
   "cell_type": "code",
   "execution_count": null,
   "metadata": {},
   "outputs": [],
   "source": []
  },
  {
   "cell_type": "code",
   "execution_count": null,
   "metadata": {},
   "outputs": [
    {
     "name": "stdout",
     "output_type": "stream",
     "text": [
      "<class 'pandas.core.frame.DataFrame'>\n",
      "Index: 26 entries, 149 to 14346\n",
      "Data columns (total 6 columns):\n",
      " #   Column                  Non-Null Count  Dtype \n",
      "---  ------                  --------------  ----- \n",
      " 0   card_number             26 non-null     object\n",
      " 1   expiry_date             26 non-null     object\n",
      " 2   card_provider           26 non-null     object\n",
      " 3   date_payment_confirmed  26 non-null     object\n",
      " 4   expected_num_dig        26 non-null     object\n",
      " 5   comparison              26 non-null     bool  \n",
      "dtypes: bool(1), object(5)\n",
      "memory usage: 1.2+ KB\n",
      "None\n"
     ]
    }
   ],
   "source": [
    "print(subset_df.info())"
   ]
  },
  {
   "cell_type": "code",
   "execution_count": null,
   "metadata": {},
   "outputs": [
    {
     "name": "stdout",
     "output_type": "stream",
     "text": [
      "<class 'pandas.core.frame.DataFrame'>\n",
      "Index: 15284 entries, 0 to 15308\n",
      "Data columns (total 6 columns):\n",
      " #   Column                  Non-Null Count  Dtype \n",
      "---  ------                  --------------  ----- \n",
      " 0   card_number             15284 non-null  object\n",
      " 1   expiry_date             15284 non-null  object\n",
      " 2   card_provider           15284 non-null  object\n",
      " 3   date_payment_confirmed  15284 non-null  object\n",
      " 4   expected_num_dig        15284 non-null  object\n",
      " 5   comparison              15284 non-null  bool  \n",
      "dtypes: bool(1), object(5)\n",
      "memory usage: 731.4+ KB\n"
     ]
    }
   ],
   "source": [
    "pdf3.info()"
   ]
  },
  {
   "cell_type": "code",
   "execution_count": null,
   "metadata": {},
   "outputs": [],
   "source": [
    "subset_df1 = pdf3[pdf3['card_number'].str.contains(r'\\n')]"
   ]
  },
  {
   "cell_type": "code",
   "execution_count": null,
   "metadata": {},
   "outputs": [
    {
     "name": "stdout",
     "output_type": "stream",
     "text": [
      "Empty DataFrame\n",
      "Columns: [card_number, expiry_date, card_provider, date_payment_confirmed, expected_num_dig, comparison]\n",
      "Index: []\n"
     ]
    }
   ],
   "source": [
    "print(subset_df1)"
   ]
  },
  {
   "cell_type": "code",
   "execution_count": null,
   "metadata": {},
   "outputs": [
    {
     "data": {
      "text/plain": [
       "0"
      ]
     },
     "execution_count": 167,
     "metadata": {},
     "output_type": "execute_result"
    }
   ],
   "source": [
    "pdf3['card_number'].isnull().sum()"
   ]
  },
  {
   "cell_type": "code",
   "execution_count": null,
   "metadata": {},
   "outputs": [
    {
     "ename": "ValueError",
     "evalue": "Cannot mask with non-boolean array containing NA / NaN values",
     "output_type": "error",
     "traceback": [
      "\u001b[1;31m---------------------------------------------------------------------------\u001b[0m",
      "\u001b[1;31mValueError\u001b[0m                                Traceback (most recent call last)",
      "\u001b[1;32md:\\vs_ipynb\\learning-material\\multinational-retail\\data_exploration.ipynb Cell 54\u001b[0m line \u001b[0;36m1\n\u001b[1;32m----> <a href='vscode-notebook-cell:/d%3A/vs_ipynb/learning-material/multinational-retail/data_exploration.ipynb#Y103sZmlsZQ%3D%3D?line=0'>1</a>\u001b[0m zeroone \u001b[39m=\u001b[39m us[us[\u001b[39m'\u001b[39;49m\u001b[39mphone_number\u001b[39;49m\u001b[39m'\u001b[39;49m]\u001b[39m.\u001b[39;49mstr\u001b[39m.\u001b[39;49mcontains(\u001b[39mr\u001b[39;49m\u001b[39m'\u001b[39;49m\u001b[39m001-\u001b[39;49m\u001b[39m'\u001b[39;49m,regex\u001b[39m=\u001b[39;49m\u001b[39mTrue\u001b[39;49;00m)]\n\u001b[0;32m      <a href='vscode-notebook-cell:/d%3A/vs_ipynb/learning-material/multinational-retail/data_exploration.ipynb#Y103sZmlsZQ%3D%3D?line=1'>2</a>\u001b[0m \u001b[39mprint\u001b[39m(zeroone )\n",
      "File \u001b[1;32md:\\vs_ipynb\\.conda\\Lib\\site-packages\\pandas\\core\\frame.py:3886\u001b[0m, in \u001b[0;36mDataFrame.__getitem__\u001b[1;34m(self, key)\u001b[0m\n\u001b[0;32m   3883\u001b[0m     \u001b[39mreturn\u001b[39;00m \u001b[39mself\u001b[39m\u001b[39m.\u001b[39mwhere(key)\n\u001b[0;32m   3885\u001b[0m \u001b[39m# Do we have a (boolean) 1d indexer?\u001b[39;00m\n\u001b[1;32m-> 3886\u001b[0m \u001b[39mif\u001b[39;00m com\u001b[39m.\u001b[39;49mis_bool_indexer(key):\n\u001b[0;32m   3887\u001b[0m     \u001b[39mreturn\u001b[39;00m \u001b[39mself\u001b[39m\u001b[39m.\u001b[39m_getitem_bool_array(key)\n\u001b[0;32m   3889\u001b[0m \u001b[39m# We are left with two options: a single key, and a collection of keys,\u001b[39;00m\n\u001b[0;32m   3890\u001b[0m \u001b[39m# We interpret tuples as collections only for non-MultiIndex\u001b[39;00m\n",
      "File \u001b[1;32md:\\vs_ipynb\\.conda\\Lib\\site-packages\\pandas\\core\\common.py:133\u001b[0m, in \u001b[0;36mis_bool_indexer\u001b[1;34m(key)\u001b[0m\n\u001b[0;32m    129\u001b[0m     na_msg \u001b[39m=\u001b[39m \u001b[39m\"\u001b[39m\u001b[39mCannot mask with non-boolean array containing NA / NaN values\u001b[39m\u001b[39m\"\u001b[39m\n\u001b[0;32m    130\u001b[0m     \u001b[39mif\u001b[39;00m lib\u001b[39m.\u001b[39mis_bool_array(key_array, skipna\u001b[39m=\u001b[39m\u001b[39mTrue\u001b[39;00m):\n\u001b[0;32m    131\u001b[0m         \u001b[39m# Don't raise on e.g. [\"A\", \"B\", np.nan], see\u001b[39;00m\n\u001b[0;32m    132\u001b[0m         \u001b[39m#  test_loc_getitem_list_of_labels_categoricalindex_with_na\u001b[39;00m\n\u001b[1;32m--> 133\u001b[0m         \u001b[39mraise\u001b[39;00m \u001b[39mValueError\u001b[39;00m(na_msg)\n\u001b[0;32m    134\u001b[0m     \u001b[39mreturn\u001b[39;00m \u001b[39mFalse\u001b[39;00m\n\u001b[0;32m    135\u001b[0m \u001b[39mreturn\u001b[39;00m \u001b[39mTrue\u001b[39;00m\n",
      "\u001b[1;31mValueError\u001b[0m: Cannot mask with non-boolean array containing NA / NaN values"
     ]
    }
   ],
   "source": [
    "zeroone = us[us['phone_number'].str.contains(r'001-',regex=True)]\n",
    "print(zeroone )"
   ]
  },
  {
   "cell_type": "code",
   "execution_count": null,
   "metadata": {},
   "outputs": [
    {
     "name": "stderr",
     "output_type": "stream",
     "text": [
      "C:\\Users\\Janoh\\AppData\\Local\\Temp\\ipykernel_12764\\3975869603.py:1: SettingWithCopyWarning: \n",
      "A value is trying to be set on a copy of a slice from a DataFrame.\n",
      "Try using .loc[row_indexer,col_indexer] = value instead\n",
      "\n",
      "See the caveats in the documentation: https://pandas.pydata.org/pandas-docs/stable/user_guide/indexing.html#returning-a-view-versus-a-copy\n",
      "  us['phone_number'] = us['phone_number'].str.extract(r'(\\d{3})[. -]?(\\d{3})[. -]?(\\d{4})', expand=False).apply(lambda x: ' '.join(filter(lambda y: isinstance(y, str), x)), axis=1)\n"
     ]
    }
   ],
   "source": [
    "us['phone_number'] = us['phone_number'].str.extract(r'(\\d{3})[. -]?(\\d{3})[. -]?(\\d{4})', expand=False).apply(lambda x: ' '.join(filter(lambda y: isinstance(y, str), x)), axis=1)"
   ]
  },
  {
   "cell_type": "code",
   "execution_count": null,
   "metadata": {},
   "outputs": [
    {
     "name": "stdout",
     "output_type": "stream",
     "text": [
      "RangeIndex(start=0, stop=247, step=1)\n",
      "247\n"
     ]
    }
   ],
   "source": [
    "us_no_number = us[us['phone_number'].str.len()<10]\n",
    "us_no_number.reset_index(drop = True, inplace = True)\n",
    "print(us_no_number.index)\n",
    "print(len(us_no_number))"
   ]
  },
  {
   "cell_type": "code",
   "execution_count": null,
   "metadata": {},
   "outputs": [
    {
     "data": {
      "text/html": [
       "<div>\n",
       "<style scoped>\n",
       "    .dataframe tbody tr th:only-of-type {\n",
       "        vertical-align: middle;\n",
       "    }\n",
       "\n",
       "    .dataframe tbody tr th {\n",
       "        vertical-align: top;\n",
       "    }\n",
       "\n",
       "    .dataframe thead th {\n",
       "        text-align: right;\n",
       "    }\n",
       "</style>\n",
       "<table border=\"1\" class=\"dataframe\">\n",
       "  <thead>\n",
       "    <tr style=\"text-align: right;\">\n",
       "      <th></th>\n",
       "      <th>first_name</th>\n",
       "      <th>last_name</th>\n",
       "      <th>date_of_birth</th>\n",
       "      <th>company</th>\n",
       "      <th>email_address</th>\n",
       "      <th>address</th>\n",
       "      <th>country</th>\n",
       "      <th>country_code</th>\n",
       "      <th>phone_number</th>\n",
       "      <th>join_date</th>\n",
       "      <th>user_uuid</th>\n",
       "    </tr>\n",
       "  </thead>\n",
       "  <tbody>\n",
       "    <tr>\n",
       "      <th>5</th>\n",
       "      <td>David</td>\n",
       "      <td>Torres</td>\n",
       "      <td>1949-08-12</td>\n",
       "      <td>Yang-Stewart</td>\n",
       "      <td>mwilliams@nichols.org</td>\n",
       "      <td>49226 Edwards Mountains\\nNorth Sarah, DE 69608</td>\n",
       "      <td>United States</td>\n",
       "      <td>US</td>\n",
       "      <td>277 664 6389</td>\n",
       "      <td>2002-01-21</td>\n",
       "      <td>53d21f46-1fa4-452f-a023-26aee2aae4d6</td>\n",
       "    </tr>\n",
       "    <tr>\n",
       "      <th>9</th>\n",
       "      <td>Emily</td>\n",
       "      <td>Jones</td>\n",
       "      <td>1992-10-09</td>\n",
       "      <td>Serrano-Leblanc</td>\n",
       "      <td>toni24@carlson.com</td>\n",
       "      <td>012 Andrea Circle Suite 129\\nJosephmouth, AS 2...</td>\n",
       "      <td>United States</td>\n",
       "      <td>US</td>\n",
       "      <td>655 421 5915</td>\n",
       "      <td>1998-05-15</td>\n",
       "      <td>caffe463-4918-4f45-a37d-856dc0f15884</td>\n",
       "    </tr>\n",
       "    <tr>\n",
       "      <th>16</th>\n",
       "      <td>Sierra</td>\n",
       "      <td>Spencer</td>\n",
       "      <td>1988-11-02</td>\n",
       "      <td>Watson, Davis and Cooper</td>\n",
       "      <td>justin43@arnold.info</td>\n",
       "      <td>05559 Vincent Parkway\\nSarahstad, ND 91029</td>\n",
       "      <td>United States</td>\n",
       "      <td>US</td>\n",
       "      <td>572 068 8397</td>\n",
       "      <td>2007-03-20</td>\n",
       "      <td>7c8dc654-3994-40b1-a4a2-e55dc7081fe0</td>\n",
       "    </tr>\n",
       "    <tr>\n",
       "      <th>27</th>\n",
       "      <td>Bryan</td>\n",
       "      <td>Nielsen</td>\n",
       "      <td>1979-07-29</td>\n",
       "      <td>Drake-Clark</td>\n",
       "      <td>julie41@jennings.com</td>\n",
       "      <td>0146 Mathis Extension\\nWest Marymouth, WY 18605</td>\n",
       "      <td>United States</td>\n",
       "      <td>US</td>\n",
       "      <td></td>\n",
       "      <td>2001-09-23</td>\n",
       "      <td>e4aae45c-d605-4457-860d-8a460a0a1d69</td>\n",
       "    </tr>\n",
       "    <tr>\n",
       "      <th>35</th>\n",
       "      <td>Melissa</td>\n",
       "      <td>Garcia</td>\n",
       "      <td>1946-06-30</td>\n",
       "      <td>Nelson, Williams and Martinez</td>\n",
       "      <td>alvarezstacy@green-stokes.com</td>\n",
       "      <td>9288 Patrick Inlet\\nJamesfort, CO 48309</td>\n",
       "      <td>United States</td>\n",
       "      <td>US</td>\n",
       "      <td>723 654 4681</td>\n",
       "      <td>2007-01-05</td>\n",
       "      <td>ee0c5f80-2a18-42df-ad88-e898de71dd50</td>\n",
       "    </tr>\n",
       "    <tr>\n",
       "      <th>...</th>\n",
       "      <td>...</td>\n",
       "      <td>...</td>\n",
       "      <td>...</td>\n",
       "      <td>...</td>\n",
       "      <td>...</td>\n",
       "      <td>...</td>\n",
       "      <td>...</td>\n",
       "      <td>...</td>\n",
       "      <td>...</td>\n",
       "      <td>...</td>\n",
       "      <td>...</td>\n",
       "    </tr>\n",
       "    <tr>\n",
       "      <th>3021</th>\n",
       "      <td>Elizabeth</td>\n",
       "      <td>Patel</td>\n",
       "      <td>1953-01-01</td>\n",
       "      <td>King-Singleton</td>\n",
       "      <td>kmoss@cantrell-best.com</td>\n",
       "      <td>2465 Ebony View Apt. 181\\nCalebport, KY 89888</td>\n",
       "      <td>United States</td>\n",
       "      <td>US</td>\n",
       "      <td>195 454 9244</td>\n",
       "      <td>1994-03-02</td>\n",
       "      <td>7091d21d-a072-4850-b981-db2f1cab144e</td>\n",
       "    </tr>\n",
       "    <tr>\n",
       "      <th>3037</th>\n",
       "      <td>Pamela</td>\n",
       "      <td>Grant</td>\n",
       "      <td>1959-06-18</td>\n",
       "      <td>Butler and Sons</td>\n",
       "      <td>daniel55@tucker.net</td>\n",
       "      <td>4287 Edwards Court Apt. 128\\nNew Jennifer, VT ...</td>\n",
       "      <td>United States</td>\n",
       "      <td>US</td>\n",
       "      <td>397 646 1332</td>\n",
       "      <td>2008-09-27</td>\n",
       "      <td>5fe20772-3bc0-4e7b-b790-37c7bbe215f8</td>\n",
       "    </tr>\n",
       "    <tr>\n",
       "      <th>3048</th>\n",
       "      <td>Stephanie</td>\n",
       "      <td>Petty</td>\n",
       "      <td>1986-11-15</td>\n",
       "      <td>Butler-Beck</td>\n",
       "      <td>olsenjames@smith.com</td>\n",
       "      <td>8705 Gray Fort Suite 725\\nSherrytown, ID 62541</td>\n",
       "      <td>United States</td>\n",
       "      <td>US</td>\n",
       "      <td></td>\n",
       "      <td>1997-10-21</td>\n",
       "      <td>2f6aa562-cd35-4f2a-9e46-5dc2326f75b5</td>\n",
       "    </tr>\n",
       "    <tr>\n",
       "      <th>3060</th>\n",
       "      <td>Karen</td>\n",
       "      <td>Walters</td>\n",
       "      <td>1995-10-16</td>\n",
       "      <td>Gilmore, Carrillo and Martin</td>\n",
       "      <td>daniel33@ayala.com</td>\n",
       "      <td>0908 Roberts Spring Apt. 063\\nLake Nicholas, A...</td>\n",
       "      <td>United States</td>\n",
       "      <td>US</td>\n",
       "      <td>481 132 4184</td>\n",
       "      <td>2001-06-24</td>\n",
       "      <td>57e9b695-53b8-431e-a7fc-525117aa45ad</td>\n",
       "    </tr>\n",
       "    <tr>\n",
       "      <th>3062</th>\n",
       "      <td>Cynthia</td>\n",
       "      <td>Collier</td>\n",
       "      <td>1974-04-26</td>\n",
       "      <td>Graves Ltd</td>\n",
       "      <td>xwilkerson@robinson.info</td>\n",
       "      <td>368 Rodriguez Walk Suite 981\\nGlennland, PA 46393</td>\n",
       "      <td>United States</td>\n",
       "      <td>US</td>\n",
       "      <td>183 241 8949</td>\n",
       "      <td>1999-09-11</td>\n",
       "      <td>52002e9c-2bdb-4010-a327-77d3591d1297</td>\n",
       "    </tr>\n",
       "  </tbody>\n",
       "</table>\n",
       "<p>247 rows × 11 columns</p>\n",
       "</div>"
      ],
      "text/plain": [
       "     first_name last_name date_of_birth                        company  \\\n",
       "5         David    Torres    1949-08-12                   Yang-Stewart   \n",
       "9         Emily     Jones    1992-10-09                Serrano-Leblanc   \n",
       "16       Sierra   Spencer    1988-11-02       Watson, Davis and Cooper   \n",
       "27        Bryan   Nielsen    1979-07-29                    Drake-Clark   \n",
       "35      Melissa    Garcia    1946-06-30  Nelson, Williams and Martinez   \n",
       "...         ...       ...           ...                            ...   \n",
       "3021  Elizabeth     Patel    1953-01-01                 King-Singleton   \n",
       "3037     Pamela     Grant    1959-06-18                Butler and Sons   \n",
       "3048  Stephanie     Petty    1986-11-15                    Butler-Beck   \n",
       "3060      Karen   Walters    1995-10-16   Gilmore, Carrillo and Martin   \n",
       "3062    Cynthia   Collier    1974-04-26                     Graves Ltd   \n",
       "\n",
       "                      email_address  \\\n",
       "5             mwilliams@nichols.org   \n",
       "9                toni24@carlson.com   \n",
       "16             justin43@arnold.info   \n",
       "27             julie41@jennings.com   \n",
       "35    alvarezstacy@green-stokes.com   \n",
       "...                             ...   \n",
       "3021        kmoss@cantrell-best.com   \n",
       "3037            daniel55@tucker.net   \n",
       "3048           olsenjames@smith.com   \n",
       "3060             daniel33@ayala.com   \n",
       "3062       xwilkerson@robinson.info   \n",
       "\n",
       "                                                address        country  \\\n",
       "5        49226 Edwards Mountains\\nNorth Sarah, DE 69608  United States   \n",
       "9     012 Andrea Circle Suite 129\\nJosephmouth, AS 2...  United States   \n",
       "16           05559 Vincent Parkway\\nSarahstad, ND 91029  United States   \n",
       "27      0146 Mathis Extension\\nWest Marymouth, WY 18605  United States   \n",
       "35              9288 Patrick Inlet\\nJamesfort, CO 48309  United States   \n",
       "...                                                 ...            ...   \n",
       "3021      2465 Ebony View Apt. 181\\nCalebport, KY 89888  United States   \n",
       "3037  4287 Edwards Court Apt. 128\\nNew Jennifer, VT ...  United States   \n",
       "3048     8705 Gray Fort Suite 725\\nSherrytown, ID 62541  United States   \n",
       "3060  0908 Roberts Spring Apt. 063\\nLake Nicholas, A...  United States   \n",
       "3062  368 Rodriguez Walk Suite 981\\nGlennland, PA 46393  United States   \n",
       "\n",
       "     country_code  phone_number  join_date  \\\n",
       "5              US  277 664 6389 2002-01-21   \n",
       "9              US  655 421 5915 1998-05-15   \n",
       "16             US  572 068 8397 2007-03-20   \n",
       "27             US               2001-09-23   \n",
       "35             US  723 654 4681 2007-01-05   \n",
       "...           ...           ...        ...   \n",
       "3021           US  195 454 9244 1994-03-02   \n",
       "3037           US  397 646 1332 2008-09-27   \n",
       "3048           US               1997-10-21   \n",
       "3060           US  481 132 4184 2001-06-24   \n",
       "3062           US  183 241 8949 1999-09-11   \n",
       "\n",
       "                                 user_uuid  \n",
       "5     53d21f46-1fa4-452f-a023-26aee2aae4d6  \n",
       "9     caffe463-4918-4f45-a37d-856dc0f15884  \n",
       "16    7c8dc654-3994-40b1-a4a2-e55dc7081fe0  \n",
       "27    e4aae45c-d605-4457-860d-8a460a0a1d69  \n",
       "35    ee0c5f80-2a18-42df-ad88-e898de71dd50  \n",
       "...                                    ...  \n",
       "3021  7091d21d-a072-4850-b981-db2f1cab144e  \n",
       "3037  5fe20772-3bc0-4e7b-b790-37c7bbe215f8  \n",
       "3048  2f6aa562-cd35-4f2a-9e46-5dc2326f75b5  \n",
       "3060  57e9b695-53b8-431e-a7fc-525117aa45ad  \n",
       "3062  52002e9c-2bdb-4010-a327-77d3591d1297  \n",
       "\n",
       "[247 rows x 11 columns]"
      ]
     },
     "execution_count": 52,
     "metadata": {},
     "output_type": "execute_result"
    }
   ],
   "source": [
    "us.iloc[us_no_number.index]"
   ]
  },
  {
   "cell_type": "code",
   "execution_count": null,
   "metadata": {},
   "outputs": [],
   "source": [
    "name_mask = df[df['first_name'].str.len() >11]"
   ]
  },
  {
   "cell_type": "code",
   "execution_count": null,
   "metadata": {},
   "outputs": [
    {
     "name": "stdout",
     "output_type": "stream",
     "text": [
      "          first_name  last_name date_of_birth                   company  \\\n",
      "53     Frank-Michael     Weimer    1944-05-07       Lorch GmbH & Co. KG   \n",
      "239     Heinz Dieter     Häring    1999-07-15      Wilmsen Wohlgemut AG   \n",
      "320     Anne-Kathrin    Rosenow    1973-03-07       Löwer GmbH & Co. KG   \n",
      "344    Peter-Michael    Heintze    1960-03-01                   Hartung   \n",
      "366     Klaus-Dieter       Seip    1965-11-09  Mies Stiftung & Co. KGaA   \n",
      "...              ...        ...           ...                       ...   \n",
      "15048   Hans-Michael       Rose    1957-01-10            van der Dussen   \n",
      "15096   Horst-Günter    Zorbach    1980-03-01                   Jungfer   \n",
      "15161   Klaus-Dieter  Kostolzin    1970-03-05          Söding Bloch GbR   \n",
      "15187  Peter-Michael     Schaaf    2005-06-07        Wirth Jäntsch GmbH   \n",
      "15286   Konstantinos     Thanel    1954-08-05       Fritsch Ehlert GmbH   \n",
      "\n",
      "                          email_address  \\\n",
      "53                   apoelitz@doehn.com   \n",
      "239          berndeigenwillig@haase.com   \n",
      "320          wvan-der-dussen@hellwig.de   \n",
      "344                      tbeer@krebs.de   \n",
      "366              ronnyalbers@roemer.com   \n",
      "...                                 ...   \n",
      "15048                urban54@killer.com   \n",
      "15096       katerinaweller@gumprich.com   \n",
      "15161           aschwital@gehringer.com   \n",
      "15187  auch-schlauchinthekla@bluemel.de   \n",
      "15286            rpruschke@gotthard.com   \n",
      "\n",
      "                                       address  country country_code  \\\n",
      "53                Benthinweg 1/1\\n16663 Berlin  Germany           DE   \n",
      "239    Zeljko-Pärtzelt-Weg 330\\n20870 Cuxhaven  Germany           DE   \n",
      "320       Susana-Hettner-Allee 1\\n19641 Aurich  Germany           DE   \n",
      "344    Halina-Kramer-Allee 02\\n24708 Melsungen  Germany           DE   \n",
      "366              Peukertallee 216\\n16821 Guben  Germany           DE   \n",
      "...                                        ...      ...          ...   \n",
      "15048        Schuchhardtgasse 81\\n34270 Luckau  Germany           DE   \n",
      "15096         Truppplatz 58\\n24432 Sigmaringen  Germany           DE   \n",
      "15161   Herta-Linke-Gasse 3\\n08952 Neustrelitz  Germany           DE   \n",
      "15187          Mosemannring 5/5\\n83340 Sebnitz  Germany           DE   \n",
      "15286       Steffi-Rose-Platz 16\\n12365 Apolda  Germany           DE   \n",
      "\n",
      "              phone_number  join_date                             user_uuid  \n",
      "53        +49(0)4666 26686 2009-06-02  ad4e8223-f93a-4c3a-b592-eba785907575  \n",
      "239      +49(0)0094 284779 2019-10-20  f5bd1ab0-289f-4d22-b624-0bcce7632b68  \n",
      "320       +49(0) 132060643 2014-02-28  e5e88bfc-5485-4c54-a717-313fb416e46c  \n",
      "344    +49 (0) 4302 505601 2015-04-25  24341f23-7442-4ad0-b96e-8867e7bb9f35  \n",
      "366          (07407) 13312 2006-09-29  da9f4a9f-eeb9-4cb9-8d28-481e60ee94f2  \n",
      "...                    ...        ...                                   ...  \n",
      "15048           0566049530 2010-04-12  cb93646c-1e65-4400-b5fc-274d46812f02  \n",
      "15096          04030 44680 1994-09-10  227b5f5a-b705-470e-ab07-6614dd1969f9  \n",
      "15161       (08109) 406682 2006-06-05  3c6abb94-8567-4974-9987-f1156d3f652d  \n",
      "15187  +49 (0) 4709 041689 1993-09-01  6dbce501-6b4b-4b38-a586-3f1a7502b1e4  \n",
      "15286       (07856) 050049 2007-07-21  6f16e0ce-9b07-4479-a151-7efdd35408aa  \n",
      "\n",
      "[137 rows x 11 columns]\n",
      "<class 'pandas.core.frame.DataFrame'>\n",
      "Index: 137 entries, 53 to 15286\n",
      "Data columns (total 11 columns):\n",
      " #   Column         Non-Null Count  Dtype         \n",
      "---  ------         --------------  -----         \n",
      " 0   first_name     137 non-null    object        \n",
      " 1   last_name      137 non-null    object        \n",
      " 2   date_of_birth  137 non-null    datetime64[ns]\n",
      " 3   company        137 non-null    object        \n",
      " 4   email_address  137 non-null    object        \n",
      " 5   address        137 non-null    object        \n",
      " 6   country        137 non-null    object        \n",
      " 7   country_code   137 non-null    object        \n",
      " 8   phone_number   137 non-null    object        \n",
      " 9   join_date      137 non-null    datetime64[ns]\n",
      " 10  user_uuid      137 non-null    object        \n",
      "dtypes: datetime64[ns](2), object(9)\n",
      "memory usage: 12.8+ KB\n",
      "None\n"
     ]
    }
   ],
   "source": [
    "print(name_mask)\n",
    "print(name_mask.info())"
   ]
  },
  {
   "cell_type": "code",
   "execution_count": null,
   "metadata": {},
   "outputs": [],
   "source": [
    "result_df = df[df['first_name'].str.contains(r'\\d', na=False)]"
   ]
  },
  {
   "cell_type": "code",
   "execution_count": null,
   "metadata": {},
   "outputs": [],
   "source": []
  }
 ],
 "metadata": {
  "kernelspec": {
   "display_name": "Python 3",
   "language": "python",
   "name": "python3"
  },
  "language_info": {
   "codemirror_mode": {
    "name": "ipython",
    "version": 3
   },
   "file_extension": ".py",
   "mimetype": "text/x-python",
   "name": "python",
   "nbconvert_exporter": "python",
   "pygments_lexer": "ipython3",
   "version": "3.11.5"
  }
 },
 "nbformat": 4,
 "nbformat_minor": 2
}
