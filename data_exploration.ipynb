{
 "cells": [
  {
   "cell_type": "markdown",
   "metadata": {},
   "source": [
    "# Contents\n",
    "[Clean SQL database](#cleaning-data-from-the-sql-database-from-aws)  \n",
    "[Clean S3 bucket PDF data](#data-cleaning-of-card-details-from-the-s3-bucket)  \n",
    "[Code to GET API data](#checking-code-to-get-api-data)  \n",
    "[Clean API data](#reviewing-and-cleaning-the-api-data)  \n",
    "[Clean S3 bucket CSV data](#extracting-s3-object-using-boto3)\n"
   ]
  },
  {
   "cell_type": "markdown",
   "metadata": {},
   "source": [
    "### Cleaning data from the SQL database from AWS"
   ]
  },
  {
   "cell_type": "code",
   "execution_count": 63,
   "metadata": {},
   "outputs": [],
   "source": [
    "from data_extraction import DataExtractor\n",
    "from data_cleaning import DataCleaning\n",
    "from database_utils import DatabaseConnector\n",
    "import pandas as pd\n",
    "import numpy as np\n",
    "\n",
    "db = DatabaseConnector()\n",
    "table = DataExtractor()\n"
   ]
  },
  {
   "cell_type": "code",
   "execution_count": 64,
   "metadata": {},
   "outputs": [],
   "source": [
    "df = table.read_rds_table(db, 'legacy_users')\n",
    "df = df.drop('index',axis=1)"
   ]
  },
  {
   "cell_type": "code",
   "execution_count": 65,
   "metadata": {},
   "outputs": [
    {
     "name": "stdout",
     "output_type": "stream",
     "text": [
      "<class 'pandas.core.frame.DataFrame'>\n",
      "RangeIndex: 15320 entries, 0 to 15319\n",
      "Data columns (total 11 columns):\n",
      " #   Column         Non-Null Count  Dtype \n",
      "---  ------         --------------  ----- \n",
      " 0   first_name     15320 non-null  object\n",
      " 1   last_name      15320 non-null  object\n",
      " 2   date_of_birth  15320 non-null  object\n",
      " 3   company        15320 non-null  object\n",
      " 4   email_address  15320 non-null  object\n",
      " 5   address        15320 non-null  object\n",
      " 6   country        15320 non-null  object\n",
      " 7   country_code   15320 non-null  object\n",
      " 8   phone_number   15320 non-null  object\n",
      " 9   join_date      15320 non-null  object\n",
      " 10  user_uuid      15320 non-null  object\n",
      "dtypes: object(11)\n",
      "memory usage: 1.3+ MB\n"
     ]
    }
   ],
   "source": [
    "df.info()"
   ]
  },
  {
   "cell_type": "code",
   "execution_count": 66,
   "metadata": {},
   "outputs": [
    {
     "data": {
      "text/html": [
       "<div>\n",
       "<style scoped>\n",
       "    .dataframe tbody tr th:only-of-type {\n",
       "        vertical-align: middle;\n",
       "    }\n",
       "\n",
       "    .dataframe tbody tr th {\n",
       "        vertical-align: top;\n",
       "    }\n",
       "\n",
       "    .dataframe thead th {\n",
       "        text-align: right;\n",
       "    }\n",
       "</style>\n",
       "<table border=\"1\" class=\"dataframe\">\n",
       "  <thead>\n",
       "    <tr style=\"text-align: right;\">\n",
       "      <th></th>\n",
       "      <th>first_name</th>\n",
       "      <th>last_name</th>\n",
       "      <th>date_of_birth</th>\n",
       "      <th>company</th>\n",
       "      <th>email_address</th>\n",
       "      <th>address</th>\n",
       "      <th>country</th>\n",
       "      <th>country_code</th>\n",
       "      <th>phone_number</th>\n",
       "      <th>join_date</th>\n",
       "      <th>user_uuid</th>\n",
       "    </tr>\n",
       "  </thead>\n",
       "  <tbody>\n",
       "    <tr>\n",
       "      <th>0</th>\n",
       "      <td>Sigfried</td>\n",
       "      <td>Noack</td>\n",
       "      <td>1990-09-30</td>\n",
       "      <td>Heydrich Junitz KG</td>\n",
       "      <td>rudi79@winkler.de</td>\n",
       "      <td>Zimmerstr. 1/0\\n59015 Gießen</td>\n",
       "      <td>Germany</td>\n",
       "      <td>DE</td>\n",
       "      <td>+49(0) 047905356</td>\n",
       "      <td>2018-10-10</td>\n",
       "      <td>93caf182-e4e9-4c6e-bebb-60a1a9dcf9b8</td>\n",
       "    </tr>\n",
       "    <tr>\n",
       "      <th>1</th>\n",
       "      <td>Guy</td>\n",
       "      <td>Allen</td>\n",
       "      <td>1940-12-01</td>\n",
       "      <td>Fox Ltd</td>\n",
       "      <td>rhodesclifford@henderson.com</td>\n",
       "      <td>Studio 22a\\nLynne terrace\\nMcCarthymouth\\nTF0 9GH</td>\n",
       "      <td>United Kingdom</td>\n",
       "      <td>GB</td>\n",
       "      <td>(0161) 496 0674</td>\n",
       "      <td>2001-12-20</td>\n",
       "      <td>8fe96c3a-d62d-4eb5-b313-cf12d9126a49</td>\n",
       "    </tr>\n",
       "    <tr>\n",
       "      <th>2</th>\n",
       "      <td>Harry</td>\n",
       "      <td>Lawrence</td>\n",
       "      <td>1995-08-02</td>\n",
       "      <td>Johnson, Jones and Harris</td>\n",
       "      <td>glen98@bryant-marshall.co.uk</td>\n",
       "      <td>92 Ann drive\\nJoanborough\\nSK0 6LR</td>\n",
       "      <td>United Kingdom</td>\n",
       "      <td>GB</td>\n",
       "      <td>+44(0)121 4960340</td>\n",
       "      <td>2016-12-16</td>\n",
       "      <td>fc461df4-b919-48b2-909e-55c95a03fe6b</td>\n",
       "    </tr>\n",
       "    <tr>\n",
       "      <th>3</th>\n",
       "      <td>Darren</td>\n",
       "      <td>Hussain</td>\n",
       "      <td>1972-09-23</td>\n",
       "      <td>Wheeler LLC</td>\n",
       "      <td>daniellebryan@thompson.org</td>\n",
       "      <td>19 Robinson meadow\\nNew Tracy\\nW22 2QG</td>\n",
       "      <td>United Kingdom</td>\n",
       "      <td>GB</td>\n",
       "      <td>(0306) 999 0871</td>\n",
       "      <td>2004-02-23</td>\n",
       "      <td>6104719f-ef14-4b09-bf04-fb0c4620acb0</td>\n",
       "    </tr>\n",
       "    <tr>\n",
       "      <th>4</th>\n",
       "      <td>Garry</td>\n",
       "      <td>Stone</td>\n",
       "      <td>1952-12-20</td>\n",
       "      <td>Warner Inc</td>\n",
       "      <td>billy14@long-warren.com</td>\n",
       "      <td>3 White pass\\nHunterborough\\nNN96 4UE</td>\n",
       "      <td>United Kingdom</td>\n",
       "      <td>GB</td>\n",
       "      <td>0121 496 0225</td>\n",
       "      <td>2006-09-01</td>\n",
       "      <td>9523a6d3-b2dd-4670-a51a-36aebc89f579</td>\n",
       "    </tr>\n",
       "  </tbody>\n",
       "</table>\n",
       "</div>"
      ],
      "text/plain": [
       "  first_name last_name date_of_birth                    company  \\\n",
       "0   Sigfried     Noack    1990-09-30         Heydrich Junitz KG   \n",
       "1        Guy     Allen    1940-12-01                    Fox Ltd   \n",
       "2      Harry  Lawrence    1995-08-02  Johnson, Jones and Harris   \n",
       "3     Darren   Hussain    1972-09-23                Wheeler LLC   \n",
       "4      Garry     Stone    1952-12-20                 Warner Inc   \n",
       "\n",
       "                  email_address  \\\n",
       "0             rudi79@winkler.de   \n",
       "1  rhodesclifford@henderson.com   \n",
       "2  glen98@bryant-marshall.co.uk   \n",
       "3    daniellebryan@thompson.org   \n",
       "4       billy14@long-warren.com   \n",
       "\n",
       "                                             address         country  \\\n",
       "0                       Zimmerstr. 1/0\\n59015 Gießen         Germany   \n",
       "1  Studio 22a\\nLynne terrace\\nMcCarthymouth\\nTF0 9GH  United Kingdom   \n",
       "2                 92 Ann drive\\nJoanborough\\nSK0 6LR  United Kingdom   \n",
       "3             19 Robinson meadow\\nNew Tracy\\nW22 2QG  United Kingdom   \n",
       "4              3 White pass\\nHunterborough\\nNN96 4UE  United Kingdom   \n",
       "\n",
       "  country_code       phone_number   join_date  \\\n",
       "0           DE   +49(0) 047905356  2018-10-10   \n",
       "1           GB    (0161) 496 0674  2001-12-20   \n",
       "2           GB  +44(0)121 4960340  2016-12-16   \n",
       "3           GB    (0306) 999 0871  2004-02-23   \n",
       "4           GB      0121 496 0225  2006-09-01   \n",
       "\n",
       "                              user_uuid  \n",
       "0  93caf182-e4e9-4c6e-bebb-60a1a9dcf9b8  \n",
       "1  8fe96c3a-d62d-4eb5-b313-cf12d9126a49  \n",
       "2  fc461df4-b919-48b2-909e-55c95a03fe6b  \n",
       "3  6104719f-ef14-4b09-bf04-fb0c4620acb0  \n",
       "4  9523a6d3-b2dd-4670-a51a-36aebc89f579  "
      ]
     },
     "execution_count": 66,
     "metadata": {},
     "output_type": "execute_result"
    }
   ],
   "source": [
    "df.head()"
   ]
  },
  {
   "cell_type": "code",
   "execution_count": 67,
   "metadata": {},
   "outputs": [
    {
     "name": "stdout",
     "output_type": "stream",
     "text": [
      "<class 'pandas.core.frame.DataFrame'>\n",
      "RangeIndex: 15320 entries, 0 to 15319\n",
      "Data columns (total 11 columns):\n",
      " #   Column         Non-Null Count  Dtype \n",
      "---  ------         --------------  ----- \n",
      " 0   first_name     15320 non-null  object\n",
      " 1   last_name      15320 non-null  object\n",
      " 2   date_of_birth  15320 non-null  object\n",
      " 3   company        15320 non-null  object\n",
      " 4   email_address  15320 non-null  object\n",
      " 5   address        15320 non-null  object\n",
      " 6   country        15320 non-null  object\n",
      " 7   country_code   15320 non-null  object\n",
      " 8   phone_number   15320 non-null  object\n",
      " 9   join_date      15320 non-null  object\n",
      " 10  user_uuid      15320 non-null  object\n",
      "dtypes: object(11)\n",
      "memory usage: 1.3+ MB\n",
      "None\n"
     ]
    }
   ],
   "source": [
    "print(df.info())"
   ]
  },
  {
   "cell_type": "code",
   "execution_count": 68,
   "metadata": {},
   "outputs": [],
   "source": [
    "# First process the the date columns \n",
    "# Converting any date columns into the date format\n",
    "import pandas as pd\n",
    "from dateutil.parser import parse\n",
    "for col in df.columns:  \n",
    "    if 'date' in col:\n",
    "        def try_parsing_date(text):\n",
    "            try:\n",
    "                return parse(text)\n",
    "            except Exception:\n",
    "                return pd.NaT\n",
    "        \n",
    "        df[col] = df[col].apply(try_parsing_date)\n",
    "        df[col] = pd.to_datetime(df[col], errors='coerce')\n",
    "\n"
   ]
  },
  {
   "cell_type": "code",
   "execution_count": 69,
   "metadata": {},
   "outputs": [
    {
     "name": "stdout",
     "output_type": "stream",
     "text": [
      "      first_name last_name date_of_birth                      company  \\\n",
      "1            Guy     Allen    1940-12-01                      Fox Ltd   \n",
      "21          Jörg  Hoffmann    1940-11-04                        Höfig   \n",
      "66        Olivia  Williams    1940-10-23  Sanderson, Singh and Wilson   \n",
      "77      Klaus-D.      Gute    1942-06-21        Conradi GmbH & Co. KG   \n",
      "84       Dominic    Potter    1940-01-19                 Powell-Carey   \n",
      "...          ...       ...           ...                          ...   \n",
      "15274       Joan      Reed    1942-10-24                    Frost PLC   \n",
      "15289    Stephen     Davis    1940-08-30    Graham, Fisher and Gibson   \n",
      "15292    Stephen      Ward    1940-07-22                  Smith-Brown   \n",
      "15308    Stephen    Hudson    1940-09-13                   Harris PLC   \n",
      "15317    Stephen  Losekann    1940-10-09                      Rosenow   \n",
      "\n",
      "                        email_address  \\\n",
      "1        rhodesclifford@henderson.com   \n",
      "21             zgehringer@beckmann.de   \n",
      "66         wilkinsjoseph@thomas.co.uk   \n",
      "77                  lutzsalz@mude.org   \n",
      "84     conor11@donnelly-middleton.biz   \n",
      "...                               ...   \n",
      "15274         katiesharpe@briggs.info   \n",
      "15289               s.davis@smith.com   \n",
      "15292                s.ward@smith.com   \n",
      "15308              s.hudson@smith.com   \n",
      "15317            s.losekann@smith.com   \n",
      "\n",
      "                                                 address         country  \\\n",
      "1      Studio 22a\\nLynne terrace\\nMcCarthymouth\\nTF0 9GH  United Kingdom   \n",
      "21        Marliese-Holzapfel-Gasse 767\\n09198 Gardelegen         Germany   \n",
      "66     Studio 76E\\nWilliams mountains\\nEast Lyndaton\\...  United Kingdom   \n",
      "77                              Wiekstr. 5\\n29933 Apolda         Germany   \n",
      "84           719 Geoffrey gateway\\nWest Hollie\\nBN6V 5FF  United Kingdom   \n",
      "...                                                  ...             ...   \n",
      "15274    Studio 7\\nHollie walks\\nSouth Ryanberg\\nM0C 6BG  United Kingdom   \n",
      "15289             758 Ellis Creek\\nPort George, MP 93335   United States   \n",
      "15292             63 Jeffrey ridge\\nCarolefort\\nBL19 0JA  United Kingdom   \n",
      "15308      Studio 5\\nDodd turnpike\\nRobertston\\nHS26 3ZG  United Kingdom   \n",
      "15317  Viviane-Fritsch-Straße 3/5\\n15064 Bad Liebenwerda         Germany   \n",
      "\n",
      "      country_code         phone_number  join_date  \\\n",
      "1               GB      (0161) 496 0674 2001-12-20   \n",
      "21              DE  +49 (0) 9914 457670 2006-02-04   \n",
      "66              GB        +441134960697 1997-06-13   \n",
      "77              DE    +49(0)0131 112091 2019-10-30   \n",
      "84              GB         +44292018370 2003-07-09   \n",
      "...            ...                  ...        ...   \n",
      "15274           GB     +44(0)1144960941 2011-01-25   \n",
      "15289           US  +1-946-020-6951x300 2021-10-27   \n",
      "15292           GB    +44(0)808 1570093 2016-05-16   \n",
      "15308           GB        0121 496 0182 1999-11-15   \n",
      "15317           DE          02984 08192 2021-03-07   \n",
      "\n",
      "                                  user_uuid  \n",
      "1      8fe96c3a-d62d-4eb5-b313-cf12d9126a49  \n",
      "21     fbf6ce18-7838-40fc-9cf9-5c90e26b5b65  \n",
      "66     97d45030-5c09-4a38-afee-46825e865943  \n",
      "77     89ddaf29-629f-411f-a480-d70eab281efc  \n",
      "84     6fca961b-aae0-4d95-9eb9-c31494b05f2e  \n",
      "...                                     ...  \n",
      "15274  1c59bf6a-c725-4fc7-bd59-18f71ec7dcab  \n",
      "15289  5f213aff-cd45-498c-ae2b-5a3cb940c05b  \n",
      "15292  d7e8a2d7-5e66-4b22-a3ef-8a69fb5d036b  \n",
      "15308  d759d181-9b82-4062-88f1-6018a08afd11  \n",
      "15317  1a0a8b7b-7c17-42d8-a946-8a85d5495651  \n",
      "\n",
      "[1005 rows x 11 columns]\n"
     ]
    }
   ],
   "source": [
    "from datetime import datetime\n",
    "# Calculate the current date\n",
    "current_date = datetime.now()\n",
    "# Subset the data to show individuals older than 70 years\n",
    "subset_older_than_70 = df[current_date.year - df['date_of_birth'].dt.year > 80]\n",
    "print(subset_older_than_70)"
   ]
  },
  {
   "cell_type": "code",
   "execution_count": 70,
   "metadata": {},
   "outputs": [
    {
     "name": "stdout",
     "output_type": "stream",
     "text": [
      "[752, 866, 1022, 1046, 1805, 2103, 2437, 2739, 2764, 2995, 3536, 4984, 5306, 5307, 6420, 6920, 7737, 8386, 9013, 10013, 10211, 10224, 10360, 10988, 11366, 11443, 11598, 11761, 11864, 12092, 12177, 12584, 13111, 13855, 14101, 14499]\n",
      "       first_name   last_name date_of_birth     company email_address  \\\n",
      "752    PYCLKLLC7I  W350SCUD6R           NaT  R7IZUNSQX0    3Q791B3VIY   \n",
      "866          NULL        NULL           NaT        NULL          NULL   \n",
      "1022         NULL        NULL           NaT        NULL          NULL   \n",
      "1046   GI4C78KWH0  UTB5PPYFG8           NaT  CA1XGS8GZW    7HSZB429UK   \n",
      "1805         NULL        NULL           NaT        NULL          NULL   \n",
      "2103         NULL        NULL           NaT        NULL          NULL   \n",
      "2437         NULL        NULL           NaT        NULL          NULL   \n",
      "2739         NULL        NULL           NaT        NULL          NULL   \n",
      "2764         NULL        NULL           NaT        NULL          NULL   \n",
      "2995   DPAJNJL6PR  B8ZGN8ZJ84           NaT  0YJ2FRMDB4    O5Q6D7FDAF   \n",
      "3536   E5139W1FJ3  X88YLZX0JX           NaT  648S19YUFF    BYU3R2LQF8   \n",
      "4984         NULL        NULL           NaT        NULL          NULL   \n",
      "5306   XKDVQD7BH2  4YSEX8AY1Z           NaT  GKJZ58DTHT    789HWCYC7M   \n",
      "5307         NULL        NULL           NaT        NULL          NULL   \n",
      "6420   EI10BU4INS  SH6Y92V6IK           NaT  LNFBRXXUT4    TFEA83AAHP   \n",
      "6920         NULL        NULL           NaT        NULL          NULL   \n",
      "7737         NULL        NULL           NaT        NULL          NULL   \n",
      "8386   I7IJDAPMIM  LUNRZWUKRB           NaT  JXKOHA5B8F    JK2J6N4DLG   \n",
      "9013   TG6PAO2RAB  PIG6VAZUPM           NaT  ROL0IMK6UH    EIV7XWUJ8I   \n",
      "10013        NULL        NULL           NaT        NULL          NULL   \n",
      "10211  VCQL3ML6ZT  HULT86HONJ           NaT  QSS0MWBGFZ    1WNILGM5MK   \n",
      "10224        NULL        NULL           NaT        NULL          NULL   \n",
      "10360  G1SI2RM0KA  67VJEE6DS2           NaT  M4Z6M30SJ3    U1AZKY6URZ   \n",
      "10988        NULL        NULL           NaT        NULL          NULL   \n",
      "11366  31XQ1Z35J9  8LR57D7RZ0           NaT  66V9WU2HU1    XASHXWHN80   \n",
      "11443        NULL        NULL           NaT        NULL          NULL   \n",
      "11598        NULL        NULL           NaT        NULL          NULL   \n",
      "11761        NULL        NULL           NaT        NULL          NULL   \n",
      "11864        NULL        NULL           NaT        NULL          NULL   \n",
      "12092        NULL        NULL           NaT        NULL          NULL   \n",
      "12177  2GU3G97VI1  91RL47Q2WC           NaT  D4KULDKYME    YM2YGPR8W1   \n",
      "12584        NULL        NULL           NaT        NULL          NULL   \n",
      "13111  F3LGJ1NZ0I  IXWSZZ2VPN           NaT  9WSM9X17XK    M5ZDMLPP45   \n",
      "13855        NULL        NULL           NaT        NULL          NULL   \n",
      "14101  DD0K0FUDRY  Q9U9JNG44F           NaT  DJXWS4B52O    X29OBIYMTI   \n",
      "14499  YWM71XYN17  PYC56FDP4V           NaT  WGP4NBYFT6    6VIJ9KJU8P   \n",
      "\n",
      "          address     country country_code phone_number join_date   user_uuid  \n",
      "752    YW2YXLOQ5J  I7G4DMDZOZ   VSM4IZ4EL3   A4Q4HQBI3I       NaT  W43MSCMQ88  \n",
      "866          NULL        NULL         NULL         NULL       NaT        NULL  \n",
      "1022         NULL        NULL         NULL         NULL       NaT        NULL  \n",
      "1046   63GXGYR3XL  AJ1ENKS3QL   QVUW9JSKY3   64ZO0ONUQO       NaT  BUE34OU973  \n",
      "1805         NULL        NULL         NULL         NULL       NaT        NULL  \n",
      "2103         NULL        NULL         NULL         NULL       NaT        NULL  \n",
      "2437         NULL        NULL         NULL         NULL       NaT        NULL  \n",
      "2739         NULL        NULL         NULL         NULL       NaT        NULL  \n",
      "2764         NULL        NULL         NULL         NULL       NaT        NULL  \n",
      "2995   Y1GY1G3EM5  XGI7FM0VBJ   0CU6LW3NKB   DU9UJ42F3E       NaT  56URKLG01W  \n",
      "3536   GOWRW4JCE7  S0E37H52ON   PG8MOC0UZI   LJ6H5XBD2A       NaT  A1W2TVMK1S  \n",
      "4984         NULL        NULL         NULL         NULL       NaT        NULL  \n",
      "5306   KJW5WR7W16  XN9NGL5C0B   NTCGYW8LVC   MUXPJD0BZY       NaT  LNRNI6X6VL  \n",
      "5307         NULL        NULL         NULL         NULL       NaT        NULL  \n",
      "6420   XGYW43ZF8B  50KUU3PQUF   FB13AKRI21   GA2YQ189FL       NaT  23WTQ63AET  \n",
      "6920         NULL        NULL         NULL         NULL       NaT        NULL  \n",
      "7737         NULL        NULL         NULL         NULL       NaT        NULL  \n",
      "8386   FW3EMRJ25W  EWE3U0DZIV   OS2P9CMHR6   G2D0EI6DT3       NaT  8FB8XB78NQ  \n",
      "9013   KHJLOAKCW2  GMRBOMI0O1   5D74J6FPFJ   65I9CX7VF2       NaT  HEGG0N3ICG  \n",
      "10013        NULL        NULL         NULL         NULL       NaT        NULL  \n",
      "10211  R4HMRLEIXV  YOTSVPRBQ7   LZGTB0T5Z7   6VGTZ6ANEA       NaT  AKXDQ62K1V  \n",
      "10224        NULL        NULL         NULL         NULL       NaT        NULL  \n",
      "10360  N9D1AYQOJ0  5EFAFD0JLI   IM8MN1L9MJ   Y0AKRC4TUP       NaT  7JTCX4UVLK  \n",
      "10988        NULL        NULL         NULL         NULL       NaT        NULL  \n",
      "11366  NZDOEJPB2M  PNRMPSYR1J   RVRFD92E48   CLGG66L3JK       NaT  C7N3K5VF9U  \n",
      "11443        NULL        NULL         NULL         NULL       NaT        NULL  \n",
      "11598        NULL        NULL         NULL         NULL       NaT        NULL  \n",
      "11761        NULL        NULL         NULL         NULL       NaT        NULL  \n",
      "11864        NULL        NULL         NULL         NULL       NaT        NULL  \n",
      "12092        NULL        NULL         NULL         NULL       NaT        NULL  \n",
      "12177  4M2VPXJHBE  RQRB7RMTAD   XKI9UXSCZ1   35OGAP18JU       NaT  YIBFXQLD4A  \n",
      "12584        NULL        NULL         NULL         NULL       NaT        NULL  \n",
      "13111  W5VT0DOEKO  3518UD5CE8   QREF9WLI2A   EIP7YUL5CE       NaT  55II6WK8D2  \n",
      "13855        NULL        NULL         NULL         NULL       NaT        NULL  \n",
      "14101  8EK3ZFIGXL  7ZNO5EBALT   XPVCZE2L8B   XBL6JO9DU6       NaT  1YOGCW4V46  \n",
      "14499  NI3KEEZPTY  T4WBZSW0XI   44YAIDY048   QVAV1H2QVH       NaT  7PYPXC0PPN  \n"
     ]
    }
   ],
   "source": [
    "#Removing NA rows of data\n",
    "#Further inspection show all NA rows in date_of_birth include non-null rows but are randomised.\n",
    "nat_indexes = df.index[df['date_of_birth'].isna()].tolist()\n",
    "print(nat_indexes)\n",
    "na_list = df.iloc[nat_indexes]\n",
    "print(na_list)"
   ]
  },
  {
   "cell_type": "code",
   "execution_count": 71,
   "metadata": {},
   "outputs": [
    {
     "name": "stdout",
     "output_type": "stream",
     "text": [
      "       first_name   last_name date_of_birth     company email_address  \\\n",
      "752    PYCLKLLC7I  W350SCUD6R           NaT  R7IZUNSQX0    3Q791B3VIY   \n",
      "866          NULL        NULL           NaT        NULL          NULL   \n",
      "1022         NULL        NULL           NaT        NULL          NULL   \n",
      "1046   GI4C78KWH0  UTB5PPYFG8           NaT  CA1XGS8GZW    7HSZB429UK   \n",
      "1805         NULL        NULL           NaT        NULL          NULL   \n",
      "2103         NULL        NULL           NaT        NULL          NULL   \n",
      "2437         NULL        NULL           NaT        NULL          NULL   \n",
      "2739         NULL        NULL           NaT        NULL          NULL   \n",
      "2764         NULL        NULL           NaT        NULL          NULL   \n",
      "2995   DPAJNJL6PR  B8ZGN8ZJ84           NaT  0YJ2FRMDB4    O5Q6D7FDAF   \n",
      "3536   E5139W1FJ3  X88YLZX0JX           NaT  648S19YUFF    BYU3R2LQF8   \n",
      "4984         NULL        NULL           NaT        NULL          NULL   \n",
      "5306   XKDVQD7BH2  4YSEX8AY1Z           NaT  GKJZ58DTHT    789HWCYC7M   \n",
      "5307         NULL        NULL           NaT        NULL          NULL   \n",
      "6420   EI10BU4INS  SH6Y92V6IK           NaT  LNFBRXXUT4    TFEA83AAHP   \n",
      "6920         NULL        NULL           NaT        NULL          NULL   \n",
      "7737         NULL        NULL           NaT        NULL          NULL   \n",
      "8386   I7IJDAPMIM  LUNRZWUKRB           NaT  JXKOHA5B8F    JK2J6N4DLG   \n",
      "9013   TG6PAO2RAB  PIG6VAZUPM           NaT  ROL0IMK6UH    EIV7XWUJ8I   \n",
      "10013        NULL        NULL           NaT        NULL          NULL   \n",
      "10211  VCQL3ML6ZT  HULT86HONJ           NaT  QSS0MWBGFZ    1WNILGM5MK   \n",
      "10224        NULL        NULL           NaT        NULL          NULL   \n",
      "10360  G1SI2RM0KA  67VJEE6DS2           NaT  M4Z6M30SJ3    U1AZKY6URZ   \n",
      "10988        NULL        NULL           NaT        NULL          NULL   \n",
      "11366  31XQ1Z35J9  8LR57D7RZ0           NaT  66V9WU2HU1    XASHXWHN80   \n",
      "11443        NULL        NULL           NaT        NULL          NULL   \n",
      "11598        NULL        NULL           NaT        NULL          NULL   \n",
      "11761        NULL        NULL           NaT        NULL          NULL   \n",
      "11864        NULL        NULL           NaT        NULL          NULL   \n",
      "12092        NULL        NULL           NaT        NULL          NULL   \n",
      "12177  2GU3G97VI1  91RL47Q2WC           NaT  D4KULDKYME    YM2YGPR8W1   \n",
      "12584        NULL        NULL           NaT        NULL          NULL   \n",
      "13111  F3LGJ1NZ0I  IXWSZZ2VPN           NaT  9WSM9X17XK    M5ZDMLPP45   \n",
      "13855        NULL        NULL           NaT        NULL          NULL   \n",
      "14101  DD0K0FUDRY  Q9U9JNG44F           NaT  DJXWS4B52O    X29OBIYMTI   \n",
      "14499  YWM71XYN17  PYC56FDP4V           NaT  WGP4NBYFT6    6VIJ9KJU8P   \n",
      "\n",
      "          address     country country_code phone_number join_date   user_uuid  \n",
      "752    YW2YXLOQ5J  I7G4DMDZOZ   VSM4IZ4EL3   A4Q4HQBI3I       NaT  W43MSCMQ88  \n",
      "866          NULL        NULL         NULL         NULL       NaT        NULL  \n",
      "1022         NULL        NULL         NULL         NULL       NaT        NULL  \n",
      "1046   63GXGYR3XL  AJ1ENKS3QL   QVUW9JSKY3   64ZO0ONUQO       NaT  BUE34OU973  \n",
      "1805         NULL        NULL         NULL         NULL       NaT        NULL  \n",
      "2103         NULL        NULL         NULL         NULL       NaT        NULL  \n",
      "2437         NULL        NULL         NULL         NULL       NaT        NULL  \n",
      "2739         NULL        NULL         NULL         NULL       NaT        NULL  \n",
      "2764         NULL        NULL         NULL         NULL       NaT        NULL  \n",
      "2995   Y1GY1G3EM5  XGI7FM0VBJ   0CU6LW3NKB   DU9UJ42F3E       NaT  56URKLG01W  \n",
      "3536   GOWRW4JCE7  S0E37H52ON   PG8MOC0UZI   LJ6H5XBD2A       NaT  A1W2TVMK1S  \n",
      "4984         NULL        NULL         NULL         NULL       NaT        NULL  \n",
      "5306   KJW5WR7W16  XN9NGL5C0B   NTCGYW8LVC   MUXPJD0BZY       NaT  LNRNI6X6VL  \n",
      "5307         NULL        NULL         NULL         NULL       NaT        NULL  \n",
      "6420   XGYW43ZF8B  50KUU3PQUF   FB13AKRI21   GA2YQ189FL       NaT  23WTQ63AET  \n",
      "6920         NULL        NULL         NULL         NULL       NaT        NULL  \n",
      "7737         NULL        NULL         NULL         NULL       NaT        NULL  \n",
      "8386   FW3EMRJ25W  EWE3U0DZIV   OS2P9CMHR6   G2D0EI6DT3       NaT  8FB8XB78NQ  \n",
      "9013   KHJLOAKCW2  GMRBOMI0O1   5D74J6FPFJ   65I9CX7VF2       NaT  HEGG0N3ICG  \n",
      "10013        NULL        NULL         NULL         NULL       NaT        NULL  \n",
      "10211  R4HMRLEIXV  YOTSVPRBQ7   LZGTB0T5Z7   6VGTZ6ANEA       NaT  AKXDQ62K1V  \n",
      "10224        NULL        NULL         NULL         NULL       NaT        NULL  \n",
      "10360  N9D1AYQOJ0  5EFAFD0JLI   IM8MN1L9MJ   Y0AKRC4TUP       NaT  7JTCX4UVLK  \n",
      "10988        NULL        NULL         NULL         NULL       NaT        NULL  \n",
      "11366  NZDOEJPB2M  PNRMPSYR1J   RVRFD92E48   CLGG66L3JK       NaT  C7N3K5VF9U  \n",
      "11443        NULL        NULL         NULL         NULL       NaT        NULL  \n",
      "11598        NULL        NULL         NULL         NULL       NaT        NULL  \n",
      "11761        NULL        NULL         NULL         NULL       NaT        NULL  \n",
      "11864        NULL        NULL         NULL         NULL       NaT        NULL  \n",
      "12092        NULL        NULL         NULL         NULL       NaT        NULL  \n",
      "12177  4M2VPXJHBE  RQRB7RMTAD   XKI9UXSCZ1   35OGAP18JU       NaT  YIBFXQLD4A  \n",
      "12584        NULL        NULL         NULL         NULL       NaT        NULL  \n",
      "13111  W5VT0DOEKO  3518UD5CE8   QREF9WLI2A   EIP7YUL5CE       NaT  55II6WK8D2  \n",
      "13855        NULL        NULL         NULL         NULL       NaT        NULL  \n",
      "14101  8EK3ZFIGXL  7ZNO5EBALT   XPVCZE2L8B   XBL6JO9DU6       NaT  1YOGCW4V46  \n",
      "14499  NI3KEEZPTY  T4WBZSW0XI   44YAIDY048   QVAV1H2QVH       NaT  7PYPXC0PPN  \n",
      "Empty DataFrame\n",
      "Columns: [first_name_x, last_name_x, date_of_birth_x, company_x, email_address_x, address_x, country_x, country_code_x, phone_number_x, join_date_x, user_uuid_x, first_name_y, last_name_y, date_of_birth_y, company_y, email_address_y, address_y, country_y, country_code_y, phone_number_y, join_date_y, user_uuid_y, _merge]\n",
      "Index: []\n",
      "\n",
      "[0 rows x 23 columns]\n"
     ]
    }
   ],
   "source": [
    "# Double checking if the parse and to_datetime function worked on dates that had string e.g. October \n",
    "# Anti join show na_list removes the randomised and unparsable dates and leaves the good ones in\n",
    "result = df[df['date_of_birth'].astype(str).str.contains('[A-Za-z]', regex=True, na=False)]\n",
    "anti_join_df = result.merge(na_list, left_index=True, right_index=True, how='left', indicator=True)\n",
    "anti_join_result = anti_join_df[anti_join_df['_merge'] == 'left_only']\n",
    "print(result)\n",
    "print(anti_join_result)"
   ]
  },
  {
   "cell_type": "code",
   "execution_count": 72,
   "metadata": {},
   "outputs": [],
   "source": [
    "# So to conclude, all nulls in date of birth removed, this also removes randomised records of data\n",
    "df = df.drop(nat_indexes)"
   ]
  },
  {
   "cell_type": "code",
   "execution_count": 73,
   "metadata": {},
   "outputs": [
    {
     "name": "stdout",
     "output_type": "stream",
     "text": [
      "<class 'pandas.core.frame.DataFrame'>\n",
      "Index: 15284 entries, 0 to 15319\n",
      "Data columns (total 11 columns):\n",
      " #   Column         Non-Null Count  Dtype         \n",
      "---  ------         --------------  -----         \n",
      " 0   first_name     15284 non-null  object        \n",
      " 1   last_name      15284 non-null  object        \n",
      " 2   date_of_birth  15284 non-null  datetime64[ns]\n",
      " 3   company        15284 non-null  object        \n",
      " 4   email_address  15284 non-null  object        \n",
      " 5   address        15284 non-null  object        \n",
      " 6   country        15284 non-null  object        \n",
      " 7   country_code   15284 non-null  object        \n",
      " 8   phone_number   15284 non-null  object        \n",
      " 9   join_date      15284 non-null  datetime64[ns]\n",
      " 10  user_uuid      15284 non-null  object        \n",
      "dtypes: datetime64[ns](2), object(9)\n",
      "memory usage: 1.4+ MB\n"
     ]
    }
   ],
   "source": [
    "df.info()"
   ]
  },
  {
   "cell_type": "code",
   "execution_count": 74,
   "metadata": {},
   "outputs": [
    {
     "name": "stdout",
     "output_type": "stream",
     "text": [
      "first_name       0\n",
      "last_name        0\n",
      "date_of_birth    0\n",
      "company          0\n",
      "email_address    0\n",
      "address          0\n",
      "country          0\n",
      "country_code     0\n",
      "phone_number     0\n",
      "join_date        0\n",
      "user_uuid        0\n",
      "dtype: int64\n"
     ]
    }
   ],
   "source": [
    "# This shows no NA values are left. Following scripts would be to look for and handle incorrect data\n",
    "na_counts = df.isna().sum()\n",
    "print(na_counts)"
   ]
  },
  {
   "cell_type": "code",
   "execution_count": 75,
   "metadata": {},
   "outputs": [],
   "source": [
    "# Next fix the phone numbers\n",
    "# The below processing of US, UK and Germany has been combined into this single cell\n",
    "us_indexes = df[df['country'] == \"United States\"].index\n",
    "other_indexes = df[df['country'] != \"United States\"].index\n",
    "\n",
    "df.loc[us_indexes, 'phone_number'] = df.loc[us_indexes, 'phone_number'].str.replace(r'(\\+\\d{1}|x\\d+|001-|[\\.\\-\\(\\)])', '', regex=True)\n",
    "df.loc[us_indexes, 'phone_number'] = df.loc[us_indexes, 'phone_number'].apply(lambda x: np.nan if len(str(x)) != 11 else x)\n",
    "\n",
    "df.loc[other_indexes, 'phone_number'] = df.loc[other_indexes, 'phone_number'].str.replace(r'(\\+\\d{2})|\\s+|[(|)]', '', regex=True)\n",
    "df.loc[other_indexes, 'phone_number'] = df.loc[other_indexes, 'phone_number'].apply(lambda x: np.nan if len(str(x)) != 11 else x)"
   ]
  },
  {
   "cell_type": "code",
   "execution_count": 76,
   "metadata": {},
   "outputs": [
    {
     "name": "stdout",
     "output_type": "stream",
     "text": [
      "<class 'pandas.core.frame.DataFrame'>\n",
      "Index: 15284 entries, 0 to 15319\n",
      "Data columns (total 11 columns):\n",
      " #   Column         Non-Null Count  Dtype         \n",
      "---  ------         --------------  -----         \n",
      " 0   first_name     15284 non-null  object        \n",
      " 1   last_name      15284 non-null  object        \n",
      " 2   date_of_birth  15284 non-null  datetime64[ns]\n",
      " 3   company        15284 non-null  object        \n",
      " 4   email_address  15284 non-null  object        \n",
      " 5   address        15284 non-null  object        \n",
      " 6   country        15284 non-null  object        \n",
      " 7   country_code   15284 non-null  object        \n",
      " 8   phone_number   9089 non-null   object        \n",
      " 9   join_date      15284 non-null  datetime64[ns]\n",
      " 10  user_uuid      15284 non-null  object        \n",
      "dtypes: datetime64[ns](2), object(9)\n",
      "memory usage: 1.9+ MB\n"
     ]
    }
   ],
   "source": [
    "df.info()"
   ]
  },
  {
   "cell_type": "code",
   "execution_count": 77,
   "metadata": {},
   "outputs": [
    {
     "data": {
      "text/plain": [
       "country_code\n",
       "GB     9365\n",
       "DE     4708\n",
       "US     1205\n",
       "GGB       6\n",
       "Name: count, dtype: int64"
      ]
     },
     "execution_count": 77,
     "metadata": {},
     "output_type": "execute_result"
    }
   ],
   "source": [
    "#Review country_code\n",
    "df['country_code'].value_counts()"
   ]
  },
  {
   "cell_type": "code",
   "execution_count": 78,
   "metadata": {},
   "outputs": [],
   "source": [
    "df.loc[df['country_code'] == \"GGB\", 'country_code'] = \"GB\""
   ]
  },
  {
   "cell_type": "code",
   "execution_count": 79,
   "metadata": {},
   "outputs": [
    {
     "data": {
      "text/plain": [
       "country\n",
       "United Kingdom    9371\n",
       "Germany           4708\n",
       "United States     1205\n",
       "Name: count, dtype: int64"
      ]
     },
     "execution_count": 79,
     "metadata": {},
     "output_type": "execute_result"
    }
   ],
   "source": [
    "# Next country - all good\n",
    "df['country'].value_counts()"
   ]
  },
  {
   "cell_type": "code",
   "execution_count": 80,
   "metadata": {},
   "outputs": [
    {
     "name": "stdout",
     "output_type": "stream",
     "text": [
      "Zimmerstr. 1/0\n",
      "59015 Gießen\n"
     ]
    }
   ],
   "source": [
    "# assumption that the address column is correct, could separate postcode and cross-reference on google maps\n",
    "print(df['address'][0])"
   ]
  },
  {
   "cell_type": "code",
   "execution_count": 81,
   "metadata": {},
   "outputs": [
    {
     "name": "stdout",
     "output_type": "stream",
     "text": [
      "0                             Zimmerstr. 1/0,59015 Gießen\n",
      "1          Studio 22a,Lynne terrace,McCarthymouth,TF0 9GH\n",
      "2                        92 Ann drive,Joanborough,SK0 6LR\n",
      "3                    19 Robinson meadow,New Tracy,W22 2QG\n",
      "4                     3 White pass,Hunterborough,NN96 4UE\n",
      "                               ...                       \n",
      "15315         Studio 41I,Jones lodge,Oliviaborough,E8 3DU\n",
      "15316                 530 Young parkway,Millsfurt,L4G 7NX\n",
      "15317    Viviane-Fritsch-Straße 3/5,15064 Bad Liebenwerda\n",
      "15318     660 Ross Falls Suite 357,Anthonymouth, MA 09610\n",
      "15319         Studio 4,Hancock road,Phillipsview,ST1X 3XB\n",
      "Name: address, Length: 15284, dtype: object\n"
     ]
    }
   ],
   "source": [
    "# Remove the new line and replace with comma\n",
    "df['address'] = df['address'].str.replace('\\n', ',')\n",
    "print(df['address'])"
   ]
  },
  {
   "cell_type": "code",
   "execution_count": 82,
   "metadata": {},
   "outputs": [
    {
     "data": {
      "text/plain": [
       "email_address\n",
       "True    15284\n",
       "Name: count, dtype: int64"
      ]
     },
     "execution_count": 82,
     "metadata": {},
     "output_type": "execute_result"
    }
   ],
   "source": [
    "#All email addresses follow a consistent pattern\n",
    "df['email_address'].str.contains('@.*\\.', regex=True).value_counts()"
   ]
  },
  {
   "cell_type": "code",
   "execution_count": 83,
   "metadata": {},
   "outputs": [
    {
     "name": "stdout",
     "output_type": "stream",
     "text": [
      "<class 'pandas.core.frame.DataFrame'>\n",
      "Index: 15284 entries, 0 to 15319\n",
      "Data columns (total 11 columns):\n",
      " #   Column         Non-Null Count  Dtype         \n",
      "---  ------         --------------  -----         \n",
      " 0   first_name     15284 non-null  object        \n",
      " 1   last_name      15284 non-null  object        \n",
      " 2   date_of_birth  15284 non-null  datetime64[ns]\n",
      " 3   company        15284 non-null  object        \n",
      " 4   email_address  15284 non-null  object        \n",
      " 5   address        15284 non-null  object        \n",
      " 6   country        15284 non-null  object        \n",
      " 7   country_code   15284 non-null  object        \n",
      " 8   phone_number   9089 non-null   object        \n",
      " 9   join_date      15284 non-null  datetime64[ns]\n",
      " 10  user_uuid      15284 non-null  object        \n",
      "dtypes: datetime64[ns](2), object(9)\n",
      "memory usage: 1.9+ MB\n"
     ]
    }
   ],
   "source": [
    "df.info()"
   ]
  },
  {
   "cell_type": "code",
   "execution_count": 84,
   "metadata": {},
   "outputs": [
    {
     "name": "stdout",
     "output_type": "stream",
     "text": [
      "first_name\n",
      "False    15284\n",
      "Name: count, dtype: int64\n",
      "last_name\n",
      "False    15284\n",
      "Name: count, dtype: int64\n",
      "company\n",
      "False    15284\n",
      "Name: count, dtype: int64\n"
     ]
    }
   ],
   "source": [
    "\n",
    "print(df['first_name'].str.contains(r'\\d', regex=True).value_counts())\n",
    "print(df['last_name'].str.contains(r'\\d', regex=True).value_counts())\n",
    "print(df['company'].str.contains(r'\\d', regex=True).value_counts())"
   ]
  },
  {
   "cell_type": "code",
   "execution_count": 85,
   "metadata": {},
   "outputs": [
    {
     "data": {
      "text/plain": [
       "first_name\n",
       "Michael       57\n",
       "Amanda        52\n",
       "Peter         51\n",
       "Jennifer      50\n",
       "Andrew        50\n",
       "              ..\n",
       "Kristopher     1\n",
       "Guido          1\n",
       "Darlene        1\n",
       "Adem           1\n",
       "Athanasios     1\n",
       "Name: count, Length: 2162, dtype: int64"
      ]
     },
     "execution_count": 85,
     "metadata": {},
     "output_type": "execute_result"
    }
   ],
   "source": [
    "df['first_name'].value_counts()"
   ]
  },
  {
   "cell_type": "code",
   "execution_count": 86,
   "metadata": {},
   "outputs": [],
   "source": [
    "#Below was the analysis of numbers from different countries"
   ]
  },
  {
   "cell_type": "code",
   "execution_count": 87,
   "metadata": {},
   "outputs": [
    {
     "data": {
      "text/plain": [
       "country\n",
       "United Kingdom    9371\n",
       "Germany           4708\n",
       "United States     1205\n",
       "Name: count, dtype: int64"
      ]
     },
     "execution_count": 87,
     "metadata": {},
     "output_type": "execute_result"
    }
   ],
   "source": [
    "# Next fix the phone numbers\n",
    "df['country'].value_counts()"
   ]
  },
  {
   "cell_type": "code",
   "execution_count": 88,
   "metadata": {},
   "outputs": [],
   "source": [
    "#"
   ]
  },
  {
   "cell_type": "code",
   "execution_count": 89,
   "metadata": {},
   "outputs": [
    {
     "name": "stdout",
     "output_type": "stream",
     "text": [
      "      first_name last_name date_of_birth                        company  \\\n",
      "5          David    Torres    1949-08-12                   Yang-Stewart   \n",
      "9          Emily     Jones    1992-10-09                Serrano-Leblanc   \n",
      "16        Sierra   Spencer    1988-11-02       Watson, Davis and Cooper   \n",
      "27         Bryan   Nielsen    1979-07-29                    Drake-Clark   \n",
      "35       Melissa    Garcia    1946-06-30  Nelson, Williams and Martinez   \n",
      "...          ...       ...           ...                            ...   \n",
      "15275     George      Cook    1974-01-10                     Miller LLC   \n",
      "15289    Stephen     Davis    1940-08-30      Graham, Fisher and Gibson   \n",
      "15301    Stephen  Gonzales    2006-04-17                    Marquez Ltd   \n",
      "15311    Stephen  Alvarado    2006-07-27                  Wallace-Smith   \n",
      "15318    Stephen    Rivera    1952-06-04          Taylor, Fry and Jones   \n",
      "\n",
      "                       email_address  \\\n",
      "5              mwilliams@nichols.org   \n",
      "9                 toni24@carlson.com   \n",
      "16              justin43@arnold.info   \n",
      "27              julie41@jennings.com   \n",
      "35     alvarezstacy@green-stokes.com   \n",
      "...                              ...   \n",
      "15275          paulhall@johnston.biz   \n",
      "15289              s.davis@smith.com   \n",
      "15301           s.gonzales@smith.com   \n",
      "15311           s.alvarado@smith.com   \n",
      "15318             s.rivera@smith.com   \n",
      "\n",
      "                                                 address        country  \\\n",
      "5          49226 Edwards Mountains,North Sarah, DE 69608  United States   \n",
      "9      012 Andrea Circle Suite 129,Josephmouth, AS 22237  United States   \n",
      "16             05559 Vincent Parkway,Sarahstad, ND 91029  United States   \n",
      "27        0146 Mathis Extension,West Marymouth, WY 18605  United States   \n",
      "35                9288 Patrick Inlet,Jamesfort, CO 48309  United States   \n",
      "...                                                  ...            ...   \n",
      "15275    30109 Shawn Club Suite 503,West Emily, IL 35382  United States   \n",
      "15289              758 Ellis Creek,Port George, MP 93335  United States   \n",
      "15301  530 Mary Hills Suite 652,East Lauriemouth, MT ...  United States   \n",
      "15311          9197 Smith Island,Port Benjamin, ND 32656  United States   \n",
      "15318    660 Ross Falls Suite 357,Anthonymouth, MA 09610  United States   \n",
      "\n",
      "      country_code phone_number  join_date  \\\n",
      "5               US          NaN 2002-01-21   \n",
      "9               US          NaN 1998-05-15   \n",
      "16              US          NaN 2007-03-20   \n",
      "27              US          NaN 2001-09-23   \n",
      "35              US          NaN 2007-01-05   \n",
      "...            ...          ...        ...   \n",
      "15275           US          NaN 2022-02-21   \n",
      "15289           US          NaN 2021-10-27   \n",
      "15301           US          NaN 2011-08-13   \n",
      "15311           US          NaN 2000-07-01   \n",
      "15318           US          NaN 2011-01-03   \n",
      "\n",
      "                                  user_uuid  \n",
      "5      53d21f46-1fa4-452f-a023-26aee2aae4d6  \n",
      "9      caffe463-4918-4f45-a37d-856dc0f15884  \n",
      "16     7c8dc654-3994-40b1-a4a2-e55dc7081fe0  \n",
      "27     e4aae45c-d605-4457-860d-8a460a0a1d69  \n",
      "35     ee0c5f80-2a18-42df-ad88-e898de71dd50  \n",
      "...                                     ...  \n",
      "15275  e397eb0c-7007-4193-be95-76e55743bf89  \n",
      "15289  5f213aff-cd45-498c-ae2b-5a3cb940c05b  \n",
      "15301  68d5933d-8815-48f6-8bd1-7820ed73391a  \n",
      "15311  cbfb7add-74d6-455f-926d-2fe6cc0d10c2  \n",
      "15318  187fe06e-bd5f-4381-af2f-d7ac37ca7572  \n",
      "\n",
      "[1205 rows x 11 columns]\n",
      "<class 'pandas.core.frame.DataFrame'>\n",
      "Index: 1205 entries, 5 to 15318\n",
      "Data columns (total 11 columns):\n",
      " #   Column         Non-Null Count  Dtype         \n",
      "---  ------         --------------  -----         \n",
      " 0   first_name     1205 non-null   object        \n",
      " 1   last_name      1205 non-null   object        \n",
      " 2   date_of_birth  1205 non-null   datetime64[ns]\n",
      " 3   company        1205 non-null   object        \n",
      " 4   email_address  1205 non-null   object        \n",
      " 5   address        1205 non-null   object        \n",
      " 6   country        1205 non-null   object        \n",
      " 7   country_code   1205 non-null   object        \n",
      " 8   phone_number   0 non-null      object        \n",
      " 9   join_date      1205 non-null   datetime64[ns]\n",
      " 10  user_uuid      1205 non-null   object        \n",
      "dtypes: datetime64[ns](2), object(9)\n",
      "memory usage: 113.0+ KB\n",
      "None\n"
     ]
    }
   ],
   "source": [
    "#10 digits\n",
    "us = df[df['country'] == 'United States']\n",
    "print(us)\n",
    "print(us.info())"
   ]
  },
  {
   "cell_type": "code",
   "execution_count": 90,
   "metadata": {},
   "outputs": [
    {
     "name": "stdout",
     "output_type": "stream",
     "text": [
      "valid_phone\n",
      "False    1205\n",
      "Name: count, dtype: int64\n",
      "      first_name last_name date_of_birth                        company  \\\n",
      "5          David    Torres    1949-08-12                   Yang-Stewart   \n",
      "9          Emily     Jones    1992-10-09                Serrano-Leblanc   \n",
      "16        Sierra   Spencer    1988-11-02       Watson, Davis and Cooper   \n",
      "27         Bryan   Nielsen    1979-07-29                    Drake-Clark   \n",
      "35       Melissa    Garcia    1946-06-30  Nelson, Williams and Martinez   \n",
      "...          ...       ...           ...                            ...   \n",
      "15275     George      Cook    1974-01-10                     Miller LLC   \n",
      "15289    Stephen     Davis    1940-08-30      Graham, Fisher and Gibson   \n",
      "15301    Stephen  Gonzales    2006-04-17                    Marquez Ltd   \n",
      "15311    Stephen  Alvarado    2006-07-27                  Wallace-Smith   \n",
      "15318    Stephen    Rivera    1952-06-04          Taylor, Fry and Jones   \n",
      "\n",
      "                       email_address  \\\n",
      "5              mwilliams@nichols.org   \n",
      "9                 toni24@carlson.com   \n",
      "16              justin43@arnold.info   \n",
      "27              julie41@jennings.com   \n",
      "35     alvarezstacy@green-stokes.com   \n",
      "...                              ...   \n",
      "15275          paulhall@johnston.biz   \n",
      "15289              s.davis@smith.com   \n",
      "15301           s.gonzales@smith.com   \n",
      "15311           s.alvarado@smith.com   \n",
      "15318             s.rivera@smith.com   \n",
      "\n",
      "                                                 address        country  \\\n",
      "5          49226 Edwards Mountains,North Sarah, DE 69608  United States   \n",
      "9      012 Andrea Circle Suite 129,Josephmouth, AS 22237  United States   \n",
      "16             05559 Vincent Parkway,Sarahstad, ND 91029  United States   \n",
      "27        0146 Mathis Extension,West Marymouth, WY 18605  United States   \n",
      "35                9288 Patrick Inlet,Jamesfort, CO 48309  United States   \n",
      "...                                                  ...            ...   \n",
      "15275    30109 Shawn Club Suite 503,West Emily, IL 35382  United States   \n",
      "15289              758 Ellis Creek,Port George, MP 93335  United States   \n",
      "15301  530 Mary Hills Suite 652,East Lauriemouth, MT ...  United States   \n",
      "15311          9197 Smith Island,Port Benjamin, ND 32656  United States   \n",
      "15318    660 Ross Falls Suite 357,Anthonymouth, MA 09610  United States   \n",
      "\n",
      "      country_code phone_number  join_date  \\\n",
      "5               US          NaN 2002-01-21   \n",
      "9               US          NaN 1998-05-15   \n",
      "16              US          NaN 2007-03-20   \n",
      "27              US          NaN 2001-09-23   \n",
      "35              US          NaN 2007-01-05   \n",
      "...            ...          ...        ...   \n",
      "15275           US          NaN 2022-02-21   \n",
      "15289           US          NaN 2021-10-27   \n",
      "15301           US          NaN 2011-08-13   \n",
      "15311           US          NaN 2000-07-01   \n",
      "15318           US          NaN 2011-01-03   \n",
      "\n",
      "                                  user_uuid  valid_phone  \n",
      "5      53d21f46-1fa4-452f-a023-26aee2aae4d6        False  \n",
      "9      caffe463-4918-4f45-a37d-856dc0f15884        False  \n",
      "16     7c8dc654-3994-40b1-a4a2-e55dc7081fe0        False  \n",
      "27     e4aae45c-d605-4457-860d-8a460a0a1d69        False  \n",
      "35     ee0c5f80-2a18-42df-ad88-e898de71dd50        False  \n",
      "...                                     ...          ...  \n",
      "15275  e397eb0c-7007-4193-be95-76e55743bf89        False  \n",
      "15289  5f213aff-cd45-498c-ae2b-5a3cb940c05b        False  \n",
      "15301  68d5933d-8815-48f6-8bd1-7820ed73391a        False  \n",
      "15311  cbfb7add-74d6-455f-926d-2fe6cc0d10c2        False  \n",
      "15318  187fe06e-bd5f-4381-af2f-d7ac37ca7572        False  \n",
      "\n",
      "[1205 rows x 12 columns]\n"
     ]
    },
    {
     "name": "stderr",
     "output_type": "stream",
     "text": [
      "C:\\Users\\Janoh\\AppData\\Local\\Temp\\ipykernel_2852\\3246566554.py:3: SettingWithCopyWarning: \n",
      "A value is trying to be set on a copy of a slice from a DataFrame.\n",
      "Try using .loc[row_indexer,col_indexer] = value instead\n",
      "\n",
      "See the caveats in the documentation: https://pandas.pydata.org/pandas-docs/stable/user_guide/indexing.html#returning-a-view-versus-a-copy\n",
      "  us.loc[:,'valid_phone'] = us['phone_number'].str.len() == 10\n"
     ]
    }
   ],
   "source": [
    "# For the USA, typically follow XXX-XXX-XXXX pattern\n",
    "us.loc[:,'phone_number'] = us['phone_number'].str.replace(r'(\\+\\d{1}|x\\d+|001-|[\\.\\-\\(\\)])','',regex=True)\n",
    "us.loc[:,'valid_phone'] = us['phone_number'].str.len() == 10\n",
    "print(us['valid_phone'].value_counts())\n",
    "print(us)\n"
   ]
  },
  {
   "cell_type": "code",
   "execution_count": 91,
   "metadata": {},
   "outputs": [
    {
     "name": "stdout",
     "output_type": "stream",
     "text": [
      "valid_phone\n",
      "False    1205\n",
      "Name: count, dtype: int64\n"
     ]
    }
   ],
   "source": [
    "#Error check - ensure all numbers have exactly 10 digits\n",
    "us.loc[:,'valid_phone'] = us['phone_number'].str.len() == 10\n",
    "print(us['valid_phone'].value_counts())"
   ]
  },
  {
   "cell_type": "code",
   "execution_count": 92,
   "metadata": {},
   "outputs": [
    {
     "name": "stdout",
     "output_type": "stream",
     "text": [
      "<class 'pandas.core.frame.DataFrame'>\n",
      "Index: 4708 entries, 0 to 15317\n",
      "Data columns (total 11 columns):\n",
      " #   Column         Non-Null Count  Dtype         \n",
      "---  ------         --------------  -----         \n",
      " 0   first_name     4708 non-null   object        \n",
      " 1   last_name      4708 non-null   object        \n",
      " 2   date_of_birth  4708 non-null   datetime64[ns]\n",
      " 3   company        4708 non-null   object        \n",
      " 4   email_address  4708 non-null   object        \n",
      " 5   address        4708 non-null   object        \n",
      " 6   country        4708 non-null   object        \n",
      " 7   country_code   4708 non-null   object        \n",
      " 8   phone_number   2615 non-null   object        \n",
      " 9   join_date      4708 non-null   datetime64[ns]\n",
      " 10  user_uuid      4708 non-null   object        \n",
      "dtypes: datetime64[ns](2), object(9)\n",
      "memory usage: 441.4+ KB\n",
      "None\n"
     ]
    }
   ],
   "source": [
    "#Germany have 11 digits\n",
    "germany = df[df['country'] == \"Germany\"]\n",
    "print(germany.info())"
   ]
  },
  {
   "cell_type": "code",
   "execution_count": 93,
   "metadata": {},
   "outputs": [],
   "source": [
    "# Some german numbers are 10 digits. Replace with NaN\n",
    "germany.loc[:,'phone_number'] = germany['phone_number'].str.replace(r'(\\+\\d{2})|\\s+|[(|)]','', regex= True)"
   ]
  },
  {
   "cell_type": "code",
   "execution_count": 94,
   "metadata": {},
   "outputs": [
    {
     "name": "stdout",
     "output_type": "stream",
     "text": [
      "valid_phone\n",
      "True     2615\n",
      "False    2093\n",
      "Name: count, dtype: int64\n"
     ]
    },
    {
     "name": "stderr",
     "output_type": "stream",
     "text": [
      "C:\\Users\\Janoh\\AppData\\Local\\Temp\\ipykernel_2852\\787672041.py:2: SettingWithCopyWarning: \n",
      "A value is trying to be set on a copy of a slice from a DataFrame.\n",
      "Try using .loc[row_indexer,col_indexer] = value instead\n",
      "\n",
      "See the caveats in the documentation: https://pandas.pydata.org/pandas-docs/stable/user_guide/indexing.html#returning-a-view-versus-a-copy\n",
      "  germany.loc[:,'valid_phone'] = germany['phone_number'].str.len() == 11\n"
     ]
    }
   ],
   "source": [
    "#Error check - ensure all numbers have exactly 10 digits\n",
    "germany.loc[:,'valid_phone'] = germany['phone_number'].str.len() == 11\n",
    "germany.loc[~germany['phone_number'].apply(lambda x: len(str(x)) == 11), 'phone_number'] = np.nan\n",
    "print(germany['valid_phone'].value_counts())\n"
   ]
  },
  {
   "cell_type": "code",
   "execution_count": 95,
   "metadata": {},
   "outputs": [
    {
     "name": "stdout",
     "output_type": "stream",
     "text": [
      "      first_name last_name date_of_birth                       company  \\\n",
      "1            Guy     Allen    1940-12-01                       Fox Ltd   \n",
      "2          Harry  Lawrence    1995-08-02     Johnson, Jones and Harris   \n",
      "3         Darren   Hussain    1972-09-23                   Wheeler LLC   \n",
      "4          Garry     Stone    1952-12-20                    Warner Inc   \n",
      "6           Anne    Morris    1952-11-10                Hutchinson Inc   \n",
      "...          ...       ...           ...                           ...   \n",
      "15313    Stephen    Barker    1981-05-01             Marshall-Campbell   \n",
      "15314    Stephen       Fox    1961-04-24             Williams-Phillips   \n",
      "15315    Stephen   Jenkins    1943-08-09  Thornton, Carroll and Newman   \n",
      "15316    Stephen     Smith    1948-08-20               Robinson-Harris   \n",
      "15319    Stephen    Duncan    1994-03-27    Phillips, Brown and Powell   \n",
      "\n",
      "                      email_address  \\\n",
      "1      rhodesclifford@henderson.com   \n",
      "2      glen98@bryant-marshall.co.uk   \n",
      "3        daniellebryan@thompson.org   \n",
      "4           billy14@long-warren.com   \n",
      "6         nhudson@taylor-horton.com   \n",
      "...                             ...   \n",
      "15313            s.barker@smith.com   \n",
      "15314               s.fox@smith.com   \n",
      "15315           s.jenkins@smith.com   \n",
      "15316             s.smith@smith.com   \n",
      "15319            s.duncan@smith.com   \n",
      "\n",
      "                                              address         country  \\\n",
      "1      Studio 22a,Lynne terrace,McCarthymouth,TF0 9GH  United Kingdom   \n",
      "2                    92 Ann drive,Joanborough,SK0 6LR  United Kingdom   \n",
      "3                19 Robinson meadow,New Tracy,W22 2QG  United Kingdom   \n",
      "4                 3 White pass,Hunterborough,NN96 4UE  United Kingdom   \n",
      "6                    33 Shaun locks,Morganland,G8 9YP  United Kingdom   \n",
      "...                                               ...             ...   \n",
      "15313         857 Ross parkways,Mitchellville,CR3 0QQ  United Kingdom   \n",
      "15314     Flat 89,Hutchinson pines,Clarkeview,M7U 1DY  United Kingdom   \n",
      "15315     Studio 41I,Jones lodge,Oliviaborough,E8 3DU  United Kingdom   \n",
      "15316             530 Young parkway,Millsfurt,L4G 7NX  United Kingdom   \n",
      "15319     Studio 4,Hancock road,Phillipsview,ST1X 3XB  United Kingdom   \n",
      "\n",
      "      country_code phone_number  join_date  \\\n",
      "1               GB  01614960674 2001-12-20   \n",
      "2               GB  01214960340 2016-12-16   \n",
      "3               GB  03069990871 2004-02-23   \n",
      "4               GB  01214960225 2006-09-01   \n",
      "6               GB          NaN 2004-06-23   \n",
      "...            ...          ...        ...   \n",
      "15313           GB  01414960548 2014-10-09   \n",
      "15314           GB  01174960015 2007-10-25   \n",
      "15315           GB          NaN 2016-04-15   \n",
      "15316           GB  01144960977 2020-07-20   \n",
      "15319           GB  01314960870 2015-08-28   \n",
      "\n",
      "                                  user_uuid  \n",
      "1      8fe96c3a-d62d-4eb5-b313-cf12d9126a49  \n",
      "2      fc461df4-b919-48b2-909e-55c95a03fe6b  \n",
      "3      6104719f-ef14-4b09-bf04-fb0c4620acb0  \n",
      "4      9523a6d3-b2dd-4670-a51a-36aebc89f579  \n",
      "6      e2066a2c-8cd3-46ad-b2ea-e2445d5d9335  \n",
      "...                                     ...  \n",
      "15313  b8540c97-2c5d-4b79-b955-c0fd998819e7  \n",
      "15314  0ad69cd5-ebda-4d22-b6d8-963424261ddf  \n",
      "15315  2bd3a12f-a92d-4cdd-b99c-fc70572db302  \n",
      "15316  d234c04b-c07c-46a5-a902-526f91478ecc  \n",
      "15319  0589bbca-1d58-4b1f-9d0a-04ed4c57aaa1  \n",
      "\n",
      "[9371 rows x 11 columns]\n"
     ]
    }
   ],
   "source": [
    "#Lastly the UK\n",
    "uk = df[df['country'] == \"United Kingdom\"]\n",
    "print(uk)"
   ]
  },
  {
   "cell_type": "code",
   "execution_count": 96,
   "metadata": {},
   "outputs": [
    {
     "name": "stdout",
     "output_type": "stream",
     "text": [
      "valid_phone\n",
      "True     6474\n",
      "False    2897\n",
      "Name: count, dtype: int64\n"
     ]
    },
    {
     "name": "stderr",
     "output_type": "stream",
     "text": [
      "C:\\Users\\Janoh\\AppData\\Local\\Temp\\ipykernel_2852\\1538497412.py:2: SettingWithCopyWarning: \n",
      "A value is trying to be set on a copy of a slice from a DataFrame.\n",
      "Try using .loc[row_indexer,col_indexer] = value instead\n",
      "\n",
      "See the caveats in the documentation: https://pandas.pydata.org/pandas-docs/stable/user_guide/indexing.html#returning-a-view-versus-a-copy\n",
      "  uk.loc[:,'valid_phone'] = uk['phone_number'].str.len() == 11\n"
     ]
    }
   ],
   "source": [
    "uk.loc[:,'phone_number'] = uk['phone_number'].str.replace(r'(\\+\\d{2})|\\s+|[(|)]','', regex= True)\n",
    "uk.loc[:,'valid_phone'] = uk['phone_number'].str.len() == 11\n",
    "print(uk['valid_phone'].value_counts())"
   ]
  },
  {
   "cell_type": "code",
   "execution_count": 97,
   "metadata": {},
   "outputs": [
    {
     "name": "stdout",
     "output_type": "stream",
     "text": [
      "      first_name last_name date_of_birth                       company  \\\n",
      "1            Guy     Allen    1940-12-01                       Fox Ltd   \n",
      "2          Harry  Lawrence    1995-08-02     Johnson, Jones and Harris   \n",
      "3         Darren   Hussain    1972-09-23                   Wheeler LLC   \n",
      "4          Garry     Stone    1952-12-20                    Warner Inc   \n",
      "6           Anne    Morris    1952-11-10                Hutchinson Inc   \n",
      "...          ...       ...           ...                           ...   \n",
      "15313    Stephen    Barker    1981-05-01             Marshall-Campbell   \n",
      "15314    Stephen       Fox    1961-04-24             Williams-Phillips   \n",
      "15315    Stephen   Jenkins    1943-08-09  Thornton, Carroll and Newman   \n",
      "15316    Stephen     Smith    1948-08-20               Robinson-Harris   \n",
      "15319    Stephen    Duncan    1994-03-27    Phillips, Brown and Powell   \n",
      "\n",
      "                      email_address  \\\n",
      "1      rhodesclifford@henderson.com   \n",
      "2      glen98@bryant-marshall.co.uk   \n",
      "3        daniellebryan@thompson.org   \n",
      "4           billy14@long-warren.com   \n",
      "6         nhudson@taylor-horton.com   \n",
      "...                             ...   \n",
      "15313            s.barker@smith.com   \n",
      "15314               s.fox@smith.com   \n",
      "15315           s.jenkins@smith.com   \n",
      "15316             s.smith@smith.com   \n",
      "15319            s.duncan@smith.com   \n",
      "\n",
      "                                              address         country  \\\n",
      "1      Studio 22a,Lynne terrace,McCarthymouth,TF0 9GH  United Kingdom   \n",
      "2                    92 Ann drive,Joanborough,SK0 6LR  United Kingdom   \n",
      "3                19 Robinson meadow,New Tracy,W22 2QG  United Kingdom   \n",
      "4                 3 White pass,Hunterborough,NN96 4UE  United Kingdom   \n",
      "6                    33 Shaun locks,Morganland,G8 9YP  United Kingdom   \n",
      "...                                               ...             ...   \n",
      "15313         857 Ross parkways,Mitchellville,CR3 0QQ  United Kingdom   \n",
      "15314     Flat 89,Hutchinson pines,Clarkeview,M7U 1DY  United Kingdom   \n",
      "15315     Studio 41I,Jones lodge,Oliviaborough,E8 3DU  United Kingdom   \n",
      "15316             530 Young parkway,Millsfurt,L4G 7NX  United Kingdom   \n",
      "15319     Studio 4,Hancock road,Phillipsview,ST1X 3XB  United Kingdom   \n",
      "\n",
      "      country_code phone_number  join_date  \\\n",
      "1               GB  01614960674 2001-12-20   \n",
      "2               GB  01214960340 2016-12-16   \n",
      "3               GB  03069990871 2004-02-23   \n",
      "4               GB  01214960225 2006-09-01   \n",
      "6               GB          NaN 2004-06-23   \n",
      "...            ...          ...        ...   \n",
      "15313           GB  01414960548 2014-10-09   \n",
      "15314           GB  01174960015 2007-10-25   \n",
      "15315           GB          NaN 2016-04-15   \n",
      "15316           GB  01144960977 2020-07-20   \n",
      "15319           GB  01314960870 2015-08-28   \n",
      "\n",
      "                                  user_uuid  valid_phone  \n",
      "1      8fe96c3a-d62d-4eb5-b313-cf12d9126a49         True  \n",
      "2      fc461df4-b919-48b2-909e-55c95a03fe6b         True  \n",
      "3      6104719f-ef14-4b09-bf04-fb0c4620acb0         True  \n",
      "4      9523a6d3-b2dd-4670-a51a-36aebc89f579         True  \n",
      "6      e2066a2c-8cd3-46ad-b2ea-e2445d5d9335        False  \n",
      "...                                     ...          ...  \n",
      "15313  b8540c97-2c5d-4b79-b955-c0fd998819e7         True  \n",
      "15314  0ad69cd5-ebda-4d22-b6d8-963424261ddf         True  \n",
      "15315  2bd3a12f-a92d-4cdd-b99c-fc70572db302        False  \n",
      "15316  d234c04b-c07c-46a5-a902-526f91478ecc         True  \n",
      "15319  0589bbca-1d58-4b1f-9d0a-04ed4c57aaa1         True  \n",
      "\n",
      "[9371 rows x 12 columns]\n"
     ]
    }
   ],
   "source": [
    "uk.loc[~uk['phone_number'].apply(lambda x: len(str(x)) == 11), 'phone_number'] = np.nan\n",
    "print(uk)"
   ]
  },
  {
   "cell_type": "markdown",
   "metadata": {},
   "source": [
    "### Data cleaning of card details from the S3 bucket"
   ]
  },
  {
   "cell_type": "code",
   "execution_count": 99,
   "metadata": {},
   "outputs": [],
   "source": [
    "import tabula"
   ]
  },
  {
   "cell_type": "code",
   "execution_count": 100,
   "metadata": {},
   "outputs": [],
   "source": [
    "pdf = tabula.read_pdf('https://data-handling-public.s3.eu-west-1.amazonaws.com/card_details.pdf', pages = 'all')"
   ]
  },
  {
   "cell_type": "code",
   "execution_count": 101,
   "metadata": {},
   "outputs": [
    {
     "data": {
      "text/plain": [
       "279"
      ]
     },
     "execution_count": 101,
     "metadata": {},
     "output_type": "execute_result"
    }
   ],
   "source": [
    "len(pdf)"
   ]
  },
  {
   "cell_type": "code",
   "execution_count": 102,
   "metadata": {},
   "outputs": [
    {
     "name": "stdout",
     "output_type": "stream",
     "text": [
      "        card_number expiry_date                card_provider  \\\n",
      "0    30060773296197       09/26  Diners Club / Carte Blanche   \n",
      "1   349624180933183       10/23             American Express   \n",
      "2  3529023891650490       06/23                 JCB 16 digit   \n",
      "3   213142929492281       09/27                 JCB 15 digit   \n",
      "4      502067329974       10/25                      Maestro   \n",
      "\n",
      "  date_payment_confirmed  \n",
      "0             2015-11-25  \n",
      "1             2001-06-18  \n",
      "2             2000-12-26  \n",
      "3             2011-02-12  \n",
      "4             1997-03-13  \n",
      "<class 'pandas.core.frame.DataFrame'>\n"
     ]
    }
   ],
   "source": [
    "import pandas as pd\n",
    "pdf2 = pd.concat(pdf, ignore_index = True)\n",
    "print(pdf2.head(5))\n",
    "print(type(pdf2))"
   ]
  },
  {
   "cell_type": "code",
   "execution_count": 103,
   "metadata": {},
   "outputs": [
    {
     "name": "stdout",
     "output_type": "stream",
     "text": [
      "<class 'pandas.core.frame.DataFrame'>\n",
      "RangeIndex: 15309 entries, 0 to 15308\n",
      "Data columns (total 4 columns):\n",
      " #   Column                  Non-Null Count  Dtype \n",
      "---  ------                  --------------  ----- \n",
      " 0   card_number             15309 non-null  object\n",
      " 1   expiry_date             15309 non-null  object\n",
      " 2   card_provider           15309 non-null  object\n",
      " 3   date_payment_confirmed  15309 non-null  object\n",
      "dtypes: object(4)\n",
      "memory usage: 478.5+ KB\n",
      "None\n"
     ]
    }
   ],
   "source": [
    "# Now in dataframe format\n",
    "print(pdf2.info())"
   ]
  },
  {
   "cell_type": "code",
   "execution_count": 104,
   "metadata": {},
   "outputs": [
    {
     "name": "stdout",
     "output_type": "stream",
     "text": [
      "['VISA 16 digit', 'JCB 16 digit', 'VISA 13 digit', 'JCB 15 digit', 'VISA 19 digit', 'Diners Club / Carte Blanche', 'American Express', 'Maestro', 'Discover', 'Mastercard']\n"
     ]
    }
   ],
   "source": [
    "card_names = pdf2['card_provider'].value_counts()\n",
    "get_card_names = card_names[card_names > 1000].index.tolist()\n",
    "print(get_card_names)"
   ]
  },
  {
   "cell_type": "code",
   "execution_count": 105,
   "metadata": {},
   "outputs": [
    {
     "name": "stdout",
     "output_type": "stream",
     "text": [
      "      card_number expiry_date card_provider date_payment_confirmed\n",
      "377          NULL        NULL          NULL                   NULL\n",
      "827    VAB9DSB8ZM  NWS3P2W38H    NB71VBAHJE             GTC9KBWJO9\n",
      "847          NULL        NULL          NULL                   NULL\n",
      "884          NULL        NULL          NULL                   NULL\n",
      "1443   MOZOT5Q95V  8YJ3TYH6Z5    WJVMUO4QX6             DJIXF1AFAZ\n",
      "2418         NULL        NULL          NULL                   NULL\n",
      "2489         NULL        NULL          NULL                   NULL\n",
      "2830         NULL        NULL          NULL                   NULL\n",
      "3694   K0084A9R99  ACT9K6ECRJ    JRPRLPIBZ2             H2PCQP4W50\n",
      "4196         NULL        NULL          NULL                   NULL\n",
      "4208   Y8ITI33X30  WDWMN9TU45    TS8A81WFXV             XTD27ANR5Q\n",
      "4916   RNSCD8OCIM  VNLNMWPJII    JCQMU8FN85             7VGB4DA1WI\n",
      "5686         NULL        NULL          NULL                   NULL\n",
      "6024         NULL        NULL          NULL                   NULL\n",
      "6653   MIK9G2EMM0  4FI5GTUVYG    5CJH7ABGDR             RLQYRRYHPU\n",
      "7332   I4PWLWSIRJ  RF1ACW165R    DE488ORDXY             T008RE1ZR6\n",
      "7493   OMZSBN2XG3  6JJKS7R0WA    OGJTXI6X1H             7FL8EU9GBF\n",
      "7818   NB8JJ05D7R  XRPE6C4GS9    1M38DYQTZV             GD9PHJXQR4\n",
      "10457  G0EF4TS8C8  5VN8HOLMVE    DLWF2HANZF             WCK463ZO1Z\n",
      "11345  Z8855EXTJX  Q7VGWP7LH9    XGZBYBYGUW             OE3KONN2V6\n",
      "11465  JQTLQAAQTD  ZBGGFGY4H0    UA07L7EILH             T995FX2C7W\n",
      "11499  T23BTBBJDD  UMR9FIE22M    BU9U947ZGV             EVVMMB3QYV\n",
      "12876        NULL        NULL          NULL                   NULL\n",
      "13708        NULL        NULL          NULL                   NULL\n",
      "14884  LSWT9DT4G4  2ANT8LW3I5    5MFWFBZRM9             UZGSD0AEBT\n",
      "<class 'pandas.core.frame.DataFrame'>\n",
      "Index: 25 entries, 377 to 14884\n",
      "Data columns (total 4 columns):\n",
      " #   Column                  Non-Null Count  Dtype \n",
      "---  ------                  --------------  ----- \n",
      " 0   card_number             25 non-null     object\n",
      " 1   expiry_date             25 non-null     object\n",
      " 2   card_provider           25 non-null     object\n",
      " 3   date_payment_confirmed  25 non-null     object\n",
      "dtypes: object(4)\n",
      "memory usage: 1000.0+ bytes\n",
      "None\n"
     ]
    }
   ],
   "source": [
    "#All the dodgy cards have dodgy data, so remove\n",
    "checking_dodgy_cards = pdf2[~pdf2['card_provider'].isin(get_card_names)]\n",
    "print(checking_dodgy_cards)\n",
    "print(checking_dodgy_cards.info())"
   ]
  },
  {
   "cell_type": "code",
   "execution_count": 106,
   "metadata": {},
   "outputs": [
    {
     "name": "stdout",
     "output_type": "stream",
     "text": [
      "card_provider\n",
      "VISA 16 digit                  2426\n",
      "JCB 16 digit                   2403\n",
      "VISA 13 digit                  1382\n",
      "JCB 15 digit                   1363\n",
      "VISA 19 digit                  1349\n",
      "Diners Club / Carte Blanche    1312\n",
      "American Express               1297\n",
      "Maestro                        1281\n",
      "Discover                       1260\n",
      "Mastercard                     1211\n",
      "Name: count, dtype: int64\n"
     ]
    }
   ],
   "source": [
    "# pdf3 symbolises the removal of nulls and dodgy data\n",
    "pdf3 = pdf2[pdf2['card_provider'].isin(get_card_names)]\n",
    "print(pdf3['card_provider'].value_counts())"
   ]
  },
  {
   "cell_type": "code",
   "execution_count": 107,
   "metadata": {},
   "outputs": [
    {
     "name": "stdout",
     "output_type": "stream",
     "text": [
      "0        09/26\n",
      "1        10/23\n",
      "2        06/23\n",
      "3        09/27\n",
      "4        10/25\n",
      "         ...  \n",
      "15304    12/28\n",
      "15305    11/24\n",
      "15306    04/24\n",
      "15307    06/27\n",
      "15308    02/30\n",
      "Name: expiry_date, Length: 15284, dtype: object\n"
     ]
    }
   ],
   "source": [
    "print(pdf3['expiry_date'])"
   ]
  },
  {
   "cell_type": "code",
   "execution_count": 108,
   "metadata": {},
   "outputs": [
    {
     "data": {
      "text/plain": [
       "0     09/26\n",
       "1     10/23\n",
       "2     06/23\n",
       "3     09/27\n",
       "4     10/25\n",
       "5     11/23\n",
       "6     07/27\n",
       "7     02/29\n",
       "8     02/24\n",
       "9     07/23\n",
       "10    10/28\n",
       "11    11/27\n",
       "12    11/31\n",
       "13    10/29\n",
       "14    01/29\n",
       "15    01/26\n",
       "16    02/32\n",
       "17    10/26\n",
       "18    08/28\n",
       "19    09/32\n",
       "Name: expiry_date, dtype: object"
      ]
     },
     "execution_count": 108,
     "metadata": {},
     "output_type": "execute_result"
    }
   ],
   "source": [
    "#pdf3['expiry_date'] = pdf3['expiry_date'].apply(parse)\n",
    "#pdf3['expiry_date'] = pd.to_datetime(pdf3['expiry_date'], errors='coerce', format = '%m/%Y')\n",
    "#na_index = pdf3.index[pdf3['date_of_birth'].isna()].tolist() \n",
    "pdf3['expiry_date'].head(20)"
   ]
  },
  {
   "cell_type": "code",
   "execution_count": 109,
   "metadata": {},
   "outputs": [],
   "source": [
    "def custom_parse(date_string):\n",
    "    month,year = date_string.split('/')\n",
    "    return parse('01'+'/'+ date_string, ignoretz = True)"
   ]
  },
  {
   "cell_type": "code",
   "execution_count": 110,
   "metadata": {},
   "outputs": [
    {
     "data": {
      "text/plain": [
       "'10/23'"
      ]
     },
     "execution_count": 110,
     "metadata": {},
     "output_type": "execute_result"
    }
   ],
   "source": [
    "pdf3['expiry_date'][1]"
   ]
  },
  {
   "cell_type": "code",
   "execution_count": 111,
   "metadata": {},
   "outputs": [],
   "source": [
    "pdf3.loc[:,'expiry_date'] = pdf3['expiry_date'].apply(custom_parse)\n",
    "pdf3.loc[:,'expiry_date'] = pd.to_datetime(pdf3['expiry_date'])"
   ]
  },
  {
   "cell_type": "code",
   "execution_count": 112,
   "metadata": {},
   "outputs": [
    {
     "name": "stdout",
     "output_type": "stream",
     "text": [
      "0     2026-01-09 00:00:00\n",
      "1     2023-01-10 00:00:00\n",
      "2     2023-01-06 00:00:00\n",
      "3     2027-01-09 00:00:00\n",
      "4     2025-01-10 00:00:00\n",
      "5     2023-01-11 00:00:00\n",
      "6     2027-01-07 00:00:00\n",
      "7     2029-01-02 00:00:00\n",
      "8     2024-01-02 00:00:00\n",
      "9     2023-01-07 00:00:00\n",
      "10    2028-01-10 00:00:00\n",
      "11    2027-01-11 00:00:00\n",
      "12    2031-01-11 00:00:00\n",
      "13    2029-01-10 00:00:00\n",
      "14    2029-01-01 00:00:00\n",
      "15    2026-01-01 00:00:00\n",
      "16    2032-01-02 00:00:00\n",
      "17    2026-01-10 00:00:00\n",
      "18    2028-01-08 00:00:00\n",
      "19    2032-01-09 00:00:00\n",
      "Name: expiry_date, dtype: object\n",
      "0\n"
     ]
    }
   ],
   "source": [
    "print(pdf3['expiry_date'].head(20))\n",
    "print(pdf3['expiry_date'].isnull().sum())\n"
   ]
  },
  {
   "cell_type": "code",
   "execution_count": 113,
   "metadata": {},
   "outputs": [
    {
     "name": "stdout",
     "output_type": "stream",
     "text": [
      "Empty DataFrame\n",
      "Columns: [card_number, expiry_date, card_provider, date_payment_confirmed]\n",
      "Index: []\n"
     ]
    }
   ],
   "source": [
    "#No expiry dates our of the ordinary\n",
    "expired = pdf3[pdf3['expiry_date'] > pd.to_datetime('2050-01-01')]\n",
    "print(expired)"
   ]
  },
  {
   "cell_type": "code",
   "execution_count": 114,
   "metadata": {},
   "outputs": [
    {
     "name": "stdout",
     "output_type": "stream",
     "text": [
      "<class 'pandas.core.frame.DataFrame'>\n",
      "Index: 15284 entries, 0 to 15308\n",
      "Data columns (total 4 columns):\n",
      " #   Column                  Non-Null Count  Dtype \n",
      "---  ------                  --------------  ----- \n",
      " 0   card_number             15284 non-null  object\n",
      " 1   expiry_date             15284 non-null  object\n",
      " 2   card_provider           15284 non-null  object\n",
      " 3   date_payment_confirmed  15284 non-null  object\n",
      "dtypes: object(4)\n",
      "memory usage: 1.1+ MB\n"
     ]
    }
   ],
   "source": [
    "pdf3.info()"
   ]
  },
  {
   "cell_type": "code",
   "execution_count": 115,
   "metadata": {},
   "outputs": [
    {
     "data": {
      "text/html": [
       "<div>\n",
       "<style scoped>\n",
       "    .dataframe tbody tr th:only-of-type {\n",
       "        vertical-align: middle;\n",
       "    }\n",
       "\n",
       "    .dataframe tbody tr th {\n",
       "        vertical-align: top;\n",
       "    }\n",
       "\n",
       "    .dataframe thead th {\n",
       "        text-align: right;\n",
       "    }\n",
       "</style>\n",
       "<table border=\"1\" class=\"dataframe\">\n",
       "  <thead>\n",
       "    <tr style=\"text-align: right;\">\n",
       "      <th></th>\n",
       "      <th>card_number</th>\n",
       "      <th>expiry_date</th>\n",
       "      <th>card_provider</th>\n",
       "      <th>date_payment_confirmed</th>\n",
       "    </tr>\n",
       "  </thead>\n",
       "  <tbody>\n",
       "  </tbody>\n",
       "</table>\n",
       "</div>"
      ],
      "text/plain": [
       "Empty DataFrame\n",
       "Columns: [card_number, expiry_date, card_provider, date_payment_confirmed]\n",
       "Index: []"
      ]
     },
     "execution_count": 115,
     "metadata": {},
     "output_type": "execute_result"
    }
   ],
   "source": [
    "# date of payment looks good too\n",
    "pdf3['date_payment_confirmed'].head(5)\n",
    "pdf3.loc[:,'date_payment_confirmed'] = pdf3['date_payment_confirmed'].apply(parse)\n",
    "pdf3['date_payment_confirmed'].isnull().sum()\n",
    "pdf3[pdf3['date_payment_confirmed'] > pd.to_datetime(\"2022-12-01\")]"
   ]
  },
  {
   "cell_type": "code",
   "execution_count": 116,
   "metadata": {},
   "outputs": [
    {
     "name": "stdout",
     "output_type": "stream",
     "text": [
      "<class 'int'>\n"
     ]
    }
   ],
   "source": [
    "# Card number\n",
    "pdf3['card_number'].head(20)\n",
    "print(type(pdf3['card_number'][1]))"
   ]
  },
  {
   "cell_type": "code",
   "execution_count": 117,
   "metadata": {},
   "outputs": [],
   "source": [
    "def check_alpha(string):\n",
    "    return str(string).isalpha()"
   ]
  },
  {
   "cell_type": "code",
   "execution_count": 118,
   "metadata": {},
   "outputs": [
    {
     "data": {
      "text/plain": [
       "card_number\n",
       "False    15284\n",
       "Name: count, dtype: int64"
      ]
     },
     "execution_count": 118,
     "metadata": {},
     "output_type": "execute_result"
    }
   ],
   "source": [
    "#This didnt pick up some card numbers had '?' \n",
    "pdf3['card_number'].apply(check_alpha).value_counts()"
   ]
  },
  {
   "cell_type": "code",
   "execution_count": 119,
   "metadata": {},
   "outputs": [
    {
     "name": "stdout",
     "output_type": "stream",
     "text": [
      "card_provider\n",
      "VISA 16 digit                  2426\n",
      "JCB 16 digit                   2403\n",
      "VISA 13 digit                  1382\n",
      "JCB 15 digit                   1363\n",
      "VISA 19 digit                  1349\n",
      "Diners Club / Carte Blanche    1312\n",
      "American Express               1297\n",
      "Maestro                        1281\n",
      "Discover                       1260\n",
      "Mastercard                     1211\n",
      "Name: count, dtype: int64\n"
     ]
    }
   ],
   "source": [
    "pdf3.loc[:,'card_number'] = str(pdf3['card_number'])\n",
    "print(pdf3['card_provider'].value_counts())\n",
    "# diners club = 14\n",
    "# AMEX = 15\n",
    "# Maestro = 12 to 19. 50, 56-69, 67\n",
    "# Discover = 16\n",
    "# Mastercard = 16"
   ]
  },
  {
   "cell_type": "code",
   "execution_count": 120,
   "metadata": {},
   "outputs": [],
   "source": [
    "def get_length(column):\n",
    "    if 'Diners' in column:\n",
    "        return 14\n",
    "    elif 'American Express' in column:\n",
    "        return 15\n",
    "    elif 'Discover' in column:\n",
    "        return 16\n",
    "    elif 'Mastercard' in column:\n",
    "        return 16\n",
    "    elif 'JCB' in column or 'VISA' in column:\n",
    "        return int(''.join(filter(str.isdigit, column)))\n",
    "    elif 'Maestro' in column:\n",
    "        return list(range(12,20))\n",
    "    elif 'Diners Club / Carte Blanche' in column:\n",
    "        return 14\n",
    "    else:\n",
    "        return None"
   ]
  },
  {
   "cell_type": "code",
   "execution_count": 121,
   "metadata": {},
   "outputs": [
    {
     "name": "stderr",
     "output_type": "stream",
     "text": [
      "C:\\Users\\Janoh\\AppData\\Local\\Temp\\ipykernel_2852\\3089059518.py:1: SettingWithCopyWarning: \n",
      "A value is trying to be set on a copy of a slice from a DataFrame.\n",
      "Try using .loc[row_indexer,col_indexer] = value instead\n",
      "\n",
      "See the caveats in the documentation: https://pandas.pydata.org/pandas-docs/stable/user_guide/indexing.html#returning-a-view-versus-a-copy\n",
      "  pdf3.loc[:,'expected_num_dig'] = pdf3['card_provider'].apply(get_length)\n"
     ]
    }
   ],
   "source": [
    "pdf3.loc[:,'expected_num_dig'] = pdf3['card_provider'].apply(get_length)"
   ]
  },
  {
   "cell_type": "code",
   "execution_count": 122,
   "metadata": {},
   "outputs": [],
   "source": [
    "#Run this code if you encounter any errors \n",
    "#pdf3 = pdf2[pdf2['card_provider'].isin(get_card_names)]"
   ]
  },
  {
   "cell_type": "code",
   "execution_count": 123,
   "metadata": {},
   "outputs": [
    {
     "data": {
      "text/html": [
       "<div>\n",
       "<style scoped>\n",
       "    .dataframe tbody tr th:only-of-type {\n",
       "        vertical-align: middle;\n",
       "    }\n",
       "\n",
       "    .dataframe tbody tr th {\n",
       "        vertical-align: top;\n",
       "    }\n",
       "\n",
       "    .dataframe thead th {\n",
       "        text-align: right;\n",
       "    }\n",
       "</style>\n",
       "<table border=\"1\" class=\"dataframe\">\n",
       "  <thead>\n",
       "    <tr style=\"text-align: right;\">\n",
       "      <th></th>\n",
       "      <th>card_number</th>\n",
       "      <th>card_provider</th>\n",
       "      <th>expected_num_dig</th>\n",
       "    </tr>\n",
       "  </thead>\n",
       "  <tbody>\n",
       "    <tr>\n",
       "      <th>0</th>\n",
       "      <td>0          30060773296197\\n1         349624180...</td>\n",
       "      <td>Diners Club / Carte Blanche</td>\n",
       "      <td>14</td>\n",
       "    </tr>\n",
       "    <tr>\n",
       "      <th>1</th>\n",
       "      <td>0          30060773296197\\n1         349624180...</td>\n",
       "      <td>American Express</td>\n",
       "      <td>15</td>\n",
       "    </tr>\n",
       "    <tr>\n",
       "      <th>2</th>\n",
       "      <td>0          30060773296197\\n1         349624180...</td>\n",
       "      <td>JCB 16 digit</td>\n",
       "      <td>16</td>\n",
       "    </tr>\n",
       "    <tr>\n",
       "      <th>3</th>\n",
       "      <td>0          30060773296197\\n1         349624180...</td>\n",
       "      <td>JCB 15 digit</td>\n",
       "      <td>15</td>\n",
       "    </tr>\n",
       "    <tr>\n",
       "      <th>4</th>\n",
       "      <td>0          30060773296197\\n1         349624180...</td>\n",
       "      <td>Maestro</td>\n",
       "      <td>[12, 13, 14, 15, 16, 17, 18, 19]</td>\n",
       "    </tr>\n",
       "    <tr>\n",
       "      <th>...</th>\n",
       "      <td>...</td>\n",
       "      <td>...</td>\n",
       "      <td>...</td>\n",
       "    </tr>\n",
       "    <tr>\n",
       "      <th>15304</th>\n",
       "      <td>0          30060773296197\\n1         349624180...</td>\n",
       "      <td>JCB 15 digit</td>\n",
       "      <td>15</td>\n",
       "    </tr>\n",
       "    <tr>\n",
       "      <th>15305</th>\n",
       "      <td>0          30060773296197\\n1         349624180...</td>\n",
       "      <td>JCB 15 digit</td>\n",
       "      <td>15</td>\n",
       "    </tr>\n",
       "    <tr>\n",
       "      <th>15306</th>\n",
       "      <td>0          30060773296197\\n1         349624180...</td>\n",
       "      <td>JCB 16 digit</td>\n",
       "      <td>16</td>\n",
       "    </tr>\n",
       "    <tr>\n",
       "      <th>15307</th>\n",
       "      <td>0          30060773296197\\n1         349624180...</td>\n",
       "      <td>VISA 16 digit</td>\n",
       "      <td>16</td>\n",
       "    </tr>\n",
       "    <tr>\n",
       "      <th>15308</th>\n",
       "      <td>0          30060773296197\\n1         349624180...</td>\n",
       "      <td>American Express</td>\n",
       "      <td>15</td>\n",
       "    </tr>\n",
       "  </tbody>\n",
       "</table>\n",
       "<p>15284 rows × 3 columns</p>\n",
       "</div>"
      ],
      "text/plain": [
       "                                             card_number  \\\n",
       "0      0          30060773296197\\n1         349624180...   \n",
       "1      0          30060773296197\\n1         349624180...   \n",
       "2      0          30060773296197\\n1         349624180...   \n",
       "3      0          30060773296197\\n1         349624180...   \n",
       "4      0          30060773296197\\n1         349624180...   \n",
       "...                                                  ...   \n",
       "15304  0          30060773296197\\n1         349624180...   \n",
       "15305  0          30060773296197\\n1         349624180...   \n",
       "15306  0          30060773296197\\n1         349624180...   \n",
       "15307  0          30060773296197\\n1         349624180...   \n",
       "15308  0          30060773296197\\n1         349624180...   \n",
       "\n",
       "                     card_provider                  expected_num_dig  \n",
       "0      Diners Club / Carte Blanche                                14  \n",
       "1                 American Express                                15  \n",
       "2                     JCB 16 digit                                16  \n",
       "3                     JCB 15 digit                                15  \n",
       "4                          Maestro  [12, 13, 14, 15, 16, 17, 18, 19]  \n",
       "...                            ...                               ...  \n",
       "15304                 JCB 15 digit                                15  \n",
       "15305                 JCB 15 digit                                15  \n",
       "15306                 JCB 16 digit                                16  \n",
       "15307                VISA 16 digit                                16  \n",
       "15308             American Express                                15  \n",
       "\n",
       "[15284 rows x 3 columns]"
      ]
     },
     "execution_count": 123,
     "metadata": {},
     "output_type": "execute_result"
    }
   ],
   "source": [
    "pdf3[['card_number','card_provider','expected_num_dig']]"
   ]
  },
  {
   "cell_type": "code",
   "execution_count": 124,
   "metadata": {},
   "outputs": [
    {
     "name": "stderr",
     "output_type": "stream",
     "text": [
      "C:\\Users\\Janoh\\AppData\\Local\\Temp\\ipykernel_2852\\284436329.py:1: SettingWithCopyWarning: \n",
      "A value is trying to be set on a copy of a slice from a DataFrame.\n",
      "Try using .loc[row_indexer,col_indexer] = value instead\n",
      "\n",
      "See the caveats in the documentation: https://pandas.pydata.org/pandas-docs/stable/user_guide/indexing.html#returning-a-view-versus-a-copy\n",
      "  pdf3.loc[:,'comparison'] = pdf3.apply(lambda row: len(str(row['card_number'])) == row['expected_num_dig'] if isinstance(row['expected_num_dig'], int) else len(str(row['card_number'])) in row['expected_num_dig'], axis=1)\n"
     ]
    }
   ],
   "source": [
    "pdf3.loc[:,'comparison'] = pdf3.apply(lambda row: len(str(row['card_number'])) == row['expected_num_dig'] if isinstance(row['expected_num_dig'], int) else len(str(row['card_number'])) in row['expected_num_dig'], axis=1)"
   ]
  },
  {
   "cell_type": "code",
   "execution_count": 125,
   "metadata": {},
   "outputs": [
    {
     "data": {
      "text/plain": [
       "comparison\n",
       "False    15284\n",
       "Name: count, dtype: int64"
      ]
     },
     "execution_count": 125,
     "metadata": {},
     "output_type": "execute_result"
    }
   ],
   "source": [
    "pdf3['comparison'].value_counts()"
   ]
  },
  {
   "cell_type": "code",
   "execution_count": 126,
   "metadata": {},
   "outputs": [],
   "source": [
    "import pandas as pd\n",
    "review = pdf3[pdf3['comparison'] == False].head(100)\n",
    "review.to_csv('review.csv')"
   ]
  },
  {
   "cell_type": "code",
   "execution_count": 127,
   "metadata": {},
   "outputs": [
    {
     "name": "stdout",
     "output_type": "stream",
     "text": [
      "                                             card_number          expiry_date  \\\n",
      "4      0          30060773296197\\n1         349624180...  2025-01-10 00:00:00   \n",
      "9      0          30060773296197\\n1         349624180...  2023-01-07 00:00:00   \n",
      "35     0          30060773296197\\n1         349624180...  2027-01-08 00:00:00   \n",
      "42     0          30060773296197\\n1         349624180...  2027-01-07 00:00:00   \n",
      "49     0          30060773296197\\n1         349624180...  2025-01-02 00:00:00   \n",
      "...                                                  ...                  ...   \n",
      "15240  0          30060773296197\\n1         349624180...  2032-01-04 00:00:00   \n",
      "15285  0          30060773296197\\n1         349624180...  2024-01-10 00:00:00   \n",
      "15289  0          30060773296197\\n1         349624180...  2026-01-11 00:00:00   \n",
      "15290  0          30060773296197\\n1         349624180...  2028-01-11 00:00:00   \n",
      "15291  0          30060773296197\\n1         349624180...  2028-01-05 00:00:00   \n",
      "\n",
      "      card_provider date_payment_confirmed                  expected_num_dig  \\\n",
      "4           Maestro    1997-03-13 00:00:00  [12, 13, 14, 15, 16, 17, 18, 19]   \n",
      "9           Maestro    2011-04-30 00:00:00  [12, 13, 14, 15, 16, 17, 18, 19]   \n",
      "35          Maestro    2022-11-18 00:00:00  [12, 13, 14, 15, 16, 17, 18, 19]   \n",
      "42          Maestro    2006-12-31 00:00:00  [12, 13, 14, 15, 16, 17, 18, 19]   \n",
      "49          Maestro    1995-07-22 00:00:00  [12, 13, 14, 15, 16, 17, 18, 19]   \n",
      "...             ...                    ...                               ...   \n",
      "15240       Maestro    2013-10-03 00:00:00  [12, 13, 14, 15, 16, 17, 18, 19]   \n",
      "15285       Maestro    2009-02-26 00:00:00  [12, 13, 14, 15, 16, 17, 18, 19]   \n",
      "15289       Maestro    2003-08-25 00:00:00  [12, 13, 14, 15, 16, 17, 18, 19]   \n",
      "15290       Maestro    2015-05-22 00:00:00  [12, 13, 14, 15, 16, 17, 18, 19]   \n",
      "15291       Maestro    2002-08-29 00:00:00  [12, 13, 14, 15, 16, 17, 18, 19]   \n",
      "\n",
      "       comparison  \n",
      "4           False  \n",
      "9           False  \n",
      "35          False  \n",
      "42          False  \n",
      "49          False  \n",
      "...           ...  \n",
      "15240       False  \n",
      "15285       False  \n",
      "15289       False  \n",
      "15290       False  \n",
      "15291       False  \n",
      "\n",
      "[1281 rows x 6 columns]\n"
     ]
    }
   ],
   "source": [
    "review = pdf3[pdf3['card_provider'] == 'Maestro']\n",
    "print(review)"
   ]
  },
  {
   "cell_type": "code",
   "execution_count": 128,
   "metadata": {},
   "outputs": [
    {
     "name": "stderr",
     "output_type": "stream",
     "text": [
      "C:\\Users\\Janoh\\AppData\\Local\\Temp\\ipykernel_2852\\3786287763.py:1: SettingWithCopyWarning: \n",
      "A value is trying to be set on a copy of a slice from a DataFrame.\n",
      "Try using .loc[row_indexer,col_indexer] = value instead\n",
      "\n",
      "See the caveats in the documentation: https://pandas.pydata.org/pandas-docs/stable/user_guide/indexing.html#returning-a-view-versus-a-copy\n",
      "  pdf3['card_number'] = pdf3['card_number'].astype(str)\n"
     ]
    }
   ],
   "source": [
    "pdf3['card_number'] = pdf3['card_number'].astype(str)"
   ]
  },
  {
   "cell_type": "code",
   "execution_count": 129,
   "metadata": {},
   "outputs": [
    {
     "data": {
      "text/html": [
       "<div>\n",
       "<style scoped>\n",
       "    .dataframe tbody tr th:only-of-type {\n",
       "        vertical-align: middle;\n",
       "    }\n",
       "\n",
       "    .dataframe tbody tr th {\n",
       "        vertical-align: top;\n",
       "    }\n",
       "\n",
       "    .dataframe thead th {\n",
       "        text-align: right;\n",
       "    }\n",
       "</style>\n",
       "<table border=\"1\" class=\"dataframe\">\n",
       "  <thead>\n",
       "    <tr style=\"text-align: right;\">\n",
       "      <th></th>\n",
       "      <th>card_number</th>\n",
       "      <th>expiry_date</th>\n",
       "      <th>card_provider</th>\n",
       "      <th>date_payment_confirmed</th>\n",
       "      <th>expected_num_dig</th>\n",
       "      <th>comparison</th>\n",
       "    </tr>\n",
       "  </thead>\n",
       "  <tbody>\n",
       "    <tr>\n",
       "      <th>0</th>\n",
       "      <td>0          30060773296197\\n1         349624180...</td>\n",
       "      <td>2026-01-09 00:00:00</td>\n",
       "      <td>Diners Club / Carte Blanche</td>\n",
       "      <td>2015-11-25 00:00:00</td>\n",
       "      <td>14</td>\n",
       "      <td>False</td>\n",
       "    </tr>\n",
       "    <tr>\n",
       "      <th>1</th>\n",
       "      <td>0          30060773296197\\n1         349624180...</td>\n",
       "      <td>2023-01-10 00:00:00</td>\n",
       "      <td>American Express</td>\n",
       "      <td>2001-06-18 00:00:00</td>\n",
       "      <td>15</td>\n",
       "      <td>False</td>\n",
       "    </tr>\n",
       "    <tr>\n",
       "      <th>2</th>\n",
       "      <td>0          30060773296197\\n1         349624180...</td>\n",
       "      <td>2023-01-06 00:00:00</td>\n",
       "      <td>JCB 16 digit</td>\n",
       "      <td>2000-12-26 00:00:00</td>\n",
       "      <td>16</td>\n",
       "      <td>False</td>\n",
       "    </tr>\n",
       "    <tr>\n",
       "      <th>3</th>\n",
       "      <td>0          30060773296197\\n1         349624180...</td>\n",
       "      <td>2027-01-09 00:00:00</td>\n",
       "      <td>JCB 15 digit</td>\n",
       "      <td>2011-02-12 00:00:00</td>\n",
       "      <td>15</td>\n",
       "      <td>False</td>\n",
       "    </tr>\n",
       "    <tr>\n",
       "      <th>4</th>\n",
       "      <td>0          30060773296197\\n1         349624180...</td>\n",
       "      <td>2025-01-10 00:00:00</td>\n",
       "      <td>Maestro</td>\n",
       "      <td>1997-03-13 00:00:00</td>\n",
       "      <td>[12, 13, 14, 15, 16, 17, 18, 19]</td>\n",
       "      <td>False</td>\n",
       "    </tr>\n",
       "    <tr>\n",
       "      <th>...</th>\n",
       "      <td>...</td>\n",
       "      <td>...</td>\n",
       "      <td>...</td>\n",
       "      <td>...</td>\n",
       "      <td>...</td>\n",
       "      <td>...</td>\n",
       "    </tr>\n",
       "    <tr>\n",
       "      <th>15304</th>\n",
       "      <td>0          30060773296197\\n1         349624180...</td>\n",
       "      <td>2028-01-12 00:00:00</td>\n",
       "      <td>JCB 15 digit</td>\n",
       "      <td>1997-06-06 00:00:00</td>\n",
       "      <td>15</td>\n",
       "      <td>False</td>\n",
       "    </tr>\n",
       "    <tr>\n",
       "      <th>15305</th>\n",
       "      <td>0          30060773296197\\n1         349624180...</td>\n",
       "      <td>2024-01-11 00:00:00</td>\n",
       "      <td>JCB 15 digit</td>\n",
       "      <td>2004-06-16 00:00:00</td>\n",
       "      <td>15</td>\n",
       "      <td>False</td>\n",
       "    </tr>\n",
       "    <tr>\n",
       "      <th>15306</th>\n",
       "      <td>0          30060773296197\\n1         349624180...</td>\n",
       "      <td>2024-01-04 00:00:00</td>\n",
       "      <td>JCB 16 digit</td>\n",
       "      <td>2020-02-05 00:00:00</td>\n",
       "      <td>16</td>\n",
       "      <td>False</td>\n",
       "    </tr>\n",
       "    <tr>\n",
       "      <th>15307</th>\n",
       "      <td>0          30060773296197\\n1         349624180...</td>\n",
       "      <td>2027-01-06 00:00:00</td>\n",
       "      <td>VISA 16 digit</td>\n",
       "      <td>2008-06-16 00:00:00</td>\n",
       "      <td>16</td>\n",
       "      <td>False</td>\n",
       "    </tr>\n",
       "    <tr>\n",
       "      <th>15308</th>\n",
       "      <td>0          30060773296197\\n1         349624180...</td>\n",
       "      <td>2030-01-02 00:00:00</td>\n",
       "      <td>American Express</td>\n",
       "      <td>2009-02-04 00:00:00</td>\n",
       "      <td>15</td>\n",
       "      <td>False</td>\n",
       "    </tr>\n",
       "  </tbody>\n",
       "</table>\n",
       "<p>15284 rows × 6 columns</p>\n",
       "</div>"
      ],
      "text/plain": [
       "                                             card_number          expiry_date  \\\n",
       "0      0          30060773296197\\n1         349624180...  2026-01-09 00:00:00   \n",
       "1      0          30060773296197\\n1         349624180...  2023-01-10 00:00:00   \n",
       "2      0          30060773296197\\n1         349624180...  2023-01-06 00:00:00   \n",
       "3      0          30060773296197\\n1         349624180...  2027-01-09 00:00:00   \n",
       "4      0          30060773296197\\n1         349624180...  2025-01-10 00:00:00   \n",
       "...                                                  ...                  ...   \n",
       "15304  0          30060773296197\\n1         349624180...  2028-01-12 00:00:00   \n",
       "15305  0          30060773296197\\n1         349624180...  2024-01-11 00:00:00   \n",
       "15306  0          30060773296197\\n1         349624180...  2024-01-04 00:00:00   \n",
       "15307  0          30060773296197\\n1         349624180...  2027-01-06 00:00:00   \n",
       "15308  0          30060773296197\\n1         349624180...  2030-01-02 00:00:00   \n",
       "\n",
       "                     card_provider date_payment_confirmed  \\\n",
       "0      Diners Club / Carte Blanche    2015-11-25 00:00:00   \n",
       "1                 American Express    2001-06-18 00:00:00   \n",
       "2                     JCB 16 digit    2000-12-26 00:00:00   \n",
       "3                     JCB 15 digit    2011-02-12 00:00:00   \n",
       "4                          Maestro    1997-03-13 00:00:00   \n",
       "...                            ...                    ...   \n",
       "15304                 JCB 15 digit    1997-06-06 00:00:00   \n",
       "15305                 JCB 15 digit    2004-06-16 00:00:00   \n",
       "15306                 JCB 16 digit    2020-02-05 00:00:00   \n",
       "15307                VISA 16 digit    2008-06-16 00:00:00   \n",
       "15308             American Express    2009-02-04 00:00:00   \n",
       "\n",
       "                       expected_num_dig  comparison  \n",
       "0                                    14       False  \n",
       "1                                    15       False  \n",
       "2                                    16       False  \n",
       "3                                    15       False  \n",
       "4      [12, 13, 14, 15, 16, 17, 18, 19]       False  \n",
       "...                                 ...         ...  \n",
       "15304                                15       False  \n",
       "15305                                15       False  \n",
       "15306                                16       False  \n",
       "15307                                16       False  \n",
       "15308                                15       False  \n",
       "\n",
       "[15284 rows x 6 columns]"
      ]
     },
     "execution_count": 129,
     "metadata": {},
     "output_type": "execute_result"
    }
   ],
   "source": [
    "pdf3[pdf3['card_number'].str.contains(r'\\D')]\n"
   ]
  },
  {
   "cell_type": "code",
   "execution_count": 130,
   "metadata": {},
   "outputs": [],
   "source": [
    "pdf3.loc[pdf3['card_number'].str.contains(r'\\D'), 'card_number'] = None"
   ]
  },
  {
   "cell_type": "markdown",
   "metadata": {},
   "source": [
    "# Checking code to GET API data"
   ]
  },
  {
   "cell_type": "code",
   "execution_count": 131,
   "metadata": {},
   "outputs": [],
   "source": [
    "#\n",
    "import yaml\n",
    "import requests\n",
    "\n",
    "with open('db_creds.yaml','r') as file:\n",
    "    credentials = yaml.safe_load(file)\n",
    "\n",
    "response = requests.get(\"https://aqj7u5id95.execute-api.eu-west-1.amazonaws.com/prod/number_stores\", headers=credentials['header'])\n",
    "\n",
    "if response.status_code == 200:\n",
    "    data = response.json()\n",
    "else:\n",
    "    print(f\"Request failed with status code: {response.status_code}\")\n",
    "    print(f\"Response Text: {response.text}\")\n"
   ]
  },
  {
   "cell_type": "code",
   "execution_count": 132,
   "metadata": {},
   "outputs": [
    {
     "name": "stdout",
     "output_type": "stream",
     "text": [
      "{'statusCode': 200, 'number_stores': 451}\n"
     ]
    }
   ],
   "source": [
    "print(data)"
   ]
  },
  {
   "cell_type": "code",
   "execution_count": 133,
   "metadata": {},
   "outputs": [
    {
     "name": "stdout",
     "output_type": "stream",
     "text": [
      "Data for store 1: {'index': 1, 'address': 'Flat 72W\\nSally isle\\nEast Deantown\\nE7B 8EB, High Wycombe', 'longitude': '51.62907', 'lat': None, 'locality': 'High Wycombe', 'store_code': 'HI-9B97EE4E', 'staff_numbers': '34', 'opening_date': '1996-10-25', 'store_type': 'Local', 'latitude': '-0.74934', 'country_code': 'GB', 'continent': 'Europe'}\n",
      "Data for store 2: {'index': 2, 'address': 'Heckerstraße 4/5\\n50491 Säckingen, Landshut', 'longitude': '48.52961', 'lat': None, 'locality': 'Landshut', 'store_code': 'LA-0772C7B9', 'staff_numbers': '92', 'opening_date': '2013-04-12', 'store_type': 'Super Store', 'latitude': '12.16179', 'country_code': 'DE', 'continent': 'Europe'}\n",
      "Data for store 3: {'index': 3, 'address': '5 Harrison tunnel\\nSouth Lydia\\nWC9 2BE, Westbury', 'longitude': '51.26', 'lat': None, 'locality': 'Westbury', 'store_code': 'WE-1DE82CEE', 'staff_numbers': '69', 'opening_date': '2014-01-02', 'store_type': 'Super Store', 'latitude': '-2.1875', 'country_code': 'GB', 'continent': 'Europe'}\n",
      "Data for store 4: {'index': 4, 'address': 'Studio 6\\nStephen landing\\nSouth Simon\\nB77 2WA, Belper', 'longitude': '53.0233', 'lat': None, 'locality': 'Belper', 'store_code': 'BE-18074576', 'staff_numbers': '35', 'opening_date': '2019-09-09', 'store_type': 'Local', 'latitude': '-1.48119', 'country_code': 'GB', 'continent': 'Europe'}\n",
      "Data for store 5: {'index': 5, 'address': 'Flat 92u\\nChristian harbors\\nPort Charlotte\\nN57 8FJ, Gainsborough', 'longitude': '53.38333', 'lat': None, 'locality': 'Gainsborough', 'store_code': 'GA-CAD01AC2', 'staff_numbers': '36', 'opening_date': '1995-05-15', 'store_type': 'Local', 'latitude': '-0.76667', 'country_code': 'GB', 'continent': 'Europe'}\n",
      "Data for store 6: {'index': 6, 'address': '7 Gillian rue\\nWest Robertside\\nPH4 8NY, Rutherglen', 'longitude': '55.82885', 'lat': None, 'locality': 'Rutherglen', 'store_code': 'RU-C603E990', 'staff_numbers': '92', 'opening_date': '2001-01-04', 'store_type': 'Super Store', 'latitude': '-4.21376', 'country_code': 'GB', 'continent': 'Europe'}\n",
      "Data for store 7: {'index': 7, 'address': 'Lilija-Heß-Allee 660\\n34566 Regensburg, Stuttgart', 'longitude': '48.78232', 'lat': None, 'locality': 'Stuttgart', 'store_code': 'ST-229D997E', 'staff_numbers': '34', 'opening_date': '2000-06-01', 'store_type': 'Local', 'latitude': '9.17702', 'country_code': 'DE', 'continent': 'Europe'}\n",
      "Data for store 8: {'index': 8, 'address': '510 Jill Mill\\nSouth Laura, FL 38723, Kaukauna', 'longitude': '44.27804', 'lat': None, 'locality': 'Kaukauna', 'store_code': 'KA-FA7ED3B8', 'staff_numbers': '31', 'opening_date': '2022-09-05', 'store_type': 'Local', 'latitude': '-88.27205', 'country_code': 'US', 'continent': 'America'}\n",
      "Data for store 9: {'index': 9, 'address': '3 Lee valleys\\nWest Janetview\\nDY4M 2RL, Hartley', 'longitude': '51.38673', 'lat': None, 'locality': 'Hartley', 'store_code': 'HA-974352FE', 'staff_numbers': '20', 'opening_date': '2004-09-11', 'store_type': 'Local', 'latitude': '0.30367', 'country_code': 'GB', 'continent': 'Europe'}\n",
      "Data for store 10: {'index': 10, 'address': '8 Gareth skyway\\nSimmonsview\\nSW4 7PL, Rutherglen', 'longitude': '55.82885', 'lat': None, 'locality': 'Rutherglen', 'store_code': 'RU-9F1136B4', 'staff_numbers': '32', 'opening_date': 'October 2012 08', 'store_type': 'Local', 'latitude': '-4.21376', 'country_code': 'GB', 'continent': 'Europe'}\n",
      "Data for store 11: {'index': 11, 'address': 'Bergerstr. 1/3\\n59183 Seelow, Siegburg', 'longitude': '50.80019', 'lat': None, 'locality': 'Siegburg', 'store_code': 'SI-ECD52CD9', 'staff_numbers': '25', 'opening_date': 'July 2015 14', 'store_type': 'Local', 'latitude': '7.20769', 'country_code': 'DE', 'continent': 'Europe'}\n",
      "Data for store 12: {'index': 12, 'address': 'Flat 37\\nBennett expressway\\nNew Charlotte\\nSY8R 5WE, Devizes', 'longitude': '51.35084', 'lat': None, 'locality': 'Devizes', 'store_code': 'DE-585399CF', 'staff_numbers': '36', 'opening_date': '2014-10-11', 'store_type': 'Local', 'latitude': '-1.99421', 'country_code': 'GB', 'continent': 'Europe'}\n",
      "Data for store 13: {'index': 13, 'address': '520 Fisher Inlet Suite 594\\nPort Eric, IL 71753, Crystal Lake', 'longitude': '42.24113', 'lat': None, 'locality': 'Crystal Lake', 'store_code': 'CR-792AA8BB', 'staff_numbers': '138', 'opening_date': '2018-04-05', 'store_type': 'Super Store', 'latitude': '-88.3162', 'country_code': 'US', 'continent': 'America'}\n",
      "Data for store 14: {'index': 14, 'address': 'Herma-Rädel-Gasse 29\\n74557 Fulda, Halstenbek', 'longitude': '53.63333', 'lat': None, 'locality': 'Halstenbek', 'store_code': 'HA-39A446E2', 'staff_numbers': '38', 'opening_date': '1994-03-08', 'store_type': 'Local', 'latitude': '9.85', 'country_code': 'DE', 'continent': 'Europe'}\n",
      "Data for store 15: {'index': 15, 'address': '4 Teresa lodge\\nWest Mathewchester\\nSP39 3UZ, Lancing', 'longitude': '50.82882', 'lat': None, 'locality': 'Lancing', 'store_code': 'LA-9B0D9277', 'staff_numbers': '39', 'opening_date': '2020-06-05', 'store_type': 'Local', 'latitude': '-0.32247', 'country_code': 'GB', 'continent': 'Europe'}\n",
      "Data for store 16: {'index': 16, 'address': '74 Mills route\\nLaurahaven\\nPL4R 6HA, Newbury', 'longitude': '51.40148', 'lat': None, 'locality': 'Newbury', 'store_code': 'NE-1D8B1D0C', 'staff_numbers': '33', 'opening_date': '2004-05-02', 'store_type': 'Local', 'latitude': '-1.32471', 'country_code': 'GB', 'continent': 'Europe'}\n",
      "Data for store 17: {'index': 17, 'address': '9 Ryan springs\\nLake Allan\\nE0 1AW, Lymington', 'longitude': '50.75767', 'lat': None, 'locality': 'Lymington', 'store_code': 'LY-4C3D5D6C', 'staff_numbers': '36', 'opening_date': '2016-02-12', 'store_type': 'Local', 'latitude': '-1.5443', 'country_code': 'GB', 'continent': 'eeEurope'}\n",
      "Data for store 18: {'index': 18, 'address': 'Studio 80d\\nHolly cliffs\\nIanport\\nG4F 4HR, Chapletown', 'longitude': '53.46506', 'lat': None, 'locality': 'Chapletown', 'store_code': 'CH-6A561423', 'staff_numbers': '34', 'opening_date': '2008-01-21', 'store_type': 'Local', 'latitude': '-1.47217', 'country_code': 'GB', 'continent': 'Europe'}\n",
      "Data for store 19: {'index': 19, 'address': '59 Lee drives\\nGeorginaview\\nOL93 1GX, Barnet', 'longitude': '51.65', 'lat': None, 'locality': 'Barnet', 'store_code': 'BA-898BDED3', 'staff_numbers': '109', 'opening_date': '2022-08-01', 'store_type': 'Super Store', 'latitude': '-0.2', 'country_code': 'GB', 'continent': 'Europe'}\n",
      "Data for store 20: {'index': 20, 'address': 'Flat 83\\nShirley parkway\\nSylviashire\\nN0 5AQ, East Dereham', 'longitude': '52.68333', 'lat': None, 'locality': 'East Dereham', 'store_code': 'EA-77ECA680', 'staff_numbers': '8', 'opening_date': '1994-08-12', 'store_type': 'Mall Kiosk', 'latitude': '0.93333', 'country_code': 'GB', 'continent': 'Europe'}\n",
      "Data for store 21: {'index': 21, 'address': 'Flat 28\\nKirby villages\\nWest Vincent\\nCV4 0RT, Poulton-le-Fylde', 'longitude': '53.83333', 'lat': None, 'locality': 'Poulton-le-Fylde', 'store_code': 'PO-38790FAE', 'staff_numbers': '25', 'opening_date': '2010-10-19', 'store_type': 'Local', 'latitude': '-2.98333', 'country_code': 'GB', 'continent': 'Europe'}\n",
      "Data for store 22: {'index': 22, 'address': 'Studio 00p\\nGeorge point\\nWest Barbara\\nS5J 3JT, Bushey', 'longitude': '51.64316', 'lat': None, 'locality': 'Bushey', 'store_code': 'BU-251A0E5A', 'staff_numbers': '35', 'opening_date': '2013-08-05', 'store_type': 'Local', 'latitude': '-0.36053', 'country_code': 'GB', 'continent': 'Europe'}\n",
      "Data for store 23: {'index': 23, 'address': 'Rena-Karz-Gasse 574\\n66493 Olpe, Ehingen', 'longitude': '48.28259', 'lat': None, 'locality': 'Ehingen', 'store_code': 'EH-91356030', 'staff_numbers': '38', 'opening_date': '2017-12-12', 'store_type': 'Local', 'latitude': '9.72749', 'country_code': 'DE', 'continent': 'Europe'}\n",
      "Data for store 24: {'index': 24, 'address': 'Flat 43d\\nHall street\\nSusanshire\\nKA9 8HF, Aberdeen', 'longitude': '57.14369', 'lat': None, 'locality': 'Aberdeen', 'store_code': 'AB-917B715E', 'staff_numbers': '119', 'opening_date': '2002-06-18', 'store_type': 'Super Store', 'latitude': '-2.09814', 'country_code': 'GB', 'continent': 'Europe'}\n",
      "Data for store 25: {'index': 25, 'address': '12 William underpass\\nSouth Brettland\\nL3K 8BB, Surbiton', 'longitude': '51.39148', 'lat': None, 'locality': 'Surbiton', 'store_code': 'SU-0B4C9A5F', 'staff_numbers': '28', 'opening_date': '2007-06-24', 'store_type': 'Local', 'latitude': '-0.29825', 'country_code': 'GB', 'continent': 'Europe'}\n",
      "Data for store 26: {'index': 26, 'address': '08 Brenda valleys\\nNorth Stewartborough\\nTQ32 7FS, Inverness', 'longitude': '57.47908', 'lat': None, 'locality': 'Inverness', 'store_code': 'IN-157E1191', 'staff_numbers': '29', 'opening_date': '2017-11-04', 'store_type': 'Local', 'latitude': '-4.22398', 'country_code': 'GB', 'continent': 'Europe'}\n",
      "Data for store 27: {'index': 27, 'address': 'Studio 94\\nTina freeway\\nWoodshaven\\nYO93 9TU, Gainsborough', 'longitude': '53.38333', 'lat': None, 'locality': 'Gainsborough', 'store_code': 'GA-DA8EEA4A', 'staff_numbers': '29', 'opening_date': '2008-07-08', 'store_type': 'Local', 'latitude': '-0.76667', 'country_code': 'GB', 'continent': 'Europe'}\n",
      "Data for store 28: {'index': 28, 'address': 'Flat 8\\nCooper estates\\nReidchester\\nKY14 4PW, Lancing', 'longitude': '50.82882', 'lat': None, 'locality': 'Lancing', 'store_code': 'LA-2B59A825', 'staff_numbers': '25', 'opening_date': '1998-12-23', 'store_type': 'Local', 'latitude': '-0.32247', 'country_code': 'GB', 'continent': 'Europe'}\n",
      "Data for store 29: {'index': 29, 'address': 'Köhlerring 00\\n08489 Fulda, Weimar', 'longitude': '50.9803', 'lat': None, 'locality': 'Weimar', 'store_code': 'WE-31C8B335', 'staff_numbers': '27', 'opening_date': '2011-03-11', 'store_type': 'Local', 'latitude': '11.32903', 'country_code': 'DE', 'continent': 'Europe'}\n",
      "Data for store 30: {'index': 30, 'address': 'Häringstr. 481\\n62852 Kamenz, Landshut', 'longitude': '48.52961', 'lat': None, 'locality': 'Landshut', 'store_code': 'LA-F1042C48', 'staff_numbers': '34', 'opening_date': '2010-08-25', 'store_type': 'Local', 'latitude': '12.16179', 'country_code': 'DE', 'continent': 'Europe'}\n",
      "Data for store 31: {'index': 31, 'address': 'Flat 69\\nSuzanne walk\\nEast Michelle\\nE80 8HS, East Dereham', 'longitude': '52.68333', 'lat': None, 'locality': 'East Dereham', 'store_code': 'EA-24B31935', 'staff_numbers': 'J78', 'opening_date': '2012-11-09', 'store_type': 'Outlet', 'latitude': '0.93333', 'country_code': 'GB', 'continent': 'Europe'}\n",
      "Data for store 32: {'index': 32, 'address': 'Flat 7\\nChambers shoals\\nCarolyntown\\nSM2 0FQ, East Dereham', 'longitude': '52.68333', 'lat': None, 'locality': 'East Dereham', 'store_code': 'EA-7965E06D', 'staff_numbers': '96', 'opening_date': '2016-10-07', 'store_type': 'Super Store', 'latitude': '0.93333', 'country_code': 'GB', 'continent': 'Europe'}\n",
      "Data for store 33: {'index': 33, 'address': 'Studio 1\\nDavidson harbor\\nSheppardview\\nM9J 9LW, Penzance', 'longitude': '50.11861', 'lat': None, 'locality': 'Penzance', 'store_code': 'PE-040B15C3', 'staff_numbers': '135', 'opening_date': '2018-08-15', 'store_type': 'Super Store', 'latitude': '-5.53715', 'country_code': 'GB', 'continent': 'Europe'}\n",
      "Data for store 34: {'index': 34, 'address': 'Sabina-Baum-Platz 4\\n10599 Wanzleben, Ehingen', 'longitude': '48.28259', 'lat': None, 'locality': 'Ehingen', 'store_code': 'EH-DB8676C1', 'staff_numbers': '28', 'opening_date': '1996-10-02', 'store_type': 'Local', 'latitude': '9.72749', 'country_code': 'DE', 'continent': 'Europe'}\n",
      "Data for store 35: {'index': 35, 'address': 'Fechnerweg 6\\n72000 Greiz, Albstadt', 'longitude': '48.21644', 'lat': None, 'locality': 'Albstadt', 'store_code': 'AL-91D3A03C', 'staff_numbers': '30', 'opening_date': '2018-06-18', 'store_type': 'Local', 'latitude': '9.02596', 'country_code': 'DE', 'continent': 'Europe'}\n",
      "Data for store 36: {'index': 36, 'address': 'Kensyring 567\\n46539 Oschatz, Hechingen', 'longitude': '48.35149', 'lat': None, 'locality': 'Hechingen', 'store_code': 'HE-E39F4BC6', 'staff_numbers': '31', 'opening_date': '1995-06-04', 'store_type': 'Local', 'latitude': '8.96317', 'country_code': 'DE', 'continent': 'Europe'}\n",
      "Data for store 37: {'index': 37, 'address': '978 Daniel viaduct\\nJohnsonville\\nE1A 7TW, Poulton-le-Fylde', 'longitude': '53.83333', 'lat': None, 'locality': 'Poulton-le-Fylde', 'store_code': 'PO-47A01287', 'staff_numbers': '29', 'opening_date': '1994-10-18', 'store_type': 'Local', 'latitude': '-2.98333', 'country_code': 'GB', 'continent': 'Europe'}\n",
      "Data for store 38: {'index': 38, 'address': 'Flat 8\\nGrace radial\\nGeorginashire\\nW06 1BZ, Lancing', 'longitude': '50.82882', 'lat': None, 'locality': 'Lancing', 'store_code': 'LA-D78C5F3F', 'staff_numbers': '28', 'opening_date': '2002-07-21', 'store_type': 'Local', 'latitude': '-0.32247', 'country_code': 'GB', 'continent': 'Europe'}\n",
      "Data for store 39: {'index': 39, 'address': 'Studio 55A\\nAli brooks\\nPearceburgh\\nSW8 2RT, Mexborough', 'longitude': '53.49389', 'lat': None, 'locality': 'Mexborough', 'store_code': 'ME-31958763', 'staff_numbers': '90', 'opening_date': '2013-12-23', 'store_type': 'Outlet', 'latitude': '-1.29243', 'country_code': 'GB', 'continent': 'Europe'}\n",
      "Data for store 40: {'index': 40, 'address': '420 Harrison way\\nWhitemouth\\nE4 5RZ, Arbroath', 'longitude': '56.56317', 'lat': None, 'locality': 'Arbroath', 'store_code': 'AR-5E72668B', 'staff_numbers': '34', 'opening_date': '2006-10-04', 'store_type': 'Local', 'latitude': '-2.58736', 'country_code': 'GB', 'continent': 'Europe'}\n",
      "Data for store 41: {'index': 41, 'address': '7 Sophie ways\\nEast Kevinborough\\nTD1M 0FG, Cowes', 'longitude': '50.76306', 'lat': None, 'locality': 'Cowes', 'store_code': 'CO-CB3D8C89', 'staff_numbers': '120', 'opening_date': '1999-07-17', 'store_type': 'Super Store', 'latitude': '-1.29772', 'country_code': 'GB', 'continent': 'Europe'}\n",
      "Data for store 42: {'index': 42, 'address': 'Studio 46k\\nPhillips hollow\\nSouth Eileen\\nG21 2EA, Clacton-on-Sea', 'longitude': '51.78967', 'lat': None, 'locality': 'Clacton-on-Sea', 'store_code': 'CL-5C7C3198', 'staff_numbers': '50', 'opening_date': '1998-12-19', 'store_type': 'Outlet', 'latitude': '1.15597', 'country_code': 'GB', 'continent': 'Europe'}\n",
      "Data for store 43: {'index': 43, 'address': '92863 Kathryn Ford Suite 747\\nEast Craig, DC 24439, Boston', 'longitude': '42.35843', 'lat': None, 'locality': 'Boston', 'store_code': 'BO-17E7B6CE', 'staff_numbers': '75', 'opening_date': '2019-07-28', 'store_type': 'Super Store', 'latitude': '-71.05977', 'country_code': 'US', 'continent': 'America'}\n",
      "Data for store 44: {'index': 44, 'address': 'Bertold-Nette-Allee 7/8\\n32669 Chemnitz, Charlottenburg-Nord', 'longitude': '52.53048', 'lat': None, 'locality': 'Charlottenburg-Nord', 'store_code': 'CH-619E036C', 'staff_numbers': '118', 'opening_date': '2017-10-21', 'store_type': 'Super Store', 'latitude': '13.29371', 'country_code': 'DE', 'continent': 'Europe'}\n",
      "Data for store 45: {'index': 45, 'address': 'Lindauweg 7\\n89647 Luckau, Bretten', 'longitude': '49.03685', 'lat': None, 'locality': 'Bretten', 'store_code': 'BR-BC499EDD', 'staff_numbers': '37', 'opening_date': '2020-05-13', 'store_type': 'Local', 'latitude': '8.70745', 'country_code': 'DE', 'continent': 'Europe'}\n",
      "Data for store 46: {'index': 46, 'address': 'Flat 85Q\\nGeorge field\\nBarrettbury\\nBS2B 5WR, Newbury', 'longitude': '51.40148', 'lat': None, 'locality': 'Newbury', 'store_code': 'NE-E50207AD', 'staff_numbers': '67', 'opening_date': '2019-12-24', 'store_type': 'Super Store', 'latitude': '-1.32471', 'country_code': 'GB', 'continent': 'eeEurope'}\n",
      "Data for store 47: {'index': 47, 'address': '2 Jade corners\\nSouth Ashleybury\\nW1 0RE, Belper', 'longitude': '53.0233', 'lat': None, 'locality': 'Belper', 'store_code': 'BE-8C0CF738', 'staff_numbers': '26', 'opening_date': '2002-04-03', 'store_type': 'Local', 'latitude': '-1.48119', 'country_code': 'GB', 'continent': 'Europe'}\n",
      "Data for store 48: {'index': 48, 'address': 'Studio 1\\nBrandon branch\\nFrancescaview\\nTD4N 2XL, Newbury', 'longitude': '51.40148', 'lat': None, 'locality': 'Newbury', 'store_code': 'NE-374D3983', 'staff_numbers': '20', 'opening_date': '2009-08-07', 'store_type': 'Local', 'latitude': '-1.32471', 'country_code': 'GB', 'continent': 'eeEurope'}\n",
      "Data for store 49: {'index': 49, 'address': '0493 Alicia Station Suite 475\\nElizabethfort, RI 70019, Sun City Center', 'longitude': '27.71809', 'lat': None, 'locality': 'Sun City Center', 'store_code': 'SU-95D20AE9', 'staff_numbers': '30', 'opening_date': '2004-05-23', 'store_type': 'Local', 'latitude': '-82.35176', 'country_code': 'US', 'continent': 'America'}\n",
      "Data for store 50: {'index': 50, 'address': '9 Parker lake\\nWest Edwardview\\nSP04 5ZX, Mexborough', 'longitude': '53.49389', 'lat': None, 'locality': 'Mexborough', 'store_code': 'ME-FB62E459', 'staff_numbers': '40', 'opening_date': '2001-07-11', 'store_type': 'Local', 'latitude': '-1.29243', 'country_code': 'GB', 'continent': 'Europe'}\n",
      "Data for store 51: {'index': 51, 'address': 'Mosemannstr. 81\\n30877 Schrobenhausen, Karben', 'longitude': '50.23019', 'lat': None, 'locality': 'Karben', 'store_code': 'KA-653E783F', 'staff_numbers': '36', 'opening_date': '1998-07-07', 'store_type': 'Local', 'latitude': '8.77155', 'country_code': 'DE', 'continent': 'Europe'}\n",
      "Data for store 52: {'index': 52, 'address': '220 Holt Unions Suite 688\\nRamirezstad, IL 74968, Martinsburg', 'longitude': '39.45621', 'lat': None, 'locality': 'Martinsburg', 'store_code': 'MA-F0E23355', 'staff_numbers': '8', 'opening_date': '2011-07-07', 'store_type': 'Mall Kiosk', 'latitude': '-77.96389', 'country_code': 'US', 'continent': 'America'}\n",
      "Data for store 53: {'index': 53, 'address': 'Trommlerstr. 7/5\\n75372 Wolfach, Oschatz', 'longitude': '51.30001', 'lat': None, 'locality': 'Oschatz', 'store_code': 'OS-70B2CD28', 'staff_numbers': '36', 'opening_date': '2007-02-04', 'store_type': 'Local', 'latitude': '13.10984', 'country_code': 'DE', 'continent': 'Europe'}\n",
      "Data for store 54: {'index': 54, 'address': 'Flat 26c\\nWalker creek\\nSouth Mary\\nHU8X 8YP, Kingston upon Hull', 'longitude': '53.7446', 'lat': None, 'locality': 'Kingston upon Hull', 'store_code': 'KI-A53AF10A', 'staff_numbers': '6', 'opening_date': '1993-10-13', 'store_type': 'Mall Kiosk', 'latitude': '-0.33525', 'country_code': 'GB', 'continent': 'Europe'}\n",
      "Data for store 55: {'index': 55, 'address': 'Flat 40w\\nThomas wall\\nSouth Susan\\nLL4 8LG, Leyland', 'longitude': '53.69786', 'lat': None, 'locality': 'Leyland', 'store_code': 'LE-63F3D33B', 'staff_numbers': '25', 'opening_date': '2006-06-16', 'store_type': 'Local', 'latitude': '-2.68758', 'country_code': 'GB', 'continent': 'Europe'}\n",
      "Data for store 56: {'index': 56, 'address': '9066 Rosales Port Suite 675\\nMeyerville, NV 79336, Venice', 'longitude': '27.09978', 'lat': None, 'locality': 'Venice', 'store_code': 'VE-93DA8430', 'staff_numbers': '22', 'opening_date': '2006-02-23', 'store_type': 'Local', 'latitude': '-82.45426', 'country_code': 'US', 'continent': 'eeAmerica'}\n",
      "Data for store 57: {'index': 57, 'address': 'Studio 57\\nEdwards springs\\nJohnsonbury\\nB52 8TN, High Wycombe', 'longitude': '51.62907', 'lat': None, 'locality': 'High Wycombe', 'store_code': 'HI-BAD4DD1C', 'staff_numbers': '24', 'opening_date': '2019-09-08', 'store_type': 'Local', 'latitude': '-0.74934', 'country_code': 'GB', 'continent': 'Europe'}\n",
      "Data for store 58: {'index': 58, 'address': '664 Andrew land\\nNew Mohammadhaven\\nN07 9JZ, Rutherglen', 'longitude': '55.82885', 'lat': None, 'locality': 'Rutherglen', 'store_code': 'RU-1994A94D', 'staff_numbers': '83', 'opening_date': '1993-09-03', 'store_type': 'Outlet', 'latitude': '-4.21376', 'country_code': 'GB', 'continent': 'Europe'}\n",
      "Data for store 59: {'index': 59, 'address': '21 Michael plains\\nPort Garethburgh\\nBL6 5PJ, Leyland', 'longitude': '53.69786', 'lat': None, 'locality': 'Leyland', 'store_code': 'LE-84C48B9F', 'staff_numbers': '138', 'opening_date': '2002-01-18', 'store_type': 'Super Store', 'latitude': '-2.68758', 'country_code': 'GB', 'continent': 'Europe'}\n",
      "Data for store 60: {'index': 60, 'address': 'Baumstraße 904\\n47265 Hildesheim, Schleswig', 'longitude': '54.52156', 'lat': None, 'locality': 'Schleswig', 'store_code': 'SC-4928418D', 'staff_numbers': '82', 'opening_date': '2009-04-14', 'store_type': 'Super Store', 'latitude': '9.5586', 'country_code': 'DE', 'continent': 'Europe'}\n",
      "Data for store 61: {'index': 61, 'address': 'Martha-Dörr-Platz 1/3\\n53035 Bad Mergentheim, Eppingen', 'longitude': '49.13645', 'lat': None, 'locality': 'Eppingen', 'store_code': 'EP-105C3FB5', 'staff_numbers': '27', 'opening_date': '2014-07-16', 'store_type': 'Local', 'latitude': '8.91229', 'country_code': 'DE', 'continent': 'Europe'}\n",
      "Data for store 62: {'index': 62, 'address': '446 Edwards circle\\nSouth Dean\\nS5 5NT, Chapletown', 'longitude': '53.46506', 'lat': None, 'locality': 'Chapletown', 'store_code': 'CH-7771B336', 'staff_numbers': '32', 'opening_date': '2012-05-15', 'store_type': 'Local', 'latitude': '-1.47217', 'country_code': 'GB', 'continent': 'Europe'}\n",
      "Data for store 63: {'index': 63, 'address': '6FWDZHD7PW', 'longitude': '1ZVU03X2P6', 'lat': '13KJZ890JH', 'locality': '9IBH8Y4Z0S', 'store_code': 'NRQKZWJ9OZ', 'staff_numbers': 'BIP8K8JJW2', 'opening_date': 'ZCXWWKF45G', 'store_type': 'QP74AHEQT0', 'latitude': '1CJ5OAU4BR', 'country_code': 'YELVM536YT', 'continent': 'QMAVR5H3LD'}\n",
      "Data for store 64: {'index': 64, 'address': 'Heinrichgasse 96\\n70197 Sömmerda, Losheim', 'longitude': '49.5099', 'lat': None, 'locality': 'Losheim', 'store_code': 'LO-AB6B6DF8', 'staff_numbers': '117', 'opening_date': '2006-01-13', 'store_type': 'Super Store', 'latitude': '6.74549', 'country_code': 'DE', 'continent': 'Europe'}\n",
      "Data for store 65: {'index': 65, 'address': 'Mario-Wirth-Gasse 598\\n60452 Cloppenburg, Burscheid', 'longitude': '51.08468', 'lat': None, 'locality': 'Burscheid', 'store_code': 'BU-44F16401', 'staff_numbers': '22', 'opening_date': '2019-01-11', 'store_type': 'Local', 'latitude': '7.11393', 'country_code': 'DE', 'continent': 'Europe'}\n",
      "Data for store 66: {'index': 66, 'address': 'Studio 44\\nLynda village\\nNew Alexanderbury\\nN66 2PJ, Rutherglen', 'longitude': '55.82885', 'lat': None, 'locality': 'Rutherglen', 'store_code': 'RU-9DF20437', 'staff_numbers': '7', 'opening_date': '1994-05-26', 'store_type': 'Mall Kiosk', 'latitude': '-4.21376', 'country_code': 'GB', 'continent': 'Europe'}\n",
      "Data for store 67: {'index': 67, 'address': 'Magarete-Caspar-Weg 37\\n58039 Melsungen, Ehingen', 'longitude': '48.28259', 'lat': None, 'locality': 'Ehingen', 'store_code': 'EH-DB65F258', 'staff_numbers': '21', 'opening_date': '2015-02-16', 'store_type': 'Local', 'latitude': '9.72749', 'country_code': 'DE', 'continent': 'Europe'}\n",
      "Data for store 68: {'index': 68, 'address': 'Flat 81A\\nLeonard glens\\nEast Kayleigh\\nN8J 4SX, Southsea', 'longitude': '50.79205', 'lat': None, 'locality': 'Southsea', 'store_code': 'SO-6D328417', 'staff_numbers': '132', 'opening_date': '2002-03-30', 'store_type': 'Super Store', 'latitude': '-1.08593', 'country_code': 'GB', 'continent': 'Europe'}\n",
      "Data for store 69: {'index': 69, 'address': '406 Charles Ramp\\nPort Jessicaview, WI 37544, Porterville', 'longitude': '36.06523', 'lat': None, 'locality': 'Porterville', 'store_code': 'PO-EB96293A', 'staff_numbers': '36', 'opening_date': '2003-04-19', 'store_type': 'Local', 'latitude': '-119.01677', 'country_code': 'US', 'continent': 'America'}\n",
      "Data for store 70: {'index': 70, 'address': 'Gorlitzweg 0/4\\n49302 Waldmünchen, Walsrode', 'longitude': '52.86147', 'lat': None, 'locality': 'Walsrode', 'store_code': 'WA-34998EB8', 'staff_numbers': '7', 'opening_date': '2017-04-15', 'store_type': 'Mall Kiosk', 'latitude': '9.5926', 'country_code': 'DE', 'continent': 'Europe'}\n",
      "Data for store 71: {'index': 71, 'address': 'Studio 9\\nDunn summit\\nThomasfurt\\nRH8 4TZ, Exeter', 'longitude': '50.7236', 'lat': None, 'locality': 'Exeter', 'store_code': 'EX-2C210EBF', 'staff_numbers': '37', 'opening_date': '1997-01-16', 'store_type': 'Local', 'latitude': '-3.52751', 'country_code': 'GB', 'continent': 'Europe'}\n",
      "Data for store 72: {'index': 72, 'address': '122 Gray heights\\nHolmesview\\nS2U 7LP, Chapletown', 'longitude': '53.46506', 'lat': None, 'locality': 'Chapletown', 'store_code': 'CH-164A23FB', 'staff_numbers': '29', 'opening_date': '2017-10-11', 'store_type': 'Local', 'latitude': '-1.47217', 'country_code': 'GB', 'continent': 'Europe'}\n",
      "Data for store 73: {'index': 73, 'address': 'Studio 13\\nRussell ports\\nSouth Ricky\\nCR3B 4BA, Gainsborough', 'longitude': '53.38333', 'lat': None, 'locality': 'Gainsborough', 'store_code': 'GA-BA05E5A8', 'staff_numbers': '131', 'opening_date': '2012-08-16', 'store_type': 'Super Store', 'latitude': '-0.76667', 'country_code': 'GB', 'continent': 'Europe'}\n",
      "Data for store 74: {'index': 74, 'address': '942 Field passage\\nScottland\\nWD85 7UG, Chapletown', 'longitude': '53.46506', 'lat': None, 'locality': 'Chapletown', 'store_code': 'CH-A44B48E6', 'staff_numbers': '130', 'opening_date': '1998-12-12', 'store_type': 'Super Store', 'latitude': '-1.47217', 'country_code': 'GB', 'continent': 'Europe'}\n",
      "Data for store 75: {'index': 75, 'address': '77 Jordan corner\\nNew Kathleen\\nSP0 9HU, Thetford', 'longitude': '52.41667', 'lat': None, 'locality': 'Thetford', 'store_code': 'TH-D62B06B7', 'staff_numbers': '26', 'opening_date': '1996-04-19', 'store_type': 'Local', 'latitude': '0.75', 'country_code': 'GB', 'continent': 'Europe'}\n",
      "Data for store 76: {'index': 76, 'address': 'Yusuf-Christoph-Straße 784\\n00736 Koblenz, Landshut', 'longitude': '48.52961', 'lat': None, 'locality': 'Landshut', 'store_code': 'LA-6AAC1779', 'staff_numbers': '70', 'opening_date': '2001-08-01', 'store_type': 'Outlet', 'latitude': '12.16179', 'country_code': 'DE', 'continent': 'Europe'}\n",
      "Data for store 77: {'index': 77, 'address': '91374 Stanley Rapid Apt. 083\\nSouth Christian, MI 26541, Morningside Heights', 'longitude': '40.81', 'lat': None, 'locality': 'Morningside Heights', 'store_code': 'MO-E8CFF8FE', 'staff_numbers': '40', 'opening_date': '2004-12-19', 'store_type': 'Local', 'latitude': '-73.9625', 'country_code': 'US', 'continent': 'America'}\n",
      "Data for store 78: {'index': 78, 'address': 'Ottomar-Gutknecht-Platz 7\\n52829 Fulda, Losheim', 'longitude': '49.5099', 'lat': None, 'locality': 'Losheim', 'store_code': 'LO-D54E72B5', 'staff_numbers': '20', 'opening_date': '1998-12-20', 'store_type': 'Local', 'latitude': '6.74549', 'country_code': 'DE', 'continent': 'Europe'}\n",
      "Data for store 79: {'index': 79, 'address': '35 Collier tunnel\\nEast Nicola\\nLA0 9LZ, East Dereham', 'longitude': '52.68333', 'lat': None, 'locality': 'East Dereham', 'store_code': 'EA-BE6D0CF8', 'staff_numbers': '29', 'opening_date': '1999-11-14', 'store_type': 'Local', 'latitude': '0.93333', 'country_code': 'GB', 'continent': 'Europe'}\n",
      "Data for store 80: {'index': 80, 'address': 'Studio 26\\nAnderson plain\\nWilliamston\\nBT4P 5NN, Belper', 'longitude': '53.0233', 'lat': None, 'locality': 'Belper', 'store_code': 'BE-F4596696', 'staff_numbers': '23', 'opening_date': '2008-02-04', 'store_type': 'Local', 'latitude': '-1.48119', 'country_code': 'GB', 'continent': 'Europe'}\n",
      "Data for store 81: {'index': 81, 'address': 'Vincenzo-Lübs-Weg 8\\n59427 Eisenberg, Weimar', 'longitude': '50.9803', 'lat': None, 'locality': 'Weimar', 'store_code': 'WE-5B0343D9', 'staff_numbers': '51', 'opening_date': '2009-08-19', 'store_type': 'Outlet', 'latitude': '11.32903', 'country_code': 'DE', 'continent': 'Europe'}\n",
      "Data for store 82: {'index': 82, 'address': 'Zahnstraße 7/0\\n50265 Plauen, Schleswig', 'longitude': '54.52156', 'lat': None, 'locality': 'Schleswig', 'store_code': 'SC-8724E112', 'staff_numbers': '118', 'opening_date': '2002-09-30', 'store_type': 'Super Store', 'latitude': '9.5586', 'country_code': 'DE', 'continent': 'eeEurope'}\n",
      "Data for store 83: {'index': 83, 'address': '5608 Jason Falls Apt. 917\\nEricaside, ND 55443, Searcy', 'longitude': '35.25064', 'lat': None, 'locality': 'Searcy', 'store_code': 'SE-F428A035', 'staff_numbers': '34', 'opening_date': '2012-05-10', 'store_type': 'Local', 'latitude': '-91.73625', 'country_code': 'US', 'continent': 'America'}\n",
      "Data for store 84: {'index': 84, 'address': '154 Arthur view\\nPort Emma\\nN5 6SH, Surbiton', 'longitude': '51.39148', 'lat': None, 'locality': 'Surbiton', 'store_code': 'SU-40E3321A', 'staff_numbers': '127', 'opening_date': '2010-03-16', 'store_type': 'Super Store', 'latitude': '-0.29825', 'country_code': 'GB', 'continent': 'Europe'}\n",
      "Data for store 85: {'index': 85, 'address': '549 Watson highway\\nMarcusport\\nE2 3WZ, Exeter', 'longitude': '50.7236', 'lat': None, 'locality': 'Exeter', 'store_code': 'EX-9ED6711E', 'staff_numbers': '4', 'opening_date': '1999-12-10', 'store_type': 'Mall Kiosk', 'latitude': '-3.52751', 'country_code': 'GB', 'continent': 'Europe'}\n",
      "Data for store 86: {'index': 86, 'address': '772 Jacqueline brook\\nLake Derek\\nN2J 0ZZ, Bushey', 'longitude': '51.64316', 'lat': None, 'locality': 'Bushey', 'store_code': 'BU-550D8325', 'staff_numbers': '33', 'opening_date': '2018-02-18', 'store_type': 'Local', 'latitude': '-0.36053', 'country_code': 'GB', 'continent': 'Europe'}\n",
      "Data for store 87: {'index': 87, 'address': 'Gießring 51\\n99214 Querfurt, Landshut', 'longitude': '48.52961', 'lat': None, 'locality': 'Landshut', 'store_code': 'LA-9F489A77', 'staff_numbers': '34', 'opening_date': '2011-05-02', 'store_type': 'Local', 'latitude': '12.16179', 'country_code': 'DE', 'continent': 'Europe'}\n",
      "Data for store 88: {'index': 88, 'address': 'Kirsten-Geißler-Allee 5\\n87776 Pinneberg, Radevormwald', 'longitude': '51.20219', 'lat': None, 'locality': 'Radevormwald', 'store_code': 'RA-583F0CF9', 'staff_numbers': '135', 'opening_date': '2010-03-15', 'store_type': 'Super Store', 'latitude': '7.36027', 'country_code': 'DE', 'continent': 'Europe'}\n",
      "Data for store 89: {'index': 89, 'address': '268 Johnson keys\\nWest Josephinehaven\\nW1 7ST, Newbury', 'longitude': '51.40148', 'lat': None, 'locality': 'Newbury', 'store_code': 'NE-01250B4B', 'staff_numbers': '30', 'opening_date': '2021-03-12', 'store_type': 'Local', 'latitude': '-1.32471', 'country_code': 'GB', 'continent': 'Europe'}\n",
      "Data for store 90: {'index': 90, 'address': 'Cosimo-Rose-Ring 1/5\\n86826 Dieburg, Charlottenburg-Nord', 'longitude': '52.53048', 'lat': None, 'locality': 'Charlottenburg-Nord', 'store_code': 'CH-7C155EA7', 'staff_numbers': '110', 'opening_date': '2011-03-27', 'store_type': 'Super Store', 'latitude': '13.29371', 'country_code': 'DE', 'continent': 'Europe'}\n",
      "Data for store 91: {'index': 91, 'address': 'Manja-Wirth-Ring 7\\n99585 Grimma, Stade', 'longitude': '53.59337', 'lat': None, 'locality': 'Stade', 'store_code': 'ST-4D2E1D55', 'staff_numbers': '30', 'opening_date': '2005-04-28', 'store_type': 'Local', 'latitude': '9.47629', 'country_code': 'DE', 'continent': 'Europe'}\n",
      "Data for store 92: {'index': 92, 'address': 'Studio 43\\nLiam club\\nNew Garyview\\nHX7 3PG, Arbroath', 'longitude': '56.56317', 'lat': None, 'locality': 'Arbroath', 'store_code': 'AR-2D9D5CD3', 'staff_numbers': '5', 'opening_date': '2000-12-29', 'store_type': 'Mall Kiosk', 'latitude': '-2.58736', 'country_code': 'GB', 'continent': 'Europe'}\n",
      "Data for store 93: {'index': 93, 'address': '14577 Thomas Station\\nNorth Andrew, SD 63439, Mira Mesa', 'longitude': '32.9156', 'lat': None, 'locality': 'Mira Mesa', 'store_code': 'MI-20EE1BFA', 'staff_numbers': '20', 'opening_date': '2006-07-07', 'store_type': 'Local', 'latitude': '-117.14392', 'country_code': 'US', 'continent': 'America'}\n",
      "Data for store 94: {'index': 94, 'address': '823 Caroline curve\\nJasmineberg\\nB4G 7ZZ, Strood', 'longitude': '51.39323', 'lat': None, 'locality': 'Strood', 'store_code': 'ST-119B11EA', 'staff_numbers': '81', 'opening_date': '2022/01/20', 'store_type': 'Outlet', 'latitude': '0.47713', 'country_code': 'GB', 'continent': 'Europe'}\n",
      "Data for store 95: {'index': 95, 'address': 'Steffen-Boucsein-Straße 1\\n45299 Osterburg, Burscheid', 'longitude': '51.08468', 'lat': None, 'locality': 'Burscheid', 'store_code': 'BU-89E4DEC5', 'staff_numbers': '7', 'opening_date': '2017-01-09', 'store_type': 'Mall Kiosk', 'latitude': '7.11393', 'country_code': 'DE', 'continent': 'Europe'}\n",
      "Data for store 96: {'index': 96, 'address': 'Cichoriusplatz 61\\n10993 Niesky, Verl', 'longitude': '51.88333', 'lat': None, 'locality': 'Verl', 'store_code': 'VE-B81F9500', 'staff_numbers': '4', 'opening_date': '2000-07-10', 'store_type': 'Mall Kiosk', 'latitude': '8.51667', 'country_code': 'DE', 'continent': 'Europe'}\n",
      "Data for store 97: {'index': 97, 'address': 'Marvin-Schmiedt-Straße 40\\n41235 Erkelenz, Wesseling', 'longitude': '50.82709', 'lat': None, 'locality': 'Wesseling', 'store_code': 'WE-DC3933D4', 'staff_numbers': '21', 'opening_date': '1997-08-29', 'store_type': 'Local', 'latitude': '6.9747', 'country_code': 'DE', 'continent': 'Europe'}\n",
      "Data for store 98: {'index': 98, 'address': 'Studio 26\\nPaula coves\\nEast Samuelfurt\\nEH17 8TE, Clacton-on-Sea', 'longitude': '51.78967', 'lat': None, 'locality': 'Clacton-on-Sea', 'store_code': 'CL-0FB1065C', 'staff_numbers': '28', 'opening_date': '2021-04-17', 'store_type': 'Local', 'latitude': '1.15597', 'country_code': 'GB', 'continent': 'Europe'}\n",
      "Data for store 99: {'index': 99, 'address': 'Walli-Ullrich-Ring 94\\n22096 Mallersdorf, Pfullingen', 'longitude': '48.46458', 'lat': None, 'locality': 'Pfullingen', 'store_code': 'PF-D90B564A', 'staff_numbers': '6', 'opening_date': '1997-12-01', 'store_type': 'Mall Kiosk', 'latitude': '9.22796', 'country_code': 'DE', 'continent': 'Europe'}\n",
      "Data for store 100: {'index': 100, 'address': 'Geißlerplatz 5\\n53713 Nördlingen, Bensheim', 'longitude': '49.68369', 'lat': None, 'locality': 'Bensheim', 'store_code': 'BE-028A2748', 'staff_numbers': '85', 'opening_date': '2005-10-31', 'store_type': 'Outlet', 'latitude': '8.61839', 'country_code': 'DE', 'continent': 'Europe'}\n",
      "Data for store 101: {'index': 101, 'address': 'Flat 56X\\nWayne fields\\nWebbside\\nBL8R 2QU, Southsea', 'longitude': '50.79205', 'lat': None, 'locality': 'Southsea', 'store_code': 'SO-6D546AD2', 'staff_numbers': '41', 'opening_date': '2011-09-25', 'store_type': 'Outlet', 'latitude': '-1.08593', 'country_code': 'GB', 'continent': 'Europe'}\n",
      "Data for store 102: {'index': 102, 'address': '0 Molly keys\\nDuncanton\\nHD7Y 4DU, High Wycombe', 'longitude': '51.62907', 'lat': None, 'locality': 'High Wycombe', 'store_code': 'HI-BED70096', 'staff_numbers': '57', 'opening_date': '1994-11-01', 'store_type': 'Outlet', 'latitude': '-0.74934', 'country_code': 'GB', 'continent': 'Europe'}\n",
      "Data for store 103: {'index': 103, 'address': '64 Hayes crossing\\nPort Ellieville\\nG7S 1XQ, Walton-on-the-Naze', 'longitude': '51.84819', 'lat': None, 'locality': 'Walton-on-the-Naze', 'store_code': 'WA-FF3389AF', 'staff_numbers': '4', 'opening_date': '2001-02-16', 'store_type': 'Mall Kiosk', 'latitude': '1.26738', 'country_code': 'GB', 'continent': 'Europe'}\n",
      "Data for store 104: {'index': 104, 'address': '822 Marsh mews\\nFrancishaven\\nBR3X 2XJ, Chapletown', 'longitude': '53.46506', 'lat': None, 'locality': 'Chapletown', 'store_code': 'CH-7E92F288', 'staff_numbers': '7', 'opening_date': '2003-08-08', 'store_type': 'Mall Kiosk', 'latitude': '-1.47217', 'country_code': 'GB', 'continent': 'Europe'}\n",
      "Data for store 105: {'index': 105, 'address': 'Minna-Juncken-Gasse 906\\n83233 Husum, Friedberg', 'longitude': '48.35693', 'lat': None, 'locality': 'Friedberg', 'store_code': 'FR-C04291C3', 'staff_numbers': '33', 'opening_date': '2012-02-15', 'store_type': 'Local', 'latitude': '10.98461', 'country_code': 'DE', 'continent': 'Europe'}\n",
      "Data for store 106: {'index': 106, 'address': 'Sauerring 09\\n84370 Bernburg, Stuttgart', 'longitude': '48.78232', 'lat': None, 'locality': 'Stuttgart', 'store_code': 'ST-B754F535', 'staff_numbers': '33', 'opening_date': '2021-06-26', 'store_type': 'Local', 'latitude': '9.17702', 'country_code': 'DE', 'continent': 'Europe'}\n",
      "Data for store 107: {'index': 107, 'address': 'Flat 84\\nMorrison freeway\\nWardbury\\nEC62 7LZ, Arbroath', 'longitude': '56.56317', 'lat': None, 'locality': 'Arbroath', 'store_code': 'AR-E8FDEB2B', 'staff_numbers': '20', 'opening_date': '2010-07-15', 'store_type': 'Local', 'latitude': '-2.58736', 'country_code': 'GB', 'continent': 'Europe'}\n",
      "Data for store 108: {'index': 108, 'address': 'Flat 9\\nMorris well\\nWebbmouth\\nW7 6FF, Lymington', 'longitude': '50.75767', 'lat': None, 'locality': 'Lymington', 'store_code': 'LY-FC3B1157', 'staff_numbers': '37', 'opening_date': '1993-05-06', 'store_type': 'Local', 'latitude': '-1.5443', 'country_code': 'GB', 'continent': 'Europe'}\n",
      "Data for store 109: {'index': 109, 'address': '0 Smith camp\\nMasonchester\\nSK23 1WD, Belper', 'longitude': '53.0233', 'lat': None, 'locality': 'Belper', 'store_code': 'BE-09F94471', 'staff_numbers': '34', 'opening_date': '2012-09-15', 'store_type': 'Local', 'latitude': '-1.48119', 'country_code': 'GB', 'continent': 'Europe'}\n",
      "Data for store 110: {'index': 110, 'address': 'Flat 60t\\nBerry squares\\nClarkstad\\nCR0 6RQ, Gainsborough', 'longitude': '53.38333', 'lat': None, 'locality': 'Gainsborough', 'store_code': 'GA-400CC35C', 'staff_numbers': '7', 'opening_date': '2021-06-16', 'store_type': 'Mall Kiosk', 'latitude': '-0.76667', 'country_code': 'GB', 'continent': 'Europe'}\n",
      "Data for store 111: {'index': 111, 'address': 'Studio 82\\nRosemary drive\\nScottside\\nCM7W 7XQ, Winsford', 'longitude': '53.19146', 'lat': None, 'locality': 'Winsford', 'store_code': 'WI-56B02C82', 'staff_numbers': '35', 'opening_date': '1999-11-05', 'store_type': 'Local', 'latitude': '-2.52398', 'country_code': 'GB', 'continent': 'Europe'}\n",
      "Data for store 112: {'index': 112, 'address': 'Flat 0\\nHobbs avenue\\nEast Diana\\nM9 8XN, High Wycombe', 'longitude': '51.62907', 'lat': None, 'locality': 'High Wycombe', 'store_code': 'HI-F2784D72', 'staff_numbers': '38', 'opening_date': '2008-02-27', 'store_type': 'Local', 'latitude': '-0.74934', 'country_code': 'GB', 'continent': 'Europe'}\n",
      "Data for store 113: {'index': 113, 'address': 'Studio 6\\nAnthony drive\\nNew Ricky\\nWF8 6HA, Mexborough', 'longitude': '53.49389', 'lat': None, 'locality': 'Mexborough', 'store_code': 'ME-D9ECD7DF', 'staff_numbers': '21', 'opening_date': '2019-07-12', 'store_type': 'Local', 'latitude': '-1.29243', 'country_code': 'GB', 'continent': 'Europe'}\n",
      "Data for store 114: {'index': 114, 'address': '7 Saunders divide\\nEast Malcolm\\nW2 5FA, Leyland', 'longitude': '53.69786', 'lat': None, 'locality': 'Leyland', 'store_code': 'LE-14B7245B', 'staff_numbers': '102', 'opening_date': '2022-08-31', 'store_type': 'Super Store', 'latitude': '-2.68758', 'country_code': 'GB', 'continent': 'Europe'}\n",
      "Data for store 115: {'index': 115, 'address': '7 Richards stravenue\\nWest Allan\\nS1T 1BY, Rutherglen', 'longitude': '55.82885', 'lat': None, 'locality': 'Rutherglen', 'store_code': 'RU-AE12736B', 'staff_numbers': '29', 'opening_date': '2008-03-27', 'store_type': 'Local', 'latitude': '-4.21376', 'country_code': 'GB', 'continent': 'Europe'}\n",
      "Data for store 116: {'index': 116, 'address': '4 Taylor plaza\\nDeanview\\nL1 2XR, Lancing', 'longitude': '50.82882', 'lat': None, 'locality': 'Lancing', 'store_code': 'LA-DE474D42', 'staff_numbers': '36', 'opening_date': '2019-08-07', 'store_type': 'Local', 'latitude': '-0.32247', 'country_code': 'GB', 'continent': 'Europe'}\n",
      "Data for store 117: {'index': 117, 'address': 'Linkeallee 7/3\\n66084 Füssen, Karben', 'longitude': '50.23019', 'lat': None, 'locality': 'Karben', 'store_code': 'KA-9D87BC15', 'staff_numbers': '69', 'opening_date': '2010-07-23', 'store_type': 'Super Store', 'latitude': '8.77155', 'country_code': 'DE', 'continent': 'Europe'}\n",
      "Data for store 118: {'index': 118, 'address': 'Flat 62\\nEllis mountain\\nBrettport\\nRM53 0AQ, Chapletown', 'longitude': '53.46506', 'lat': None, 'locality': 'Chapletown', 'store_code': 'CH-DCCDE05E', 'staff_numbers': '29', 'opening_date': '2013-11-17', 'store_type': 'Local', 'latitude': '-1.47217', 'country_code': 'GB', 'continent': 'Europe'}\n",
      "Data for store 119: {'index': 119, 'address': 'Flat 1\\nBeverley islands\\nLake Sheila\\nM8 1UU, Chapletown', 'longitude': '53.46506', 'lat': None, 'locality': 'Chapletown', 'store_code': 'CH-FBB32B94', 'staff_numbers': '30', 'opening_date': '2011-06-18', 'store_type': 'Local', 'latitude': '-1.47217', 'country_code': 'GB', 'continent': 'Europe'}\n",
      "Data for store 120: {'index': 120, 'address': 'Knappering 09\\n35944 Wertingen, Stade', 'longitude': '53.59337', 'lat': None, 'locality': 'Stade', 'store_code': 'ST-10F19C97', 'staff_numbers': '20', 'opening_date': '2001-11-28', 'store_type': 'Local', 'latitude': '9.47629', 'country_code': 'DE', 'continent': 'Europe'}\n",
      "Data for store 121: {'index': 121, 'address': '694 Parker Unions\\nSouth Rebeccatown, GU 66824, Newburgh', 'longitude': '41.50343', 'lat': None, 'locality': 'Newburgh', 'store_code': 'NE-C83B8B22', 'staff_numbers': '21', 'opening_date': '2014-07-03', 'store_type': 'Local', 'latitude': '-74.01042', 'country_code': 'US', 'continent': 'America'}\n",
      "Data for store 122: {'index': 122, 'address': 'Studio 66K\\nChloe road\\nStanleyberg\\nS0 6NE, Selby', 'longitude': '53.78333', 'lat': None, 'locality': 'Selby', 'store_code': 'SE-8DF6557B', 'staff_numbers': '20', 'opening_date': '2020 February 01', 'store_type': 'Local', 'latitude': '-1.06667', 'country_code': 'GB', 'continent': 'Europe'}\n",
      "Data for store 123: {'index': 123, 'address': '247 Melanie forge\\nNorth Nathan\\nN70 7ZZ, Surbiton', 'longitude': '51.39148', 'lat': None, 'locality': 'Surbiton', 'store_code': 'SU-346D5CF2', 'staff_numbers': '31', 'opening_date': '2021-02-27', 'store_type': 'Local', 'latitude': '-0.29825', 'country_code': 'GB', 'continent': 'Europe'}\n",
      "Data for store 124: {'index': 124, 'address': '22 Hussain rue\\nBoothport\\nM24 9LZ, Bushey', 'longitude': '51.64316', 'lat': None, 'locality': 'Bushey', 'store_code': 'BU-784362E0', 'staff_numbers': '127', 'opening_date': '2015-12-13', 'store_type': 'Super Store', 'latitude': '-0.36053', 'country_code': 'GB', 'continent': 'Europe'}\n",
      "Data for store 125: {'index': 125, 'address': 'Studio 45r\\nWest falls\\nTraceyfurt\\nL7 9NA, Arbroath', 'longitude': '56.56317', 'lat': None, 'locality': 'Arbroath', 'store_code': 'AR-0C5116E4', 'staff_numbers': '82', 'opening_date': '2008-09-01', 'store_type': 'Outlet', 'latitude': '-2.58736', 'country_code': 'GB', 'continent': 'Europe'}\n",
      "Data for store 126: {'index': 126, 'address': 'Keudelallee 65\\n00759 Mallersdorf, Oberhausen', 'longitude': '51.47805', 'lat': None, 'locality': 'Oberhausen', 'store_code': 'OB-7A4A9012', 'staff_numbers': '20', 'opening_date': '1996-06-05', 'store_type': 'Local', 'latitude': '6.8625', 'country_code': 'DE', 'continent': 'Europe'}\n"
     ]
    },
    {
     "ename": "KeyboardInterrupt",
     "evalue": "",
     "output_type": "error",
     "traceback": [
      "\u001b[1;31m---------------------------------------------------------------------------\u001b[0m",
      "\u001b[1;31mKeyboardInterrupt\u001b[0m                         Traceback (most recent call last)",
      "\u001b[1;32md:\\vs_ipynb\\learning-material\\multinational-retail\\data_exploration.ipynb Cell 71\u001b[0m line \u001b[0;36m8\n\u001b[0;32m      <a href='vscode-notebook-cell:/d%3A/vs_ipynb/learning-material/multinational-retail/data_exploration.ipynb#Y130sZmlsZQ%3D%3D?line=5'>6</a>\u001b[0m data_list \u001b[39m=\u001b[39m []\n\u001b[0;32m      <a href='vscode-notebook-cell:/d%3A/vs_ipynb/learning-material/multinational-retail/data_exploration.ipynb#Y130sZmlsZQ%3D%3D?line=6'>7</a>\u001b[0m \u001b[39mfor\u001b[39;00m store_number \u001b[39min\u001b[39;00m \u001b[39mrange\u001b[39m(\u001b[39m1\u001b[39m, \u001b[39m452\u001b[39m):\n\u001b[1;32m----> <a href='vscode-notebook-cell:/d%3A/vs_ipynb/learning-material/multinational-retail/data_exploration.ipynb#Y130sZmlsZQ%3D%3D?line=7'>8</a>\u001b[0m     response \u001b[39m=\u001b[39m requests\u001b[39m.\u001b[39;49mget(\u001b[39mf\u001b[39;49m\u001b[39m\"\u001b[39;49m\u001b[39mhttps://aqj7u5id95.execute-api.eu-west-1.amazonaws.com/prod/store_details/\u001b[39;49m\u001b[39m{\u001b[39;49;00mstore_number\u001b[39m}\u001b[39;49;00m\u001b[39m\"\u001b[39;49m, headers\u001b[39m=\u001b[39;49mcredentials[\u001b[39m'\u001b[39;49m\u001b[39mheader\u001b[39;49m\u001b[39m'\u001b[39;49m])\n\u001b[0;32m     <a href='vscode-notebook-cell:/d%3A/vs_ipynb/learning-material/multinational-retail/data_exploration.ipynb#Y130sZmlsZQ%3D%3D?line=9'>10</a>\u001b[0m     \u001b[39mif\u001b[39;00m response\u001b[39m.\u001b[39mstatus_code \u001b[39m==\u001b[39m \u001b[39m200\u001b[39m:\n\u001b[0;32m     <a href='vscode-notebook-cell:/d%3A/vs_ipynb/learning-material/multinational-retail/data_exploration.ipynb#Y130sZmlsZQ%3D%3D?line=10'>11</a>\u001b[0m         data \u001b[39m=\u001b[39m response\u001b[39m.\u001b[39mjson()\n",
      "File \u001b[1;32md:\\vs_ipynb\\.conda\\Lib\\site-packages\\requests\\api.py:73\u001b[0m, in \u001b[0;36mget\u001b[1;34m(url, params, **kwargs)\u001b[0m\n\u001b[0;32m     62\u001b[0m \u001b[39mdef\u001b[39;00m \u001b[39mget\u001b[39m(url, params\u001b[39m=\u001b[39m\u001b[39mNone\u001b[39;00m, \u001b[39m*\u001b[39m\u001b[39m*\u001b[39mkwargs):\n\u001b[0;32m     63\u001b[0m \u001b[39m    \u001b[39m\u001b[39mr\u001b[39m\u001b[39m\"\"\"Sends a GET request.\u001b[39;00m\n\u001b[0;32m     64\u001b[0m \n\u001b[0;32m     65\u001b[0m \u001b[39m    :param url: URL for the new :class:`Request` object.\u001b[39;00m\n\u001b[1;32m   (...)\u001b[0m\n\u001b[0;32m     70\u001b[0m \u001b[39m    :rtype: requests.Response\u001b[39;00m\n\u001b[0;32m     71\u001b[0m \u001b[39m    \"\"\"\u001b[39;00m\n\u001b[1;32m---> 73\u001b[0m     \u001b[39mreturn\u001b[39;00m request(\u001b[39m\"\u001b[39;49m\u001b[39mget\u001b[39;49m\u001b[39m\"\u001b[39;49m, url, params\u001b[39m=\u001b[39;49mparams, \u001b[39m*\u001b[39;49m\u001b[39m*\u001b[39;49mkwargs)\n",
      "File \u001b[1;32md:\\vs_ipynb\\.conda\\Lib\\site-packages\\requests\\api.py:59\u001b[0m, in \u001b[0;36mrequest\u001b[1;34m(method, url, **kwargs)\u001b[0m\n\u001b[0;32m     55\u001b[0m \u001b[39m# By using the 'with' statement we are sure the session is closed, thus we\u001b[39;00m\n\u001b[0;32m     56\u001b[0m \u001b[39m# avoid leaving sockets open which can trigger a ResourceWarning in some\u001b[39;00m\n\u001b[0;32m     57\u001b[0m \u001b[39m# cases, and look like a memory leak in others.\u001b[39;00m\n\u001b[0;32m     58\u001b[0m \u001b[39mwith\u001b[39;00m sessions\u001b[39m.\u001b[39mSession() \u001b[39mas\u001b[39;00m session:\n\u001b[1;32m---> 59\u001b[0m     \u001b[39mreturn\u001b[39;00m session\u001b[39m.\u001b[39;49mrequest(method\u001b[39m=\u001b[39;49mmethod, url\u001b[39m=\u001b[39;49murl, \u001b[39m*\u001b[39;49m\u001b[39m*\u001b[39;49mkwargs)\n",
      "File \u001b[1;32md:\\vs_ipynb\\.conda\\Lib\\site-packages\\requests\\sessions.py:589\u001b[0m, in \u001b[0;36mSession.request\u001b[1;34m(self, method, url, params, data, headers, cookies, files, auth, timeout, allow_redirects, proxies, hooks, stream, verify, cert, json)\u001b[0m\n\u001b[0;32m    584\u001b[0m send_kwargs \u001b[39m=\u001b[39m {\n\u001b[0;32m    585\u001b[0m     \u001b[39m\"\u001b[39m\u001b[39mtimeout\u001b[39m\u001b[39m\"\u001b[39m: timeout,\n\u001b[0;32m    586\u001b[0m     \u001b[39m\"\u001b[39m\u001b[39mallow_redirects\u001b[39m\u001b[39m\"\u001b[39m: allow_redirects,\n\u001b[0;32m    587\u001b[0m }\n\u001b[0;32m    588\u001b[0m send_kwargs\u001b[39m.\u001b[39mupdate(settings)\n\u001b[1;32m--> 589\u001b[0m resp \u001b[39m=\u001b[39m \u001b[39mself\u001b[39;49m\u001b[39m.\u001b[39;49msend(prep, \u001b[39m*\u001b[39;49m\u001b[39m*\u001b[39;49msend_kwargs)\n\u001b[0;32m    591\u001b[0m \u001b[39mreturn\u001b[39;00m resp\n",
      "File \u001b[1;32md:\\vs_ipynb\\.conda\\Lib\\site-packages\\requests\\sessions.py:703\u001b[0m, in \u001b[0;36mSession.send\u001b[1;34m(self, request, **kwargs)\u001b[0m\n\u001b[0;32m    700\u001b[0m start \u001b[39m=\u001b[39m preferred_clock()\n\u001b[0;32m    702\u001b[0m \u001b[39m# Send the request\u001b[39;00m\n\u001b[1;32m--> 703\u001b[0m r \u001b[39m=\u001b[39m adapter\u001b[39m.\u001b[39;49msend(request, \u001b[39m*\u001b[39;49m\u001b[39m*\u001b[39;49mkwargs)\n\u001b[0;32m    705\u001b[0m \u001b[39m# Total elapsed time of the request (approximately)\u001b[39;00m\n\u001b[0;32m    706\u001b[0m elapsed \u001b[39m=\u001b[39m preferred_clock() \u001b[39m-\u001b[39m start\n",
      "File \u001b[1;32md:\\vs_ipynb\\.conda\\Lib\\site-packages\\requests\\adapters.py:486\u001b[0m, in \u001b[0;36mHTTPAdapter.send\u001b[1;34m(self, request, stream, timeout, verify, cert, proxies)\u001b[0m\n\u001b[0;32m    483\u001b[0m     timeout \u001b[39m=\u001b[39m TimeoutSauce(connect\u001b[39m=\u001b[39mtimeout, read\u001b[39m=\u001b[39mtimeout)\n\u001b[0;32m    485\u001b[0m \u001b[39mtry\u001b[39;00m:\n\u001b[1;32m--> 486\u001b[0m     resp \u001b[39m=\u001b[39m conn\u001b[39m.\u001b[39;49murlopen(\n\u001b[0;32m    487\u001b[0m         method\u001b[39m=\u001b[39;49mrequest\u001b[39m.\u001b[39;49mmethod,\n\u001b[0;32m    488\u001b[0m         url\u001b[39m=\u001b[39;49murl,\n\u001b[0;32m    489\u001b[0m         body\u001b[39m=\u001b[39;49mrequest\u001b[39m.\u001b[39;49mbody,\n\u001b[0;32m    490\u001b[0m         headers\u001b[39m=\u001b[39;49mrequest\u001b[39m.\u001b[39;49mheaders,\n\u001b[0;32m    491\u001b[0m         redirect\u001b[39m=\u001b[39;49m\u001b[39mFalse\u001b[39;49;00m,\n\u001b[0;32m    492\u001b[0m         assert_same_host\u001b[39m=\u001b[39;49m\u001b[39mFalse\u001b[39;49;00m,\n\u001b[0;32m    493\u001b[0m         preload_content\u001b[39m=\u001b[39;49m\u001b[39mFalse\u001b[39;49;00m,\n\u001b[0;32m    494\u001b[0m         decode_content\u001b[39m=\u001b[39;49m\u001b[39mFalse\u001b[39;49;00m,\n\u001b[0;32m    495\u001b[0m         retries\u001b[39m=\u001b[39;49m\u001b[39mself\u001b[39;49m\u001b[39m.\u001b[39;49mmax_retries,\n\u001b[0;32m    496\u001b[0m         timeout\u001b[39m=\u001b[39;49mtimeout,\n\u001b[0;32m    497\u001b[0m         chunked\u001b[39m=\u001b[39;49mchunked,\n\u001b[0;32m    498\u001b[0m     )\n\u001b[0;32m    500\u001b[0m \u001b[39mexcept\u001b[39;00m (ProtocolError, \u001b[39mOSError\u001b[39;00m) \u001b[39mas\u001b[39;00m err:\n\u001b[0;32m    501\u001b[0m     \u001b[39mraise\u001b[39;00m \u001b[39mConnectionError\u001b[39;00m(err, request\u001b[39m=\u001b[39mrequest)\n",
      "File \u001b[1;32md:\\vs_ipynb\\.conda\\Lib\\site-packages\\urllib3\\connectionpool.py:790\u001b[0m, in \u001b[0;36mHTTPConnectionPool.urlopen\u001b[1;34m(self, method, url, body, headers, retries, redirect, assert_same_host, timeout, pool_timeout, release_conn, chunked, body_pos, preload_content, decode_content, **response_kw)\u001b[0m\n\u001b[0;32m    787\u001b[0m response_conn \u001b[39m=\u001b[39m conn \u001b[39mif\u001b[39;00m \u001b[39mnot\u001b[39;00m release_conn \u001b[39melse\u001b[39;00m \u001b[39mNone\u001b[39;00m\n\u001b[0;32m    789\u001b[0m \u001b[39m# Make the request on the HTTPConnection object\u001b[39;00m\n\u001b[1;32m--> 790\u001b[0m response \u001b[39m=\u001b[39m \u001b[39mself\u001b[39;49m\u001b[39m.\u001b[39;49m_make_request(\n\u001b[0;32m    791\u001b[0m     conn,\n\u001b[0;32m    792\u001b[0m     method,\n\u001b[0;32m    793\u001b[0m     url,\n\u001b[0;32m    794\u001b[0m     timeout\u001b[39m=\u001b[39;49mtimeout_obj,\n\u001b[0;32m    795\u001b[0m     body\u001b[39m=\u001b[39;49mbody,\n\u001b[0;32m    796\u001b[0m     headers\u001b[39m=\u001b[39;49mheaders,\n\u001b[0;32m    797\u001b[0m     chunked\u001b[39m=\u001b[39;49mchunked,\n\u001b[0;32m    798\u001b[0m     retries\u001b[39m=\u001b[39;49mretries,\n\u001b[0;32m    799\u001b[0m     response_conn\u001b[39m=\u001b[39;49mresponse_conn,\n\u001b[0;32m    800\u001b[0m     preload_content\u001b[39m=\u001b[39;49mpreload_content,\n\u001b[0;32m    801\u001b[0m     decode_content\u001b[39m=\u001b[39;49mdecode_content,\n\u001b[0;32m    802\u001b[0m     \u001b[39m*\u001b[39;49m\u001b[39m*\u001b[39;49mresponse_kw,\n\u001b[0;32m    803\u001b[0m )\n\u001b[0;32m    805\u001b[0m \u001b[39m# Everything went great!\u001b[39;00m\n\u001b[0;32m    806\u001b[0m clean_exit \u001b[39m=\u001b[39m \u001b[39mTrue\u001b[39;00m\n",
      "File \u001b[1;32md:\\vs_ipynb\\.conda\\Lib\\site-packages\\urllib3\\connectionpool.py:467\u001b[0m, in \u001b[0;36mHTTPConnectionPool._make_request\u001b[1;34m(self, conn, method, url, body, headers, retries, timeout, chunked, response_conn, preload_content, decode_content, enforce_content_length)\u001b[0m\n\u001b[0;32m    464\u001b[0m \u001b[39mtry\u001b[39;00m:\n\u001b[0;32m    465\u001b[0m     \u001b[39m# Trigger any extra validation we need to do.\u001b[39;00m\n\u001b[0;32m    466\u001b[0m     \u001b[39mtry\u001b[39;00m:\n\u001b[1;32m--> 467\u001b[0m         \u001b[39mself\u001b[39;49m\u001b[39m.\u001b[39;49m_validate_conn(conn)\n\u001b[0;32m    468\u001b[0m     \u001b[39mexcept\u001b[39;00m (SocketTimeout, BaseSSLError) \u001b[39mas\u001b[39;00m e:\n\u001b[0;32m    469\u001b[0m         \u001b[39mself\u001b[39m\u001b[39m.\u001b[39m_raise_timeout(err\u001b[39m=\u001b[39me, url\u001b[39m=\u001b[39murl, timeout_value\u001b[39m=\u001b[39mconn\u001b[39m.\u001b[39mtimeout)\n",
      "File \u001b[1;32md:\\vs_ipynb\\.conda\\Lib\\site-packages\\urllib3\\connectionpool.py:1092\u001b[0m, in \u001b[0;36mHTTPSConnectionPool._validate_conn\u001b[1;34m(self, conn)\u001b[0m\n\u001b[0;32m   1090\u001b[0m \u001b[39m# Force connect early to allow us to validate the connection.\u001b[39;00m\n\u001b[0;32m   1091\u001b[0m \u001b[39mif\u001b[39;00m conn\u001b[39m.\u001b[39mis_closed:\n\u001b[1;32m-> 1092\u001b[0m     conn\u001b[39m.\u001b[39;49mconnect()\n\u001b[0;32m   1094\u001b[0m \u001b[39mif\u001b[39;00m \u001b[39mnot\u001b[39;00m conn\u001b[39m.\u001b[39mis_verified:\n\u001b[0;32m   1095\u001b[0m     warnings\u001b[39m.\u001b[39mwarn(\n\u001b[0;32m   1096\u001b[0m         (\n\u001b[0;32m   1097\u001b[0m             \u001b[39mf\u001b[39m\u001b[39m\"\u001b[39m\u001b[39mUnverified HTTPS request is being made to host \u001b[39m\u001b[39m'\u001b[39m\u001b[39m{\u001b[39;00mconn\u001b[39m.\u001b[39mhost\u001b[39m}\u001b[39;00m\u001b[39m'\u001b[39m\u001b[39m. \u001b[39m\u001b[39m\"\u001b[39m\n\u001b[1;32m   (...)\u001b[0m\n\u001b[0;32m   1102\u001b[0m         InsecureRequestWarning,\n\u001b[0;32m   1103\u001b[0m     )\n",
      "File \u001b[1;32md:\\vs_ipynb\\.conda\\Lib\\site-packages\\urllib3\\connection.py:642\u001b[0m, in \u001b[0;36mHTTPSConnection.connect\u001b[1;34m(self)\u001b[0m\n\u001b[0;32m    633\u001b[0m \u001b[39mif\u001b[39;00m is_time_off:\n\u001b[0;32m    634\u001b[0m     warnings\u001b[39m.\u001b[39mwarn(\n\u001b[0;32m    635\u001b[0m         (\n\u001b[0;32m    636\u001b[0m             \u001b[39mf\u001b[39m\u001b[39m\"\u001b[39m\u001b[39mSystem time is way off (before \u001b[39m\u001b[39m{\u001b[39;00mRECENT_DATE\u001b[39m}\u001b[39;00m\u001b[39m). This will probably \u001b[39m\u001b[39m\"\u001b[39m\n\u001b[1;32m   (...)\u001b[0m\n\u001b[0;32m    639\u001b[0m         SystemTimeWarning,\n\u001b[0;32m    640\u001b[0m     )\n\u001b[1;32m--> 642\u001b[0m sock_and_verified \u001b[39m=\u001b[39m _ssl_wrap_socket_and_match_hostname(\n\u001b[0;32m    643\u001b[0m     sock\u001b[39m=\u001b[39;49msock,\n\u001b[0;32m    644\u001b[0m     cert_reqs\u001b[39m=\u001b[39;49m\u001b[39mself\u001b[39;49m\u001b[39m.\u001b[39;49mcert_reqs,\n\u001b[0;32m    645\u001b[0m     ssl_version\u001b[39m=\u001b[39;49m\u001b[39mself\u001b[39;49m\u001b[39m.\u001b[39;49mssl_version,\n\u001b[0;32m    646\u001b[0m     ssl_minimum_version\u001b[39m=\u001b[39;49m\u001b[39mself\u001b[39;49m\u001b[39m.\u001b[39;49mssl_minimum_version,\n\u001b[0;32m    647\u001b[0m     ssl_maximum_version\u001b[39m=\u001b[39;49m\u001b[39mself\u001b[39;49m\u001b[39m.\u001b[39;49mssl_maximum_version,\n\u001b[0;32m    648\u001b[0m     ca_certs\u001b[39m=\u001b[39;49m\u001b[39mself\u001b[39;49m\u001b[39m.\u001b[39;49mca_certs,\n\u001b[0;32m    649\u001b[0m     ca_cert_dir\u001b[39m=\u001b[39;49m\u001b[39mself\u001b[39;49m\u001b[39m.\u001b[39;49mca_cert_dir,\n\u001b[0;32m    650\u001b[0m     ca_cert_data\u001b[39m=\u001b[39;49m\u001b[39mself\u001b[39;49m\u001b[39m.\u001b[39;49mca_cert_data,\n\u001b[0;32m    651\u001b[0m     cert_file\u001b[39m=\u001b[39;49m\u001b[39mself\u001b[39;49m\u001b[39m.\u001b[39;49mcert_file,\n\u001b[0;32m    652\u001b[0m     key_file\u001b[39m=\u001b[39;49m\u001b[39mself\u001b[39;49m\u001b[39m.\u001b[39;49mkey_file,\n\u001b[0;32m    653\u001b[0m     key_password\u001b[39m=\u001b[39;49m\u001b[39mself\u001b[39;49m\u001b[39m.\u001b[39;49mkey_password,\n\u001b[0;32m    654\u001b[0m     server_hostname\u001b[39m=\u001b[39;49mserver_hostname,\n\u001b[0;32m    655\u001b[0m     ssl_context\u001b[39m=\u001b[39;49m\u001b[39mself\u001b[39;49m\u001b[39m.\u001b[39;49mssl_context,\n\u001b[0;32m    656\u001b[0m     tls_in_tls\u001b[39m=\u001b[39;49mtls_in_tls,\n\u001b[0;32m    657\u001b[0m     assert_hostname\u001b[39m=\u001b[39;49m\u001b[39mself\u001b[39;49m\u001b[39m.\u001b[39;49massert_hostname,\n\u001b[0;32m    658\u001b[0m     assert_fingerprint\u001b[39m=\u001b[39;49m\u001b[39mself\u001b[39;49m\u001b[39m.\u001b[39;49massert_fingerprint,\n\u001b[0;32m    659\u001b[0m )\n\u001b[0;32m    660\u001b[0m \u001b[39mself\u001b[39m\u001b[39m.\u001b[39msock \u001b[39m=\u001b[39m sock_and_verified\u001b[39m.\u001b[39msocket\n\u001b[0;32m    661\u001b[0m \u001b[39mself\u001b[39m\u001b[39m.\u001b[39mis_verified \u001b[39m=\u001b[39m sock_and_verified\u001b[39m.\u001b[39mis_verified\n",
      "File \u001b[1;32md:\\vs_ipynb\\.conda\\Lib\\site-packages\\urllib3\\connection.py:783\u001b[0m, in \u001b[0;36m_ssl_wrap_socket_and_match_hostname\u001b[1;34m(sock, cert_reqs, ssl_version, ssl_minimum_version, ssl_maximum_version, cert_file, key_file, key_password, ca_certs, ca_cert_dir, ca_cert_data, assert_hostname, assert_fingerprint, server_hostname, ssl_context, tls_in_tls)\u001b[0m\n\u001b[0;32m    780\u001b[0m     \u001b[39mif\u001b[39;00m is_ipaddress(normalized):\n\u001b[0;32m    781\u001b[0m         server_hostname \u001b[39m=\u001b[39m normalized\n\u001b[1;32m--> 783\u001b[0m ssl_sock \u001b[39m=\u001b[39m ssl_wrap_socket(\n\u001b[0;32m    784\u001b[0m     sock\u001b[39m=\u001b[39;49msock,\n\u001b[0;32m    785\u001b[0m     keyfile\u001b[39m=\u001b[39;49mkey_file,\n\u001b[0;32m    786\u001b[0m     certfile\u001b[39m=\u001b[39;49mcert_file,\n\u001b[0;32m    787\u001b[0m     key_password\u001b[39m=\u001b[39;49mkey_password,\n\u001b[0;32m    788\u001b[0m     ca_certs\u001b[39m=\u001b[39;49mca_certs,\n\u001b[0;32m    789\u001b[0m     ca_cert_dir\u001b[39m=\u001b[39;49mca_cert_dir,\n\u001b[0;32m    790\u001b[0m     ca_cert_data\u001b[39m=\u001b[39;49mca_cert_data,\n\u001b[0;32m    791\u001b[0m     server_hostname\u001b[39m=\u001b[39;49mserver_hostname,\n\u001b[0;32m    792\u001b[0m     ssl_context\u001b[39m=\u001b[39;49mcontext,\n\u001b[0;32m    793\u001b[0m     tls_in_tls\u001b[39m=\u001b[39;49mtls_in_tls,\n\u001b[0;32m    794\u001b[0m )\n\u001b[0;32m    796\u001b[0m \u001b[39mtry\u001b[39;00m:\n\u001b[0;32m    797\u001b[0m     \u001b[39mif\u001b[39;00m assert_fingerprint:\n",
      "File \u001b[1;32md:\\vs_ipynb\\.conda\\Lib\\site-packages\\urllib3\\util\\ssl_.py:444\u001b[0m, in \u001b[0;36mssl_wrap_socket\u001b[1;34m(sock, keyfile, certfile, cert_reqs, ca_certs, server_hostname, ssl_version, ciphers, ssl_context, ca_cert_dir, key_password, ca_cert_data, tls_in_tls)\u001b[0m\n\u001b[0;32m    442\u001b[0m \u001b[39mif\u001b[39;00m ca_certs \u001b[39mor\u001b[39;00m ca_cert_dir \u001b[39mor\u001b[39;00m ca_cert_data:\n\u001b[0;32m    443\u001b[0m     \u001b[39mtry\u001b[39;00m:\n\u001b[1;32m--> 444\u001b[0m         context\u001b[39m.\u001b[39;49mload_verify_locations(ca_certs, ca_cert_dir, ca_cert_data)\n\u001b[0;32m    445\u001b[0m     \u001b[39mexcept\u001b[39;00m \u001b[39mOSError\u001b[39;00m \u001b[39mas\u001b[39;00m e:\n\u001b[0;32m    446\u001b[0m         \u001b[39mraise\u001b[39;00m SSLError(e) \u001b[39mfrom\u001b[39;00m \u001b[39me\u001b[39;00m\n",
      "\u001b[1;31mKeyboardInterrupt\u001b[0m: "
     ]
    }
   ],
   "source": [
    "import pandas as pd\n",
    "\n",
    "with open('db_creds.yaml', 'r') as file:\n",
    "    credentials = yaml.safe_load(file)\n",
    "\n",
    "data_list = []\n",
    "for store_number in range(1, 452):\n",
    "    response = requests.get(f\"https://aqj7u5id95.execute-api.eu-west-1.amazonaws.com/prod/store_details/{store_number}\", headers=credentials['header'])\n",
    "\n",
    "    if response.status_code == 200:\n",
    "        data = response.json()\n",
    "        data_list.append(data)\n",
    "        # Process the data as needed for each store\n",
    "        print(f\"Data for store {store_number}: {data}\")\n",
    "    else:\n",
    "        print(f\"Request for store {store_number} failed with status code: {response.status_code}\")\n",
    "        print(f\"Response Text: {response.text}\")\n",
    "\n",
    "df_api = pd.DataFrame(data_list)"
   ]
  },
  {
   "cell_type": "markdown",
   "metadata": {},
   "source": [
    "# Reviewing and cleaning the API data"
   ]
  },
  {
   "cell_type": "code",
   "execution_count": 346,
   "metadata": {},
   "outputs": [],
   "source": [
    "api_data = pd.read_csv(\"api_data.csv\")"
   ]
  },
  {
   "cell_type": "code",
   "execution_count": 347,
   "metadata": {},
   "outputs": [
    {
     "data": {
      "text/html": [
       "<div>\n",
       "<style scoped>\n",
       "    .dataframe tbody tr th:only-of-type {\n",
       "        vertical-align: middle;\n",
       "    }\n",
       "\n",
       "    .dataframe tbody tr th {\n",
       "        vertical-align: top;\n",
       "    }\n",
       "\n",
       "    .dataframe thead th {\n",
       "        text-align: right;\n",
       "    }\n",
       "</style>\n",
       "<table border=\"1\" class=\"dataframe\">\n",
       "  <thead>\n",
       "    <tr style=\"text-align: right;\">\n",
       "      <th></th>\n",
       "      <th>Unnamed: 0</th>\n",
       "      <th>index</th>\n",
       "      <th>address</th>\n",
       "      <th>longitude</th>\n",
       "      <th>lat</th>\n",
       "      <th>locality</th>\n",
       "      <th>store_code</th>\n",
       "      <th>staff_numbers</th>\n",
       "      <th>opening_date</th>\n",
       "      <th>store_type</th>\n",
       "      <th>latitude</th>\n",
       "      <th>country_code</th>\n",
       "      <th>continent</th>\n",
       "    </tr>\n",
       "  </thead>\n",
       "  <tbody>\n",
       "    <tr>\n",
       "      <th>0</th>\n",
       "      <td>0</td>\n",
       "      <td>1</td>\n",
       "      <td>Flat 72W\\nSally isle\\nEast Deantown\\nE7B 8EB, ...</td>\n",
       "      <td>51.62907</td>\n",
       "      <td>NaN</td>\n",
       "      <td>High Wycombe</td>\n",
       "      <td>HI-9B97EE4E</td>\n",
       "      <td>34</td>\n",
       "      <td>1996-10-25</td>\n",
       "      <td>Local</td>\n",
       "      <td>-0.74934</td>\n",
       "      <td>GB</td>\n",
       "      <td>Europe</td>\n",
       "    </tr>\n",
       "    <tr>\n",
       "      <th>1</th>\n",
       "      <td>1</td>\n",
       "      <td>2</td>\n",
       "      <td>Heckerstraße 4/5\\n50491 Säckingen, Landshut</td>\n",
       "      <td>48.52961</td>\n",
       "      <td>NaN</td>\n",
       "      <td>Landshut</td>\n",
       "      <td>LA-0772C7B9</td>\n",
       "      <td>92</td>\n",
       "      <td>2013-04-12</td>\n",
       "      <td>Super Store</td>\n",
       "      <td>12.16179</td>\n",
       "      <td>DE</td>\n",
       "      <td>Europe</td>\n",
       "    </tr>\n",
       "  </tbody>\n",
       "</table>\n",
       "</div>"
      ],
      "text/plain": [
       "   Unnamed: 0  index                                            address  \\\n",
       "0           0      1  Flat 72W\\nSally isle\\nEast Deantown\\nE7B 8EB, ...   \n",
       "1           1      2        Heckerstraße 4/5\\n50491 Säckingen, Landshut   \n",
       "\n",
       "  longitude  lat      locality   store_code staff_numbers opening_date  \\\n",
       "0  51.62907  NaN  High Wycombe  HI-9B97EE4E            34   1996-10-25   \n",
       "1  48.52961  NaN      Landshut  LA-0772C7B9            92   2013-04-12   \n",
       "\n",
       "    store_type  latitude country_code continent  \n",
       "0        Local  -0.74934           GB    Europe  \n",
       "1  Super Store  12.16179           DE    Europe  "
      ]
     },
     "execution_count": 347,
     "metadata": {},
     "output_type": "execute_result"
    }
   ],
   "source": [
    "api_data.head(2)"
   ]
  },
  {
   "cell_type": "code",
   "execution_count": 348,
   "metadata": {},
   "outputs": [],
   "source": [
    "api_data =api_data.drop(api_data.columns[0],axis=1)"
   ]
  },
  {
   "cell_type": "code",
   "execution_count": 349,
   "metadata": {},
   "outputs": [
    {
     "data": {
      "text/plain": [
       "lat\n",
       "13KJZ890JH    1\n",
       "2XE1OWOC23    1\n",
       "OXVE5QR07O    1\n",
       "VKA5I8H32X    1\n",
       "LACCWDI0SB    1\n",
       "A3O5CBWAMD    1\n",
       "UXMWDMX1LC    1\n",
       "Name: count, dtype: int64"
      ]
     },
     "execution_count": 349,
     "metadata": {},
     "output_type": "execute_result"
    }
   ],
   "source": [
    "# Is lat an irrelevant empty column? yes\n",
    "api_data['lat'].value_counts()"
   ]
  },
  {
   "cell_type": "code",
   "execution_count": 350,
   "metadata": {},
   "outputs": [],
   "source": [
    "api_data =api_data.drop('lat',axis = 1)"
   ]
  },
  {
   "cell_type": "code",
   "execution_count": 351,
   "metadata": {},
   "outputs": [],
   "source": [
    "#Randomly generated rows exist, use a numbers column to dig these out\n",
    "def check_alpha(string):\n",
    "    return str(string).isalpha()\n",
    "\n",
    "random = api_data[api_data['country_code'].str.len() > 2]"
   ]
  },
  {
   "cell_type": "code",
   "execution_count": 146,
   "metadata": {},
   "outputs": [
    {
     "name": "stdout",
     "output_type": "stream",
     "text": [
      "     Unnamed: 0  index     address   longitude         lat    locality  \\\n",
      "62           62     63  6FWDZHD7PW  1ZVU03X2P6  13KJZ890JH  9IBH8Y4Z0S   \n",
      "171         171    172  UBCIFQLSNY  Q1TJY8H1ZH  2XE1OWOC23  1T6B406CI8   \n",
      "230         230    231  RC99UKMZB2  2YBZ1440V6  OXVE5QR07O  6LVWPU1G64   \n",
      "332         332    333  X349GIDWKU  O7NF1FZ74Y  VKA5I8H32X  RX9TCP2RGB   \n",
      "380         380    381  ZBGB54ID4H  SKO4NMRNNF  LACCWDI0SB  CQMHKI78BX   \n",
      "413         413    414  XTUAV57DP4  ID819KG3X5  A3O5CBWAMD  RY6K0AUE7F   \n",
      "446         446    447  K0ODETRLS3  K8CXLZDP07  UXMWDMX1LC  3VHFDNP8ET   \n",
      "\n",
      "     store_code staff_numbers opening_date  store_type    latitude  \\\n",
      "62   NRQKZWJ9OZ    BIP8K8JJW2   ZCXWWKF45G  QP74AHEQT0  1CJ5OAU4BR   \n",
      "171  QIUU9SVP51    SKBXAXF5G5   7AHXLXIUEF  O0QJIRC943  3ZR3F89D97   \n",
      "230  Y8J0Z2W8O9    2429OB3LMM   0OLAK2I6NS  50IB01SFAZ  L13EQEQODP   \n",
      "332  ISEE8A57FE    74BY7HSB6P   A3PMVM800J  0RSNUU3DF5  J3BPB68Z1J   \n",
      "380  T0R2CQBDUS    GT1FO6YGD4   GMMB02LA9V  B4KVQB3P5Y  AJHOMDOHZ4   \n",
      "413  TUOKF5HAAQ    FRTGHAA34B   13PIY8GD1H  X0FE7E2EOG  AE7EEW4HSS   \n",
      "446  9D4LK7X4LZ    D23PCWSM6S   36IIMAQD58  NN04B3F6UQ  JZP8MIJTPZ   \n",
      "\n",
      "    country_code   continent  \n",
      "62    YELVM536YT  QMAVR5H3LD  \n",
      "171   FP8DLXQVGH  LU3E036ZD9  \n",
      "230   HMHIFNLOBN  5586JCLARW  \n",
      "332   F3AO8V2LHU  GFJQ2AAEQ8  \n",
      "380   OH20I92LX3  SLQBD982C0  \n",
      "413   OYVW925ZL8  XQ953VS0FG  \n",
      "446   B3EH2ZGQAV  1WZB1TE1HL  \n"
     ]
    }
   ],
   "source": [
    "print(random)"
   ]
  },
  {
   "cell_type": "code",
   "execution_count": 352,
   "metadata": {},
   "outputs": [],
   "source": [
    "# These rows have been found and will be dropped\n",
    "api_data = api_data[api_data['country_code'].str.len() <= 2]"
   ]
  },
  {
   "cell_type": "code",
   "execution_count": 164,
   "metadata": {},
   "outputs": [
    {
     "name": "stdout",
     "output_type": "stream",
     "text": [
      "<class 'pandas.core.frame.DataFrame'>\n",
      "Index: 440 entries, 0 to 449\n",
      "Data columns (total 11 columns):\n",
      " #   Column         Non-Null Count  Dtype \n",
      "---  ------         --------------  ----- \n",
      " 0   index          440 non-null    int64 \n",
      " 1   address        440 non-null    object\n",
      " 2   longitude      440 non-null    object\n",
      " 3   locality       440 non-null    object\n",
      " 4   store_code     440 non-null    object\n",
      " 5   staff_numbers  440 non-null    object\n",
      " 6   opening_date   440 non-null    object\n",
      " 7   store_type     440 non-null    object\n",
      " 8   latitude       440 non-null    object\n",
      " 9   country_code   440 non-null    object\n",
      " 10  continent      440 non-null    object\n",
      "dtypes: int64(1), object(10)\n",
      "memory usage: 41.2+ KB\n"
     ]
    }
   ],
   "source": [
    "api_data.info()"
   ]
  },
  {
   "cell_type": "code",
   "execution_count": 233,
   "metadata": {},
   "outputs": [
    {
     "data": {
      "text/plain": [
       "index            0\n",
       "address          0\n",
       "longitude        0\n",
       "locality         0\n",
       "store_code       0\n",
       "staff_numbers    0\n",
       "opening_date     0\n",
       "store_type       0\n",
       "latitude         0\n",
       "country_code     0\n",
       "continent        0\n",
       "dtype: int64"
      ]
     },
     "execution_count": 233,
     "metadata": {},
     "output_type": "execute_result"
    }
   ],
   "source": [
    "#no nulls\n",
    "api_data.isnull().sum()"
   ]
  },
  {
   "cell_type": "code",
   "execution_count": 291,
   "metadata": {},
   "outputs": [],
   "source": [
    "#Remove new line from address and replace with commas\n",
    "api_data['address'] = api_data['address'].str.replace('\\n', ',')"
   ]
  },
  {
   "cell_type": "code",
   "execution_count": 292,
   "metadata": {},
   "outputs": [
    {
     "data": {
      "text/plain": [
       "locality\n",
       "Chapletown       14\n",
       "Belper           13\n",
       "Bushey           12\n",
       "Exeter           11\n",
       "Arbroath         10\n",
       "                 ..\n",
       "Sicklerville      1\n",
       "Brierley Hill     1\n",
       "Searcy            1\n",
       "Port Richmond     1\n",
       "Westchester       1\n",
       "Name: count, Length: 116, dtype: int64"
      ]
     },
     "execution_count": 292,
     "metadata": {},
     "output_type": "execute_result"
    }
   ],
   "source": [
    "api_data['locality'].value_counts()"
   ]
  },
  {
   "cell_type": "code",
   "execution_count": 293,
   "metadata": {},
   "outputs": [
    {
     "name": "stdout",
     "output_type": "stream",
     "text": [
      "0      HI-9B97EE4E\n",
      "1      LA-0772C7B9\n",
      "2      WE-1DE82CEE\n",
      "3      BE-18074576\n",
      "4      GA-CAD01AC2\n",
      "          ...     \n",
      "444    CO-473A9FBB\n",
      "445    KI-78096E8C\n",
      "447    HI-EEA7AE62\n",
      "448    BR-662EC74C\n",
      "449    BA-B4AED588\n",
      "Name: store_code, Length: 440, dtype: object\n"
     ]
    }
   ],
   "source": [
    "#Store code looks good\n",
    "print(api_data['store_code'])\n",
    "pattern = r'^[A-Z]{2}-[0-9A-F]{8}$'\n",
    "unmatched_strings = api_data[~api_data['store_code'].str.contains(pattern)]\n"
   ]
  },
  {
   "cell_type": "code",
   "execution_count": 294,
   "metadata": {},
   "outputs": [
    {
     "name": "stdout",
     "output_type": "stream",
     "text": [
      "Empty DataFrame\n",
      "Columns: [index, address, longitude, locality, store_code, staff_numbers, opening_date, store_type, latitude, country_code, continent]\n",
      "Index: []\n"
     ]
    }
   ],
   "source": [
    "print(unmatched_strings)"
   ]
  },
  {
   "cell_type": "code",
   "execution_count": 295,
   "metadata": {},
   "outputs": [],
   "source": [
    "# Opening date\n",
    "date_check = api_data.copy()"
   ]
  },
  {
   "cell_type": "code",
   "execution_count": 296,
   "metadata": {},
   "outputs": [
    {
     "data": {
      "text/plain": [
       "0      1996-10-25\n",
       "1      2013-04-12\n",
       "2      2014-01-02\n",
       "3      2019-09-09\n",
       "4      1995-05-15\n",
       "          ...    \n",
       "444    2008-06-08\n",
       "445    2005-05-12\n",
       "447    1998-05-14\n",
       "448    2020-10-17\n",
       "449    2001-05-12\n",
       "Name: opening_date, Length: 440, dtype: object"
      ]
     },
     "execution_count": 296,
     "metadata": {},
     "output_type": "execute_result"
    }
   ],
   "source": [
    "date_check['opening_date']"
   ]
  },
  {
   "cell_type": "code",
   "execution_count": 306,
   "metadata": {},
   "outputs": [],
   "source": [
    "date_check['opening_date'] = pd.to_datetime(date_check['opening_date'], format = 'mixed')"
   ]
  },
  {
   "cell_type": "code",
   "execution_count": 308,
   "metadata": {},
   "outputs": [],
   "source": [
    "null_index = date_check.loc[date_check['opening_date'].isnull()].index"
   ]
  },
  {
   "cell_type": "code",
   "execution_count": 309,
   "metadata": {},
   "outputs": [
    {
     "data": {
      "text/plain": [
       "Series([], Name: opening_date, dtype: object)"
      ]
     },
     "execution_count": 309,
     "metadata": {},
     "output_type": "execute_result"
    }
   ],
   "source": [
    "api_data.loc[null_index]['opening_date']"
   ]
  },
  {
   "cell_type": "code",
   "execution_count": 307,
   "metadata": {},
   "outputs": [
    {
     "data": {
      "text/plain": [
       "9     2012-10-08\n",
       "10    2015-07-14\n",
       "93    2022-01-20\n",
       "121   2020-02-01\n",
       "142   2003-05-27\n",
       "189   2016-11-25\n",
       "205   2008-12-07\n",
       "241   2006-10-04\n",
       "291   2001-05-04\n",
       "339   1994-11-24\n",
       "368   2009-02-28\n",
       "393   2015-03-02\n",
       "Name: opening_date, dtype: datetime64[ns]"
      ]
     },
     "execution_count": 307,
     "metadata": {},
     "output_type": "execute_result"
    }
   ],
   "source": [
    "date_check.loc[null_index]['opening_date']"
   ]
  },
  {
   "cell_type": "code",
   "execution_count": 310,
   "metadata": {},
   "outputs": [],
   "source": [
    "api_data['opening_date'] = pd.to_datetime(api_data['opening_date'], format = 'mixed')"
   ]
  },
  {
   "cell_type": "code",
   "execution_count": 311,
   "metadata": {},
   "outputs": [
    {
     "name": "stdout",
     "output_type": "stream",
     "text": [
      "<class 'pandas.core.frame.DataFrame'>\n",
      "Index: 440 entries, 0 to 449\n",
      "Data columns (total 11 columns):\n",
      " #   Column         Non-Null Count  Dtype         \n",
      "---  ------         --------------  -----         \n",
      " 0   index          440 non-null    int64         \n",
      " 1   address        440 non-null    object        \n",
      " 2   longitude      440 non-null    object        \n",
      " 3   locality       440 non-null    object        \n",
      " 4   store_code     440 non-null    object        \n",
      " 5   staff_numbers  440 non-null    object        \n",
      " 6   opening_date   440 non-null    datetime64[ns]\n",
      " 7   store_type     440 non-null    object        \n",
      " 8   latitude       440 non-null    object        \n",
      " 9   country_code   440 non-null    object        \n",
      " 10  continent      440 non-null    object        \n",
      "dtypes: datetime64[ns](1), int64(1), object(9)\n",
      "memory usage: 57.4+ KB\n"
     ]
    }
   ],
   "source": [
    "api_data.info()"
   ]
  },
  {
   "cell_type": "code",
   "execution_count": 312,
   "metadata": {},
   "outputs": [],
   "source": [
    "staff_number = api_data.copy()"
   ]
  },
  {
   "cell_type": "code",
   "execution_count": 325,
   "metadata": {},
   "outputs": [
    {
     "data": {
      "text/plain": [
       "0      34\n",
       "1      92\n",
       "2      69\n",
       "3      35\n",
       "4      36\n",
       "       ..\n",
       "444    94\n",
       "445    61\n",
       "447    33\n",
       "448    35\n",
       "449    36\n",
       "Name: staff_numbers, Length: 440, dtype: int32"
      ]
     },
     "execution_count": 325,
     "metadata": {},
     "output_type": "execute_result"
    }
   ],
   "source": [
    "#Throws error letters present\n",
    "staff_number['staff_numbers'].astype(int)"
   ]
  },
  {
   "cell_type": "code",
   "execution_count": 322,
   "metadata": {},
   "outputs": [
    {
     "name": "stdout",
     "output_type": "stream",
     "text": [
      "     index                                            address longitude  \\\n",
      "30      31  Flat 69,Suzanne walk,East Michelle,E80 8HS, Ea...  52.68333   \n",
      "178    179          Girschnerweg 163,93597 Angermünde, Dahlem   52.4581   \n",
      "247    248  7430 Howe Extensions Suite 299,Kellyside, WA 9...  39.71734   \n",
      "340    341  Studio 8,Lydia groves,North Hilarymouth,IV4 6E...  50.79205   \n",
      "374    375  Salzstraße 1/9,74209 Bad Freienwalde, Charlott...  52.53048   \n",
      "\n",
      "                locality   store_code staff_numbers opening_date   store_type  \\\n",
      "30          East Dereham  EA-24B31935           J78   2012-11-09       Outlet   \n",
      "178               Dahlem  DA-ACC520AE           30e   1994-03-07        Local   \n",
      "247         Sicklerville  SI-C489938D           80R   1994-02-28       Outlet   \n",
      "340             Southsea  SO-B5B9CB3B           A97   2018-05-08  Super Store   \n",
      "374  Charlottenburg-Nord  CH-99475026           3n9   1995-03-05        Local   \n",
      "\n",
      "      latitude country_code continent  \n",
      "30     0.93333           GB    Europe  \n",
      "178   13.28702           DE    Europe  \n",
      "247  -74.96933           US   America  \n",
      "340   -1.08593           GB    Europe  \n",
      "374   13.29371           DE    Europe  \n"
     ]
    }
   ],
   "source": [
    "non_digit_records = staff_number[staff_number['staff_numbers'].str.contains(r'\\D', regex=True)]\n",
    "print(non_digit_records)"
   ]
  },
  {
   "cell_type": "code",
   "execution_count": 319,
   "metadata": {},
   "outputs": [
    {
     "data": {
      "text/html": [
       "<div>\n",
       "<style scoped>\n",
       "    .dataframe tbody tr th:only-of-type {\n",
       "        vertical-align: middle;\n",
       "    }\n",
       "\n",
       "    .dataframe tbody tr th {\n",
       "        vertical-align: top;\n",
       "    }\n",
       "\n",
       "    .dataframe thead th {\n",
       "        text-align: right;\n",
       "    }\n",
       "</style>\n",
       "<table border=\"1\" class=\"dataframe\">\n",
       "  <thead>\n",
       "    <tr style=\"text-align: right;\">\n",
       "      <th></th>\n",
       "      <th>index</th>\n",
       "      <th>address</th>\n",
       "      <th>longitude</th>\n",
       "      <th>locality</th>\n",
       "      <th>store_code</th>\n",
       "      <th>staff_numbers</th>\n",
       "      <th>opening_date</th>\n",
       "      <th>store_type</th>\n",
       "      <th>latitude</th>\n",
       "      <th>country_code</th>\n",
       "      <th>continent</th>\n",
       "    </tr>\n",
       "  </thead>\n",
       "  <tbody>\n",
       "  </tbody>\n",
       "</table>\n",
       "</div>"
      ],
      "text/plain": [
       "Empty DataFrame\n",
       "Columns: [index, address, longitude, locality, store_code, staff_numbers, opening_date, store_type, latitude, country_code, continent]\n",
       "Index: []"
      ]
     },
     "execution_count": 319,
     "metadata": {},
     "output_type": "execute_result"
    }
   ],
   "source": [
    "# didnt pick up that staff numbers had lettters\n",
    "staff_number[staff_number['staff_numbers'].astype(str).str.len() > 3]"
   ]
  },
  {
   "cell_type": "code",
   "execution_count": 324,
   "metadata": {},
   "outputs": [],
   "source": [
    "# Remove letters but keep the numbers in \n",
    "api_data['staff_numbers'] = api_data['staff_numbers'].replace(r'\\D', '', regex=True)"
   ]
  },
  {
   "cell_type": "code",
   "execution_count": 326,
   "metadata": {},
   "outputs": [
    {
     "name": "stdout",
     "output_type": "stream",
     "text": [
      "<class 'pandas.core.frame.DataFrame'>\n",
      "Index: 440 entries, 0 to 449\n",
      "Data columns (total 11 columns):\n",
      " #   Column         Non-Null Count  Dtype         \n",
      "---  ------         --------------  -----         \n",
      " 0   index          440 non-null    int64         \n",
      " 1   address        440 non-null    object        \n",
      " 2   longitude      440 non-null    object        \n",
      " 3   locality       440 non-null    object        \n",
      " 4   store_code     440 non-null    object        \n",
      " 5   staff_numbers  440 non-null    object        \n",
      " 6   opening_date   440 non-null    datetime64[ns]\n",
      " 7   store_type     440 non-null    object        \n",
      " 8   latitude       440 non-null    object        \n",
      " 9   country_code   440 non-null    object        \n",
      " 10  continent      440 non-null    object        \n",
      "dtypes: datetime64[ns](1), int64(1), object(9)\n",
      "memory usage: 57.4+ KB\n"
     ]
    }
   ],
   "source": [
    "api_data.info()"
   ]
  },
  {
   "cell_type": "code",
   "execution_count": 327,
   "metadata": {},
   "outputs": [
    {
     "data": {
      "text/plain": [
       "store_type\n",
       "Local          255\n",
       "Super Store     89\n",
       "Mall Kiosk      51\n",
       "Outlet          45\n",
       "Name: count, dtype: int64"
      ]
     },
     "execution_count": 327,
     "metadata": {},
     "output_type": "execute_result"
    }
   ],
   "source": [
    "#Store type looks good\n",
    "api_data['store_type'].value_counts()"
   ]
  },
  {
   "cell_type": "code",
   "execution_count": 328,
   "metadata": {},
   "outputs": [
    {
     "data": {
      "text/plain": [
       "440"
      ]
     },
     "execution_count": 328,
     "metadata": {},
     "output_type": "execute_result"
    }
   ],
   "source": [
    "255 + 89 +51 +45"
   ]
  },
  {
   "cell_type": "code",
   "execution_count": 334,
   "metadata": {},
   "outputs": [
    {
     "data": {
      "text/plain": [
       "count          440\n",
       "unique         116\n",
       "top       -1.47217\n",
       "freq            14\n",
       "Name: latitude, dtype: object"
      ]
     },
     "execution_count": 334,
     "metadata": {},
     "output_type": "execute_result"
    }
   ],
   "source": [
    "api_data['latitude'].astype(float)\n"
   ]
  },
  {
   "cell_type": "code",
   "execution_count": 353,
   "metadata": {},
   "outputs": [
    {
     "data": {
      "text/plain": [
       "0      51.62907\n",
       "1      48.52961\n",
       "2      51.26000\n",
       "3      53.02330\n",
       "4      53.38333\n",
       "         ...   \n",
       "444    50.76306\n",
       "445    52.20000\n",
       "447    51.62907\n",
       "448    49.03685\n",
       "449    50.64336\n",
       "Name: longitude, Length: 440, dtype: float64"
      ]
     },
     "execution_count": 353,
     "metadata": {},
     "output_type": "execute_result"
    }
   ],
   "source": [
    "api_data['longitude'].astype(float)"
   ]
  },
  {
   "cell_type": "code",
   "execution_count": 335,
   "metadata": {},
   "outputs": [
    {
     "data": {
      "text/plain": [
       "country_code\n",
       "GB    265\n",
       "DE    141\n",
       "US     34\n",
       "Name: count, dtype: int64"
      ]
     },
     "execution_count": 335,
     "metadata": {},
     "output_type": "execute_result"
    }
   ],
   "source": [
    "api_data['country_code'].value_counts()"
   ]
  },
  {
   "cell_type": "code",
   "execution_count": 336,
   "metadata": {},
   "outputs": [
    {
     "data": {
      "text/plain": [
       "440"
      ]
     },
     "execution_count": 336,
     "metadata": {},
     "output_type": "execute_result"
    }
   ],
   "source": [
    "api_data['country_code'].value_counts().sum()"
   ]
  },
  {
   "cell_type": "code",
   "execution_count": 340,
   "metadata": {},
   "outputs": [
    {
     "data": {
      "text/plain": [
       "continent\n",
       "Europe     406\n",
       "America     34\n",
       "Name: count, dtype: int64"
      ]
     },
     "execution_count": 340,
     "metadata": {},
     "output_type": "execute_result"
    }
   ],
   "source": [
    "api_data['continent'].value_counts()"
   ]
  },
  {
   "cell_type": "code",
   "execution_count": 339,
   "metadata": {},
   "outputs": [],
   "source": [
    "api_data['continent'] = api_data['continent'].str.replace('ee', '')"
   ]
  },
  {
   "cell_type": "markdown",
   "metadata": {},
   "source": [
    "### Extracting S3 object using boto3"
   ]
  },
  {
   "cell_type": "code",
   "execution_count": 2,
   "metadata": {},
   "outputs": [],
   "source": [
    "# Downloading S3 object using boto3\n",
    "# import boto3\n",
    "# s3 = boto3.client('s3')\n",
    "# s3.download_file('data-handling-public','products.csv','D:/vs_ipynb/learning-material/multinational-retail/products.csv')"
   ]
  },
  {
   "cell_type": "code",
   "execution_count": 3,
   "metadata": {},
   "outputs": [],
   "source": [
    "# import pandas as pd\n",
    "# df_csv = pd.read_csv('products.csv',index_col = 0)"
   ]
  },
  {
   "cell_type": "code",
   "execution_count": 11,
   "metadata": {},
   "outputs": [
    {
     "name": "stdout",
     "output_type": "stream",
     "text": [
      "                                     product_name product_price  weight  \\\n",
      "0     FurReal Dazzlin' Dimples My Playful Dolphin        £39.99   1.6kg   \n",
      "1             Tiffany's World Day Out At The Park        £12.99  0.48kg   \n",
      "2             Tiffany's World Pups Picnic Playset         £7.00    590g   \n",
      "3        Tiffany's World Wildlife Park Adventures        £12.99    540g   \n",
      "4                         Cosatto Cosy Dolls Pram        £30.00  1.91kg   \n",
      "...                                           ...           ...     ...   \n",
      "1848    Goodmans Qi Autosense In Car Phone Holder        £15.00    125g   \n",
      "1849    Goodmans Qi Wireless Charging Phone Stand        £15.00    134g   \n",
      "1850                     RAC 12V Wet & Dry Vacuum        £18.00    820g   \n",
      "1851    Goodmans Qi Autosense In Car Phone Holder        £15.00    125g   \n",
      "1852               Beldray Telescopic Ladder 2.9m        £69.00   9.4kg   \n",
      "\n",
      "            category            EAN  date_added  \\\n",
      "0     toys-and-games  7425710935115  2005-12-02   \n",
      "1     toys-and-games   487128731892  2006-01-09   \n",
      "2     toys-and-games  1945816904649  1997-03-29   \n",
      "3     toys-and-games  1569790890899  2013-03-20   \n",
      "4     toys-and-games  7142740213920  2007-12-23   \n",
      "...              ...            ...         ...   \n",
      "1848             diy  8185827751600  2020-08-28   \n",
      "1849             diy  9769724533935  2012-05-20   \n",
      "1850             diy  3113855860327  1993-11-28   \n",
      "1851             diy  9195087467400  2016-09-20   \n",
      "1852             diy  8518402353072  2006-10-07   \n",
      "\n",
      "                                      uuid          removed product_code  \n",
      "0     83dc0a69-f96f-4c34-bcb7-928acae19a94  Still_avaliable  R7-3126933h  \n",
      "1     712254d7-aea7-4310-aff8-8bcdd0aec7ff  Still_avaliable  C2-7287916l  \n",
      "2     b089ef6f-b628-4e37-811d-fffe0102ba64  Still_avaliable  S7-1175877v  \n",
      "3     d55de422-8b98-47d6-9991-e4bc4c5c0cb0          Removed  D8-8421505n  \n",
      "4     7945b657-cb02-4cc5-96cf-f65ed0a8f235  Still_avaliable  B6-2596063a  \n",
      "...                                    ...              ...          ...  \n",
      "1848  3ff21cb1-8e90-499d-b5a0-6839fb83e70f  Still_avaliable  x4-2227164k  \n",
      "1849  a7910f74-c2b6-4144-98b7-30ca68f34d2d  Still_avaliable  i3-8338545Z  \n",
      "1850  66d3efa0-f480-4da9-893b-e8aaff53e27b  Still_avaliable  n4-1642658b  \n",
      "1851  efb472f1-8f00-448e-a874-9fa9812eeab5  Still_avaliable  A3-7619070S  \n",
      "1852  cfe701da-6493-4a7f-83cf-9aab1650f689  Still_avaliable  i6-2851854w  \n",
      "\n",
      "[1853 rows x 9 columns]\n"
     ]
    }
   ],
   "source": [
    "print(df_csv)"
   ]
  },
  {
   "cell_type": "code",
   "execution_count": 57,
   "metadata": {},
   "outputs": [],
   "source": [
    "import boto3\n",
    "from io import BytesIO\n",
    "import pandas as pd\n",
    "\n",
    "# Initialize Boto 3 S3 client\n",
    "s3 = boto3.client('s3')\n",
    "\n",
    "# Define the bucket and object key\n",
    "bucket_name = 'data-handling-public'\n",
    "object_key = 'products.csv'\n",
    "\n",
    "# Read the file from S3\n",
    "try:\n",
    "    response = s3.get_object(Bucket=bucket_name, Key=object_key)\n",
    "    # Access and read the content of the file. Data type = Bytes due to get request\n",
    "    data = response['Body'].read()\n",
    "\n",
    "    # Process the data as needed\n",
    "    df = pd.read_csv(BytesIO(data), index_col = 0)  # Replace this with your processing logic\n",
    "\n",
    "except Exception as e:\n",
    "    print(f\"Error: {e}\")"
   ]
  },
  {
   "cell_type": "code",
   "execution_count": 111,
   "metadata": {},
   "outputs": [
    {
     "name": "stdout",
     "output_type": "stream",
     "text": [
      "Bucket: data-handling-public\n",
      "Object: products.csv\n"
     ]
    }
   ],
   "source": [
    "# Example S3 path\n",
    "s3_path = \"s3://data-handling-public/products.csv\"\n",
    "\n",
    "# Separating bucket and object\n",
    "if s3_path.startswith(\"s3://\"):\n",
    "    path_without_protocol = s3_path[len(\"s3://\"):]\n",
    "    bucket, obj = path_without_protocol.rsplit('/', 1)\n",
    "\n",
    "    print(\"Bucket:\", bucket)\n",
    "    print(\"Object:\", obj)\n",
    "else:\n",
    "    print(\"Invalid S3 path.\")"
   ]
  },
  {
   "cell_type": "code",
   "execution_count": 59,
   "metadata": {},
   "outputs": [
    {
     "name": "stdout",
     "output_type": "stream",
     "text": [
      "                                   product_name product_price   weight  \\\n",
      "0   FurReal Dazzlin' Dimples My Playful Dolphin        £39.99    1.6kg   \n",
      "1           Tiffany's World Day Out At The Park        £12.99   0.48kg   \n",
      "2           Tiffany's World Pups Picnic Playset         £7.00     590g   \n",
      "3      Tiffany's World Wildlife Park Adventures        £12.99     540g   \n",
      "4                       Cosatto Cosy Dolls Pram        £30.00   1.91kg   \n",
      "5                  Cocomelon Magnetic Scribbler        £12.99   0.91kg   \n",
      "6                       Peppa Pig House Felties         £7.00   0.46kg   \n",
      "7                     Paw Patrol Walkie Talkies        £12.99   0.38kg   \n",
      "8                   Peppa Pig 3D Walkie Talkies        £12.99   0.38kg   \n",
      "9          Disney Encanto Magical Casa Madrigal        £89.99  8.981kg   \n",
      "10                Disney Encanto Mirabel's Room        £24.99  1.478kg   \n",
      "11         Disney Encanto Isabela's Garden Room        £24.99     1.2g   \n",
      "12          Disney Encanto Antonio's Tree House        £24.99     1.2g   \n",
      "13                       Tie-Dye Slime Mega Set        £12.99   0.66kg   \n",
      "14                Paw Patrol Magnetic Scribbler        £12.99   0.91kg   \n",
      "\n",
      "          category            EAN  date_added  \\\n",
      "0   toys-and-games  7425710935115  2005-12-02   \n",
      "1   toys-and-games   487128731892  2006-01-09   \n",
      "2   toys-and-games  1945816904649  1997-03-29   \n",
      "3   toys-and-games  1569790890899  2013-03-20   \n",
      "4   toys-and-games  7142740213920  2007-12-23   \n",
      "5   toys-and-games  9022505507373  2007-02-07   \n",
      "6   toys-and-games  5997977455405  2009-01-24   \n",
      "7   toys-and-games    58555395171  2013-08-13   \n",
      "8   toys-and-games  9155372675699  2005-05-26   \n",
      "9   toys-and-games  2740880244498  2003-08-05   \n",
      "10  toys-and-games  9821316839389  2013-09-20   \n",
      "11  toys-and-games  9644535434254  2019-08-14   \n",
      "12  toys-and-games  2421335285067  2019-04-13   \n",
      "13  toys-and-games  9526390929079  2014-05-20   \n",
      "14  toys-and-games  7886193859037  2003-12-21   \n",
      "\n",
      "                                    uuid          removed product_code  \n",
      "0   83dc0a69-f96f-4c34-bcb7-928acae19a94  Still_avaliable  R7-3126933h  \n",
      "1   712254d7-aea7-4310-aff8-8bcdd0aec7ff  Still_avaliable  C2-7287916l  \n",
      "2   b089ef6f-b628-4e37-811d-fffe0102ba64  Still_avaliable  S7-1175877v  \n",
      "3   d55de422-8b98-47d6-9991-e4bc4c5c0cb0          Removed  D8-8421505n  \n",
      "4   7945b657-cb02-4cc5-96cf-f65ed0a8f235  Still_avaliable  B6-2596063a  \n",
      "5   cdd568e3-9657-412b-b3a6-52f6adff966b  Still_avaliable  g3-7974400s  \n",
      "6   58112753-a53f-4696-ab8a-7186c7e4a57e  Still_avaliable  U3-5148457q  \n",
      "7   797d133a-0989-4707-914d-7c043bcbbd86  Still_avaliable  q8-5387483Z  \n",
      "8   a6c23718-0e25-4419-8018-600c44e5e3df  Still_avaliable  i4-2651057I  \n",
      "9   2e78e9a4-2b77-4b59-95e5-d60ee01ef183  Still_avaliable  b6-6234052g  \n",
      "10  baa31d12-ad99-4442-b663-bd8a525c1c7a  Still_avaliable   g5-411324A  \n",
      "11  e36989b3-7371-40ea-80b8-c23ba1a6869f  Still_avaliable  S6-3678717g  \n",
      "12  d3ed56bc-533e-42fe-839a-ba880bda5714  Still_avaliable  Z2-0851042W  \n",
      "13  44d36b71-477e-44f9-8dbc-e771a1bfbc11          Removed  t5-7763922W  \n",
      "14  85610de0-f2b0-4613-9b51-343875197314  Still_avaliable  Z8-4148279f  \n"
     ]
    }
   ],
   "source": [
    "print(df.head(15))"
   ]
  },
  {
   "cell_type": "code",
   "execution_count": 30,
   "metadata": {},
   "outputs": [
    {
     "name": "stdout",
     "output_type": "stream",
     "text": [
      "<class 'pandas.core.frame.DataFrame'>\n",
      "Index: 1853 entries, 0 to 1852\n",
      "Data columns (total 9 columns):\n",
      " #   Column         Non-Null Count  Dtype \n",
      "---  ------         --------------  ----- \n",
      " 0   product_name   1849 non-null   object\n",
      " 1   product_price  1849 non-null   object\n",
      " 2   weight         1849 non-null   object\n",
      " 3   category       1849 non-null   object\n",
      " 4   EAN            1849 non-null   object\n",
      " 5   date_added     1849 non-null   object\n",
      " 6   uuid           1849 non-null   object\n",
      " 7   removed        1849 non-null   object\n",
      " 8   product_code   1849 non-null   object\n",
      "dtypes: object(9)\n",
      "memory usage: 144.8+ KB\n"
     ]
    }
   ],
   "source": [
    "# Check for null\n",
    "df.info() # 4"
   ]
  },
  {
   "cell_type": "code",
   "execution_count": 54,
   "metadata": {},
   "outputs": [],
   "source": [
    "# null_values = df[df.isnull().any(axis=1)].index\n",
    "# df.drop(null_values)\n",
    "df.dropna(inplace=True)"
   ]
  },
  {
   "cell_type": "code",
   "execution_count": 53,
   "metadata": {},
   "outputs": [
    {
     "data": {
      "text/plain": [
       "category\n",
       "homeware              1138\n",
       "toys-and-games         257\n",
       "food-and-drink         250\n",
       "pets                    93\n",
       "sports-and-leisure      40\n",
       "health-and-beauty       40\n",
       "diy                     28\n",
       "Name: count, dtype: int64"
      ]
     },
     "execution_count": 53,
     "metadata": {},
     "output_type": "execute_result"
    }
   ],
   "source": [
    "# Likely to be random generated data\n",
    "df['category'].value_counts()"
   ]
  },
  {
   "cell_type": "code",
   "execution_count": 49,
   "metadata": {},
   "outputs": [
    {
     "data": {
      "text/html": [
       "<div>\n",
       "<style scoped>\n",
       "    .dataframe tbody tr th:only-of-type {\n",
       "        vertical-align: middle;\n",
       "    }\n",
       "\n",
       "    .dataframe tbody tr th {\n",
       "        vertical-align: top;\n",
       "    }\n",
       "\n",
       "    .dataframe thead th {\n",
       "        text-align: right;\n",
       "    }\n",
       "</style>\n",
       "<table border=\"1\" class=\"dataframe\">\n",
       "  <thead>\n",
       "    <tr style=\"text-align: right;\">\n",
       "      <th></th>\n",
       "      <th>product_name</th>\n",
       "      <th>product_price</th>\n",
       "      <th>weight</th>\n",
       "      <th>category</th>\n",
       "      <th>EAN</th>\n",
       "      <th>date_added</th>\n",
       "      <th>uuid</th>\n",
       "      <th>removed</th>\n",
       "      <th>product_code</th>\n",
       "    </tr>\n",
       "  </thead>\n",
       "  <tbody>\n",
       "  </tbody>\n",
       "</table>\n",
       "</div>"
      ],
      "text/plain": [
       "Empty DataFrame\n",
       "Columns: [product_name, product_price, weight, category, EAN, date_added, uuid, removed, product_code]\n",
       "Index: []"
      ]
     },
     "execution_count": 49,
     "metadata": {},
     "output_type": "execute_result"
    }
   ],
   "source": [
    "cat = df['category'].value_counts()\n",
    "get_cat = cat[cat < 2].index.tolist()\n",
    "df[df['category'].isin(get_cat)]"
   ]
  },
  {
   "cell_type": "code",
   "execution_count": 48,
   "metadata": {},
   "outputs": [
    {
     "name": "stdout",
     "output_type": "stream",
     "text": [
      "category\n",
      "homeware              1138\n",
      "toys-and-games         257\n",
      "food-and-drink         250\n",
      "pets                    93\n",
      "sports-and-leisure      40\n",
      "health-and-beauty       40\n",
      "diy                     28\n",
      "Name: count, dtype: int64\n"
     ]
    }
   ],
   "source": [
    "df = df[~df['category'].isin(get_cat)]\n",
    "print(df['category'].value_counts())"
   ]
  },
  {
   "cell_type": "code",
   "execution_count": 36,
   "metadata": {},
   "outputs": [
    {
     "name": "stdout",
     "output_type": "stream",
     "text": [
      "Columns with '?':\n",
      "[]\n",
      "Rows with '?':\n",
      "[]\n"
     ]
    }
   ],
   "source": [
    "# Find rows and columns containing '?'. Doesnt exist for once\n",
    "question_mark_indices = df.map(lambda x: '?' in str(x)).any()\n",
    "question_mark_rows = df[df.map(lambda x: '?' in str(x)).any(axis=1)].index\n",
    "\n",
    "print(\"Columns with '?':\")\n",
    "print(question_mark_indices[question_mark_indices].index.tolist())\n",
    "print(\"Rows with '?':\")\n",
    "print(question_mark_rows.tolist())"
   ]
  },
  {
   "cell_type": "code",
   "execution_count": 44,
   "metadata": {},
   "outputs": [
    {
     "name": "stdout",
     "output_type": "stream",
     "text": [
      "Index([], dtype='int64')\n"
     ]
    }
   ],
   "source": [
    "# null_values = df[df.isnull().any(axis=1)].index\n",
    "# print(null_values)"
   ]
  },
  {
   "cell_type": "code",
   "execution_count": 55,
   "metadata": {},
   "outputs": [],
   "source": [
    "df[['weight','units']] = df['weight'].str.extract('(\\d*\\.?\\d+)(\\D+)', expand=True)"
   ]
  },
  {
   "cell_type": "code",
   "execution_count": 51,
   "metadata": {},
   "outputs": [
    {
     "data": {
      "text/plain": [
       "units\n",
       "kg     954\n",
       "g      853\n",
       " x      28\n",
       "ml       9\n",
       "g .      1\n",
       "oz       1\n",
       "Name: count, dtype: int64"
      ]
     },
     "execution_count": 51,
     "metadata": {},
     "output_type": "execute_result"
    }
   ],
   "source": [
    "df['units'].value_counts()"
   ]
  },
  {
   "cell_type": "code",
   "execution_count": 70,
   "metadata": {},
   "outputs": [
    {
     "data": {
      "text/html": [
       "<div>\n",
       "<style scoped>\n",
       "    .dataframe tbody tr th:only-of-type {\n",
       "        vertical-align: middle;\n",
       "    }\n",
       "\n",
       "    .dataframe tbody tr th {\n",
       "        vertical-align: top;\n",
       "    }\n",
       "\n",
       "    .dataframe thead th {\n",
       "        text-align: right;\n",
       "    }\n",
       "</style>\n",
       "<table border=\"1\" class=\"dataframe\">\n",
       "  <thead>\n",
       "    <tr style=\"text-align: right;\">\n",
       "      <th></th>\n",
       "      <th>product_name</th>\n",
       "      <th>product_price</th>\n",
       "      <th>weight</th>\n",
       "      <th>category</th>\n",
       "      <th>EAN</th>\n",
       "      <th>date_added</th>\n",
       "      <th>uuid</th>\n",
       "      <th>removed</th>\n",
       "      <th>product_code</th>\n",
       "      <th>units</th>\n",
       "    </tr>\n",
       "  </thead>\n",
       "  <tbody>\n",
       "    <tr>\n",
       "      <th>298</th>\n",
       "      <td>Pedigree Vital Protection Dog Food in Jelly 12...</td>\n",
       "      <td>£4.49</td>\n",
       "      <td>12</td>\n",
       "      <td>pets</td>\n",
       "      <td>2439834307647</td>\n",
       "      <td>1995-06-25</td>\n",
       "      <td>5ec5a431-7330-4d9e-bf3c-702fc85f6efe</td>\n",
       "      <td>Still_avaliable</td>\n",
       "      <td>d4-9698287C</td>\n",
       "      <td>x</td>\n",
       "    </tr>\n",
       "    <tr>\n",
       "      <th>299</th>\n",
       "      <td>Cesar Country Kitchen Dog Food 8 x 150g</td>\n",
       "      <td>£5.49</td>\n",
       "      <td>8</td>\n",
       "      <td>pets</td>\n",
       "      <td>5158002633117</td>\n",
       "      <td>1994-03-22</td>\n",
       "      <td>c379d810-61bf-4ed2-994c-0d3308d5be7b</td>\n",
       "      <td>Still_avaliable</td>\n",
       "      <td>M4-1688574Q</td>\n",
       "      <td>x</td>\n",
       "    </tr>\n",
       "    <tr>\n",
       "      <th>300</th>\n",
       "      <td>Pedigree Puppy Dog Food in Jelly 12pk</td>\n",
       "      <td>£4.49</td>\n",
       "      <td>12</td>\n",
       "      <td>pets</td>\n",
       "      <td>5242405808651</td>\n",
       "      <td>2014-05-20</td>\n",
       "      <td>40963728-bdae-48f1-beec-7c6dd0225921</td>\n",
       "      <td>Still_avaliable</td>\n",
       "      <td>J4-5517838n</td>\n",
       "      <td>x</td>\n",
       "    </tr>\n",
       "    <tr>\n",
       "      <th>301</th>\n",
       "      <td>Pedigree Dog Food in Gravy 12pk</td>\n",
       "      <td>£4.49</td>\n",
       "      <td>12</td>\n",
       "      <td>pets</td>\n",
       "      <td>6160542808008</td>\n",
       "      <td>2020-12-20</td>\n",
       "      <td>3109d9e8-56b5-4233-a682-0bcdb38182b0</td>\n",
       "      <td>Still_avaliable</td>\n",
       "      <td>v6-1209149g</td>\n",
       "      <td>x</td>\n",
       "    </tr>\n",
       "    <tr>\n",
       "      <th>302</th>\n",
       "      <td>Pedigree Dog Food in Jelly 12pk</td>\n",
       "      <td>£4.49</td>\n",
       "      <td>12</td>\n",
       "      <td>pets</td>\n",
       "      <td>3928398867180</td>\n",
       "      <td>2006-03-27</td>\n",
       "      <td>28625483-3723-4eaa-9f14-a1a16affbed8</td>\n",
       "      <td>Still_avaliable</td>\n",
       "      <td>C5-0179057G</td>\n",
       "      <td>x</td>\n",
       "    </tr>\n",
       "    <tr>\n",
       "      <th>303</th>\n",
       "      <td>Chappie Dog Food 6 x 412g</td>\n",
       "      <td>£5.99</td>\n",
       "      <td>6</td>\n",
       "      <td>pets</td>\n",
       "      <td>8155594260063</td>\n",
       "      <td>1993-06-30</td>\n",
       "      <td>6b86f83c-fccf-42eb-b1d5-3971915c18a5</td>\n",
       "      <td>Still_avaliable</td>\n",
       "      <td>Z4-535642u</td>\n",
       "      <td>x</td>\n",
       "    </tr>\n",
       "    <tr>\n",
       "      <th>304</th>\n",
       "      <td>Butcher's Puppy Meaty Chunks in Jelly Tins 6 x...</td>\n",
       "      <td>£4.35</td>\n",
       "      <td>6</td>\n",
       "      <td>pets</td>\n",
       "      <td>9386802556862</td>\n",
       "      <td>2019-06-16</td>\n",
       "      <td>a21e8202-de56-40bf-aee9-1b65989b1030</td>\n",
       "      <td>Still_avaliable</td>\n",
       "      <td>x0-3876046p</td>\n",
       "      <td>x</td>\n",
       "    </tr>\n",
       "    <tr>\n",
       "      <th>305</th>\n",
       "      <td>Pedigree Vital Protection Dog Food in Jelly 12...</td>\n",
       "      <td>£4.49</td>\n",
       "      <td>12</td>\n",
       "      <td>pets</td>\n",
       "      <td>6045981116269</td>\n",
       "      <td>1996-10-12</td>\n",
       "      <td>39ce65ab-d873-4953-a363-af9a705ca1ef</td>\n",
       "      <td>Still_avaliable</td>\n",
       "      <td>O3-6314460b</td>\n",
       "      <td>x</td>\n",
       "    </tr>\n",
       "    <tr>\n",
       "      <th>381</th>\n",
       "      <td>Sheba Classics Ocean Selection in Terrine 8 x 85g</td>\n",
       "      <td>£3.49</td>\n",
       "      <td>8</td>\n",
       "      <td>pets</td>\n",
       "      <td>5864355297349</td>\n",
       "      <td>2014-01-01</td>\n",
       "      <td>96f4d10f-1cb0-4898-b170-8dcd54c78f05</td>\n",
       "      <td>Still_avaliable</td>\n",
       "      <td>I3-7208040s</td>\n",
       "      <td>x</td>\n",
       "    </tr>\n",
       "    <tr>\n",
       "      <th>382</th>\n",
       "      <td>Classic Jumbo Pack Cat Food in Jelly 40 x 100g</td>\n",
       "      <td>£10.99</td>\n",
       "      <td>40</td>\n",
       "      <td>pets</td>\n",
       "      <td>3610175997493</td>\n",
       "      <td>2003-09-03</td>\n",
       "      <td>003e2c32-2d88-4ace-9d3c-97863fb62959</td>\n",
       "      <td>Still_avaliable</td>\n",
       "      <td>Y9-9993954b</td>\n",
       "      <td>x</td>\n",
       "    </tr>\n",
       "    <tr>\n",
       "      <th>383</th>\n",
       "      <td>Sheba Classics Ocean Selection in Terrine 12 x...</td>\n",
       "      <td>£4.29</td>\n",
       "      <td>12</td>\n",
       "      <td>pets</td>\n",
       "      <td>7913138139807</td>\n",
       "      <td>2006-12-10</td>\n",
       "      <td>e35ab52e-f5db-4e96-b8c0-a9393a5e33a8</td>\n",
       "      <td>Still_avaliable</td>\n",
       "      <td>s3-7992277H</td>\n",
       "      <td>x</td>\n",
       "    </tr>\n",
       "    <tr>\n",
       "      <th>384</th>\n",
       "      <td>Sheba Classics Ocean Selection in Terrine 8 x 85g</td>\n",
       "      <td>£3.49</td>\n",
       "      <td>8</td>\n",
       "      <td>pets</td>\n",
       "      <td>8297142436817</td>\n",
       "      <td>2015-04-29</td>\n",
       "      <td>9df3a039-6cbd-4160-aa45-5f482b236c69</td>\n",
       "      <td>Still_avaliable</td>\n",
       "      <td>m4-507493i</td>\n",
       "      <td>x</td>\n",
       "    </tr>\n",
       "    <tr>\n",
       "      <th>385</th>\n",
       "      <td>Classic Jumbo Pack Cat Food in Jelly 40 x 100g</td>\n",
       "      <td>£10.99</td>\n",
       "      <td>40</td>\n",
       "      <td>pets</td>\n",
       "      <td>4130594949815</td>\n",
       "      <td>2011-12-08</td>\n",
       "      <td>99cf7bf2-a611-4273-8aac-f426db6c863c</td>\n",
       "      <td>Still_avaliable</td>\n",
       "      <td>H5-5776855X</td>\n",
       "      <td>x</td>\n",
       "    </tr>\n",
       "    <tr>\n",
       "      <th>386</th>\n",
       "      <td>Sheba Classics Ocean Selection in Terrine 12 x...</td>\n",
       "      <td>£4.29</td>\n",
       "      <td>12</td>\n",
       "      <td>pets</td>\n",
       "      <td>7407445491692</td>\n",
       "      <td>1993-04-22</td>\n",
       "      <td>e4b978ae-fe4d-4118-a9f8-f8cbd8ff1c71</td>\n",
       "      <td>Still_avaliable</td>\n",
       "      <td>i3-7714502N</td>\n",
       "      <td>x</td>\n",
       "    </tr>\n",
       "    <tr>\n",
       "      <th>1562</th>\n",
       "      <td>Just Balmy 2D Wall's Lip Balm Set</td>\n",
       "      <td>£4.00</td>\n",
       "      <td>3</td>\n",
       "      <td>health-and-beauty</td>\n",
       "      <td>1151910730323</td>\n",
       "      <td>2006-07-30</td>\n",
       "      <td>6330007c-a70b-41b3-a048-fb38c258d169</td>\n",
       "      <td>Still_avaliable</td>\n",
       "      <td>R9-8669060I</td>\n",
       "      <td>x</td>\n",
       "    </tr>\n",
       "    <tr>\n",
       "      <th>1563</th>\n",
       "      <td>Just Balmy 2D Barratt Sweet Treats Lip Balm Set</td>\n",
       "      <td>£4.00</td>\n",
       "      <td>3</td>\n",
       "      <td>health-and-beauty</td>\n",
       "      <td>9828103898017</td>\n",
       "      <td>1997-03-11</td>\n",
       "      <td>68e38307-42c5-4e3f-a27f-f32d05f9a637</td>\n",
       "      <td>Still_avaliable</td>\n",
       "      <td>Z7-8693140R</td>\n",
       "      <td>x</td>\n",
       "    </tr>\n",
       "    <tr>\n",
       "      <th>1571</th>\n",
       "      <td>Palmolive Natural Soap - Moisture Care 3 x 90g</td>\n",
       "      <td>£1.00</td>\n",
       "      <td>3</td>\n",
       "      <td>health-and-beauty</td>\n",
       "      <td>1692944856882</td>\n",
       "      <td>1997-02-19</td>\n",
       "      <td>d109ec4d-6f3e-4520-b78a-b34a32fd8f1e</td>\n",
       "      <td>Still_avaliable</td>\n",
       "      <td>c8-1525632E</td>\n",
       "      <td>x</td>\n",
       "    </tr>\n",
       "    <tr>\n",
       "      <th>1668</th>\n",
       "      <td>Nescafe Dolce Gusto - Latte Machiato 16pk</td>\n",
       "      <td>£3.69</td>\n",
       "      <td>16</td>\n",
       "      <td>food-and-drink</td>\n",
       "      <td>8586844844403</td>\n",
       "      <td>2014-06-05</td>\n",
       "      <td>e3523dd6-8c02-46c4-848f-d7415776acb2</td>\n",
       "      <td>Still_avaliable</td>\n",
       "      <td>P4-7471291z</td>\n",
       "      <td>x</td>\n",
       "    </tr>\n",
       "    <tr>\n",
       "      <th>1669</th>\n",
       "      <td>Nescafe Dolce Gusto - Flat White 16pk</td>\n",
       "      <td>£3.69</td>\n",
       "      <td>16</td>\n",
       "      <td>food-and-drink</td>\n",
       "      <td>5015230815305</td>\n",
       "      <td>1992-12-29</td>\n",
       "      <td>ba73ad16-8998-4799-859d-88691a9c2d54</td>\n",
       "      <td>Still_avaliable</td>\n",
       "      <td>u3-6199715i</td>\n",
       "      <td>x</td>\n",
       "    </tr>\n",
       "    <tr>\n",
       "      <th>1676</th>\n",
       "      <td>Nescafe Dolce Gusto - Latte Machiato 16pk</td>\n",
       "      <td>£3.69</td>\n",
       "      <td>16</td>\n",
       "      <td>food-and-drink</td>\n",
       "      <td>8057338051145</td>\n",
       "      <td>2005-08-23</td>\n",
       "      <td>07aa6951-d029-46ed-8a63-12e3ba9db4b7</td>\n",
       "      <td>Removed</td>\n",
       "      <td>C4-9106468S</td>\n",
       "      <td>x</td>\n",
       "    </tr>\n",
       "    <tr>\n",
       "      <th>1677</th>\n",
       "      <td>Nescafe Dolce Gusto - Flat White 16pk</td>\n",
       "      <td>£3.69</td>\n",
       "      <td>16</td>\n",
       "      <td>food-and-drink</td>\n",
       "      <td>8490641014047</td>\n",
       "      <td>1997-11-09</td>\n",
       "      <td>554505a2-a18d-4d39-bebf-d81ccbff148f</td>\n",
       "      <td>Still_avaliable</td>\n",
       "      <td>C2-4933266o</td>\n",
       "      <td>x</td>\n",
       "    </tr>\n",
       "    <tr>\n",
       "      <th>1689</th>\n",
       "      <td>John West Pink Salmon in Brine 3 x 132g</td>\n",
       "      <td>£3.99</td>\n",
       "      <td>3</td>\n",
       "      <td>food-and-drink</td>\n",
       "      <td>9395762803091</td>\n",
       "      <td>2022-08-16</td>\n",
       "      <td>3d8e0941-109f-4c3e-bc16-3de9d200c132</td>\n",
       "      <td>Still_avaliable</td>\n",
       "      <td>W4-1094978l</td>\n",
       "      <td>x</td>\n",
       "    </tr>\n",
       "    <tr>\n",
       "      <th>1690</th>\n",
       "      <td>Ocean Fresh Tuna Chunks in Oil 5 x 145g</td>\n",
       "      <td>£3.39</td>\n",
       "      <td>5</td>\n",
       "      <td>food-and-drink</td>\n",
       "      <td>3487686391726</td>\n",
       "      <td>1995-02-06</td>\n",
       "      <td>883ff3f7-f6f4-427a-8c10-fe37e0bbf1ed</td>\n",
       "      <td>Still_avaliable</td>\n",
       "      <td>z3-5944487U</td>\n",
       "      <td>x</td>\n",
       "    </tr>\n",
       "    <tr>\n",
       "      <th>1692</th>\n",
       "      <td>Heinz Tomato Soup 4 x 400g</td>\n",
       "      <td>£3.39</td>\n",
       "      <td>4</td>\n",
       "      <td>food-and-drink</td>\n",
       "      <td>1685057010180</td>\n",
       "      <td>2020-10-10</td>\n",
       "      <td>d4d54e79-cd6d-4f4b-9bee-4058403299de</td>\n",
       "      <td>Removed</td>\n",
       "      <td>G8-4206489Y</td>\n",
       "      <td>x</td>\n",
       "    </tr>\n",
       "    <tr>\n",
       "      <th>1700</th>\n",
       "      <td>John West Pink Salmon in Brine 3 x 132g</td>\n",
       "      <td>£3.99</td>\n",
       "      <td>3</td>\n",
       "      <td>food-and-drink</td>\n",
       "      <td>4758183010205</td>\n",
       "      <td>2006-07-19</td>\n",
       "      <td>6f5b78f6-02cd-4ef1-ba53-678109bf9294</td>\n",
       "      <td>Still_avaliable</td>\n",
       "      <td>L5-106382J</td>\n",
       "      <td>x</td>\n",
       "    </tr>\n",
       "    <tr>\n",
       "      <th>1701</th>\n",
       "      <td>Ocean Fresh Tuna Chunks in Oil 5 x 145g</td>\n",
       "      <td>£3.39</td>\n",
       "      <td>5</td>\n",
       "      <td>food-and-drink</td>\n",
       "      <td>9444749850532</td>\n",
       "      <td>2001-05-04</td>\n",
       "      <td>d64a8810-431f-422d-a0b7-87265bfa702e</td>\n",
       "      <td>Still_avaliable</td>\n",
       "      <td>O2-1543849C</td>\n",
       "      <td>x</td>\n",
       "    </tr>\n",
       "    <tr>\n",
       "      <th>1727</th>\n",
       "      <td>Mrs Tilly's Festive Brandy Fudge 400g</td>\n",
       "      <td>£3.99</td>\n",
       "      <td>2</td>\n",
       "      <td>food-and-drink</td>\n",
       "      <td>2548181647709</td>\n",
       "      <td>2002-03-02</td>\n",
       "      <td>9d1dae52-2e77-4299-ac68-68e8e6c8b3e0</td>\n",
       "      <td>Still_avaliable</td>\n",
       "      <td>K8-1086936D</td>\n",
       "      <td>x</td>\n",
       "    </tr>\n",
       "    <tr>\n",
       "      <th>1752</th>\n",
       "      <td>Mrs Tilly's Festive Brandy Fudge 400g</td>\n",
       "      <td>£3.99</td>\n",
       "      <td>2</td>\n",
       "      <td>food-and-drink</td>\n",
       "      <td>4880675517869</td>\n",
       "      <td>2022-08-18</td>\n",
       "      <td>d88eedf9-3394-4382-a3d1-85767e5e4ff0</td>\n",
       "      <td>Still_avaliable</td>\n",
       "      <td>M5-8164943v</td>\n",
       "      <td>x</td>\n",
       "    </tr>\n",
       "  </tbody>\n",
       "</table>\n",
       "</div>"
      ],
      "text/plain": [
       "                                           product_name product_price weight  \\\n",
       "298   Pedigree Vital Protection Dog Food in Jelly 12...         £4.49     12   \n",
       "299             Cesar Country Kitchen Dog Food 8 x 150g         £5.49      8   \n",
       "300               Pedigree Puppy Dog Food in Jelly 12pk         £4.49     12   \n",
       "301                     Pedigree Dog Food in Gravy 12pk         £4.49     12   \n",
       "302                     Pedigree Dog Food in Jelly 12pk         £4.49     12   \n",
       "303                           Chappie Dog Food 6 x 412g         £5.99      6   \n",
       "304   Butcher's Puppy Meaty Chunks in Jelly Tins 6 x...         £4.35      6   \n",
       "305   Pedigree Vital Protection Dog Food in Jelly 12...         £4.49     12   \n",
       "381   Sheba Classics Ocean Selection in Terrine 8 x 85g         £3.49      8   \n",
       "382      Classic Jumbo Pack Cat Food in Jelly 40 x 100g        £10.99     40   \n",
       "383   Sheba Classics Ocean Selection in Terrine 12 x...         £4.29     12   \n",
       "384   Sheba Classics Ocean Selection in Terrine 8 x 85g         £3.49      8   \n",
       "385      Classic Jumbo Pack Cat Food in Jelly 40 x 100g        £10.99     40   \n",
       "386   Sheba Classics Ocean Selection in Terrine 12 x...         £4.29     12   \n",
       "1562                  Just Balmy 2D Wall's Lip Balm Set         £4.00      3   \n",
       "1563    Just Balmy 2D Barratt Sweet Treats Lip Balm Set         £4.00      3   \n",
       "1571     Palmolive Natural Soap - Moisture Care 3 x 90g         £1.00      3   \n",
       "1668          Nescafe Dolce Gusto - Latte Machiato 16pk         £3.69     16   \n",
       "1669              Nescafe Dolce Gusto - Flat White 16pk         £3.69     16   \n",
       "1676          Nescafe Dolce Gusto - Latte Machiato 16pk         £3.69     16   \n",
       "1677              Nescafe Dolce Gusto - Flat White 16pk         £3.69     16   \n",
       "1689            John West Pink Salmon in Brine 3 x 132g         £3.99      3   \n",
       "1690            Ocean Fresh Tuna Chunks in Oil 5 x 145g         £3.39      5   \n",
       "1692                         Heinz Tomato Soup 4 x 400g         £3.39      4   \n",
       "1700            John West Pink Salmon in Brine 3 x 132g         £3.99      3   \n",
       "1701            Ocean Fresh Tuna Chunks in Oil 5 x 145g         £3.39      5   \n",
       "1727              Mrs Tilly's Festive Brandy Fudge 400g         £3.99      2   \n",
       "1752              Mrs Tilly's Festive Brandy Fudge 400g         £3.99      2   \n",
       "\n",
       "               category            EAN  date_added  \\\n",
       "298                pets  2439834307647  1995-06-25   \n",
       "299                pets  5158002633117  1994-03-22   \n",
       "300                pets  5242405808651  2014-05-20   \n",
       "301                pets  6160542808008  2020-12-20   \n",
       "302                pets  3928398867180  2006-03-27   \n",
       "303                pets  8155594260063  1993-06-30   \n",
       "304                pets  9386802556862  2019-06-16   \n",
       "305                pets  6045981116269  1996-10-12   \n",
       "381                pets  5864355297349  2014-01-01   \n",
       "382                pets  3610175997493  2003-09-03   \n",
       "383                pets  7913138139807  2006-12-10   \n",
       "384                pets  8297142436817  2015-04-29   \n",
       "385                pets  4130594949815  2011-12-08   \n",
       "386                pets  7407445491692  1993-04-22   \n",
       "1562  health-and-beauty  1151910730323  2006-07-30   \n",
       "1563  health-and-beauty  9828103898017  1997-03-11   \n",
       "1571  health-and-beauty  1692944856882  1997-02-19   \n",
       "1668     food-and-drink  8586844844403  2014-06-05   \n",
       "1669     food-and-drink  5015230815305  1992-12-29   \n",
       "1676     food-and-drink  8057338051145  2005-08-23   \n",
       "1677     food-and-drink  8490641014047  1997-11-09   \n",
       "1689     food-and-drink  9395762803091  2022-08-16   \n",
       "1690     food-and-drink  3487686391726  1995-02-06   \n",
       "1692     food-and-drink  1685057010180  2020-10-10   \n",
       "1700     food-and-drink  4758183010205  2006-07-19   \n",
       "1701     food-and-drink  9444749850532  2001-05-04   \n",
       "1727     food-and-drink  2548181647709  2002-03-02   \n",
       "1752     food-and-drink  4880675517869  2022-08-18   \n",
       "\n",
       "                                      uuid          removed product_code units  \n",
       "298   5ec5a431-7330-4d9e-bf3c-702fc85f6efe  Still_avaliable  d4-9698287C    x   \n",
       "299   c379d810-61bf-4ed2-994c-0d3308d5be7b  Still_avaliable  M4-1688574Q    x   \n",
       "300   40963728-bdae-48f1-beec-7c6dd0225921  Still_avaliable  J4-5517838n    x   \n",
       "301   3109d9e8-56b5-4233-a682-0bcdb38182b0  Still_avaliable  v6-1209149g    x   \n",
       "302   28625483-3723-4eaa-9f14-a1a16affbed8  Still_avaliable  C5-0179057G    x   \n",
       "303   6b86f83c-fccf-42eb-b1d5-3971915c18a5  Still_avaliable   Z4-535642u    x   \n",
       "304   a21e8202-de56-40bf-aee9-1b65989b1030  Still_avaliable  x0-3876046p    x   \n",
       "305   39ce65ab-d873-4953-a363-af9a705ca1ef  Still_avaliable  O3-6314460b    x   \n",
       "381   96f4d10f-1cb0-4898-b170-8dcd54c78f05  Still_avaliable  I3-7208040s    x   \n",
       "382   003e2c32-2d88-4ace-9d3c-97863fb62959  Still_avaliable  Y9-9993954b    x   \n",
       "383   e35ab52e-f5db-4e96-b8c0-a9393a5e33a8  Still_avaliable  s3-7992277H    x   \n",
       "384   9df3a039-6cbd-4160-aa45-5f482b236c69  Still_avaliable   m4-507493i    x   \n",
       "385   99cf7bf2-a611-4273-8aac-f426db6c863c  Still_avaliable  H5-5776855X    x   \n",
       "386   e4b978ae-fe4d-4118-a9f8-f8cbd8ff1c71  Still_avaliable  i3-7714502N    x   \n",
       "1562  6330007c-a70b-41b3-a048-fb38c258d169  Still_avaliable  R9-8669060I    x   \n",
       "1563  68e38307-42c5-4e3f-a27f-f32d05f9a637  Still_avaliable  Z7-8693140R    x   \n",
       "1571  d109ec4d-6f3e-4520-b78a-b34a32fd8f1e  Still_avaliable  c8-1525632E    x   \n",
       "1668  e3523dd6-8c02-46c4-848f-d7415776acb2  Still_avaliable  P4-7471291z    x   \n",
       "1669  ba73ad16-8998-4799-859d-88691a9c2d54  Still_avaliable  u3-6199715i    x   \n",
       "1676  07aa6951-d029-46ed-8a63-12e3ba9db4b7          Removed  C4-9106468S    x   \n",
       "1677  554505a2-a18d-4d39-bebf-d81ccbff148f  Still_avaliable  C2-4933266o    x   \n",
       "1689  3d8e0941-109f-4c3e-bc16-3de9d200c132  Still_avaliable  W4-1094978l    x   \n",
       "1690  883ff3f7-f6f4-427a-8c10-fe37e0bbf1ed  Still_avaliable  z3-5944487U    x   \n",
       "1692  d4d54e79-cd6d-4f4b-9bee-4058403299de          Removed  G8-4206489Y    x   \n",
       "1700  6f5b78f6-02cd-4ef1-ba53-678109bf9294  Still_avaliable   L5-106382J    x   \n",
       "1701  d64a8810-431f-422d-a0b7-87265bfa702e  Still_avaliable  O2-1543849C    x   \n",
       "1727  9d1dae52-2e77-4299-ac68-68e8e6c8b3e0  Still_avaliable  K8-1086936D    x   \n",
       "1752  d88eedf9-3394-4382-a3d1-85767e5e4ff0  Still_avaliable  M5-8164943v    x   "
      ]
     },
     "execution_count": 70,
     "metadata": {},
     "output_type": "execute_result"
    }
   ],
   "source": [
    "df.loc[df.index[df['units'].str.contains('x', case=True, na=False)].tolist()]"
   ]
  },
  {
   "cell_type": "code",
   "execution_count": 39,
   "metadata": {},
   "outputs": [],
   "source": [
    "def transform_weight(row):\n",
    "    weight, unit = row['weight'],row['units']\n",
    "    if unit == 'kg':\n",
    "        return weight\n",
    "    elif unit == 'g'or unit == 'g .':\n",
    "        return weight / 1000 \n",
    "    elif unit == 'ml':\n",
    "        return weight / 1000\n",
    "    elif unit == 'oz':\n",
    "        return weight * 0.0283495\n",
    "    else:\n",
    "        return 0"
   ]
  },
  {
   "cell_type": "code",
   "execution_count": 56,
   "metadata": {},
   "outputs": [],
   "source": [
    "df['weight'] = df.apply(transform_weight,axis=1)"
   ]
  },
  {
   "cell_type": "code",
   "execution_count": 43,
   "metadata": {},
   "outputs": [
    {
     "name": "stderr",
     "output_type": "stream",
     "text": [
      "C:\\Users\\Janoh\\AppData\\Local\\Temp\\ipykernel_18948\\3355173983.py:1: SettingWithCopyWarning: \n",
      "A value is trying to be set on a copy of a slice from a DataFrame.\n",
      "Try using .loc[row_indexer,col_indexer] = value instead\n",
      "\n",
      "See the caveats in the documentation: https://pandas.pydata.org/pandas-docs/stable/user_guide/indexing.html#returning-a-view-versus-a-copy\n",
      "  df['weight'] = (df['weight']).astype(float)\n"
     ]
    }
   ],
   "source": [
    "df['weight'] = (df['weight']).astype(float)"
   ]
  },
  {
   "cell_type": "code",
   "execution_count": 44,
   "metadata": {},
   "outputs": [
    {
     "name": "stdout",
     "output_type": "stream",
     "text": [
      "                                     product_name product_price  weight  \\\n",
      "0     FurReal Dazzlin' Dimples My Playful Dolphin        £39.99     0.0   \n",
      "1             Tiffany's World Day Out At The Park        £12.99     0.0   \n",
      "2             Tiffany's World Pups Picnic Playset         £7.00     0.0   \n",
      "3        Tiffany's World Wildlife Park Adventures        £12.99     0.0   \n",
      "4                         Cosatto Cosy Dolls Pram        £30.00     0.0   \n",
      "...                                           ...           ...     ...   \n",
      "1848    Goodmans Qi Autosense In Car Phone Holder        £15.00     0.0   \n",
      "1849    Goodmans Qi Wireless Charging Phone Stand        £15.00     0.0   \n",
      "1850                     RAC 12V Wet & Dry Vacuum        £18.00     0.0   \n",
      "1851    Goodmans Qi Autosense In Car Phone Holder        £15.00     0.0   \n",
      "1852               Beldray Telescopic Ladder 2.9m        £69.00     0.0   \n",
      "\n",
      "            category            EAN  date_added  \\\n",
      "0     toys-and-games  7425710935115  2005-12-02   \n",
      "1     toys-and-games   487128731892  2006-01-09   \n",
      "2     toys-and-games  1945816904649  1997-03-29   \n",
      "3     toys-and-games  1569790890899  2013-03-20   \n",
      "4     toys-and-games  7142740213920  2007-12-23   \n",
      "...              ...            ...         ...   \n",
      "1848             diy  8185827751600  2020-08-28   \n",
      "1849             diy  9769724533935  2012-05-20   \n",
      "1850             diy  3113855860327  1993-11-28   \n",
      "1851             diy  9195087467400  2016-09-20   \n",
      "1852             diy  8518402353072  2006-10-07   \n",
      "\n",
      "                                      uuid          removed product_code units  \n",
      "0     83dc0a69-f96f-4c34-bcb7-928acae19a94  Still_avaliable  R7-3126933h     .  \n",
      "1     712254d7-aea7-4310-aff8-8bcdd0aec7ff  Still_avaliable  C2-7287916l     .  \n",
      "2     b089ef6f-b628-4e37-811d-fffe0102ba64  Still_avaliable  S7-1175877v   NaN  \n",
      "3     d55de422-8b98-47d6-9991-e4bc4c5c0cb0          Removed  D8-8421505n   NaN  \n",
      "4     7945b657-cb02-4cc5-96cf-f65ed0a8f235  Still_avaliable  B6-2596063a     .  \n",
      "...                                    ...              ...          ...   ...  \n",
      "1848  3ff21cb1-8e90-499d-b5a0-6839fb83e70f  Still_avaliable  x4-2227164k   NaN  \n",
      "1849  a7910f74-c2b6-4144-98b7-30ca68f34d2d  Still_avaliable  i3-8338545Z   NaN  \n",
      "1850  66d3efa0-f480-4da9-893b-e8aaff53e27b  Still_avaliable  n4-1642658b   NaN  \n",
      "1851  efb472f1-8f00-448e-a874-9fa9812eeab5  Still_avaliable  A3-7619070S   NaN  \n",
      "1852  cfe701da-6493-4a7f-83cf-9aab1650f689  Still_avaliable  i6-2851854w     .  \n",
      "\n",
      "[1846 rows x 10 columns]\n"
     ]
    }
   ],
   "source": [
    "print(df)"
   ]
  },
  {
   "cell_type": "code",
   "execution_count": 86,
   "metadata": {},
   "outputs": [],
   "source": [
    "df.drop('units', axis=1, inplace = True)"
   ]
  },
  {
   "cell_type": "code",
   "execution_count": 96,
   "metadata": {},
   "outputs": [
    {
     "name": "stdout",
     "output_type": "stream",
     "text": [
      "Index([751, 1133, 1400], dtype='int64')\n"
     ]
    }
   ],
   "source": [
    "# More NAs\n",
    "null_rows = df[df.isnull().any(axis=1)].index\n",
    "print(null_rows)"
   ]
  },
  {
   "cell_type": "code",
   "execution_count": 100,
   "metadata": {},
   "outputs": [
    {
     "data": {
      "text/html": [
       "<div>\n",
       "<style scoped>\n",
       "    .dataframe tbody tr th:only-of-type {\n",
       "        vertical-align: middle;\n",
       "    }\n",
       "\n",
       "    .dataframe tbody tr th {\n",
       "        vertical-align: top;\n",
       "    }\n",
       "\n",
       "    .dataframe thead th {\n",
       "        text-align: right;\n",
       "    }\n",
       "</style>\n",
       "<table border=\"1\" class=\"dataframe\">\n",
       "  <thead>\n",
       "    <tr style=\"text-align: right;\">\n",
       "      <th></th>\n",
       "      <th>product_name</th>\n",
       "      <th>product_price</th>\n",
       "      <th>weight</th>\n",
       "      <th>category</th>\n",
       "      <th>EAN</th>\n",
       "      <th>date_added</th>\n",
       "      <th>uuid</th>\n",
       "      <th>removed</th>\n",
       "      <th>product_code</th>\n",
       "    </tr>\n",
       "  </thead>\n",
       "  <tbody>\n",
       "    <tr>\n",
       "      <th>751</th>\n",
       "      <td>VLPCU81M30</td>\n",
       "      <td>XCD69KUI0K</td>\n",
       "      <td>0</td>\n",
       "      <td>NaN</td>\n",
       "      <td>OO7KH8P79I</td>\n",
       "      <td>CCAVRB79VV</td>\n",
       "      <td>7QB0Z9EW1G</td>\n",
       "      <td>T3QRRH7SRP</td>\n",
       "      <td>SDAV678FVD</td>\n",
       "    </tr>\n",
       "    <tr>\n",
       "      <th>1133</th>\n",
       "      <td>9SX4G65YUX</td>\n",
       "      <td>N9D2BZQX63</td>\n",
       "      <td>0</td>\n",
       "      <td>NaN</td>\n",
       "      <td>E8EOGWOY8S</td>\n",
       "      <td>09KREHTMWL</td>\n",
       "      <td>CP8XYQVGGU</td>\n",
       "      <td>BPSADIOQOK</td>\n",
       "      <td>BSDTR67VD90</td>\n",
       "    </tr>\n",
       "    <tr>\n",
       "      <th>1400</th>\n",
       "      <td>LB3D71C025</td>\n",
       "      <td>ODPMASE7V7</td>\n",
       "      <td>0</td>\n",
       "      <td>NaN</td>\n",
       "      <td>BHPF2JTNKQ</td>\n",
       "      <td>PEPWA0NCVH</td>\n",
       "      <td>VIBLHHVPMN</td>\n",
       "      <td>H5N71TV8AY</td>\n",
       "      <td>OPSD21HN67</td>\n",
       "    </tr>\n",
       "  </tbody>\n",
       "</table>\n",
       "</div>"
      ],
      "text/plain": [
       "     product_name product_price  weight category         EAN  date_added  \\\n",
       "751    VLPCU81M30    XCD69KUI0K       0      NaN  OO7KH8P79I  CCAVRB79VV   \n",
       "1133   9SX4G65YUX    N9D2BZQX63       0      NaN  E8EOGWOY8S  09KREHTMWL   \n",
       "1400   LB3D71C025    ODPMASE7V7       0      NaN  BHPF2JTNKQ  PEPWA0NCVH   \n",
       "\n",
       "            uuid     removed product_code  \n",
       "751   7QB0Z9EW1G  T3QRRH7SRP   SDAV678FVD  \n",
       "1133  CP8XYQVGGU  BPSADIOQOK  BSDTR67VD90  \n",
       "1400  VIBLHHVPMN  H5N71TV8AY   OPSD21HN67  "
      ]
     },
     "execution_count": 100,
     "metadata": {},
     "output_type": "execute_result"
    }
   ],
   "source": [
    "df.iloc[[750, 1130, 1397]]"
   ]
  },
  {
   "cell_type": "code",
   "execution_count": 101,
   "metadata": {},
   "outputs": [],
   "source": [
    "df.drop(null_rows, axis = 0, inplace = True)"
   ]
  },
  {
   "cell_type": "code",
   "execution_count": 102,
   "metadata": {},
   "outputs": [],
   "source": [
    "df['date_added'] = pd.to_datetime(df['date_added'], format = 'mixed')"
   ]
  },
  {
   "cell_type": "code",
   "execution_count": 105,
   "metadata": {},
   "outputs": [
    {
     "name": "stdout",
     "output_type": "stream",
     "text": [
      "<class 'pandas.core.frame.DataFrame'>\n",
      "Index: 1846 entries, 0 to 1852\n",
      "Data columns (total 9 columns):\n",
      " #   Column         Non-Null Count  Dtype         \n",
      "---  ------         --------------  -----         \n",
      " 0   product_name   1846 non-null   object        \n",
      " 1   product_price  1846 non-null   object        \n",
      " 2   weight         1846 non-null   float64       \n",
      " 3   category       1846 non-null   object        \n",
      " 4   EAN            1846 non-null   object        \n",
      " 5   date_added     1846 non-null   datetime64[ns]\n",
      " 6   uuid           1846 non-null   object        \n",
      " 7   removed        1846 non-null   object        \n",
      " 8   product_code   1846 non-null   object        \n",
      "dtypes: datetime64[ns](1), float64(1), object(7)\n",
      "memory usage: 144.2+ KB\n"
     ]
    }
   ],
   "source": [
    "df.info()"
   ]
  },
  {
   "cell_type": "code",
   "execution_count": 106,
   "metadata": {},
   "outputs": [
    {
     "data": {
      "text/plain": [
       "removed\n",
       "Still_avaliable    1752\n",
       "Removed              94\n",
       "Name: count, dtype: int64"
      ]
     },
     "execution_count": 106,
     "metadata": {},
     "output_type": "execute_result"
    }
   ],
   "source": [
    "df['removed'].value_counts()"
   ]
  },
  {
   "cell_type": "code",
   "execution_count": 109,
   "metadata": {},
   "outputs": [
    {
     "data": {
      "text/html": [
       "<div>\n",
       "<style scoped>\n",
       "    .dataframe tbody tr th:only-of-type {\n",
       "        vertical-align: middle;\n",
       "    }\n",
       "\n",
       "    .dataframe tbody tr th {\n",
       "        vertical-align: top;\n",
       "    }\n",
       "\n",
       "    .dataframe thead th {\n",
       "        text-align: right;\n",
       "    }\n",
       "</style>\n",
       "<table border=\"1\" class=\"dataframe\">\n",
       "  <thead>\n",
       "    <tr style=\"text-align: right;\">\n",
       "      <th></th>\n",
       "      <th>product_name</th>\n",
       "      <th>product_price</th>\n",
       "      <th>weight</th>\n",
       "      <th>category</th>\n",
       "      <th>EAN</th>\n",
       "      <th>date_added</th>\n",
       "      <th>uuid</th>\n",
       "      <th>removed</th>\n",
       "      <th>product_code</th>\n",
       "    </tr>\n",
       "  </thead>\n",
       "  <tbody>\n",
       "  </tbody>\n",
       "</table>\n",
       "</div>"
      ],
      "text/plain": [
       "Empty DataFrame\n",
       "Columns: [product_name, product_price, weight, category, EAN, date_added, uuid, removed, product_code]\n",
       "Index: []"
      ]
     },
     "execution_count": 109,
     "metadata": {},
     "output_type": "execute_result"
    }
   ],
   "source": [
    "df[~df['product_price'].str.contains('£', na=False)]"
   ]
  },
  {
   "cell_type": "code",
   "execution_count": null,
   "metadata": {},
   "outputs": [],
   "source": []
  }
 ],
 "metadata": {
  "kernelspec": {
   "display_name": "Python 3",
   "language": "python",
   "name": "python3"
  },
  "language_info": {
   "codemirror_mode": {
    "name": "ipython",
    "version": 3
   },
   "file_extension": ".py",
   "mimetype": "text/x-python",
   "name": "python",
   "nbconvert_exporter": "python",
   "pygments_lexer": "ipython3",
   "version": "3.11.5"
  }
 },
 "nbformat": 4,
 "nbformat_minor": 2
}
